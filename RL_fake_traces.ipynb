{
 "cells": [
  {
   "cell_type": "code",
   "execution_count": 1,
   "id": "d9e40652-ac1d-4ce8-bfd1-0e29230e4856",
   "metadata": {},
   "outputs": [],
   "source": [
    "# THis will be the first system where I actually train the real brain with RL\n",
    "# The traces will actually be fake at first, to get initial non-zero probabilities for the relevant actions\n",
    "# That will be repeated for other 'custom actions' when I need it"
   ]
  },
  {
   "cell_type": "code",
   "execution_count": 2,
   "id": "3146a920-a167-49a3-ac44-18a240a65683",
   "metadata": {},
   "outputs": [
    {
     "name": "stdout",
     "output_type": "stream",
     "text": [
      "pygame 2.6.1 (SDL 2.28.4, Python 3.12.7)\n",
      "Hello from the pygame community. https://www.pygame.org/contribute.html\n"
     ]
    }
   ],
   "source": [
    "from game import *"
   ]
  },
  {
   "cell_type": "code",
   "execution_count": 3,
   "id": "4c271bd7-a1e0-4c48-aba8-030e5cfb93b4",
   "metadata": {},
   "outputs": [],
   "source": [
    "from RL_helper import symbol_action_map"
   ]
  },
  {
   "cell_type": "code",
   "execution_count": 4,
   "id": "5f211753-11f6-4aa2-971a-d67c2a3c76cc",
   "metadata": {},
   "outputs": [],
   "source": [
    "game_settings = BIG_tool_use_advanced_2_5\n",
    "game_settings.gameSize = 224 # for compatibility with brain's expected size\n",
    "G = discreteGame(game_settings) # kind of a waste; will only call this object to generate random versions of itself"
   ]
  },
  {
   "cell_type": "code",
   "execution_count": 5,
   "id": "becd959c-2fb3-4114-ac0f-109b6b7a2b1d",
   "metadata": {},
   "outputs": [],
   "source": [
    "G2 = discreteGame(G.random_bare_settings(gameSize=224, max_agent_offset=0.5))"
   ]
  },
  {
   "cell_type": "code",
   "execution_count": 6,
   "id": "93cf025b-820a-48ca-967c-acd9e2eff9f9",
   "metadata": {},
   "outputs": [],
   "source": [
    "import matplotlib.pyplot as plt"
   ]
  },
  {
   "cell_type": "code",
   "execution_count": 7,
   "id": "3ea1de06-6434-4abc-bf10-974c4ecf35ac",
   "metadata": {},
   "outputs": [
    {
     "data": {
      "text/plain": [
       "<matplotlib.image.AxesImage at 0x7ff2ea58f6b0>"
      ]
     },
     "execution_count": 7,
     "metadata": {},
     "output_type": "execute_result"
    },
    {
     "data": {
      "image/png": "[encoded data removed]",
      "text/plain": [
       "<Figure size 640x480 with 1 Axes>"
      ]
     },
     "metadata": {},
     "output_type": "display_data"
    }
   ],
   "source": [
    "#G2.settings.direction = 0\n",
    "#G2.universal_update()\n",
    "plt.imshow(G2.getData())"
   ]
  },
  {
   "cell_type": "code",
   "execution_count": 8,
   "id": "1e41bcca-f159-4e4d-a237-6a55452bff64",
   "metadata": {},
   "outputs": [
    {
     "data": {
      "text/plain": [
       "{'gameSize': 224,\n",
       " 'direction': 3.9336546541479223,\n",
       " 'agent_x': 0.2297227894038396,\n",
       " 'agent_y': 0.7485454903528649,\n",
       " 'agent_r': 0.05,\n",
       " 'gold_r': 0.015625,\n",
       " 'gold': [(0.4465662280473702, 0.9162868760976013)],\n",
       " 'walls': [[0, 0, 0.0625, 1.0, 0],\n",
       "  [0, 0, 1.0, 0.0625, 0],\n",
       "  [0, 0.9375, 1.0, 0.0625, 0],\n",
       "  [0.9375, 0, 0.0625, 0.45, 0],\n",
       "  [0.9375, 0.55, 0.0625, 0.45, 0]]}"
      ]
     },
     "execution_count": 8,
     "metadata": {},
     "output_type": "execute_result"
    }
   ],
   "source": [
    "G2.settings.__dict__"
   ]
  },
  {
   "cell_type": "code",
   "execution_count": 9,
   "id": "3588dd67-3085-4671-be02-bcb03f1fe397",
   "metadata": {},
   "outputs": [
    {
     "data": {
      "text/plain": [
       "0.658409721177866"
      ]
     },
     "execution_count": 9,
     "metadata": {},
     "output_type": "execute_result"
    }
   ],
   "source": [
    "G2.direction_angle(G2.settings.agent_x, G2.settings.agent_y, G2.settings.gold[0][0], G2.settings.gold[0][1])"
   ]
  },
  {
   "cell_type": "code",
   "execution_count": 10,
   "id": "fd9e8263-b000-4c80-b137-09ebf42a1a71",
   "metadata": {},
   "outputs": [],
   "source": [
    "# checks if you will intersect the gold by moving forward only\n",
    "# does not check walls or anything\n",
    "def will_intersect_forward(G):\n",
    "    gx, gy = G.settings.gold[0]\n",
    "    ax, ay = G.settings.agent_x, G.settings.agent_y\n",
    "    # turns the gold into the agent's field of reference; \n",
    "    # then, check if it's in front of you and within the line you'll sweep while moving forward\n",
    "    rel_gx, rel_gy = G.backRot(gx-ax, gy-ay, G.settings.direction)\n",
    "    #print(rel_gx)\n",
    "    #print(rel_gy)\n",
    "    return (rel_gx > 0) and (abs(rel_gy) < G.settings.agent_r)"
   ]
  },
  {
   "cell_type": "code",
   "execution_count": 11,
   "id": "e7966d6b-7e11-4181-98b8-016f3c1b5564",
   "metadata": {},
   "outputs": [
    {
     "data": {
      "text/plain": [
       "False"
      ]
     },
     "execution_count": 11,
     "metadata": {},
     "output_type": "execute_result"
    }
   ],
   "source": [
    "will_intersect_forward(G2)"
   ]
  },
  {
   "cell_type": "code",
   "execution_count": 12,
   "id": "c1f8ba12-3037-4362-8c4f-898f13dd9cac",
   "metadata": {},
   "outputs": [
    {
     "data": {
      "text/plain": [
       "5.283185307179586"
      ]
     },
     "execution_count": 12,
     "metadata": {},
     "output_type": "execute_result"
    }
   ],
   "source": [
    "import math\n",
    "-1 % (2 * math.pi)"
   ]
  },
  {
   "cell_type": "code",
   "execution_count": 13,
   "id": "92fa53d5-aaab-4034-b48d-aa8e5ab8b55b",
   "metadata": {},
   "outputs": [],
   "source": [
    "import math\n",
    "tau = 2*math.pi\n",
    "\n",
    "# True if the shortest path is turning clockwise (for a forward trajectory)\n",
    "# False if you should turn counterclockwise instead\n",
    "# turning anticlockwise increases 'direction' value\n",
    "# turning clockwise decreases 'direction' value\n",
    "def should_turn_anticlockwise_forward(G):\n",
    "    gx, gy = G.settings.gold[0]\n",
    "    ax, ay = G.settings.agent_x, G.settings.agent_y\n",
    "    theta = G.settings.direction\n",
    "    theta_to_gold = G.direction_angle(ax, ay, gx, gy)\n",
    "    cw_theta = (theta - theta_to_gold) % tau\n",
    "    #print(cw_theta)\n",
    "    acw_theta = (theta_to_gold - theta) % tau\n",
    "    #print(acw_theta)\n",
    "    return acw_theta < cw_theta"
   ]
  },
  {
   "cell_type": "code",
   "execution_count": 14,
   "id": "7d075362-fcb6-4b6d-8416-922f711870f1",
   "metadata": {},
   "outputs": [
    {
     "data": {
      "text/plain": [
       "True"
      ]
     },
     "execution_count": 14,
     "metadata": {},
     "output_type": "execute_result"
    }
   ],
   "source": [
    "should_turn_anticlockwise_forward(G2)"
   ]
  },
  {
   "cell_type": "code",
   "execution_count": 15,
   "id": "7301bbd4-b20f-40d1-97b4-e1bf004485be",
   "metadata": {},
   "outputs": [],
   "source": [
    "# best move right now, bare settings\n",
    "# can use this, with game, to create track to gold (moving only forward)\n",
    "def best_move_forward(G):\n",
    "    if will_intersect_forward(G):\n",
    "        return 1 # action 1, G.stepForward\n",
    "    else:\n",
    "        if should_turn_anticlockwise_forward(G):\n",
    "            return 4 # action 4, G.swivel_anticlock\n",
    "        else:\n",
    "            return 3 # action 3, G.swivel_clock"
   ]
  },
  {
   "cell_type": "code",
   "execution_count": 16,
   "id": "21db3314-53f5-4b69-a66d-d8d00ca112e4",
   "metadata": {},
   "outputs": [],
   "source": [
    "from copy import deepcopy\n",
    "\n",
    "def trace_forward(settings, maxlen=1024, zeroPad=False):\n",
    "    G = discreteGame(deepcopy(settings))\n",
    "    reward = 0\n",
    "    steps = 0\n",
    "    trace = [] # can also be numpy array or something; just getting something out there\n",
    "    while reward < 1e-4 and steps < maxlen:\n",
    "        action = best_move_forward(G)\n",
    "        trace.append(action)\n",
    "        reward += G.actions[action]()\n",
    "        steps += 1\n",
    "    if zeroPad:\n",
    "        if len(trace) < maxlen:\n",
    "            trace.append(2)\n",
    "            trace = trace + [0 for i in range(maxlen - len(trace))]\n",
    "    return trace"
   ]
  },
  {
   "cell_type": "code",
   "execution_count": 17,
   "id": "a4176903-628b-4afa-99a7-34ce55e563d9",
   "metadata": {},
   "outputs": [],
   "source": [
    "trace = trace_forward(G2.settings)"
   ]
  },
  {
   "cell_type": "code",
   "execution_count": 18,
   "id": "f2fcc66e-451c-4cc1-800d-416eb25a9368",
   "metadata": {},
   "outputs": [
    {
     "data": {
      "text/plain": [
       "[4,\n",
       " 4,\n",
       " 4,\n",
       " 4,\n",
       " 4,\n",
       " 4,\n",
       " 4,\n",
       " 4,\n",
       " 4,\n",
       " 4,\n",
       " 4,\n",
       " 4,\n",
       " 4,\n",
       " 4,\n",
       " 4,\n",
       " 4,\n",
       " 4,\n",
       " 4,\n",
       " 4,\n",
       " 4,\n",
       " 4,\n",
       " 4,\n",
       " 4,\n",
       " 4,\n",
       " 4,\n",
       " 4,\n",
       " 4,\n",
       " 1,\n",
       " 1,\n",
       " 1,\n",
       " 1]"
      ]
     },
     "execution_count": 18,
     "metadata": {},
     "output_type": "execute_result"
    }
   ],
   "source": [
    "trace"
   ]
  },
  {
   "cell_type": "code",
   "execution_count": 19,
   "id": "a1d98b5d-3b0a-4935-a9eb-59d452b8d471",
   "metadata": {},
   "outputs": [],
   "source": [
    "ind = 0"
   ]
  },
  {
   "cell_type": "code",
   "execution_count": 20,
   "id": "370300c7-f289-40f9-ab66-f02eda336c2c",
   "metadata": {},
   "outputs": [
    {
     "data": {
      "image/png": "[encoded data removed]",
      "text/plain": [
       "<Figure size 640x480 with 1 Axes>"
      ]
     },
     "metadata": {},
     "output_type": "display_data"
    }
   ],
   "source": [
    "G2.actions[symbol_action_map[trace[ind]]]()\n",
    "plt.imshow(G2.getData())\n",
    "ind += 1"
   ]
  },
  {
   "cell_type": "code",
   "execution_count": 21,
   "id": "237a47dc-70de-4eca-8362-4d743c06e10c",
   "metadata": {},
   "outputs": [],
   "source": [
    "# awesome. Professional solver finished."
   ]
  },
  {
   "cell_type": "code",
   "execution_count": 22,
   "id": "40251bf2-517c-47ce-a1a9-6c070c7d7e6b",
   "metadata": {},
   "outputs": [],
   "source": [
    "# Let's knock out one more, for fun"
   ]
  },
  {
   "cell_type": "code",
   "execution_count": 23,
   "id": "fb10a2a9-c941-43d1-86a9-0ab3c2a84501",
   "metadata": {},
   "outputs": [],
   "source": [
    "# best move right now, bare settings, both forward and backward\n",
    "# can use this, with game, to create track to gold (either forward or backward)\n",
    "def best_move(G):\n",
    "    gx, gy = G.settings.gold[0]\n",
    "    ax, ay = G.settings.agent_x, G.settings.agent_y\n",
    "    # turns the gold into the agent's field of reference; \n",
    "    # then, check if it's in front of you and within the line you'll sweep while moving forward\n",
    "    rel_gx, rel_gy = G.backRot(gx-ax, gy-ay, G.settings.direction)\n",
    "\n",
    "    #print(rel_gx)\n",
    "    #print(rel_gy)\n",
    "    #print(G.settings.agent_r)\n",
    "    if abs(rel_gy) < G.settings.agent_r:\n",
    "        if rel_gx > 0:\n",
    "            return 1\n",
    "        else:\n",
    "            return 108 # becomes '2' when decoded; this is the symbol used by the agent\n",
    "    \n",
    "    # if not, we have to figure out the correct angle\n",
    "    theta = G.settings.direction\n",
    "    back_theta = (theta + math.pi) % tau\n",
    "    theta_to_gold = G.direction_angle(ax, ay, gx, gy)\n",
    "\n",
    "    cw_theta = (theta - theta_to_gold) % tau\n",
    "    cwb_theta = (back_theta - theta_to_gold) % tau\n",
    "    #print(cw_theta)\n",
    "    acw_theta = (theta_to_gold - theta) % tau\n",
    "    acwb_theta = (theta_to_gold - back_theta) % tau\n",
    "\n",
    "    #print(np.array([cw_theta, cwb_theta, acw_theta, acwb_theta]))\n",
    "    ind = np.argmin(np.array([cw_theta, cwb_theta, acw_theta, acwb_theta]))\n",
    "    #print(ind)\n",
    "    if ind < 2: # cw_theta or cwb_theta\n",
    "        return 3\n",
    "    else:\n",
    "        return 4\n"
   ]
  },
  {
   "cell_type": "code",
   "execution_count": 24,
   "id": "9b40b9ff-ad00-4f3e-b152-5232f51af085",
   "metadata": {},
   "outputs": [],
   "source": [
    "G2 = discreteGame(G.random_bare_settings(gameSize=224, max_agent_offset=0.5))"
   ]
  },
  {
   "cell_type": "code",
   "execution_count": 25,
   "id": "da1a8647-b8f8-4246-a6a1-eb12b3095a8e",
   "metadata": {},
   "outputs": [
    {
     "data": {
      "text/plain": [
       "<matplotlib.image.AxesImage at 0x7ff2ea4f6f90>"
      ]
     },
     "execution_count": 25,
     "metadata": {},
     "output_type": "execute_result"
    },
    {
     "data": {
      "image/png": "[encoded data removed]",
      "text/plain": [
       "<Figure size 640x480 with 1 Axes>"
      ]
     },
     "metadata": {},
     "output_type": "display_data"
    }
   ],
   "source": [
    "plt.imshow(G2.getData())"
   ]
  },
  {
   "cell_type": "code",
   "execution_count": 26,
   "id": "57aa06c1-a29d-4a83-844d-0aeecea29359",
   "metadata": {},
   "outputs": [],
   "source": [
    "def trace(settings, maxlen=1024, zeroPad=False):\n",
    "    G = discreteGame(deepcopy(settings))\n",
    "    reward = 0\n",
    "    steps = 0\n",
    "    trace = [] # can also be numpy array or something; just getting something out there\n",
    "    while reward < 1e-4 and steps < maxlen:\n",
    "        action = best_move(G)\n",
    "        trace.append(action)\n",
    "        reward += G.actions[symbol_action_map[action]]()\n",
    "        #print(reward)\n",
    "        steps += 1\n",
    "    if zeroPad:\n",
    "        if len(trace) < maxlen:\n",
    "            trace.append(2)\n",
    "            trace = trace + [0 for i in range(maxlen - len(trace))]\n",
    "    return trace"
   ]
  },
  {
   "cell_type": "code",
   "execution_count": 27,
   "id": "9d1216c7-b0f7-49ec-8105-393a09d8d497",
   "metadata": {},
   "outputs": [],
   "source": [
    "t2 = trace(G2.settings, maxlen=32, zeroPad=True)"
   ]
  },
  {
   "cell_type": "code",
   "execution_count": 28,
   "id": "2802dac5-6621-4c9d-8074-e711634a7d50",
   "metadata": {},
   "outputs": [
    {
     "data": {
      "text/plain": [
       "32"
      ]
     },
     "execution_count": 28,
     "metadata": {},
     "output_type": "execute_result"
    }
   ],
   "source": [
    "len(t2)"
   ]
  },
  {
   "cell_type": "code",
   "execution_count": 29,
   "id": "9cc7df5f-f376-45df-8fa5-1605987f5ad8",
   "metadata": {},
   "outputs": [
    {
     "data": {
      "text/plain": [
       "[3,\n",
       " 3,\n",
       " 3,\n",
       " 3,\n",
       " 3,\n",
       " 3,\n",
       " 3,\n",
       " 3,\n",
       " 3,\n",
       " 3,\n",
       " 3,\n",
       " 1,\n",
       " 1,\n",
       " 1,\n",
       " 1,\n",
       " 1,\n",
       " 1,\n",
       " 2,\n",
       " 0,\n",
       " 0,\n",
       " 0,\n",
       " 0,\n",
       " 0,\n",
       " 0,\n",
       " 0,\n",
       " 0,\n",
       " 0,\n",
       " 0,\n",
       " 0,\n",
       " 0,\n",
       " 0,\n",
       " 0]"
      ]
     },
     "execution_count": 29,
     "metadata": {},
     "output_type": "execute_result"
    }
   ],
   "source": [
    "t2"
   ]
  },
  {
   "cell_type": "code",
   "execution_count": 30,
   "id": "ae336818-6020-4648-b708-120114c8563f",
   "metadata": {},
   "outputs": [],
   "source": [
    "t3 = trace_forward(G2.settings)"
   ]
  },
  {
   "cell_type": "code",
   "execution_count": 31,
   "id": "66f3dedd-ce78-4721-a9d6-231a039fdb4d",
   "metadata": {},
   "outputs": [
    {
     "data": {
      "text/plain": [
       "[3, 3, 3, 3, 3, 3, 3, 3, 3, 3, 3, 1, 1, 1, 1, 1, 1]"
      ]
     },
     "execution_count": 31,
     "metadata": {},
     "output_type": "execute_result"
    }
   ],
   "source": [
    "t3"
   ]
  },
  {
   "cell_type": "code",
   "execution_count": 32,
   "id": "5c915f01-dd93-4063-9caf-11fcb5a9451e",
   "metadata": {},
   "outputs": [],
   "source": [
    "# From here, I will use standard cross-entropy loss and a version that has had tutorial 1, but not tutorial 2"
   ]
  },
  {
   "cell_type": "code",
   "execution_count": 33,
   "id": "21359f53-5f9f-47e1-a54b-8509b5fb04f0",
   "metadata": {},
   "outputs": [],
   "source": [
    "# Versions using the actual GAE algorithm (but with fake traces and / or faked values) can wait until after I've made the\n",
    "# naive GAE agent"
   ]
  },
  {
   "cell_type": "code",
   "execution_count": 34,
   "id": "ff3a0219-3803-49f3-a924-0013f36e6455",
   "metadata": {},
   "outputs": [],
   "source": [
    "from RL_helper import *"
   ]
  },
  {
   "cell_type": "code",
   "execution_count": 35,
   "id": "c799d65d-47a3-47e4-8c5c-7ab616010325",
   "metadata": {},
   "outputs": [],
   "source": [
    "device = torch.device('cuda:0') # the 1080 by default"
   ]
  },
  {
   "cell_type": "code",
   "execution_count": 36,
   "id": "d9f1091d-16c9-4003-9a21-27de1e9fc7f4",
   "metadata": {},
   "outputs": [],
   "source": [
    "brain = DefaultAgentBrain().to(device)"
   ]
  },
  {
   "cell_type": "code",
   "execution_count": 37,
   "id": "60d8a104-271b-47da-a2a4-6d469424586f",
   "metadata": {},
   "outputs": [
    {
     "data": {
      "text/plain": [
       "<All keys matched successfully>"
      ]
     },
     "execution_count": 37,
     "metadata": {},
     "output_type": "execute_result"
    }
   ],
   "source": [
    "# Need the visual stuff, but the QA stuff can wait\n",
    "# I need to check on all the results of my many experiments. Full integration can wait\n",
    "brain.load_state_dict(torch.load('brain_checkpoints/brain_weights_tutorial1_v3_batch95000.pth', weights_only=True, map_location=device))"
   ]
  },
  {
   "cell_type": "code",
   "execution_count": 38,
   "id": "eea92a82-7e73-40b3-aafe-82f556479a49",
   "metadata": {},
   "outputs": [],
   "source": [
    "ent_criterion = nn.CrossEntropyLoss(ignore_index=0)\n",
    "\n",
    "def get_text_loss(res, inputs):\n",
    "    return torch.sum(ent_criterion(res[:, :, :-1], inputs[:, 1:]))"
   ]
  },
  {
   "cell_type": "code",
   "execution_count": 39,
   "id": "3ff4c444-6724-4223-a846-b34e8c6113e2",
   "metadata": {},
   "outputs": [],
   "source": [
    "vocab_size = 10000\n",
    "# tokenizer.save_model(\".\", \"tokenizer/eng_sentences_tokenizer_vc10000\")\n",
    "tokenizer = ByteLevelBPETokenizer(\n",
    "    \"./text_pretraining_tokenizer/eng_sentences_tokenizer_vc10000_v2-vocab.json\",\n",
    "    \"./text_pretraining_tokenizer/eng_sentences_tokenizer_vc10000_v2-merges.txt\",\n",
    ")   \n",
    "tokenizer._tokenizer.post_processor = BertProcessing(\n",
    "    (\"</s>\", tokenizer.token_to_id(\"</s>\")),\n",
    "    (\"<s>\", tokenizer.token_to_id(\"<s>\")),\n",
    ")   \n",
    "tokenizer.enable_truncation(max_length=32)\n",
    "tokenizer.enable_padding()"
   ]
  },
  {
   "cell_type": "code",
   "execution_count": 40,
   "id": "744f9dd8-74f7-4598-bd37-38c786e43a44",
   "metadata": {},
   "outputs": [],
   "source": [
    "## Dataset\n",
    "class SampleDataset(Dataset):\n",
    "    def __init__(self, seq_length = 32, evaluate: bool = False, tokenizer=None, device = None):\n",
    "        if device is None:\n",
    "            device = 'cpu'\n",
    "        self.device = device\n",
    "        self.seq_length = seq_length\n",
    "        if tokenizer is None:\n",
    "            tokenizer = ByteLevelBPETokenizer(\n",
    "                \"./text_pretraining_tokenizer/eng_sentences_tokenizer_v2-vocab.json\",\n",
    "                \"./text_pretraining_tokenizer/eng_sentences_tokenizer_v2-merges.txt\",\n",
    "            )   \n",
    "        tokenizer._tokenizer.post_processor = BertProcessing(\n",
    "            (\"</s>\", tokenizer.token_to_id(\"</s>\")),\n",
    "            (\"<s>\", tokenizer.token_to_id(\"<s>\")),\n",
    "        )   \n",
    "        tokenizer.enable_truncation(max_length=self.seq_length)\n",
    "        tokenizer.enable_padding()#length=seq_length)\n",
    "        # or use the RobertaTokenizer from `transformers` directly.\n",
    "\n",
    "        self.examples = []\n",
    "\n",
    "        src_files = Path(\"./text_pretraining_data/\").glob(\"*-eval.txt\") if evaluate else Path(\"./text_pretraining_data/\").glob(\"*-train.txt\")\n",
    "        for src_file in src_files:\n",
    "            print(\"🔥\", src_file)\n",
    "            lines = src_file.read_text(encoding=\"utf-8\").splitlines()\n",
    "            self.examples += [x.ids for x in tokenizer.encode_batch(lines)]\n",
    "\n",
    "    def __len__(self):\n",
    "        return len(self.examples)\n",
    "\n",
    "    def __getitem__(self, i): \n",
    "        # We’ll pad at the batch level.\n",
    "        return torch.tensor(self.examples[i]).to(self.device)"
   ]
  },
  {
   "cell_type": "code",
   "execution_count": 41,
   "id": "8cecadc7-eed1-444f-b666-f61e9940dd65",
   "metadata": {},
   "outputs": [
    {
     "name": "stdout",
     "output_type": "stream",
     "text": [
      "🔥 text_pretraining_data/eng_sentences_pruned-train.txt\n",
      "🔥 text_pretraining_data/eng_sentences_pruned-eval.txt\n"
     ]
    }
   ],
   "source": [
    "sdt = SampleDataset(tokenizer=tokenizer)\n",
    "sdv = SampleDataset(tokenizer=tokenizer, evaluate=True)"
   ]
  },
  {
   "cell_type": "code",
   "execution_count": 42,
   "id": "291620da-de05-4d9d-9899-8c1ce73a7596",
   "metadata": {},
   "outputs": [],
   "source": [
    "# I don't feel like writing a version that doesn't call the value function at all, right now\n",
    "# I know it's slightly inefficient, but I don't care this instant\n",
    "GOB = GameOutputBuffer(brain, brain.evaluate_text, gamma=0.99, tau=0.97)"
   ]
  },
  {
   "cell_type": "code",
   "execution_count": 43,
   "id": "2df876f1-f3c3-4952-b1bf-a1c5f92fe90e",
   "metadata": {},
   "outputs": [],
   "source": [
    "# Just fills in the settings and the traces, nothing else\n",
    "def fake_data_fill(destination_buffer, parent_game, batch_size, maxlen=32, forward_only=True):\n",
    "    games = [discreteGame(parent_game.random_bare_settings(gameSize=224, max_agent_offset=0.5)) for i in range(batch_size)]\n",
    "    if forward_only:\n",
    "        traces = [[0] + trace_forward(G.settings, maxlen=maxlen - 1, zeroPad=True) for G in games]\n",
    "    else:\n",
    "        traces = [[0] + trace(G.settings, maxlen=maxlen - 1, zeroPad=True) for G in games]\n",
    "    destination_buffer.settings_buffer = [[G.settings] for G in games]\n",
    "    #destination_buffer.rewards = torch.zeros(device\n",
    "    for b in range(batch_size):\n",
    "        G = games[b]\n",
    "        for val in traces[b]:\n",
    "            if val in special_symbols:\n",
    "                G.actions[symbol_action_map[val]] # no need to store rewards\n",
    "            destination_buffer.settings_buffer[b].append(deepcopy(G.settings))\n",
    "    destination_buffer.traces = torch.tensor(traces).to(device)\n",
    "    destination_buffer.seed_offset = 1\n",
    "    destination_buffer.logpas = torch.zeros((batch_size, maxlen-1), device=device) # to be amended\n",
    "    destination_buffer.entropies = torch.zeros((batch_size, maxlen-1), device=device)\n",
    "    destination_buffer.terminated, destination_buffer.past_terminated = destination_buffer.get_terminations() # only part actually used\n",
    "    destination_buffer.rewards = torch.zeros((batch_size, maxlen), device=device)\n",
    "    destination_buffer.returns = torch.zeros((batch_size, maxlen), device=device)\n",
    "    destination_buffer.gaes = torch.zeros((batch_size, maxlen-1), device=device)\n",
    "    # That *should* be everything I actually need\n",
    "    return None"
   ]
  },
  {
   "cell_type": "code",
   "execution_count": 44,
   "id": "c2f63d05-68f2-4f05-b268-4adffd605095",
   "metadata": {},
   "outputs": [],
   "source": [
    "#fake_data_fill(GOB, G, 8)"
   ]
  },
  {
   "cell_type": "code",
   "execution_count": 45,
   "id": "4bd55959-1285-4480-a0e7-f6fb0625a939",
   "metadata": {},
   "outputs": [],
   "source": [
    "#GOB.traces"
   ]
  },
  {
   "cell_type": "code",
   "execution_count": 46,
   "id": "439a73aa-84cb-4d1d-86f1-8c0186a7e140",
   "metadata": {},
   "outputs": [],
   "source": [
    "#GOB.traces.size()"
   ]
  },
  {
   "cell_type": "code",
   "execution_count": 47,
   "id": "8e9d12f8-86ba-4006-a273-6eafb5f0e110",
   "metadata": {},
   "outputs": [],
   "source": [
    "#logpas, ents = GOB.get_probabilities_and_entropies()"
   ]
  },
  {
   "cell_type": "code",
   "execution_count": 48,
   "id": "78673165-bb8e-4a04-8850-b5abe33ac435",
   "metadata": {},
   "outputs": [],
   "source": [
    "#logpas"
   ]
  },
  {
   "cell_type": "code",
   "execution_count": 49,
   "id": "b8901f9f-84c6-47a3-ba8b-fae16d758267",
   "metadata": {},
   "outputs": [],
   "source": [
    "#L = torch.sum(0 - logpas)"
   ]
  },
  {
   "cell_type": "code",
   "execution_count": 50,
   "id": "586710bb-0f19-46c9-ad63-78536a4a700e",
   "metadata": {},
   "outputs": [],
   "source": [
    "#L.backward()"
   ]
  },
  {
   "cell_type": "code",
   "execution_count": 51,
   "id": "25293b83-028a-4bfd-99cc-70b8f9eb2e9d",
   "metadata": {},
   "outputs": [],
   "source": [
    "# Hell yes, we have a way forward"
   ]
  },
  {
   "cell_type": "code",
   "execution_count": 52,
   "id": "afe69243-207c-4128-af18-548c5141b0dd",
   "metadata": {},
   "outputs": [],
   "source": [
    "# No reason to mess up the other components\n",
    "optimizer = optim.Adam(brain.text_dec.parameters(), lr=0.00001, eps=1e-9)"
   ]
  },
  {
   "cell_type": "code",
   "execution_count": null,
   "id": "cc4883ab-be8c-492b-9d9f-edb54f22d6ce",
   "metadata": {},
   "outputs": [
    {
     "name": "stdout",
     "output_type": "stream",
     "text": [
      "Time for 1 batch: 4.38116192817688 seconds\n"
     ]
    }
   ],
   "source": [
    "import time\n",
    "\n",
    "total_batches = 6250*32\n",
    "\n",
    "batch_size = 8 # perfect size for the 2080\n",
    "\n",
    "total_loss = 0\n",
    "total_task_loss = 0\n",
    "total_control_loss = 0\n",
    "\n",
    "num_controls = len(sdt)\n",
    "\n",
    "curr_min = 1e6\n",
    "\n",
    "for b in range(total_batches):\n",
    "    if b == 0:\n",
    "        start = time.time()\n",
    "\n",
    "    fake_data_fill(GOB, G, batch_size)\n",
    "    logpas, _ = GOB.get_probabilities_and_entropies()\n",
    "    task_loss = 0 - torch.sum(logpas) / 1000\n",
    "    task_loss.backward()\n",
    "    optimizer.step()\n",
    "    optimizer.zero_grad()\n",
    "\n",
    "    ind = (b * batch_size) % num_controls\n",
    "    if ind + batch_size > num_controls:\n",
    "        ind = num_controls - batch_size\n",
    "    control_texts = sdt[ind:ind + batch_size].to(device)\n",
    "    control_images = get_images_settings([S[0] for S in GOB.settings_buffer], device=device)\n",
    "\n",
    "    control_probs = brain(control_texts, control_images, ret_imgs=False)\n",
    "    control_loss = get_text_loss(control_probs, control_texts)\n",
    "\n",
    "    #loss = control_loss + task_loss\n",
    "    control_loss.backward()\n",
    "    optimizer.step()\n",
    "    optimizer.zero_grad()\n",
    "\n",
    "    total_loss += task_loss.item() + control_loss.item()\n",
    "    total_task_loss += task_loss.item()\n",
    "    total_control_loss += control_loss.item()\n",
    "\n",
    "    if b == 0:\n",
    "        runtime = time.time() - start\n",
    "        print(f\"Time for 1 batch: {runtime} seconds\")\n",
    "    if (b % 100 == 99):\n",
    "        avg_loss = total_loss / 100\n",
    "        avg_control = total_control_loss / 100\n",
    "        avg_task = total_task_loss / 100\n",
    "        \n",
    "        total_loss = 0\n",
    "        total_control_loss = 0\n",
    "        total_task_loss = 0\n",
    "        \n",
    "        if avg_task_loss < curr_min:\n",
    "            curr_min = avg_task_loss\n",
    "            torch.save(brain.state_dict(), f'brain_checkpoints/brain_weights_RL_fake_traces_v1_batch{b + 1}.pth')\n",
    "\n",
    "        print(f\"Avg loss for last 100 batches, at batch {b + 1}: {avg_loss}:\\n{avg_control_loss} control,\\n{avg_trask_loss} task\\n\\n\")\n",
    "        "
   ]
  },
  {
   "cell_type": "code",
   "execution_count": null,
   "id": "a7cc36bc-d21e-45b2-8317-125673c1cd11",
   "metadata": {},
   "outputs": [],
   "source": []
  }
 ],
 "metadata": {
  "kernelspec": {
   "display_name": "Python 3 (ipykernel)",
   "language": "python",
   "name": "python3"
  },
  "language_info": {
   "codemirror_mode": {
    "name": "ipython",
    "version": 3
   },
   "file_extension": ".py",
   "mimetype": "text/x-python",
   "name": "python",
   "nbconvert_exporter": "python",
   "pygments_lexer": "ipython3",
   "version": "3.12.7"
  }
 },
 "nbformat": 4,
 "nbformat_minor": 5
}
