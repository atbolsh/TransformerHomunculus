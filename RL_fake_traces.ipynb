{
 "cells": [
  {
   "cell_type": "code",
   "execution_count": 1,
   "id": "d9e40652-ac1d-4ce8-bfd1-0e29230e4856",
   "metadata": {},
   "outputs": [],
   "source": [
    "# THis will be the first system where I actually train the real brain with RL\n",
    "# The traces will actually be fake at first, to get initial non-zero probabilities for the relevant actions\n",
    "# That will be repeated for other 'custom actions' when I need it"
   ]
  },
  {
   "cell_type": "code",
   "execution_count": 2,
   "id": "3146a920-a167-49a3-ac44-18a240a65683",
   "metadata": {},
   "outputs": [
    {
     "name": "stdout",
     "output_type": "stream",
     "text": [
      "pygame 2.6.1 (SDL 2.28.4, Python 3.12.7)\n",
      "Hello from the pygame community. https://www.pygame.org/contribute.html\n"
     ]
    }
   ],
   "source": [
    "from game import *"
   ]
  },
  {
   "cell_type": "code",
   "execution_count": 3,
   "id": "5f211753-11f6-4aa2-971a-d67c2a3c76cc",
   "metadata": {},
   "outputs": [],
   "source": [
    "game_settings = BIG_tool_use_advanced_2_5\n",
    "game_settings.gameSize = 224 # for compatibility with brain's expected size\n",
    "G = discreteGame(game_settings) # kind of a waste; will only call this object to generate random versions of itself"
   ]
  },
  {
   "cell_type": "code",
   "execution_count": 4,
   "id": "becd959c-2fb3-4114-ac0f-109b6b7a2b1d",
   "metadata": {},
   "outputs": [],
   "source": [
    "G2 = discreteGame(G.random_bare_settings(gameSize=224, max_agent_offset=0.5))"
   ]
  },
  {
   "cell_type": "code",
   "execution_count": 5,
   "id": "93cf025b-820a-48ca-967c-acd9e2eff9f9",
   "metadata": {},
   "outputs": [],
   "source": [
    "import matplotlib.pyplot as plt"
   ]
  },
  {
   "cell_type": "code",
   "execution_count": 6,
   "id": "3ea1de06-6434-4abc-bf10-974c4ecf35ac",
   "metadata": {},
   "outputs": [
    {
     "data": {
      "text/plain": [
       "<matplotlib.image.AxesImage at 0x7f0c3ea1f020>"
      ]
     },
     "execution_count": 6,
     "metadata": {},
     "output_type": "execute_result"
    },
    {
     "data": {
      "image/png": "[encoded data removed]",
      "text/plain": [
       "<Figure size 640x480 with 1 Axes>"
      ]
     },
     "metadata": {},
     "output_type": "display_data"
    }
   ],
   "source": [
    "#G2.settings.direction = 0\n",
    "#G2.universal_update()\n",
    "plt.imshow(G2.getData())"
   ]
  },
  {
   "cell_type": "code",
   "execution_count": 7,
   "id": "1e41bcca-f159-4e4d-a237-6a55452bff64",
   "metadata": {},
   "outputs": [
    {
     "data": {
      "text/plain": [
       "{'gameSize': 224,\n",
       " 'direction': 2.8261648916783506,\n",
       " 'agent_x': 0.5329540921699232,\n",
       " 'agent_y': 0.2136515380088836,\n",
       " 'agent_r': 0.05,\n",
       " 'gold_r': 0.015625,\n",
       " 'gold': [(0.32060112223991427, 0.6903890531835468)],\n",
       " 'walls': [[0, 0, 0.0625, 0.45, 0],\n",
       "  [0, 0.55, 0.0625, 0.45, 0],\n",
       "  [0, 0, 1.0, 0.0625, 0],\n",
       "  [0, 0.9375, 1.0, 0.0625, 0],\n",
       "  [0.9375, 0, 0.0625, 1.0, 0]]}"
      ]
     },
     "execution_count": 7,
     "metadata": {},
     "output_type": "execute_result"
    }
   ],
   "source": [
    "G2.settings.__dict__"
   ]
  },
  {
   "cell_type": "code",
   "execution_count": 8,
   "id": "3588dd67-3085-4671-be02-bcb03f1fe397",
   "metadata": {},
   "outputs": [
    {
     "data": {
      "text/plain": [
       "1.9898429573471743"
      ]
     },
     "execution_count": 8,
     "metadata": {},
     "output_type": "execute_result"
    }
   ],
   "source": [
    "G2.direction_angle(G2.settings.agent_x, G2.settings.agent_y, G2.settings.gold[0][0], G2.settings.gold[0][1])"
   ]
  },
  {
   "cell_type": "code",
   "execution_count": 9,
   "id": "fd9e8263-b000-4c80-b137-09ebf42a1a71",
   "metadata": {},
   "outputs": [],
   "source": [
    "# checks if you will intersect the gold by moving forward only\n",
    "# does not check walls or anything\n",
    "def will_intersect_forward(G):\n",
    "    gx, gy = G.settings.gold[0]\n",
    "    ax, ay = G.settings.agent_x, G.settings.agent_y\n",
    "    # turns the gold into the agent's field of reference; \n",
    "    # then, check if it's in front of you and within the line you'll sweep while moving forward\n",
    "    rel_gx, rel_gy = G.backRot(gx-ax, gy-ay, G.settings.direction)\n",
    "    #print(rel_gx)\n",
    "    #print(rel_gy)\n",
    "    return (rel_gx > 0) and (abs(rel_gy) < G.settings.agent_r)"
   ]
  },
  {
   "cell_type": "code",
   "execution_count": 10,
   "id": "e7966d6b-7e11-4181-98b8-016f3c1b5564",
   "metadata": {},
   "outputs": [
    {
     "name": "stdout",
     "output_type": "stream",
     "text": [
      "0.34977129092499226\n",
      "-0.3873402719285357\n"
     ]
    },
    {
     "data": {
      "text/plain": [
       "False"
      ]
     },
     "execution_count": 10,
     "metadata": {},
     "output_type": "execute_result"
    }
   ],
   "source": [
    "will_intersect_forward(G2)"
   ]
  },
  {
   "cell_type": "code",
   "execution_count": 11,
   "id": "c1f8ba12-3037-4362-8c4f-898f13dd9cac",
   "metadata": {},
   "outputs": [
    {
     "data": {
      "text/plain": [
       "5.283185307179586"
      ]
     },
     "execution_count": 11,
     "metadata": {},
     "output_type": "execute_result"
    }
   ],
   "source": [
    "import math\n",
    "-1 % (2 * math.pi)"
   ]
  },
  {
   "cell_type": "code",
   "execution_count": 12,
   "id": "92fa53d5-aaab-4034-b48d-aa8e5ab8b55b",
   "metadata": {},
   "outputs": [],
   "source": [
    "import math\n",
    "tau = 2*math.pi\n",
    "\n",
    "# True if the shortest path is turning clockwise (for a forward trajectory)\n",
    "# False if you should turn counterclockwise instead\n",
    "# turning anticlockwise increases 'direction' value\n",
    "# turning clockwise decreases 'direction' value\n",
    "def should_turn_anticlockwise_forward(G):\n",
    "    gx, gy = G.settings.gold[0]\n",
    "    ax, ay = G.settings.agent_x, G.settings.agent_y\n",
    "    theta = G.settings.direction\n",
    "    theta_to_gold = G.direction_angle(ax, ay, gx, gy)\n",
    "    cw_theta = (theta - theta_to_gold) % tau\n",
    "    #print(cw_theta)\n",
    "    acw_theta = (theta_to_gold - theta) % tau\n",
    "    #print(acw_theta)\n",
    "    return acw_theta < cw_theta"
   ]
  },
  {
   "cell_type": "code",
   "execution_count": 13,
   "id": "7d075362-fcb6-4b6d-8416-922f711870f1",
   "metadata": {},
   "outputs": [
    {
     "data": {
      "text/plain": [
       "False"
      ]
     },
     "execution_count": 13,
     "metadata": {},
     "output_type": "execute_result"
    }
   ],
   "source": [
    "should_turn_anticlockwise_forward(G2)"
   ]
  },
  {
   "cell_type": "code",
   "execution_count": 14,
   "id": "7301bbd4-b20f-40d1-97b4-e1bf004485be",
   "metadata": {},
   "outputs": [],
   "source": [
    "# best move right now, bare settings\n",
    "# can use this, with game, to create track to gold (moving only forward)\n",
    "def best_move_forward(G):\n",
    "    if will_intersect_forward(G):\n",
    "        return 1 # action 1, G.stepForward\n",
    "    else:\n",
    "        if should_turn_anticlockwise_forward(G):\n",
    "            return 4 # action 4, G.swivel_anticlock\n",
    "        else:\n",
    "            return 3 # action 3, G.swivel_clock"
   ]
  },
  {
   "cell_type": "code",
   "execution_count": 15,
   "id": "21db3314-53f5-4b69-a66d-d8d00ca112e4",
   "metadata": {},
   "outputs": [],
   "source": [
    "from copy import deepcopy\n",
    "\n",
    "def trace_forward(settings, maxlen=1024):\n",
    "    G = discreteGame(deepcopy(settings))\n",
    "    reward = 0\n",
    "    steps = 0\n",
    "    trace = [] # can also be numpy array or something; just getting something out there\n",
    "    while reward < 1e-4 and steps < maxlen:\n",
    "        action = best_move_forward(G)\n",
    "        trace.append(action)\n",
    "        reward += G.actions[action]()\n",
    "        steps += 1\n",
    "    return trace"
   ]
  },
  {
   "cell_type": "code",
   "execution_count": 16,
   "id": "a4176903-628b-4afa-99a7-34ce55e563d9",
   "metadata": {},
   "outputs": [
    {
     "name": "stdout",
     "output_type": "stream",
     "text": [
      "0.34977129092499226\n",
      "-0.3873402719285357\n",
      "0.38834329058249595\n",
      "-0.34865732585529685\n",
      "0.42266051988231973\n",
      "-0.3061544171587513\n",
      "0.4523469920789128\n",
      "-0.260297216600884\n",
      "0.4770774559705957\n",
      "-0.21158814526724287\n",
      "0.49658095941978875\n",
      "-0.1605608699363879\n",
      "0.5106438179613322\n",
      "-0.1077744561149877\n",
      "0.5191119559742025\n",
      "-0.053807242799136845\n",
      "0.5218925947662587\n",
      "0.0007494939287106261\n",
      "0.45939259476625866\n",
      "0.0007494939287105984\n",
      "0.39689259476625866\n",
      "0.0007494939287106261\n",
      "0.33439259476625866\n",
      "0.0007494939287106261\n",
      "0.2718925947662587\n",
      "0.0007494939287106539\n",
      "0.2093925947662587\n",
      "0.0007494939287106678\n",
      "0.1468925947662587\n",
      "0.0007494939287106747\n",
      "0.08439259476625871\n",
      "0.000749493928710699\n"
     ]
    }
   ],
   "source": [
    "trace = trace_forward(G2.settings)"
   ]
  },
  {
   "cell_type": "code",
   "execution_count": 17,
   "id": "f2fcc66e-451c-4cc1-800d-416eb25a9368",
   "metadata": {},
   "outputs": [
    {
     "data": {
      "text/plain": [
       "[3, 3, 3, 3, 3, 3, 3, 3, 1, 1, 1, 1, 1, 1, 1, 1]"
      ]
     },
     "execution_count": 17,
     "metadata": {},
     "output_type": "execute_result"
    }
   ],
   "source": [
    "trace"
   ]
  },
  {
   "cell_type": "code",
   "execution_count": 18,
   "id": "a1d98b5d-3b0a-4935-a9eb-59d452b8d471",
   "metadata": {},
   "outputs": [],
   "source": [
    "ind = 0"
   ]
  },
  {
   "cell_type": "code",
   "execution_count": 19,
   "id": "370300c7-f289-40f9-ab66-f02eda336c2c",
   "metadata": {},
   "outputs": [
    {
     "data": {
      "image/png": "[encoded data removed]",
      "text/plain": [
       "<Figure size 640x480 with 1 Axes>"
      ]
     },
     "metadata": {},
     "output_type": "display_data"
    }
   ],
   "source": [
    "G2.actions[trace[ind]]()\n",
    "plt.imshow(G2.getData())\n",
    "ind += 1"
   ]
  },
  {
   "cell_type": "code",
   "execution_count": 20,
   "id": "237a47dc-70de-4eca-8362-4d743c06e10c",
   "metadata": {},
   "outputs": [],
   "source": [
    "# awesome. Professional solver finished."
   ]
  },
  {
   "cell_type": "code",
   "execution_count": null,
   "id": "40251bf2-517c-47ce-a1a9-6c070c7d7e6b",
   "metadata": {},
   "outputs": [],
   "source": []
  }
 ],
 "metadata": {
  "kernelspec": {
   "display_name": "Python 3 (ipykernel)",
   "language": "python",
   "name": "python3"
  },
  "language_info": {
   "codemirror_mode": {
    "name": "ipython",
    "version": 3
   },
   "file_extension": ".py",
   "mimetype": "text/x-python",
   "name": "python",
   "nbconvert_exporter": "python",
   "pygments_lexer": "ipython3",
   "version": "3.12.7"
  }
 },
 "nbformat": 4,
 "nbformat_minor": 5
}
