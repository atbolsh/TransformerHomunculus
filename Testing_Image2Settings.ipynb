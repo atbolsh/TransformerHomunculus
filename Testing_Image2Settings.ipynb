{
 "cells": [
  {
   "cell_type": "code",
   "execution_count": 1,
   "id": "e47e2a41-5bf4-48cd-803d-def42bb1aa6b",
   "metadata": {},
   "outputs": [
    {
     "name": "stdout",
     "output_type": "stream",
     "text": [
      "pygame 2.6.1 (SDL 2.28.4, Python 3.12.8)\n",
      "Hello from the pygame community. https://www.pygame.org/contribute.html\n"
     ]
    }
   ],
   "source": [
    "# includes game, includes model\n",
    "from image_to_settings import *"
   ]
  },
  {
   "cell_type": "code",
   "execution_count": 2,
   "id": "e43345ad-3584-4e23-9664-39338ddee72f",
   "metadata": {},
   "outputs": [],
   "source": [
    "game_settings = BIG_tool_use_advanced_2_5\n",
    "game_settings.gameSize = 224 # for compatibility with brain's expected size\n",
    "G = discreteGame(game_settings)"
   ]
  },
  {
   "cell_type": "code",
   "execution_count": 3,
   "id": "457707cf-c4f5-41b7-8fb6-777a89e243b3",
   "metadata": {},
   "outputs": [
    {
     "data": {
      "text/plain": [
       "<matplotlib.image.AxesImage at 0x7eff9b6e25a0>"
      ]
     },
     "execution_count": 3,
     "metadata": {},
     "output_type": "execute_result"
    },
    {
     "data": {
      "image/png": "[encoded data removed]",
      "text/plain": [
       "<Figure size 640x480 with 1 Axes>"
      ]
     },
     "metadata": {},
     "output_type": "display_data"
    }
   ],
   "source": [
    "import matplotlib.pyplot as plt\n",
    "plt.imshow(G.getData())"
   ]
  },
  {
   "cell_type": "code",
   "execution_count": 4,
   "id": "c921231f-ab7d-472e-a61a-d056029e3280",
   "metadata": {},
   "outputs": [],
   "source": [
    "from visual_transformer import *\n",
    "device = torch.device('cuda:0') # doing this on the 2080"
   ]
  },
  {
   "cell_type": "code",
   "execution_count": 5,
   "id": "3250cf26-055c-4223-aeb5-25c2cde332b8",
   "metadata": {},
   "outputs": [],
   "source": [
    "def quick_display(torch_img):\n",
    "    clean = torch_img.detach().cpu()\n",
    "    right_order = torch.permute(clean, (1, 2, 0))\n",
    "    array = right_order.numpy()\n",
    "    plt.imshow(array)"
   ]
  },
  {
   "cell_type": "code",
   "execution_count": 6,
   "id": "266575e6-be99-4750-9bb6-3f4f5fda11a8",
   "metadata": {},
   "outputs": [],
   "source": [
    "def get_settings_batch(batch_size):\n",
    "    return [G.random_bare_settings(gameSize=224, max_agent_offset=(0.15 + 0.4*i/batch_size)) for i in range(1, batch_size + 1)] \n",
    "    \n",
    "def get_images(settings_batch, device=device):\n",
    "    batch_size = len(settings_batch)\n",
    "    img = torch.zeros(batch_size, 224, 224, 3)\n",
    "    for i in range(batch_size):\n",
    "        G2 = discreteGame(settings_batch[i])\n",
    "        img[i] = torch.tensor(G2.getData())\n",
    "    img = torch.permute(img, (0, 3, 1, 2)).contiguous().to(device)\n",
    "    return img \n"
   ]
  },
  {
   "cell_type": "code",
   "execution_count": 7,
   "id": "03e1e783-6b0f-4c34-afb3-12330c16206e",
   "metadata": {},
   "outputs": [
    {
     "data": {
      "image/png": "[encoded data removed]",
      "text/plain": [
       "<Figure size 640x480 with 1 Axes>"
      ]
     },
     "metadata": {},
     "output_type": "display_data"
    }
   ],
   "source": [
    "batch_size = 16\n",
    "S = get_settings_batch(batch_size)\n",
    "imgs = get_images(S)\n",
    "quick_display(imgs[1])"
   ]
  },
  {
   "cell_type": "code",
   "execution_count": 8,
   "id": "aee43455-0d9c-42fe-a928-16d00d7a88fc",
   "metadata": {},
   "outputs": [],
   "source": [
    "agent_centers, directions, agent_radii = get_agent_info(imgs)"
   ]
  },
  {
   "cell_type": "code",
   "execution_count": 9,
   "id": "2e18ca8d-d3a8-43d4-89d5-3a2a219ff148",
   "metadata": {},
   "outputs": [
    {
     "data": {
      "text/plain": [
       "tensor([[0.2879, 0.2969],\n",
       "        [0.6451, 0.8817],\n",
       "        [0.1317, 0.1763],\n",
       "        [0.2612, 0.4129],\n",
       "        [0.6674, 0.7299],\n",
       "        [0.6183, 0.6987],\n",
       "        [0.8237, 0.6987],\n",
       "        [0.2479, 0.6496],\n",
       "        [0.4085, 0.7656],\n",
       "        [0.4754, 0.4174],\n",
       "        [0.6272, 0.8237],\n",
       "        [0.7388, 0.3817],\n",
       "        [0.7478, 0.3281],\n",
       "        [0.3058, 0.2165],\n",
       "        [0.8594, 0.5424],\n",
       "        [0.6585, 0.4442]], device='cuda:0')"
      ]
     },
     "execution_count": 9,
     "metadata": {},
     "output_type": "execute_result"
    }
   ],
   "source": [
    "agent_centers"
   ]
  },
  {
   "cell_type": "code",
   "execution_count": 10,
   "id": "a5f20724-cccf-4517-b1ca-df5d1db09c37",
   "metadata": {},
   "outputs": [
    {
     "data": {
      "text/plain": [
       "tensor([0.0329, 0.0329, 0.0329, 0.0329, 0.0329, 0.0329, 0.0329, 0.0330, 0.0329,\n",
       "        0.0329, 0.0329, 0.0329, 0.0329, 0.0329, 0.0329, 0.0329],\n",
       "       device='cuda:0')"
      ]
     },
     "execution_count": 10,
     "metadata": {},
     "output_type": "execute_result"
    }
   ],
   "source": [
    "agent_radii"
   ]
  },
  {
   "cell_type": "code",
   "execution_count": 11,
   "id": "1582984e-a1c8-4d1d-89fa-8cf72e4bfb92",
   "metadata": {},
   "outputs": [
    {
     "data": {
      "text/plain": [
       "tensor([0.1419, 4.7124, 5.1760, 2.9997, 1.7359, 2.9997, 1.2925, 0.5877, 5.8195,\n",
       "        2.6779, 3.6052, 0.4636, 2.2455, 1.0304, 4.0376, 3.4633],\n",
       "       device='cuda:0')"
      ]
     },
     "execution_count": 11,
     "metadata": {},
     "output_type": "execute_result"
    }
   ],
   "source": [
    "directions"
   ]
  },
  {
   "cell_type": "code",
   "execution_count": 12,
   "id": "29df280d-7807-4987-ab36-4ea5e98ae4e8",
   "metadata": {},
   "outputs": [
    {
     "data": {
      "text/plain": [
       "{'gameSize': 224,\n",
       " 'direction': 0.19901231693416005,\n",
       " 'agent_x': 0.29219233828848934,\n",
       " 'agent_y': 0.30051742830614137,\n",
       " 'agent_r': 0.05,\n",
       " 'gold_r': 0.015625,\n",
       " 'gold': [(0.388480166942318, 0.448321052661105)],\n",
       " 'walls': [[0, 0, 0.0625, 1.0, 0],\n",
       "  [0, 0, 1.0, 0.0625, 0],\n",
       "  [0, 0.9375, 1.0, 0.0625, 0],\n",
       "  [0.9375, 0, 0.0625, 1.0, 0]]}"
      ]
     },
     "execution_count": 12,
     "metadata": {},
     "output_type": "execute_result"
    }
   ],
   "source": [
    "S[0].__dict__"
   ]
  },
  {
   "cell_type": "code",
   "execution_count": 13,
   "id": "80969787-6a83-4913-836a-0266caaf906e",
   "metadata": {},
   "outputs": [],
   "source": [
    "gold_centers = get_SINGLE_gold_info(imgs)"
   ]
  },
  {
   "cell_type": "code",
   "execution_count": 14,
   "id": "8738d70b-2aa9-41c3-818b-3b29fd1fd48a",
   "metadata": {},
   "outputs": [
    {
     "data": {
      "text/plain": [
       "tensor([[0.3862, 0.4442],\n",
       "        [0.7879, 0.7388],\n",
       "        [0.1585, 0.3013],\n",
       "        [0.3951, 0.5067],\n",
       "        [0.7254, 0.5290],\n",
       "        [0.9085, 0.8906],\n",
       "        [0.8103, 0.8728],\n",
       "        [0.4621, 0.7478],\n",
       "        [0.3192, 0.7612],\n",
       "        [0.7299, 0.3147],\n",
       "        [0.7701, 0.8906],\n",
       "        [0.4040, 0.3415],\n",
       "        [0.8638, 0.6808],\n",
       "        [0.7790, 0.4933],\n",
       "        [0.4397, 0.2790],\n",
       "        [0.3237, 0.8549]], device='cuda:0')"
      ]
     },
     "execution_count": 14,
     "metadata": {},
     "output_type": "execute_result"
    }
   ],
   "source": [
    "gold_centers"
   ]
  },
  {
   "cell_type": "code",
   "execution_count": 15,
   "id": "37ec400b-bacc-43db-a924-83e97b00f8b2",
   "metadata": {},
   "outputs": [],
   "source": [
    "gold_masks = get_color_masks(imgs, GOLD)"
   ]
  },
  {
   "cell_type": "code",
   "execution_count": 16,
   "id": "5a062dac-a655-4c85-a366-a7d87ed28528",
   "metadata": {},
   "outputs": [],
   "source": [
    "gold_r = S[0].gold_r"
   ]
  },
  {
   "cell_type": "code",
   "execution_count": 17,
   "id": "544b19e7-8d1b-40b9-b2b7-a2c8e4d2d62b",
   "metadata": {},
   "outputs": [],
   "source": [
    "all_gold = get_all_gold(gold_masks[0] + gold_masks[1] + gold_masks[2], gold_r)"
   ]
  },
  {
   "cell_type": "code",
   "execution_count": 18,
   "id": "44247c2a-2d72-4686-9661-43bd568f75ba",
   "metadata": {},
   "outputs": [
    {
     "data": {
      "text/plain": [
       "{'gameSize': 224,\n",
       " 'direction': 0.19901231693416005,\n",
       " 'agent_x': 0.29219233828848934,\n",
       " 'agent_y': 0.30051742830614137,\n",
       " 'agent_r': 0.05,\n",
       " 'gold_r': 0.015625,\n",
       " 'gold': [(0.388480166942318, 0.448321052661105)],\n",
       " 'walls': [[0, 0, 0.0625, 1.0, 0],\n",
       "  [0, 0, 1.0, 0.0625, 0],\n",
       "  [0, 0.9375, 1.0, 0.0625, 0],\n",
       "  [0.9375, 0, 0.0625, 1.0, 0]]}"
      ]
     },
     "execution_count": 18,
     "metadata": {},
     "output_type": "execute_result"
    }
   ],
   "source": [
    "S[0].__dict__"
   ]
  },
  {
   "cell_type": "code",
   "execution_count": 19,
   "id": "da678759-f9e3-4f1f-b598-a9346b165e64",
   "metadata": {},
   "outputs": [
    {
     "data": {
      "text/plain": [
       "[(0.7857142857142857, 0.734375),\n",
       " (0.38392857142857145, 0.43973214285714285),\n",
       " (0.15625, 0.296875)]"
      ]
     },
     "execution_count": 19,
     "metadata": {},
     "output_type": "execute_result"
    }
   ],
   "source": [
    "all_gold"
   ]
  },
  {
   "cell_type": "code",
   "execution_count": 20,
   "id": "3a7c8244-4338-47f2-8be3-1d9c57759357",
   "metadata": {},
   "outputs": [],
   "source": [
    "# hell yes"
   ]
  },
  {
   "cell_type": "code",
   "execution_count": null,
   "id": "55d8f659-6085-419b-83d0-07ddef7e08e0",
   "metadata": {},
   "outputs": [],
   "source": []
  }
 ],
 "metadata": {
  "kernelspec": {
   "display_name": "Python 3 (ipykernel)",
   "language": "python",
   "name": "python3"
  },
  "language_info": {
   "codemirror_mode": {
    "name": "ipython",
    "version": 3
   },
   "file_extension": ".py",
   "mimetype": "text/x-python",
   "name": "python",
   "nbconvert_exporter": "python",
   "pygments_lexer": "ipython3",
   "version": "3.12.8"
  }
 },
 "nbformat": 4,
 "nbformat_minor": 5
}
