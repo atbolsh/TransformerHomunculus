{
 "cells": [
  {
   "cell_type": "code",
   "execution_count": 2,
   "id": "932a0afe-fac1-4639-82d8-379a75ffbcfb",
   "metadata": {},
   "outputs": [],
   "source": [
    "from visual_transformer import *"
   ]
  },
  {
   "cell_type": "code",
   "execution_count": 13,
   "id": "00e0cee6-e2ff-451f-91f0-eee10e75a951",
   "metadata": {},
   "outputs": [],
   "source": [
    "class VisionCanvases(nn.Module):\n",
    "    def __init__(self, num_canvases=3, num_channels=3, width=224, height=224, device='cpu'):\n",
    "        super(VisionCanvases, self).__init__()\n",
    "\n",
    "        self.current_index = 0\n",
    "        self.empty = True\n",
    "        \n",
    "        self.num_canvases=num_canvases\n",
    "        self.num_channels=num_channels\n",
    "        self.width=width\n",
    "        self.height=height\n",
    "        \n",
    "        canvases = torch.zeros(1, device=device) # placeholder\n",
    "        self.register_buffer('canvases', canvases)\n",
    "\n",
    "    def get_device(self):\n",
    "        return self.canvases.device\n",
    "\n",
    "    def is_empty(self):\n",
    "        return self.empty\n",
    "\n",
    "    def store(self, img_batch):\n",
    "        if self.is_empty():\n",
    "            nc = img_batch.unsqueeze(0).repeat(self.num_canvases, 1, 1, 1, 1)\n",
    "            self.register_buffer('canvases', nc)\n",
    "        else:\n",
    "            self.current_index = (self.current_index + 1) % self.num_canvases\n",
    "            self.canvases[self.current_index] = img_batch\n",
    "        self.empty = False\n",
    "\n",
    "    def __getitem__(self, ind):\n",
    "        if self.is_empty():\n",
    "            raise ValueError(\"can't return canvases from an empty container\")\n",
    "        if (ind >= self.num_canvases) or (ind <= -1 - self.num_canvases):\n",
    "            raise ValueError(\"index out of bounds\")\n",
    "\n",
    "        newind = (self.current_index - ind) % self.num_canvases\n",
    "        return self.canvases[newind]\n",
    "\n",
    "    # should not be used; use store instead\n",
    "    def forward(self, img_batch):\n",
    "        self.store(img_batch)\n",
    "        return self[0] # the stored value\n"
   ]
  },
  {
   "cell_type": "code",
   "execution_count": 14,
   "id": "a5509f70-405f-42d1-a4d5-cc840648dd15",
   "metadata": {},
   "outputs": [],
   "source": [
    "vc = VisionCanvases(3)"
   ]
  },
  {
   "cell_type": "code",
   "execution_count": 35,
   "id": "ac34e4f7-d70e-45b3-badf-79ea0f0571d1",
   "metadata": {},
   "outputs": [],
   "source": [
    "# ok, problem is solved."
   ]
  },
  {
   "cell_type": "code",
   "execution_count": 1,
   "id": "844af2f4-1886-4db5-a1de-f0f398bd30fc",
   "metadata": {},
   "outputs": [],
   "source": [
    "# new problem: the damn thing only works with forward pass; on backward pass, it complains about in-place modification or whatever\n",
    "# new option below"
   ]
  },
  {
   "cell_type": "code",
   "execution_count": 4,
   "id": "a1ca86ab-56aa-4432-aa6f-ff652c8b896d",
   "metadata": {},
   "outputs": [
    {
     "data": {
      "text/plain": [
       "device(type='cpu')"
      ]
     },
     "execution_count": 4,
     "metadata": {},
     "output_type": "execute_result"
    }
   ],
   "source": [
    "a = torch.randn(2, 3, 4)\n",
    "a.cuda()\n",
    "a.device"
   ]
  },
  {
   "cell_type": "code",
   "execution_count": 5,
   "id": "5673a420-48f5-4752-9665-3677924cf642",
   "metadata": {},
   "outputs": [],
   "source": [
    "class TensorWrapper:\n",
    "    def __init__(self, L):\n",
    "        self.L = L\n",
    "\n",
    "    def get_device(self):\n",
    "        return self.L[0].device\n",
    "\n",
    "    def to(self, device):\n",
    "        for i in range(len(self.L)):\n",
    "            self.L[i] = self.L[i].to(device)\n",
    "\n",
    "    def cpu(self):\n",
    "        return self.to('cpu')\n",
    "\n",
    "    def cuda(self):\n",
    "        return self.to('cuda')\n",
    "        "
   ]
  },
  {
   "cell_type": "code",
   "execution_count": 8,
   "id": "3117d333-0638-40d8-a928-b2d33c7795f6",
   "metadata": {},
   "outputs": [],
   "source": [
    "class VisionCanvases(nn.Module):\n",
    "    def __init__(self, num_canvases=3, num_channels=3, width=224, height=224, device='cpu'):\n",
    "        super(VisionCanvases, self).__init__()\n",
    "\n",
    "        self.current_index = 0\n",
    "        self.empty = True\n",
    "        \n",
    "        self.num_canvases=num_canvases\n",
    "        self.num_channels=num_channels\n",
    "        self.width=width\n",
    "        self.height=height\n",
    "        \n",
    "        tw = TensorWrapper([torch.zeros(1, num_channels, width, height, device=device) for i in range(num_canvases)])\n",
    "        self.register_buffer('tw', tw)\n",
    "\n",
    "    def get_device(self):\n",
    "        return self.tw.L[0].device\n",
    "\n",
    "    def is_empty(self):\n",
    "        return self.empty\n",
    "\n",
    "    def store(self, img_batch):\n",
    "        if self.is_empty():\n",
    "            for i in range(self.num_canvases):\n",
    "                self.tw.L[i] += img_batch\n",
    "        else:\n",
    "            self.tw.L.append(img_batch)\n",
    "            self.tw.L = self.tw.L[1:]\n",
    "        self.empty = False\n",
    "\n",
    "    def __getitem__(self, ind):\n",
    "        if self.is_empty():\n",
    "            raise ValueError(\"can't return canvases from an empty container\")\n",
    "        if (ind >= self.num_canvases) or (ind <= -1 - self.num_canvases):\n",
    "            raise ValueError(\"index out of bounds\")\n",
    "\n",
    "        newind = (self.num_canvases - 1 - ind) % self.num_canvases\n",
    "        return self.tw.L[newind]\n",
    "\n",
    "    # should not be used; use store instead\n",
    "    def forward(self, img_batch):\n",
    "        self.store(img_batch)\n",
    "        return self[0] # the stored value\n"
   ]
  },
  {
   "cell_type": "code",
   "execution_count": 9,
   "id": "c8e34ea8-98d2-4c6e-82e1-09b19e58d188",
   "metadata": {},
   "outputs": [
    {
     "ename": "TypeError",
     "evalue": "cannot assign '__main__.TensorWrapper' object to buffer 'tw' (torch Tensor or None required)",
     "output_type": "error",
     "traceback": [
      "\u001b[0;31m---------------------------------------------------------------------------\u001b[0m",
      "\u001b[0;31mTypeError\u001b[0m                                 Traceback (most recent call last)",
      "Cell \u001b[0;32mIn[9], line 1\u001b[0m\n\u001b[0;32m----> 1\u001b[0m vc \u001b[38;5;241m=\u001b[39m \u001b[43mVisionCanvases\u001b[49m\u001b[43m(\u001b[49m\u001b[38;5;241;43m3\u001b[39;49m\u001b[43m)\u001b[49m\n",
      "Cell \u001b[0;32mIn[8], line 14\u001b[0m, in \u001b[0;36mVisionCanvases.__init__\u001b[0;34m(self, num_canvases, num_channels, width, height, device)\u001b[0m\n\u001b[1;32m     11\u001b[0m \u001b[38;5;28mself\u001b[39m\u001b[38;5;241m.\u001b[39mheight\u001b[38;5;241m=\u001b[39mheight\n\u001b[1;32m     13\u001b[0m tw \u001b[38;5;241m=\u001b[39m TensorWrapper([torch\u001b[38;5;241m.\u001b[39mzeros(\u001b[38;5;241m1\u001b[39m, num_channels, width, height, device\u001b[38;5;241m=\u001b[39mdevice) \u001b[38;5;28;01mfor\u001b[39;00m i \u001b[38;5;129;01min\u001b[39;00m \u001b[38;5;28mrange\u001b[39m(num_canvases)])\n\u001b[0;32m---> 14\u001b[0m \u001b[38;5;28;43mself\u001b[39;49m\u001b[38;5;241;43m.\u001b[39;49m\u001b[43mregister_buffer\u001b[49m\u001b[43m(\u001b[49m\u001b[38;5;124;43m'\u001b[39;49m\u001b[38;5;124;43mtw\u001b[39;49m\u001b[38;5;124;43m'\u001b[39;49m\u001b[43m,\u001b[49m\u001b[43m \u001b[49m\u001b[43mtw\u001b[49m\u001b[43m)\u001b[49m\n",
      "File \u001b[0;32m~/anaconda3/envs/player/lib/python3.12/site-packages/torch/nn/modules/module.py:566\u001b[0m, in \u001b[0;36mModule.register_buffer\u001b[0;34m(self, name, tensor, persistent)\u001b[0m\n\u001b[1;32m    564\u001b[0m     \u001b[38;5;28;01mraise\u001b[39;00m \u001b[38;5;167;01mKeyError\u001b[39;00m(\u001b[38;5;124mf\u001b[39m\u001b[38;5;124m\"\u001b[39m\u001b[38;5;124mattribute \u001b[39m\u001b[38;5;124m'\u001b[39m\u001b[38;5;132;01m{\u001b[39;00mname\u001b[38;5;132;01m}\u001b[39;00m\u001b[38;5;124m'\u001b[39m\u001b[38;5;124m already exists\u001b[39m\u001b[38;5;124m\"\u001b[39m)\n\u001b[1;32m    565\u001b[0m \u001b[38;5;28;01melif\u001b[39;00m tensor \u001b[38;5;129;01mis\u001b[39;00m \u001b[38;5;129;01mnot\u001b[39;00m \u001b[38;5;28;01mNone\u001b[39;00m \u001b[38;5;129;01mand\u001b[39;00m \u001b[38;5;129;01mnot\u001b[39;00m \u001b[38;5;28misinstance\u001b[39m(tensor, torch\u001b[38;5;241m.\u001b[39mTensor):\n\u001b[0;32m--> 566\u001b[0m     \u001b[38;5;28;01mraise\u001b[39;00m \u001b[38;5;167;01mTypeError\u001b[39;00m(\n\u001b[1;32m    567\u001b[0m         \u001b[38;5;124mf\u001b[39m\u001b[38;5;124m\"\u001b[39m\u001b[38;5;124mcannot assign \u001b[39m\u001b[38;5;124m'\u001b[39m\u001b[38;5;132;01m{\u001b[39;00mtorch\u001b[38;5;241m.\u001b[39mtypename(tensor)\u001b[38;5;132;01m}\u001b[39;00m\u001b[38;5;124m'\u001b[39m\u001b[38;5;124m object to buffer \u001b[39m\u001b[38;5;124m'\u001b[39m\u001b[38;5;132;01m{\u001b[39;00mname\u001b[38;5;132;01m}\u001b[39;00m\u001b[38;5;124m'\u001b[39m\u001b[38;5;124m \u001b[39m\u001b[38;5;124m\"\u001b[39m\n\u001b[1;32m    568\u001b[0m         \u001b[38;5;124m\"\u001b[39m\u001b[38;5;124m(torch Tensor or None required)\u001b[39m\u001b[38;5;124m\"\u001b[39m\n\u001b[1;32m    569\u001b[0m     )\n\u001b[1;32m    570\u001b[0m \u001b[38;5;28;01melse\u001b[39;00m:\n\u001b[1;32m    571\u001b[0m     \u001b[38;5;28;01mfor\u001b[39;00m hook \u001b[38;5;129;01min\u001b[39;00m _global_buffer_registration_hooks\u001b[38;5;241m.\u001b[39mvalues():\n",
      "\u001b[0;31mTypeError\u001b[0m: cannot assign '__main__.TensorWrapper' object to buffer 'tw' (torch Tensor or None required)"
     ]
    }
   ],
   "source": [
    "vc = VisionCanvases(3)"
   ]
  },
  {
   "cell_type": "code",
   "execution_count": 10,
   "id": "56ffc7d0-d8cb-4eb1-ba46-2ffb31977f49",
   "metadata": {},
   "outputs": [],
   "source": [
    " # shucks"
   ]
  },
  {
   "cell_type": "code",
   "execution_count": null,
   "id": "419eab4f-506c-42bf-9885-631a294147b2",
   "metadata": {},
   "outputs": [],
   "source": []
  }
 ],
 "metadata": {
  "kernelspec": {
   "display_name": "Python 3 (ipykernel)",
   "language": "python",
   "name": "python3"
  },
  "language_info": {
   "codemirror_mode": {
    "name": "ipython",
    "version": 3
   },
   "file_extension": ".py",
   "mimetype": "text/x-python",
   "name": "python",
   "nbconvert_exporter": "python",
   "pygments_lexer": "ipython3",
   "version": "3.12.8"
  }
 },
 "nbformat": 4,
 "nbformat_minor": 5
}
