{
 "cells": [
  {
   "cell_type": "code",
   "execution_count": 1,
   "id": "bf9959f0-65a3-40ac-8745-117893fa74e2",
   "metadata": {},
   "outputs": [
    {
     "name": "stdout",
     "output_type": "stream",
     "text": [
      "pygame 2.6.1 (SDL 2.28.4, Python 3.12.7)\n",
      "Hello from the pygame community. https://www.pygame.org/contribute.html\n",
      "🔥 text_pretraining_data/eng_sentences_pruned-train.txt\n",
      "🔥 text_pretraining_data/eng_sentences_pruned-eval.txt\n"
     ]
    },
    {
     "data": {
      "text/plain": [
       "device(type='cuda', index=0)"
      ]
     },
     "execution_count": 1,
     "metadata": {},
     "output_type": "execute_result"
    }
   ],
   "source": [
    "from tutorialQA_framework import *\n",
    "from tutorial1_framework import *\n",
    "\n",
    "device = torch.device('cuda:0')\n",
    "device"
   ]
  },
  {
   "cell_type": "code",
   "execution_count": 2,
   "id": "7eb54b4d-c300-4520-bb49-fd2dc07f0e07",
   "metadata": {},
   "outputs": [],
   "source": [
    "from visual_transformer import *\n",
    "from visual_transformer.enhanced_model import *"
   ]
  },
  {
   "cell_type": "code",
   "execution_count": 3,
   "id": "d9f7da26-58ab-4ecc-bc6d-01b01d9cf59c",
   "metadata": {},
   "outputs": [],
   "source": [
    "# now, a few additional imports and functions which can't be saved to a file"
   ]
  },
  {
   "cell_type": "code",
   "execution_count": 4,
   "id": "9e6aaa07-9c9c-40cc-b367-6ca529a866c0",
   "metadata": {},
   "outputs": [
    {
     "data": {
      "text/plain": [
       "<matplotlib.image.AxesImage at 0x7f2633cf3620>"
      ]
     },
     "execution_count": 4,
     "metadata": {},
     "output_type": "execute_result"
    },
    {
     "data": {
      "image/png": "[encoded data removed]",
      "text/plain": [
       "<Figure size 640x480 with 1 Axes>"
      ]
     },
     "metadata": {},
     "output_type": "display_data"
    }
   ],
   "source": [
    "import matplotlib.pyplot as plt\n",
    "plt.imshow(G.getData())"
   ]
  },
  {
   "cell_type": "code",
   "execution_count": 5,
   "id": "d5f5dd66-f917-4514-92c1-3b94ea9d6514",
   "metadata": {},
   "outputs": [],
   "source": [
    "def quick_display(torch_img):\n",
    "    clean = torch_img.detach().cpu()\n",
    "    right_order = torch.permute(clean, (1, 2, 0))\n",
    "    array = right_order.numpy()\n",
    "    plt.imshow(array)"
   ]
  },
  {
   "cell_type": "code",
   "execution_count": 6,
   "id": "79ead375-0260-4552-aafc-b544b1c8e461",
   "metadata": {},
   "outputs": [],
   "source": [
    "# Ok, now let's import the representative old and new brains"
   ]
  },
  {
   "cell_type": "code",
   "execution_count": 7,
   "id": "fa6d63e4-febc-40f6-b2ad-bb011bb933cb",
   "metadata": {},
   "outputs": [
    {
     "data": {
      "text/plain": [
       "<All keys matched successfully>"
      ]
     },
     "execution_count": 7,
     "metadata": {},
     "output_type": "execute_result"
    }
   ],
   "source": [
    "old_brain = DefaultAgentBrain()\n",
    "old_brain.to(device)\n",
    "old_brain.load_state_dict(torch.load('brain_checkpoints/brain_weights_tutorialQA_v3_batch6100.pth', weights_only=True, map_location=device))"
   ]
  },
  {
   "cell_type": "code",
   "execution_count": 8,
   "id": "87217533-3f3a-4ac5-928b-b3f24a2ff577",
   "metadata": {},
   "outputs": [
    {
     "data": {
      "text/plain": [
       "<All keys matched successfully>"
      ]
     },
     "execution_count": 8,
     "metadata": {},
     "output_type": "execute_result"
    }
   ],
   "source": [
    "brain = EnhancedAgentBrain()\n",
    "brain.to(device)\n",
    "\n",
    "brain.load_state_dict(torch.load('brain_checkpoints/enhanced_brain_transferred_weights_tutorialQA.pth', weights_only=True, map_location=device))"
   ]
  },
  {
   "cell_type": "code",
   "execution_count": 9,
   "id": "e9a568b5-80cc-4c14-b15a-c1cb7d29623d",
   "metadata": {},
   "outputs": [
    {
     "data": {
      "text/plain": [
       "False"
      ]
     },
     "execution_count": 9,
     "metadata": {},
     "output_type": "execute_result"
    }
   ],
   "source": [
    "type(old_brain) is EnhancedAgentBrain"
   ]
  },
  {
   "cell_type": "code",
   "execution_count": 10,
   "id": "a6ca315c-6543-45e3-be39-46f85d7027fc",
   "metadata": {},
   "outputs": [],
   "source": [
    "# now, without any optimization loop, let's write the code for 1 round of the QA task"
   ]
  },
  {
   "cell_type": "code",
   "execution_count": 11,
   "id": "40b2f53f-4e73-4e0d-83ed-7952e93bd6f2",
   "metadata": {},
   "outputs": [],
   "source": [
    "import random\n",
    "\n",
    "num_controls = len(sdt)\n",
    "def _qa_task_batch(batch_size, model, batch_num=0, random_order = True, model_eval=True, reset_model=True, printing=True):\n",
    "    if model_eval:\n",
    "        model.eval()\n",
    "    \n",
    "    S = get_settings_batch(batch_size)\n",
    "    imgs = get_images(S)\n",
    "    \n",
    "    texts_lrg = task2_lrgold_generator_simple(S)\n",
    "    texts_udg = task2_udgold_generator_simple(S)\n",
    "    texts_lra = task2_lragent_generator_simple(S)\n",
    "    texts_uda = task2_udagent_generator_simple(S)\n",
    "\n",
    "    ind = (batch_num * batch_size) % num_controls\n",
    "    if ind + batch_size > num_controls:\n",
    "        ind = num_controls - batch_size\n",
    "    control_texts = sdt[ind:ind + batch_size].to(device)\n",
    "\n",
    "    all_texts = [control_texts, texts_lrg, texts_udg, texts_lra, texts_uda]\n",
    "    text_inds = list(range(5))\n",
    "    # new code. Shuffling helps enhanced brain not transfer information \n",
    "    # between tasks, despite not doing any resets\n",
    "    if random_order:\n",
    "        random.shuffle(text_inds)\n",
    "\n",
    "    all_probs = [0 for t_ind in text_inds]\n",
    "    # first to be computed needs to initialize context buffer\n",
    "    if type(model) is EnhancedAgentBrain:\n",
    "        all_probs[text_inds[0]] = (model(all_texts[text_inds[0]], imgs, ret_imgs=False, create_context=True))\n",
    "    else:\n",
    "        all_probs[text_inds[0]] = (model(all_texts[text_inds[0]], imgs, ret_imgs=False))\n",
    "    for t_ind in text_inds[1:]:\n",
    "        if type(model) is EnhancedAgentBrain:\n",
    "            all_probs[t_ind] = (model(all_texts[t_ind], imgs, ret_imgs=False, create_context=False))\n",
    "        else:\n",
    "            all_probs[t_ind] = (model(all_texts[t_ind], imgs, ret_imgs=False))\n",
    "    #now, all_probs, despite random execution order, has the corresponding output for every element of all_texts\n",
    "\n",
    "    all_losses = [get_text_loss(all_probs[i], all_texts[i]) for i in range(5)]\n",
    "    \n",
    "    loss = sum(all_losses)\n",
    "\n",
    "    if printing:\n",
    "        print(f\"Total loss: {loss.item()}:\\n{all_losses[0].item()} control,\\n{all_losses[1].item()} lrg,\\n{all_losses[2].item()} udg,\\n{all_losses[3].item()} lra,\\n{all_losses[4].item()} uda\\n\\n\")\n",
    "\n",
    "    if reset_model and (type(model) is EnhancedAgentBrain):\n",
    "        model.reset()\n",
    "\n",
    "    return loss # None?\n",
    "\n",
    "def qa_task_batch(batch_size, model, batch_num=0, compute_grad=False, random_order = True, model_eval=True, reset_model=True, printing=True):\n",
    "    if compute_grad:\n",
    "        return _qa_task_batch(batch_size, model, batch_num, random_order, model_eval, reset_model, printing)\n",
    "    else:\n",
    "        with torch.no_grad():\n",
    "            return _qa_task_batch(batch_size, model, batch_num, random_order, model_eval, reset_model, printing)\n",
    "            "
   ]
  },
  {
   "cell_type": "code",
   "execution_count": 12,
   "id": "67e50c92-d08e-4206-b08b-240e684f1789",
   "metadata": {},
   "outputs": [],
   "source": [
    "def _arrow_task_batch(batch_size, model, batch_num=0, random_order=True, model_eval=True, reset_model=True, printing=True):\n",
    "    if model_eval:\n",
    "        model.eval()\n",
    "\n",
    "    inp, out, task_texts = task1_img_sample(batch_size)\n",
    "    ind = (batch_num * batch_size) % num_controls\n",
    "    if ind + batch_size > num_controls:\n",
    "        ind = num_controls - batch_size\n",
    "    control_texts = sdt[ind:ind + batch_size].to(device)\n",
    "\n",
    "    flip = 0\n",
    "    if random_order:\n",
    "        flip += random.randint(0, 1)\n",
    "\n",
    "    if flip:\n",
    "        # do not need to set create_context; it's always true here, since we're return images\n",
    "        task_probs, task_recon = model(task_texts, inp, ret_imgs=True)\n",
    "        control_probs, control_recon = model(control_texts, inp, ret_imgs=True)\n",
    "    else:\n",
    "        control_probs, control_recon = model(control_texts, inp, ret_imgs=True)\n",
    "        task_probs, task_recon = model(task_texts, inp, ret_imgs=True)\n",
    "\n",
    "    l1 = img_criterion(task_recon, out)\n",
    "    l2 = img_criterion(control_recon, inp)\n",
    "    img_loss = l1 + l2 # may add coefficients later; in retrospect, no need, l1 is always much bigger anyway.\n",
    "    tl1 = get_text_loss(task_probs, task_texts)\n",
    "    tl2 = get_text_loss(control_probs, control_texts)\n",
    "    text_loss = tl1 + tl2\n",
    "    loss = img_loss + (text_loss / 5000)\n",
    "\n",
    "    if printing:\n",
    "        print(f\"Total loss: {loss.item()}; that's {l1.item()} task and {l2.item()} recon and {text_loss.item()} total text\\n\\n\")\n",
    "\n",
    "    if reset_model and (type(model) is EnhancedAgentBrain):\n",
    "        model.reset()\n",
    "\n",
    "    return loss\n",
    "\n",
    "def arrow_task_batch(batch_size, model, batch_num=0, compute_grad=False, random_order=True, model_eval=True, reset_model=True, printing=True):\n",
    "    if compute_grad:\n",
    "        return _arrow_task_batch(batch_size, model, batch_num, random_order, model_eval, reset_model, printing)\n",
    "    else:\n",
    "        with torch.no_grad():\n",
    "            return _arrow_task_batch(batch_size, model, batch_num, random_order, model_eval, reset_model, printing)\n"
   ]
  },
  {
   "cell_type": "code",
   "execution_count": 13,
   "id": "998c4ffa-aafb-43ab-b680-a01cf4bcd894",
   "metadata": {},
   "outputs": [
    {
     "name": "stderr",
     "output_type": "stream",
     "text": [
      "/home/atbolsh/anaconda3/envs/llava-florence/lib/python3.12/site-packages/torch/_tensor.py:955: UserWarning: non-inplace resize is deprecated\n",
      "  warnings.warn(\"non-inplace resize is deprecated\")\n"
     ]
    },
    {
     "name": "stdout",
     "output_type": "stream",
     "text": [
      "Total loss: 0.0024096921551972628; that's 0.001066054217517376 task and 0.0006090174429118633 recon and 3.673102378845215 total text\n",
      "\n",
      "\n"
     ]
    },
    {
     "data": {
      "text/plain": [
       "tensor(0.0024, device='cuda:0')"
      ]
     },
     "execution_count": 13,
     "metadata": {},
     "output_type": "execute_result"
    }
   ],
   "source": [
    "arrow_task_batch(64, old_brain)"
   ]
  },
  {
   "cell_type": "code",
   "execution_count": 14,
   "id": "865c9405-9302-47a9-a5cd-96c7ec823e02",
   "metadata": {},
   "outputs": [],
   "source": [
    "inp, out, task_texts = task1_img_sample(2)"
   ]
  },
  {
   "cell_type": "code",
   "execution_count": 15,
   "id": "fc9c4304-ccc5-4094-8c16-e521076e1193",
   "metadata": {},
   "outputs": [],
   "source": [
    "task_probs, task_recon = old_brain(task_texts, inp, ret_imgs=True)"
   ]
  },
  {
   "cell_type": "code",
   "execution_count": 16,
   "id": "7fe1d95d-189a-4976-ab34-97463ecb5a16",
   "metadata": {},
   "outputs": [
    {
     "data": {
      "image/png": "[encoded data removed]",
      "text/plain": [
       "<Figure size 640x480 with 1 Axes>"
      ]
     },
     "metadata": {},
     "output_type": "display_data"
    }
   ],
   "source": [
    "quick_display(inp[0])"
   ]
  },
  {
   "cell_type": "code",
   "execution_count": 17,
   "id": "6a0a0ee9-a6cc-4be8-8523-9547db70e8a6",
   "metadata": {},
   "outputs": [
    {
     "name": "stderr",
     "output_type": "stream",
     "text": [
      "Clipping input data to the valid range for imshow with RGB data ([0..1] for floats or [0..255] for integers). Got range [-0.49545124..1.1464659].\n"
     ]
    },
    {
     "data": {
      "image/png": "[encoded data removed]",
      "text/plain": [
       "<Figure size 640x480 with 1 Axes>"
      ]
     },
     "metadata": {},
     "output_type": "display_data"
    }
   ],
   "source": [
    "quick_display(task_recon[0])"
   ]
  },
  {
   "cell_type": "code",
   "execution_count": 18,
   "id": "9e68a935-8295-4ef3-bdb5-9ee9601ea09c",
   "metadata": {},
   "outputs": [],
   "source": [
    "# ok, good enough for the old brain"
   ]
  },
  {
   "cell_type": "code",
   "execution_count": 19,
   "id": "93d16b40-4685-4199-98cb-2fd7ad3e9d33",
   "metadata": {},
   "outputs": [
    {
     "name": "stdout",
     "output_type": "stream",
     "text": [
      "Total loss: 2.5382943153381348; that's 1.2615008354187012 task and 1.2730783224105835 recon and 18.575786590576172 total text\n",
      "\n",
      "\n"
     ]
    },
    {
     "data": {
      "text/plain": [
       "tensor(2.5383, device='cuda:0')"
      ]
     },
     "execution_count": 19,
     "metadata": {},
     "output_type": "execute_result"
    }
   ],
   "source": [
    "arrow_task_batch(64, brain)"
   ]
  },
  {
   "cell_type": "code",
   "execution_count": 20,
   "id": "455a8863-0ebe-4c14-8690-4786902cc33d",
   "metadata": {},
   "outputs": [
    {
     "name": "stdout",
     "output_type": "stream",
     "text": [
      "Total loss: 3.7446324825286865:\n",
      "2.5341482162475586 control,\n",
      "0.31418389081954956 lrg,\n",
      "0.32833176851272583 udg,\n",
      "0.2722221314907074 lra,\n",
      "0.29574647545814514 uda\n",
      "\n",
      "\n"
     ]
    },
    {
     "data": {
      "text/plain": [
       "tensor(3.7446, device='cuda:0')"
      ]
     },
     "execution_count": 20,
     "metadata": {},
     "output_type": "execute_result"
    }
   ],
   "source": [
    "qa_task_batch(8, old_brain)"
   ]
  },
  {
   "cell_type": "code",
   "execution_count": 23,
   "id": "fa39ce3d-c0fa-4c2f-967a-97653bd159e0",
   "metadata": {},
   "outputs": [
    {
     "name": "stdout",
     "output_type": "stream",
     "text": [
      "Total loss: 46.640846252441406:\n",
      "9.336299896240234 control,\n",
      "9.30625057220459 lrg,\n",
      "9.328795433044434 udg,\n",
      "9.348119735717773 lra,\n",
      "9.321381568908691 uda\n",
      "\n",
      "\n"
     ]
    },
    {
     "data": {
      "text/plain": [
       "tensor(46.6408, device='cuda:0')"
      ]
     },
     "execution_count": 23,
     "metadata": {},
     "output_type": "execute_result"
    }
   ],
   "source": [
    "brain.reset()\n",
    "qa_task_batch(8, brain)"
   ]
  },
  {
   "cell_type": "code",
   "execution_count": null,
   "id": "3a5b873f-7f84-4129-b098-be264774a5cd",
   "metadata": {},
   "outputs": [],
   "source": []
  }
 ],
 "metadata": {
  "kernelspec": {
   "display_name": "Python 3 (ipykernel)",
   "language": "python",
   "name": "python3"
  },
  "language_info": {
   "codemirror_mode": {
    "name": "ipython",
    "version": 3
   },
   "file_extension": ".py",
   "mimetype": "text/x-python",
   "name": "python",
   "nbconvert_exporter": "python",
   "pygments_lexer": "ipython3",
   "version": "3.12.7"
  }
 },
 "nbformat": 4,
 "nbformat_minor": 5
}
