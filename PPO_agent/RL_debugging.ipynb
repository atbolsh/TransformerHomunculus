{
 "cells": [
  {
   "cell_type": "code",
   "execution_count": 1,
   "id": "8925f21c-026a-429e-9c45-3c7b0f553627",
   "metadata": {},
   "outputs": [
    {
     "name": "stdout",
     "output_type": "stream",
     "text": [
      "pygame 2.6.1 (SDL 2.28.4, Python 3.12.7)\n",
      "Hello from the pygame community. https://www.pygame.org/contribute.html\n"
     ]
    }
   ],
   "source": [
    "from RL_helper import *"
   ]
  },
  {
   "cell_type": "code",
   "execution_count": 2,
   "id": "1aee2e89-3ca8-41b2-90b6-c1fb2f6b3490",
   "metadata": {},
   "outputs": [],
   "source": [
    "device = torch.device('cuda:0') # the 1080 by default"
   ]
  },
  {
   "cell_type": "code",
   "execution_count": 3,
   "id": "d0da5291-f57f-44e2-a1d2-e49f6361ddf1",
   "metadata": {},
   "outputs": [],
   "source": [
    "from game import *"
   ]
  },
  {
   "cell_type": "code",
   "execution_count": 4,
   "id": "70bd2b40-b497-4f6b-9748-6b70aa170438",
   "metadata": {},
   "outputs": [],
   "source": [
    "brain = DefaultAgentBrain(5).to(device) # up to token 5"
   ]
  },
  {
   "cell_type": "code",
   "execution_count": 5,
   "id": "d0484d56-d8a6-4bd0-9de2-907699c99250",
   "metadata": {},
   "outputs": [],
   "source": [
    "policy_model = brain\n",
    "value_model  = brain.evaluate_text # this is a function not a model, but it should work with code; make explicity nn network if problem"
   ]
  },
  {
   "cell_type": "code",
   "execution_count": 6,
   "id": "d083f578-7531-4b47-8a97-b69b31b865fc",
   "metadata": {},
   "outputs": [],
   "source": [
    "game_settings = BIG_tool_use_advanced_2_5\n",
    "game_settings.gameSize = 224 # for compatibility with brain's expected size\n",
    "G = discreteGame(game_settings) # kind of a waste; will only call this object to generate random versions of itself"
   ]
  },
  {
   "cell_type": "code",
   "execution_count": 7,
   "id": "748c01cc-3e05-42fa-8e89-36b9a73a87e2",
   "metadata": {},
   "outputs": [],
   "source": [
    "buff = GameOutputBuffer(policy_model, value_model, gamma=0.99, tau=0.97) # reward func is None, default_batches is 16"
   ]
  },
  {
   "cell_type": "code",
   "execution_count": 8,
   "id": "279943d5-88b3-49f5-a8d6-0313a54c71ac",
   "metadata": {},
   "outputs": [],
   "source": [
    "buff.fill(G, num_games=16) # num_games 16 by default"
   ]
  },
  {
   "cell_type": "code",
   "execution_count": 9,
   "id": "cc67a537-c896-4929-925a-afacf9c2742f",
   "metadata": {},
   "outputs": [
    {
     "data": {
      "text/plain": [
       "tensor([[0, 3, 0, 0, 2, 0, 0, 0, 0, 0, 0, 0, 0, 0, 0, 0, 0, 0, 0],\n",
       "        [0, 3, 2, 0, 0, 0, 0, 0, 0, 0, 0, 0, 0, 0, 0, 0, 0, 0, 0],\n",
       "        [0, 4, 2, 0, 0, 0, 0, 0, 0, 0, 0, 0, 0, 0, 0, 0, 0, 0, 0],\n",
       "        [0, 1, 1, 4, 1, 2, 0, 0, 0, 0, 0, 0, 0, 0, 0, 0, 0, 0, 0],\n",
       "        [0, 1, 2, 0, 0, 0, 0, 0, 0, 0, 0, 0, 0, 0, 0, 0, 0, 0, 0],\n",
       "        [0, 2, 0, 0, 0, 0, 0, 0, 0, 0, 0, 0, 0, 0, 0, 0, 0, 0, 0],\n",
       "        [0, 2, 0, 0, 0, 0, 0, 0, 0, 0, 0, 0, 0, 0, 0, 0, 0, 0, 0],\n",
       "        [0, 0, 2, 0, 0, 0, 0, 0, 0, 0, 0, 0, 0, 0, 0, 0, 0, 0, 0],\n",
       "        [0, 3, 2, 0, 0, 0, 0, 0, 0, 0, 0, 0, 0, 0, 0, 0, 0, 0, 0],\n",
       "        [0, 4, 3, 3, 3, 3, 1, 0, 3, 0, 2, 0, 0, 0, 0, 0, 0, 0, 0],\n",
       "        [0, 1, 2, 0, 0, 0, 0, 0, 0, 0, 0, 0, 0, 0, 0, 0, 0, 0, 0],\n",
       "        [0, 1, 2, 0, 0, 0, 0, 0, 0, 0, 0, 0, 0, 0, 0, 0, 0, 0, 0],\n",
       "        [0, 1, 3, 2, 0, 0, 0, 0, 0, 0, 0, 0, 0, 0, 0, 0, 0, 0, 0],\n",
       "        [0, 1, 1, 0, 2, 0, 0, 0, 0, 0, 0, 0, 0, 0, 0, 0, 0, 0, 0],\n",
       "        [0, 3, 3, 2, 0, 0, 0, 0, 0, 0, 0, 0, 0, 0, 0, 0, 0, 0, 0],\n",
       "        [0, 0, 3, 3, 1, 3, 1, 3, 3, 0, 3, 3, 0, 4, 3, 0, 0, 3, 2]],\n",
       "       device='cuda:0')"
      ]
     },
     "execution_count": 9,
     "metadata": {},
     "output_type": "execute_result"
    }
   ],
   "source": [
    "buff.traces"
   ]
  },
  {
   "cell_type": "code",
   "execution_count": 10,
   "id": "ded1ee50-9a44-4877-8b88-1077aa0df313",
   "metadata": {},
   "outputs": [
    {
     "data": {
      "text/plain": [
       "tensor([[0., 0., 0., 0., 0., 0., 0., 0., 0., 0., 0., 0., 0., 0., 0., 0., 0., 0., 0.],\n",
       "        [0., 0., 0., 0., 0., 0., 0., 0., 0., 0., 0., 0., 0., 0., 0., 0., 0., 0., 0.],\n",
       "        [0., 0., 0., 0., 0., 0., 0., 0., 0., 0., 0., 0., 0., 0., 0., 0., 0., 0., 0.],\n",
       "        [0., 0., 0., 0., 0., 0., 0., 0., 0., 0., 0., 0., 0., 0., 0., 0., 0., 0., 0.],\n",
       "        [0., 0., 0., 0., 0., 0., 0., 0., 0., 0., 0., 0., 0., 0., 0., 0., 0., 0., 0.],\n",
       "        [0., 0., 0., 0., 0., 0., 0., 0., 0., 0., 0., 0., 0., 0., 0., 0., 0., 0., 0.],\n",
       "        [0., 0., 0., 0., 0., 0., 0., 0., 0., 0., 0., 0., 0., 0., 0., 0., 0., 0., 0.],\n",
       "        [0., 0., 0., 0., 0., 0., 0., 0., 0., 0., 0., 0., 0., 0., 0., 0., 0., 0., 0.],\n",
       "        [0., 0., 0., 0., 0., 0., 0., 0., 0., 0., 0., 0., 0., 0., 0., 0., 0., 0., 0.],\n",
       "        [0., 0., 0., 0., 0., 0., 0., 0., 0., 0., 0., 0., 0., 0., 0., 0., 0., 0., 0.],\n",
       "        [0., 0., 0., 0., 0., 0., 0., 0., 0., 0., 0., 0., 0., 0., 0., 0., 0., 0., 0.],\n",
       "        [0., 0., 0., 0., 0., 0., 0., 0., 0., 0., 0., 0., 0., 0., 0., 0., 0., 0., 0.],\n",
       "        [0., 0., 0., 0., 0., 0., 0., 0., 0., 0., 0., 0., 0., 0., 0., 0., 0., 0., 0.],\n",
       "        [0., 0., 0., 0., 0., 0., 0., 0., 0., 0., 0., 0., 0., 0., 0., 0., 0., 0., 0.],\n",
       "        [0., 0., 0., 0., 0., 0., 0., 0., 0., 0., 0., 0., 0., 0., 0., 0., 0., 0., 0.],\n",
       "        [0., 0., 0., 0., 0., 0., 0., 0., 0., 0., 0., 0., 0., 0., 0., 0., 0., 0., 0.]],\n",
       "       device='cuda:0')"
      ]
     },
     "execution_count": 10,
     "metadata": {},
     "output_type": "execute_result"
    }
   ],
   "source": [
    "buff.rewards"
   ]
  },
  {
   "cell_type": "code",
   "execution_count": 11,
   "id": "2f36f3d8-aff4-4621-8ad9-4b7f3703013c",
   "metadata": {},
   "outputs": [],
   "source": [
    "sample_trace = buff.settings_buffer[1]"
   ]
  },
  {
   "cell_type": "code",
   "execution_count": 12,
   "id": "4c11f622-29ba-4b1b-9d7b-0fa1ea604dc6",
   "metadata": {},
   "outputs": [
    {
     "data": {
      "text/plain": [
       "tensor([0, 3, 2, 0, 0, 0, 0, 0, 0, 0, 0, 0, 0, 0, 0, 0, 0, 0, 0],\n",
       "       device='cuda:0')"
      ]
     },
     "execution_count": 12,
     "metadata": {},
     "output_type": "execute_result"
    }
   ],
   "source": [
    "buff.traces[1]"
   ]
  },
  {
   "cell_type": "code",
   "execution_count": 13,
   "id": "03915fba-c77f-4aea-b514-712bee43d88f",
   "metadata": {},
   "outputs": [],
   "source": [
    "import matplotlib.pyplot as plt"
   ]
  },
  {
   "cell_type": "code",
   "execution_count": 14,
   "id": "2180ede8-7551-4640-abaf-9e23bef2aa31",
   "metadata": {},
   "outputs": [],
   "source": [
    "def display_setting(S):\n",
    "    G = discreteGame(S)\n",
    "    plt.imshow(G.getData())"
   ]
  },
  {
   "cell_type": "code",
   "execution_count": 15,
   "id": "b0a14c3d-a80a-412a-8829-fa3b2e2d7d83",
   "metadata": {},
   "outputs": [
    {
     "data": {
      "image/png": "[encoded data removed]",
      "text/plain": [
       "<Figure size 640x480 with 1 Axes>"
      ]
     },
     "metadata": {},
     "output_type": "display_data"
    }
   ],
   "source": [
    "display_setting(sample_trace[0])"
   ]
  },
  {
   "cell_type": "code",
   "execution_count": 16,
   "id": "5d8bc93a-68d4-491f-9671-b730472ac99c",
   "metadata": {},
   "outputs": [
    {
     "data": {
      "text/plain": [
       "torch.Size([16, 19])"
      ]
     },
     "execution_count": 16,
     "metadata": {},
     "output_type": "execute_result"
    }
   ],
   "source": [
    "buff.traces.size()"
   ]
  },
  {
   "cell_type": "code",
   "execution_count": 17,
   "id": "ff57ecf5-6809-4582-a945-36550aec2ed9",
   "metadata": {},
   "outputs": [],
   "source": [
    "# Ok, RL_helper works\n",
    "# Maye delete this file, may keep it as a guide / tool for future debugging"
   ]
  },
  {
   "cell_type": "code",
   "execution_count": 18,
   "id": "21eba89f-d1ac-44d0-a19c-21dd486e3ab8",
   "metadata": {},
   "outputs": [
    {
     "data": {
      "text/plain": [
       "device(type='cuda', index=0)"
      ]
     },
     "execution_count": 18,
     "metadata": {},
     "output_type": "execute_result"
    }
   ],
   "source": [
    "brain.get_device()"
   ]
  },
  {
   "cell_type": "code",
   "execution_count": 19,
   "id": "6f07b263-b677-4360-9766-648176d4719f",
   "metadata": {},
   "outputs": [],
   "source": [
    "logpas, entropies = buff.get_probabilities_and_entropies()"
   ]
  },
  {
   "cell_type": "code",
   "execution_count": 21,
   "id": "8b9e34d4-7b38-494c-8fba-c68b180ef4fb",
   "metadata": {},
   "outputs": [],
   "source": [
    "# Ok then, It looks like evaluation mode will be challenging with lots of image inputs, at least on the 1080\n",
    "# There are several workarounds. Adding options to turn off the gradient to the images and limit the batches and actions computed\n",
    "#\n",
    "# UPDATE: allowing the gradient not to propagate to the images seems to have entirely fixed this issue, as I suspected.\n",
    "#         If I ever need to propagate it there, I have also added the capability to limit the batches and actions at this stage.\n",
    "#         This will allow for splitting a buffer into multiple batches for training intentions"
   ]
  },
  {
   "cell_type": "code",
   "execution_count": null,
   "id": "1a4b5e21-e872-43eb-8ed0-41b72326a2c8",
   "metadata": {},
   "outputs": [],
   "source": []
  }
 ],
 "metadata": {
  "kernelspec": {
   "display_name": "Python 3 (ipykernel)",
   "language": "python",
   "name": "python3"
  },
  "language_info": {
   "codemirror_mode": {
    "name": "ipython",
    "version": 3
   },
   "file_extension": ".py",
   "mimetype": "text/x-python",
   "name": "python",
   "nbconvert_exporter": "python",
   "pygments_lexer": "ipython3",
   "version": "3.12.7"
  }
 },
 "nbformat": 4,
 "nbformat_minor": 5
}
