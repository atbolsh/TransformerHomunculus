{
 "cells": [
  {
   "cell_type": "code",
   "execution_count": 1,
   "id": "8a1022d9-71dc-4bb6-9a6f-ca469cb9e4eb",
   "metadata": {},
   "outputs": [
    {
     "name": "stdout",
     "output_type": "stream",
     "text": [
      "pygame 2.6.1 (SDL 2.28.4, Python 3.12.7)\n",
      "Hello from the pygame community. https://www.pygame.org/contribute.html\n"
     ]
    }
   ],
   "source": [
    "from game import *"
   ]
  },
  {
   "cell_type": "code",
   "execution_count": 2,
   "id": "ae2a046d-31aa-469a-ba2a-8f56772186c9",
   "metadata": {},
   "outputs": [],
   "source": [
    "from RL_helper import symbol_action_map"
   ]
  },
  {
   "cell_type": "code",
   "execution_count": 3,
   "id": "6b3adc2f-dd9f-455a-8877-f25c8b94dbd6",
   "metadata": {},
   "outputs": [],
   "source": [
    "game_settings = BIG_tool_use_advanced_2_5\n",
    "game_settings.gameSize = 224 # for compatibility with brain's expected size\n",
    "G = discreteGame(game_settings) # kind of a waste; will only call this object to generate random versions of itself"
   ]
  },
  {
   "cell_type": "code",
   "execution_count": 4,
   "id": "31458cb4-af41-42b3-8b8f-349fcec35154",
   "metadata": {},
   "outputs": [],
   "source": [
    "G2 = discreteGame(G.random_bare_settings(gameSize=224, max_agent_offset=0.5))"
   ]
  },
  {
   "cell_type": "code",
   "execution_count": 5,
   "id": "3e38b3dc-1119-4d56-a377-9e945abd6834",
   "metadata": {},
   "outputs": [],
   "source": [
    "import matplotlib.pyplot as plt"
   ]
  },
  {
   "cell_type": "code",
   "execution_count": 6,
   "id": "f4e8a3d0-e1eb-4245-8de5-c537e1ab479e",
   "metadata": {},
   "outputs": [
    {
     "data": {
      "text/plain": [
       "<matplotlib.image.AxesImage at 0x7f3d03e5a510>"
      ]
     },
     "execution_count": 6,
     "metadata": {},
     "output_type": "execute_result"
    },
    {
     "data": {
      "image/png": "[encoded data removed]",
      "text/plain": [
       "<Figure size 640x480 with 1 Axes>"
      ]
     },
     "metadata": {},
     "output_type": "display_data"
    }
   ],
   "source": [
    "plt.imshow(G2.getData())"
   ]
  },
  {
   "cell_type": "code",
   "execution_count": 7,
   "id": "d5d13605-9cab-48be-a1d1-83635ef08346",
   "metadata": {},
   "outputs": [],
   "source": [
    "from RL_helper import *"
   ]
  },
  {
   "cell_type": "code",
   "execution_count": 8,
   "id": "2fcf5d9a-2c46-435c-aaf6-43d27a807b9f",
   "metadata": {},
   "outputs": [],
   "source": [
    "from visual_transformer import *\n",
    "device = torch.device('cuda:0')"
   ]
  },
  {
   "cell_type": "code",
   "execution_count": 9,
   "id": "e650ffaf-79e2-4e63-889f-3de12c497a9b",
   "metadata": {},
   "outputs": [],
   "source": [
    "def quick_display(torch_img):\n",
    "    clean = torch_img.detach().cpu()\n",
    "    right_order = torch.permute(clean, (1, 2, 0))\n",
    "    array = right_order.numpy()\n",
    "    plt.imshow(array)"
   ]
  },
  {
   "cell_type": "code",
   "execution_count": 10,
   "id": "d1337c6f-217f-4936-90e2-e433110a1fa6",
   "metadata": {},
   "outputs": [
    {
     "data": {
      "text/plain": [
       "{1: 1, 2: 2, 3: 3, 4: 4}"
      ]
     },
     "execution_count": 10,
     "metadata": {},
     "output_type": "execute_result"
    }
   ],
   "source": [
    "symbol_action_map = {1: 1, 2: 2, 3: 3, 4: 4}\n",
    "symbol_action_map"
   ]
  },
  {
   "cell_type": "code",
   "execution_count": 11,
   "id": "1f12e2e1-b05b-4cd1-8107-cf0beee98c5d",
   "metadata": {},
   "outputs": [],
   "source": [
    "from RL_logic_solver import * # convenient way to get fake, logical traces"
   ]
  },
  {
   "cell_type": "code",
   "execution_count": 22,
   "id": "ebb7eb72-4575-464b-a7e6-0ef433e5f0b5",
   "metadata": {},
   "outputs": [],
   "source": [
    "def get_bb(num_buffers=64, batch_size=1, start_with_guide=True):\n",
    "    bb = []\n",
    "    brain.eval()\n",
    "    for i in range(num_buffers):\n",
    "        print(i)\n",
    "        # In this case, we are only training the 'dopamine' layer on the val training loop\n",
    "        buff = GameOutputBuffer(brain, brain.evaluate_text, gamma=0.99, tau=0.97, default_batch_size=batch_size)\n",
    "        if start_with_guide and (i == 0):\n",
    "            fake_data_fill(buff, G, batch_size, device=device) # This one guide is the only difference between this and the main one.\n",
    "        else:\n",
    "            buff.fill(G, num_games=batch_size)\n",
    "        buff.cpu()\n",
    "        bb.append(buff)\n",
    "        #print(buff.traces)\n",
    "    return bb"
   ]
  },
  {
   "cell_type": "code",
   "execution_count": 13,
   "id": "737568ca-7427-45d9-86f2-20d2e66086be",
   "metadata": {},
   "outputs": [],
   "source": [
    "brain = DefaultAgentBrain().to(device) # this is for fake_traces; for others, include the output size of only 5"
   ]
  },
  {
   "cell_type": "code",
   "execution_count": 14,
   "id": "f1542b42-fd6f-4785-975d-73dac246deb4",
   "metadata": {},
   "outputs": [
    {
     "data": {
      "text/plain": [
       "<All keys matched successfully>"
      ]
     },
     "execution_count": 14,
     "metadata": {},
     "output_type": "execute_result"
    }
   ],
   "source": [
    "brain.load_state_dict(torch.load('brain_checkpoints/brain_weights_RL_fake_traces_v1_batch6200.pth', weights_only=True, map_location=device))"
   ]
  },
  {
   "cell_type": "code",
   "execution_count": 15,
   "id": "5816e426-0047-43fa-9369-68cd793b5d5e",
   "metadata": {},
   "outputs": [
    {
     "name": "stdout",
     "output_type": "stream",
     "text": [
      "0\n",
      "1\n",
      "2\n",
      "3\n",
      "4\n",
      "5\n",
      "6\n",
      "7\n",
      "8\n",
      "9\n",
      "10\n",
      "11\n",
      "12\n",
      "13\n",
      "14\n",
      "15\n",
      "16\n",
      "17\n",
      "18\n",
      "19\n",
      "20\n",
      "21\n",
      "22\n",
      "23\n",
      "24\n",
      "25\n",
      "26\n",
      "27\n",
      "28\n",
      "29\n",
      "30\n",
      "31\n",
      "32\n",
      "33\n",
      "34\n",
      "35\n",
      "36\n",
      "37\n",
      "38\n",
      "39\n",
      "40\n",
      "41\n",
      "42\n",
      "43\n",
      "44\n",
      "45\n",
      "46\n",
      "47\n",
      "48\n",
      "49\n",
      "50\n",
      "51\n",
      "52\n",
      "53\n",
      "54\n",
      "55\n",
      "56\n",
      "57\n",
      "58\n",
      "59\n",
      "60\n",
      "61\n",
      "62\n",
      "63\n"
     ]
    }
   ],
   "source": [
    "brain.eval()\n",
    "bb = get_bb()"
   ]
  },
  {
   "cell_type": "code",
   "execution_count": 18,
   "id": "0b6b6268-64a4-49a0-9cda-8dec3884e9ba",
   "metadata": {},
   "outputs": [],
   "source": [
    "def average_return(bb):\n",
    "    \"\"\"The average return (at the end of the seeds alone) from a buffer-buffer\"\"\"\n",
    "    s = torch.zeros(bb[0].returns[:, 0].size())#, device = bb[0].returns[:, 0].device)\n",
    "    for b in bb:\n",
    "        #b.to(device)\n",
    "        s += b.returns[:, 0]\n",
    "    return torch.sum(s).item()/(len(bb) * bb[0].returns.size()[0])"
   ]
  },
  {
   "cell_type": "code",
   "execution_count": 23,
   "id": "18803565-6f20-447b-9ff9-b51a0853a9a1",
   "metadata": {},
   "outputs": [
    {
     "data": {
      "text/plain": [
       "0.014563522301614285"
      ]
     },
     "execution_count": 23,
     "metadata": {},
     "output_type": "execute_result"
    }
   ],
   "source": [
    "bb[0].cpu()\n",
    "average_return(bb)"
   ]
  },
  {
   "cell_type": "code",
   "execution_count": 27,
   "id": "b2e9a844-c2f9-485b-8ea8-a1b7ca8e95e9",
   "metadata": {},
   "outputs": [
    {
     "data": {
      "text/plain": [
       "tensor([[   0, 1505,  443, 1833,  280, 1833,  371,  832,   16,  400,  307, 1384,\n",
       "           18, 1360,   18,  564,  296, 1062,  317,   18, 5854,  286, 2498,  271,\n",
       "         7648, 1177,   17, 2292,   18,   18,    2]])"
      ]
     },
     "execution_count": 27,
     "metadata": {},
     "output_type": "execute_result"
    }
   ],
   "source": [
    "bb[1].traces"
   ]
  },
  {
   "cell_type": "code",
   "execution_count": 28,
   "id": "5c2f016c-c4ca-493d-8ae7-6be42af4ea9d",
   "metadata": {},
   "outputs": [
    {
     "data": {
      "text/plain": [
       "tensor([[0., 0., 0., 0., 0., 0., 0., 0., 0., 0., 0., 0., 0., 0., 0., 0., 0., 0., 0., 0., 0., 0., 0., 0.,\n",
       "         0., 0., 0., 0., 0., 0., 0.]])"
      ]
     },
     "execution_count": 28,
     "metadata": {},
     "output_type": "execute_result"
    }
   ],
   "source": [
    "bb[1].rewards"
   ]
  },
  {
   "cell_type": "code",
   "execution_count": 29,
   "id": "66c7f3e4-5fdd-4db0-8839-237021674565",
   "metadata": {},
   "outputs": [
    {
     "data": {
      "text/plain": [
       "tensor([[0., 0., 0., 0., 0., 0., 0., 0., 0., 0., 0., 0., 0., 0., 0., 0., 0., 0., 0., 0., 0., 0., 0., 0.,\n",
       "         0., 0., 0., 0., 0., 0., 0.]])"
      ]
     },
     "execution_count": 29,
     "metadata": {},
     "output_type": "execute_result"
    }
   ],
   "source": [
    "bb[1].returns"
   ]
  },
  {
   "cell_type": "code",
   "execution_count": 34,
   "id": "3b9302fc-1405-48ae-ba34-1eda1d4805aa",
   "metadata": {},
   "outputs": [
    {
     "name": "stdout",
     "output_type": "stream",
     "text": [
      "tensor(6.4983e-06, device='cuda:0', grad_fn=<RsubBackward1>)\n"
     ]
    },
    {
     "data": {
      "text/plain": [
       "<RL_helper.GameOutputBuffer at 0x7f3d03b1e780>"
      ]
     },
     "execution_count": 34,
     "metadata": {},
     "output_type": "execute_result"
    }
   ],
   "source": [
    "buff = bb[0]\n",
    "buff.to(device)\n",
    "logpas, _ = buff.get_probabilities_and_entropies()\n",
    "task_loss = 0 - torch.sum(logpas) / 1000\n",
    "print(task_loss)\n",
    "buff.cpu()"
   ]
  },
  {
   "cell_type": "code",
   "execution_count": 35,
   "id": "28d9912d-e548-462f-92e9-f1778ba26c0c",
   "metadata": {},
   "outputs": [
    {
     "data": {
      "text/plain": [
       "tensor([[-7.6294e-06, -7.2479e-05, -2.0981e-05, -7.6294e-06, -3.8147e-06,\n",
       "         -1.9073e-06, -6.3839e-03, -0.0000e+00, -0.0000e+00, -0.0000e+00,\n",
       "         -0.0000e+00, -0.0000e+00, -0.0000e+00, -0.0000e+00, -0.0000e+00,\n",
       "         -0.0000e+00, -0.0000e+00, -0.0000e+00, -0.0000e+00, -0.0000e+00,\n",
       "         -0.0000e+00, -0.0000e+00, -0.0000e+00, -0.0000e+00, -0.0000e+00,\n",
       "         -0.0000e+00, -0.0000e+00, -0.0000e+00, -0.0000e+00, -0.0000e+00,\n",
       "         -0.0000e+00]], device='cuda:0', grad_fn=<CopySlices>)"
      ]
     },
     "execution_count": 35,
     "metadata": {},
     "output_type": "execute_result"
    }
   ],
   "source": [
    "logpas"
   ]
  },
  {
   "cell_type": "code",
   "execution_count": 36,
   "id": "5c5528fb-555e-4928-ac33-52f0ae1a03f6",
   "metadata": {},
   "outputs": [],
   "source": [
    "# Ok, so it did learn something\n",
    "# Something is going wrong with how I compute the probabilities / what each number means.\n",
    "# Debugging fake_traces may have the highes yield; it'll help with all other techniques."
   ]
  },
  {
   "cell_type": "code",
   "execution_count": null,
   "id": "2c04fedc-5cfa-42f9-8dd2-c0065a520733",
   "metadata": {},
   "outputs": [],
   "source": []
  },
  {
   "cell_type": "code",
   "execution_count": null,
   "id": "79dcf22d-845b-4674-9603-16e64774351a",
   "metadata": {},
   "outputs": [],
   "source": []
  },
  {
   "cell_type": "code",
   "execution_count": null,
   "id": "cf03cb2d-79ce-4e47-a37d-84f04aab0348",
   "metadata": {},
   "outputs": [],
   "source": []
  },
  {
   "cell_type": "code",
   "execution_count": null,
   "id": "e611f891-169d-4987-9df1-a7188ad309b5",
   "metadata": {},
   "outputs": [],
   "source": [
    "# Great, so really, nothing was learned"
   ]
  },
  {
   "cell_type": "code",
   "execution_count": null,
   "id": "06d0554d-1ff5-46c0-9ab1-a960c2cfa683",
   "metadata": {},
   "outputs": [],
   "source": [
    "# In the future, this notebook will include more code, to display the game from settings, walk through execution, etc.\n",
    "# Right now, however, there is no need. Not interesting."
   ]
  },
  {
   "cell_type": "code",
   "execution_count": null,
   "id": "a80f7385-df07-4cff-9d87-f7cd28540a50",
   "metadata": {},
   "outputs": [],
   "source": []
  }
 ],
 "metadata": {
  "kernelspec": {
   "display_name": "Python 3 (ipykernel)",
   "language": "python",
   "name": "python3"
  },
  "language_info": {
   "codemirror_mode": {
    "name": "ipython",
    "version": 3
   },
   "file_extension": ".py",
   "mimetype": "text/x-python",
   "name": "python",
   "nbconvert_exporter": "python",
   "pygments_lexer": "ipython3",
   "version": "3.12.7"
  }
 },
 "nbformat": 4,
 "nbformat_minor": 5
}
