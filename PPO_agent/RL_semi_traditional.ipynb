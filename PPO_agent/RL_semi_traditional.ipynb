{
 "cells": [
  {
   "cell_type": "code",
   "execution_count": 1,
   "id": "78bdbd20-2df8-46c3-8500-c5f74ffeaf99",
   "metadata": {},
   "outputs": [],
   "source": [
    "# I will only use a 'fake' brain for this one, only results are actions 0 - 4\n",
    "# This means I will start with an untrained text_dec and text_enc (though I will steal the img_enc from the old brain)\n",
    "# If this proves too hard, I will start with an easier task\n",
    "\n",
    "# This notebook will attempt actual PPO as a test study.\n",
    "# If I want this for the actual system, I may use a 'burn-in' phase which includes making the relevant actions have non-negligible probability,\n",
    "# and THEN launching the PPO"
   ]
  },
  {
   "cell_type": "code",
   "execution_count": 2,
   "id": "04dcd88c-587c-4125-9ef4-c40cb39941b3",
   "metadata": {},
   "outputs": [
    {
     "name": "stdout",
     "output_type": "stream",
     "text": [
      "pygame 2.6.1 (SDL 2.28.4, Python 3.12.8)\n",
      "Hello from the pygame community. https://www.pygame.org/contribute.html\n"
     ]
    }
   ],
   "source": [
    "from game import *"
   ]
  },
  {
   "cell_type": "code",
   "execution_count": 3,
   "id": "db869825-5953-4bce-9dfa-e48f004a71aa",
   "metadata": {},
   "outputs": [],
   "source": [
    "game_settings = BIG_tool_use_advanced_2_5\n",
    "game_settings.gameSize = 224 # for compatibility with brain's expected size\n",
    "G = discreteGame(game_settings) # kind of a waste; will only call this object to generate random versions of itself"
   ]
  },
  {
   "cell_type": "code",
   "execution_count": 4,
   "id": "99a3dafb-614a-48bf-8c99-e188d28a581d",
   "metadata": {},
   "outputs": [
    {
     "data": {
      "text/plain": [
       "<matplotlib.image.AxesImage at 0x7fde3ac1b710>"
      ]
     },
     "execution_count": 4,
     "metadata": {},
     "output_type": "execute_result"
    },
    {
     "data": {
      "image/png": "[encoded data removed]",
      "text/plain": [
       "<Figure size 640x480 with 1 Axes>"
      ]
     },
     "metadata": {},
     "output_type": "display_data"
    }
   ],
   "source": [
    "import matplotlib.pyplot as plt\n",
    "plt.imshow(G.getData())"
   ]
  },
  {
   "cell_type": "code",
   "execution_count": 5,
   "id": "badc0e2d-1831-4d10-8b8f-e785a8701270",
   "metadata": {},
   "outputs": [],
   "source": [
    "from RL_helper import *"
   ]
  },
  {
   "cell_type": "code",
   "execution_count": 6,
   "id": "051aec13-5b41-47d2-8309-38aa36c66169",
   "metadata": {},
   "outputs": [],
   "source": [
    "from visual_transformer import *\n",
    "device = torch.device('cuda:1') # doing this on the P40"
   ]
  },
  {
   "cell_type": "code",
   "execution_count": 7,
   "id": "c144f17f-4ae9-488d-9778-bf15ec9d65ad",
   "metadata": {},
   "outputs": [],
   "source": [
    "def quick_display(torch_img):\n",
    "    clean = torch_img.detach().cpu()\n",
    "    right_order = torch.permute(clean, (1, 2, 0))\n",
    "    array = right_order.numpy()\n",
    "    plt.imshow(array)"
   ]
  },
  {
   "cell_type": "code",
   "execution_count": 8,
   "id": "cb391465-6429-46a9-a79b-f252aba5e1ab",
   "metadata": {},
   "outputs": [],
   "source": [
    "# Ok, on to RL-specifics things"
   ]
  },
  {
   "cell_type": "code",
   "execution_count": 9,
   "id": "28ff9d55-3cc1-4838-951a-b2fc26876c44",
   "metadata": {},
   "outputs": [
    {
     "data": {
      "text/plain": [
       "{1: 1, 3: 3, 4: 4, 108: 2}"
      ]
     },
     "execution_count": 9,
     "metadata": {},
     "output_type": "execute_result"
    }
   ],
   "source": [
    "symbol_action_map"
   ]
  },
  {
   "cell_type": "code",
   "execution_count": 10,
   "id": "9150c21e-fed3-4841-9e2d-44ee984c050c",
   "metadata": {},
   "outputs": [],
   "source": [
    "# THis work for the full brain, but I am rewriting this for this experiment"
   ]
  },
  {
   "cell_type": "code",
   "execution_count": 11,
   "id": "96a01b64-bd36-4d75-a3c9-c5c29e39a977",
   "metadata": {},
   "outputs": [
    {
     "data": {
      "text/plain": [
       "{1: 1, 2: 2, 3: 3, 4: 4}"
      ]
     },
     "execution_count": 11,
     "metadata": {},
     "output_type": "execute_result"
    }
   ],
   "source": [
    "symbol_action_map = {1: 1, 2: 2, 3: 3, 4: 4}\n",
    "symbol_action_map"
   ]
  },
  {
   "cell_type": "code",
   "execution_count": 12,
   "id": "ca831ae8-3366-414d-8116-2821dd04be76",
   "metadata": {},
   "outputs": [],
   "source": [
    "# Next, I need to set up the brain itself\n",
    "old_brain = DefaultAgentBrain()\n",
    "old_brain.load_state_dict(torch.load('brain_checkpoints/brain_weights_tutorial1_v3_batch95000.pth', weights_only=True, map_location='cpu'))\n",
    "\n",
    "brain = DefaultAgentBrain(5)\n",
    "brain.img_enc = old_brain.img_enc\n",
    "brain.img_dec = old_brain.img_dec\n",
    "brain = brain.to(device)"
   ]
  },
  {
   "cell_type": "code",
   "execution_count": 13,
   "id": "a400a2b1-1dfb-40e1-aba2-7ed54568b960",
   "metadata": {},
   "outputs": [],
   "source": [
    "# I'm starting to regret feeding the traces in at all\n",
    "# I should really just have a single 'prompt' like \"what is the best action here?\"\n",
    "# However, I don't feel like rewriting RL_helper just for this experiment, so this is what we are dealing with.\n",
    "# Hopefully PPO will still work."
   ]
  },
  {
   "cell_type": "code",
   "execution_count": 14,
   "id": "b1989aec-7459-4a2a-ac5d-862100324d56",
   "metadata": {},
   "outputs": [],
   "source": [
    "#buff = GameOutputBuffer(brain, brain.evaluate_text, gamma=0.99, tau=0.97, default_batch_size=8)"
   ]
  },
  {
   "cell_type": "code",
   "execution_count": 15,
   "id": "7077869c-4af8-485d-af11-d421049c61d8",
   "metadata": {},
   "outputs": [],
   "source": [
    "#buff.get_device()"
   ]
  },
  {
   "cell_type": "code",
   "execution_count": 16,
   "id": "70c35e56-8081-4ea5-998e-177530ecd7e0",
   "metadata": {},
   "outputs": [],
   "source": [
    "#buff.fill(G)"
   ]
  },
  {
   "cell_type": "code",
   "execution_count": 17,
   "id": "05b2269d-a6fb-45a8-870c-65504a7b3aeb",
   "metadata": {},
   "outputs": [],
   "source": [
    "#buff.__dict__"
   ]
  },
  {
   "cell_type": "code",
   "execution_count": 18,
   "id": "a30fb665-263d-4f05-8542-d0e5718150df",
   "metadata": {},
   "outputs": [],
   "source": [
    "#buff = buff.to('cpu')"
   ]
  },
  {
   "cell_type": "code",
   "execution_count": 19,
   "id": "0f030f73-f8c3-4574-a432-46a87821b96e",
   "metadata": {},
   "outputs": [],
   "source": [
    "#buff.__dict__"
   ]
  },
  {
   "cell_type": "code",
   "execution_count": null,
   "id": "d530b7e7-ef3c-4285-a3ec-ef0ee902d4e4",
   "metadata": {},
   "outputs": [],
   "source": []
  },
  {
   "cell_type": "code",
   "execution_count": 20,
   "id": "25cd4c22-6024-4a73-9423-c93fef18cf9d",
   "metadata": {},
   "outputs": [],
   "source": [
    "from RL_logic_solver import * # convenient way to get fake, logical traces"
   ]
  },
  {
   "cell_type": "code",
   "execution_count": 21,
   "id": "60190e2b-64dc-43ae-a9af-adc424f5be6f",
   "metadata": {},
   "outputs": [],
   "source": [
    "def get_bb(num_buffers=64, batch_size=1, start_with_guide=True):\n",
    "    bb = []\n",
    "    brain.eval()\n",
    "    for i in range(num_buffers):\n",
    "        #print(i)\n",
    "        # In this case, we are only training the 'dopamine' layer on the val training loop\n",
    "        buff = GameOutputBuffer(brain, brain.evaluate_text, gamma=0.99, tau=0.97, default_batch_size=batch_size)\n",
    "        if start_with_guide and (i == 0):\n",
    "            fake_data_fill(buff, G, batch_size, device=device) # This one guide is the only difference between this and the main one.\n",
    "        else:\n",
    "            buff.fill(G, num_games=batch_size)\n",
    "            buff.cpu()\n",
    "        bb.append(buff)\n",
    "        #print(buff.traces)\n",
    "    return bb"
   ]
  },
  {
   "cell_type": "code",
   "execution_count": 22,
   "id": "cfe40924-ceb7-42ae-9692-5233a562b6f9",
   "metadata": {},
   "outputs": [],
   "source": [
    "#buff = GameOutputBuffer(brain, brain.evaluate_text, gamma=0.99, tau=0.97, default_batch_size=1)"
   ]
  },
  {
   "cell_type": "code",
   "execution_count": 23,
   "id": "252ae66c-03fd-4706-8a01-49b2ba4e9608",
   "metadata": {},
   "outputs": [],
   "source": [
    "#fake_data_fill(buff, G, 1, device=device)"
   ]
  },
  {
   "cell_type": "code",
   "execution_count": 24,
   "id": "c8badc53-f670-422a-979c-8077a6d78abc",
   "metadata": {},
   "outputs": [],
   "source": [
    "#buff.traces"
   ]
  },
  {
   "cell_type": "code",
   "execution_count": 25,
   "id": "74ed062b-ac7e-4be9-8e07-a44b4962c1b3",
   "metadata": {},
   "outputs": [],
   "source": [
    "#buff.gaes"
   ]
  },
  {
   "cell_type": "code",
   "execution_count": 26,
   "id": "236ed0cb-59d1-4d1a-a32a-58e2012832cf",
   "metadata": {},
   "outputs": [],
   "source": [
    "#buff.values"
   ]
  },
  {
   "cell_type": "code",
   "execution_count": 27,
   "id": "0536c9f1-6b15-4009-81e3-576e6bd5be6c",
   "metadata": {},
   "outputs": [],
   "source": [
    "#bb = get_bb(64, 8)"
   ]
  },
  {
   "cell_type": "code",
   "execution_count": 28,
   "id": "64870770-3cb7-4da1-82f0-377579ad93fe",
   "metadata": {},
   "outputs": [],
   "source": [
    "#bb[0].traces"
   ]
  },
  {
   "cell_type": "code",
   "execution_count": 29,
   "id": "0b066648-6d8a-42f7-8ca7-d0dd470ad8f5",
   "metadata": {},
   "outputs": [],
   "source": [
    "mse_loss = nn.MSELoss()"
   ]
  },
  {
   "cell_type": "code",
   "execution_count": 30,
   "id": "ce7dffba-e45d-4850-81a3-f68312d06fef",
   "metadata": {},
   "outputs": [],
   "source": [
    "# Only training the dopamine module here; img_enc is frozen, and hopefully it'll learn to largely ignore text_enc\n",
    "val_optimizer = optim.Adam(brain.dopamine.parameters(), lr=0.00001, eps=1e-9)\n",
    "val_epochs = 16 #16 # old is 80, but that's only sampling a few per turn; we're gonna go through the whole buffer-buffer"
   ]
  },
  {
   "cell_type": "code",
   "execution_count": 31,
   "id": "ad8b3cc7-8ed6-4a3f-a39c-125ee48121e3",
   "metadata": {},
   "outputs": [
    {
     "data": {
      "text/plain": [
       "0.0"
      ]
     },
     "execution_count": 31,
     "metadata": {},
     "output_type": "execute_result"
    }
   ],
   "source": [
    "torch.cuda.memory_allocated() / (1024 ** 3)"
   ]
  },
  {
   "cell_type": "code",
   "execution_count": 32,
   "id": "8416fcc7-20a5-44e2-ab9f-73847c06f16a",
   "metadata": {},
   "outputs": [],
   "source": [
    "def nvidia_smi_spoof(device=device):\n",
    "    return torch.cuda.memory_allocated() / (1024 ** 3)"
   ]
  },
  {
   "cell_type": "code",
   "execution_count": 33,
   "id": "f5fd7889-cd61-4fd4-b050-39ad5fb83452",
   "metadata": {},
   "outputs": [],
   "source": [
    "import random\n",
    "def train_val_func(val_optimizer, epochs, buffer_buffer):\n",
    "    for epoch in range(epochs):\n",
    "        print(f\"==========Epoch {epoch}=====================\")\n",
    "        #print(nvidia_smi_spoof())\n",
    "        brain.train()\n",
    "        #print(nvidia_smi_spoof())\n",
    "        train_loss = 0\n",
    "        random.shuffle(buffer_buffer)\n",
    "        i = 0\n",
    "        for buffer in buffer_buffer:\n",
    "            i += 1\n",
    "            #print(nvidia_smi_spoof())\n",
    "            buffer.to(device)\n",
    "            #print(nvidia_smi_spoof())\n",
    "            val_optimizer.zero_grad()\n",
    "            #print(nvidia_smi_spoof())\n",
    "            # call value func with dopamine gradients (and no others)\n",
    "            new_vals = buffer.get_values(evaluation = False, img_gradient = False, text_gradient = False)\n",
    "            #print(nvidia_smi_spoof())\n",
    "            loss = mse_loss(new_vals, buffer.returns)\n",
    "            #print(nvidia_smi_spoof())\n",
    "            loss.backward()\n",
    "            #print(nvidia_smi_spoof())\n",
    "            val_optimizer.step()\n",
    "            #print(nvidia_smi_spoof())\n",
    "            train_loss += loss.item()\n",
    "            #print(nvidia_smi_spoof())\n",
    "            print(f\"episode {i}, val func loss {loss.item()}\\n\")\n",
    "            #print(nvidia_smi_spoof())\n",
    "            buffer.cpu()\n",
    "            #print(nvidia_smi_spoof())\n",
    "        val_optimizer.zero_grad()\n",
    "        #print(nvidia_smi_spoof())\n",
    "        print(f\"Val func train loss in epoch {epoch}:{train_loss / (len(buffer_buffer))}\")\n",
    "#train_val_func(val_optimizer, val_epochs, buffer_buffer)"
   ]
  },
  {
   "cell_type": "code",
   "execution_count": 34,
   "id": "854f5b40-eae7-42be-886a-c1c55e5f2174",
   "metadata": {},
   "outputs": [],
   "source": [
    "#train_val_func(val_optimizer, 1, bb)"
   ]
  },
  {
   "cell_type": "code",
   "execution_count": 35,
   "id": "05e7ea1d-b436-409a-bcda-7846d97c0d43",
   "metadata": {},
   "outputs": [],
   "source": [
    "# let's recalculate gaes after burn-in, to get any progress on the policy network at all\n",
    "def restore_coherence(buffer_buffer):\n",
    "    for buffer in buffer_buffer:\n",
    "        buffer=buffer.cuda()\n",
    "        buffer.values = buffer.get_values() # retrained val func\n",
    "        buffer.gaes = buffer.get_gaes()\n",
    "        buffer = buffer.cpu()\n",
    "    return buffer_buffer\n",
    "#buffer_buffer = restore_coherence(buffer_buffer)"
   ]
  },
  {
   "cell_type": "code",
   "execution_count": 36,
   "id": "d007dd1f-fb0f-4e73-a4c1-7a4cb4f61e98",
   "metadata": {},
   "outputs": [],
   "source": [
    "policy_optimizer = optim.Adam(list(brain.text_enc.parameters()) + list(brain.text_dec.parameters()), lr=0.00001, eps=1e-9)\n",
    "policy_epochs = 4\n",
    "epochs = policy_epochs"
   ]
  },
  {
   "cell_type": "code",
   "execution_count": 37,
   "id": "3f45ac1a-261b-4980-b4a7-030345cbf99d",
   "metadata": {},
   "outputs": [],
   "source": [
    "def train_policy(policy_optimizer, epochs, buffer_buffer, policy_clip_range=0.1, entropy_loss_weight=0.01):\n",
    "    for epoch in range(epochs):\n",
    "        print(f\"==========Epoch {epoch}=====================\")\n",
    "        #print(nvidia_smi_spoof())\n",
    "        brain.train()\n",
    "        #print(nvidia_smi_spoof())\n",
    "        train_loss = 0\n",
    "        random.shuffle(buffer_buffer)\n",
    "        i = 0\n",
    "        for buffer in buffer_buffer:\n",
    "            i += 1\n",
    "            buffer.to(device)\n",
    "            #print(nvidia_smi_spoof())\n",
    "            policy_optimizer.zero_grad()\n",
    "            #print(nvidia_smi_spoof())\n",
    "            logpas, entropies = buffer.get_probabilities_and_entropies(evaluation=False)\n",
    "            #print(nvidia_smi_spoof())\n",
    "            ratios = (logpas - buffer.logpas).exp()\n",
    "            #print(nvidia_smi_spoof())\n",
    "            pi_obj = buffer.gaes * ratios\n",
    "            #print(nvidia_smi_spoof())\n",
    "            pi_obj_clipped = buffer.gaes * ratios.clamp(1.0 - policy_clip_range,\n",
    "                                                       1.0 + policy_clip_range)\n",
    "            #print(nvidia_smi_spoof())\n",
    "            policy_loss = -torch.min(pi_obj, pi_obj_clipped).mean()\n",
    "            #print(nvidia_smi_spoof())\n",
    "            entropy_loss = -entropies.mean() * entropy_loss_weight\n",
    "            #print(nvidia_smi_spoof())\n",
    "            loss = policy_loss + entropy_loss\n",
    "            #print(nvidia_smi_spoof())\n",
    "            loss.backward()\n",
    "            #print(nvidia_smi_spoof())\n",
    "            policy_optimizer.step()\n",
    "            #print(nvidia_smi_spoof())\n",
    "            train_loss += loss.item()\n",
    "            #print(nvidia_smi_spoof())\n",
    "            buffer.cpu()\n",
    "            #print(nvidia_smi_spoof())\n",
    "            torch.cuda.empty_cache()\n",
    "            print(f\"episode {i}, policy loss {loss.item()}\\n\")\n",
    "        del loss, logpas, entropies, ratios, pi_obj, pi_obj_clipped, policy_loss, entropy_loss\n",
    "        policy_optimizer.zero_grad()\n",
    "        #print(nvidia_smi_spoof())\n",
    "        print(f\"Policy train loss in epoch {epoch}:{train_loss / (len(buffer_buffer))}\")\n",
    "#train_policy(policy_optimizer, policy_epochs, buffer_buffer, policy_clip_range, entropy_loss_weight)"
   ]
  },
  {
   "cell_type": "code",
   "execution_count": 38,
   "id": "f46f9c5a-9bc3-4de3-bd4b-fe18cd667995",
   "metadata": {},
   "outputs": [],
   "source": [
    "#torch.cuda.empty_cache()"
   ]
  },
  {
   "cell_type": "code",
   "execution_count": 39,
   "id": "60eb9fa9-46f1-4782-93ff-eda1a59aa32f",
   "metadata": {},
   "outputs": [],
   "source": [
    "#train_policy(policy_optimizer, 1, bb[:4])#, policy_clip_range, entropy_loss_weight)"
   ]
  },
  {
   "cell_type": "code",
   "execution_count": 40,
   "id": "497e45a3-0370-4279-a3f5-d36eaf431e3e",
   "metadata": {},
   "outputs": [],
   "source": [
    "#train_policy(policy_optimizer, 2, bb[4:8])#, policy_clip_range, entropy_loss_weight)"
   ]
  },
  {
   "cell_type": "code",
   "execution_count": 41,
   "id": "812b0e2b-c32b-4605-810c-16acea4b68bc",
   "metadata": {},
   "outputs": [
    {
     "data": {
      "text/plain": [
       "0.0"
      ]
     },
     "execution_count": 41,
     "metadata": {},
     "output_type": "execute_result"
    }
   ],
   "source": [
    "#policy_optimizer.zero_grad()\n",
    "#torch.cuda.empty_cache()\n",
    "nvidia_smi_spoof()"
   ]
  },
  {
   "cell_type": "code",
   "execution_count": 42,
   "id": "95dfe71b-cc9e-43dc-b11d-4491b7c39d52",
   "metadata": {},
   "outputs": [],
   "source": [
    "#for b in bb:\n",
    "    #print(b.get_device())"
   ]
  },
  {
   "cell_type": "code",
   "execution_count": null,
   "id": "7293b064-6de3-4be7-a1db-074ae3c393de",
   "metadata": {},
   "outputs": [],
   "source": []
  },
  {
   "cell_type": "code",
   "execution_count": 43,
   "id": "eb5806e5-ba1e-4d9e-acf6-3d7fbec2aaa0",
   "metadata": {},
   "outputs": [],
   "source": [
    "def average_return(bb):\n",
    "    \"\"\"The average return (at the end of the seeds alone) from a buffer-buffer\"\"\"\n",
    "    s = torch.zeros(bb[0].returns[:, 0].size(), device = bb[0].returns[:, 0].device)\n",
    "    for b in bb:\n",
    "        s += bb[0].returns[:, 0]\n",
    "    return torch.sum(s).item()/(len(bb) * bb[0].returns.size()[0])"
   ]
  },
  {
   "cell_type": "code",
   "execution_count": 44,
   "id": "700176bf-191e-4502-b15c-73a125c33eb2",
   "metadata": {},
   "outputs": [],
   "source": [
    "# no policy optimization on first round, only subsequent\n",
    "def run_round(round_num, policy_optimizer, val_optimizer, num_buffers=64, batch_size=6, policy_epochs=4, val_epochs=16, policy_clip_range=0.5, entropy_loss_weight=1e-3):\n",
    "    # First, get some samples\n",
    "    brain.eval()\n",
    "#    get_value.eval()\n",
    "    buffer_buffer = get_bb(num_buffers, batch_size) # run the inference side\n",
    "    print(f\"Return before training was {average_return(buffer_buffer)}\")\n",
    "    if round_num > 0:\n",
    "        print(\"\\n~~~~~~~POLICY loop~~~~~~~\\n\")\n",
    "        train_policy(policy_optimizer, policy_epochs, buffer_buffer, policy_clip_range, entropy_loss_weight)\n",
    "    print(\"\\n~~~~~~~~VALUE loop~~~~~~~~~~~\\n\")\n",
    "    train_val_func(val_optimizer, val_epochs, buffer_buffer)\n",
    "    del buffer_buffer"
   ]
  },
  {
   "cell_type": "code",
   "execution_count": null,
   "id": "8ddc6d12-3ee2-460d-ab49-19b853173d62",
   "metadata": {},
   "outputs": [
    {
     "name": "stdout",
     "output_type": "stream",
     "text": [
      "**********************ROUND 0 ***************************\n",
      "\n",
      "Return before training was 0.7654250860214233\n",
      "\n",
      "~~~~~~~~VALUE loop~~~~~~~~~~~\n",
      "\n",
      "==========Epoch 0=====================\n",
      "episode 1, val func loss 0.506020188331604\n",
      "\n",
      "episode 2, val func loss 9.806241989135742\n",
      "\n",
      "episode 3, val func loss 0.19397254288196564\n",
      "\n",
      "episode 4, val func loss 1.7933019399642944\n",
      "\n",
      "episode 5, val func loss 2.9879372119903564\n",
      "\n",
      "episode 6, val func loss 5.816847801208496\n",
      "\n",
      "episode 7, val func loss 3.506845235824585\n",
      "\n",
      "episode 8, val func loss 1.9105408191680908\n",
      "\n",
      "Val func train loss in epoch 0:3.315213466063142\n",
      "==========Epoch 1=====================\n",
      "episode 1, val func loss 0.2354883998632431\n",
      "\n"
     ]
    }
   ],
   "source": [
    "import time\n",
    "\n",
    "policy_epochs=4\n",
    "val_epochs=16\n",
    "num_buffers=8 # keep it simpler\n",
    "batch_size=16\n",
    "num_rounds = 150*10 # give it more of a chance to learn policy, which can only change a little over each round.\n",
    "policy_clip_range=0.5\n",
    "entropy_loss_weight=5e-3\n",
    "for i in range(num_rounds):\n",
    "    start = time.time()\n",
    "    print(f\"**********************ROUND {i} ***************************\\n\")\n",
    "    run_round(i, policy_optimizer, val_optimizer, num_buffers, batch_size, policy_epochs, val_epochs, policy_clip_range, entropy_loss_weight)\n",
    "    torch.save(brain.state_dict(), f'brain_checkpoints/brain_EXPERIMENTAL_5output_weights_semi-guided_RL_v1_round{i + 1}.pth')\n",
    "    elapsed = time.time() - start\n",
    "    print(f\"***********************TIME WAS {elapsed / 60} min*****************************\\n\")\n",
    "    # I think the entropy was too low last time, let's see if this fixes the issue.\n",
    "    if i > 40:\n",
    "        entropy_loss_weight = max(entropy_loss_weight / 2, 1e-4)#1e-3)"
   ]
  },
  {
   "cell_type": "code",
   "execution_count": null,
   "id": "274f507f-c1c1-442d-94e2-d31681c7c7d5",
   "metadata": {},
   "outputs": [],
   "source": [
    "# having the '2' value available at all for the trace is a problem. It's cutting these short\n",
    "# Also, it needs more steps to find the gold.\n",
    "# THe next reasonable task is to fix these two issues, then rerun this training sesssion."
   ]
  }
 ],
 "metadata": {
  "kernelspec": {
   "display_name": "Python 3 (ipykernel)",
   "language": "python",
   "name": "python3"
  },
  "language_info": {
   "codemirror_mode": {
    "name": "ipython",
    "version": 3
   },
   "file_extension": ".py",
   "mimetype": "text/x-python",
   "name": "python",
   "nbconvert_exporter": "python",
   "pygments_lexer": "ipython3",
   "version": "3.12.8"
  }
 },
 "nbformat": 4,
 "nbformat_minor": 5
}
