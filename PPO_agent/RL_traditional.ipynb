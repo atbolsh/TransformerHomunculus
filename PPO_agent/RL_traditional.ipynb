{
 "cells": [
  {
   "cell_type": "code",
   "execution_count": 1,
   "id": "78bdbd20-2df8-46c3-8500-c5f74ffeaf99",
   "metadata": {},
   "outputs": [],
   "source": [
    "# I will only use a 'fake' brain for this one, only results are actions 0 - 4\n",
    "# This means I will start with an untrained text_dec and text_enc (though I will steal the img_enc from the old brain)\n",
    "# If this proves too hard, I will start with an easier task\n",
    "\n",
    "# This notebook will attempt actual PPO as a test study.\n",
    "# If I want this for the actual system, I may use a 'burn-in' phase which includes making the relevant actions have non-negligible probability,\n",
    "# and THEN launching the PPO"
   ]
  },
  {
   "cell_type": "code",
   "execution_count": 2,
   "id": "04dcd88c-587c-4125-9ef4-c40cb39941b3",
   "metadata": {},
   "outputs": [
    {
     "name": "stdout",
     "output_type": "stream",
     "text": [
      "pygame 2.6.1 (SDL 2.28.4, Python 3.12.8)\n",
      "Hello from the pygame community. https://www.pygame.org/contribute.html\n"
     ]
    }
   ],
   "source": [
    "from game import *"
   ]
  },
  {
   "cell_type": "code",
   "execution_count": 3,
   "id": "db869825-5953-4bce-9dfa-e48f004a71aa",
   "metadata": {},
   "outputs": [],
   "source": [
    "game_settings = BIG_tool_use_advanced_2_5\n",
    "game_settings.gameSize = 224 # for compatibility with brain's expected size\n",
    "G = discreteGame(game_settings) # kind of a waste; will only call this object to generate random versions of itself"
   ]
  },
  {
   "cell_type": "code",
   "execution_count": 4,
   "id": "99a3dafb-614a-48bf-8c99-e188d28a581d",
   "metadata": {},
   "outputs": [
    {
     "data": {
      "text/plain": [
       "<matplotlib.image.AxesImage at 0x7ff27809f440>"
      ]
     },
     "execution_count": 4,
     "metadata": {},
     "output_type": "execute_result"
    },
    {
     "data": {
      "image/png": "[encoded data removed]",
      "text/plain": [
       "<Figure size 640x480 with 1 Axes>"
      ]
     },
     "metadata": {},
     "output_type": "display_data"
    }
   ],
   "source": [
    "import matplotlib.pyplot as plt\n",
    "plt.imshow(G.getData())"
   ]
  },
  {
   "cell_type": "code",
   "execution_count": 5,
   "id": "badc0e2d-1831-4d10-8b8f-e785a8701270",
   "metadata": {},
   "outputs": [],
   "source": [
    "from RL_helper import *"
   ]
  },
  {
   "cell_type": "code",
   "execution_count": 6,
   "id": "051aec13-5b41-47d2-8309-38aa36c66169",
   "metadata": {},
   "outputs": [],
   "source": [
    "from visual_transformer import *\n",
    "device = torch.device('cuda:0') # retrying on the 2080 after patching memory leak"
   ]
  },
  {
   "cell_type": "code",
   "execution_count": 7,
   "id": "c144f17f-4ae9-488d-9778-bf15ec9d65ad",
   "metadata": {},
   "outputs": [],
   "source": [
    "def quick_display(torch_img):\n",
    "    clean = torch_img.detach().cpu()\n",
    "    right_order = torch.permute(clean, (1, 2, 0))\n",
    "    array = right_order.numpy()\n",
    "    plt.imshow(array)"
   ]
  },
  {
   "cell_type": "code",
   "execution_count": 8,
   "id": "cb391465-6429-46a9-a79b-f252aba5e1ab",
   "metadata": {},
   "outputs": [],
   "source": [
    "# Ok, on to RL-specifics things"
   ]
  },
  {
   "cell_type": "code",
   "execution_count": 9,
   "id": "28ff9d55-3cc1-4838-951a-b2fc26876c44",
   "metadata": {},
   "outputs": [
    {
     "data": {
      "text/plain": [
       "{1: 1, 3: 3, 4: 4, 108: 2}"
      ]
     },
     "execution_count": 9,
     "metadata": {},
     "output_type": "execute_result"
    }
   ],
   "source": [
    "symbol_action_map"
   ]
  },
  {
   "cell_type": "code",
   "execution_count": 10,
   "id": "9150c21e-fed3-4841-9e2d-44ee984c050c",
   "metadata": {},
   "outputs": [],
   "source": [
    "# THis work for the full brain, but I am rewriting this for this experiment"
   ]
  },
  {
   "cell_type": "code",
   "execution_count": 11,
   "id": "96a01b64-bd36-4d75-a3c9-c5c29e39a977",
   "metadata": {},
   "outputs": [
    {
     "data": {
      "text/plain": [
       "{1: 1, 2: 2, 3: 3, 4: 4}"
      ]
     },
     "execution_count": 11,
     "metadata": {},
     "output_type": "execute_result"
    }
   ],
   "source": [
    "symbol_action_map = {1: 1, 2: 2, 3: 3, 4: 4}\n",
    "symbol_action_map"
   ]
  },
  {
   "cell_type": "code",
   "execution_count": 12,
   "id": "ca831ae8-3366-414d-8116-2821dd04be76",
   "metadata": {},
   "outputs": [],
   "source": [
    "# Next, I need to set up the brain itself\n",
    "old_brain = DefaultAgentBrain()\n",
    "old_brain.load_state_dict(torch.load('brain_checkpoints/brain_weights_tutorial1_v3_batch95000.pth', weights_only=True, map_location='cpu'))\n",
    "\n",
    "brain = DefaultAgentBrain(5)\n",
    "brain.img_enc = old_brain.img_enc\n",
    "brain.img_dec = old_brain.img_dec\n",
    "brain = brain.to(device)"
   ]
  },
  {
   "cell_type": "code",
   "execution_count": 13,
   "id": "a400a2b1-1dfb-40e1-aba2-7ed54568b960",
   "metadata": {},
   "outputs": [],
   "source": [
    "# I'm starting to regret feeding the traces in at all\n",
    "# I should really just have a single 'prompt' like \"what is the best action here?\"\n",
    "# However, I don't feel like rewriting RL_helper just for this experiment, so this is what we are dealing with.\n",
    "# Hopefully PPO will still work."
   ]
  },
  {
   "cell_type": "code",
   "execution_count": 14,
   "id": "b1989aec-7459-4a2a-ac5d-862100324d56",
   "metadata": {},
   "outputs": [],
   "source": [
    "#buff = GameOutputBuffer(brain, brain.evaluate_text, gamma=0.99, tau=0.97, default_batch_size=8)"
   ]
  },
  {
   "cell_type": "code",
   "execution_count": 15,
   "id": "7077869c-4af8-485d-af11-d421049c61d8",
   "metadata": {},
   "outputs": [],
   "source": [
    "#buff.get_device()"
   ]
  },
  {
   "cell_type": "code",
   "execution_count": 16,
   "id": "70c35e56-8081-4ea5-998e-177530ecd7e0",
   "metadata": {},
   "outputs": [],
   "source": [
    "#buff.fill(G)"
   ]
  },
  {
   "cell_type": "code",
   "execution_count": 17,
   "id": "05b2269d-a6fb-45a8-870c-65504a7b3aeb",
   "metadata": {},
   "outputs": [],
   "source": [
    "#buff.__dict__"
   ]
  },
  {
   "cell_type": "code",
   "execution_count": 18,
   "id": "a30fb665-263d-4f05-8542-d0e5718150df",
   "metadata": {},
   "outputs": [],
   "source": [
    "#buff = buff.to('cpu')"
   ]
  },
  {
   "cell_type": "code",
   "execution_count": 19,
   "id": "0f030f73-f8c3-4574-a432-46a87821b96e",
   "metadata": {},
   "outputs": [],
   "source": [
    "#buff.__dict__"
   ]
  },
  {
   "cell_type": "code",
   "execution_count": null,
   "id": "d530b7e7-ef3c-4285-a3ec-ef0ee902d4e4",
   "metadata": {},
   "outputs": [],
   "source": []
  },
  {
   "cell_type": "code",
   "execution_count": null,
   "id": "25cd4c22-6024-4a73-9423-c93fef18cf9d",
   "metadata": {},
   "outputs": [],
   "source": []
  },
  {
   "cell_type": "code",
   "execution_count": 20,
   "id": "60190e2b-64dc-43ae-a9af-adc424f5be6f",
   "metadata": {},
   "outputs": [],
   "source": [
    "def get_bb(num_buffers=64, batch_size=1):\n",
    "    bb = []\n",
    "    brain.eval()\n",
    "    for i in range(num_buffers):\n",
    "        #print(i)\n",
    "        # In this case, we are only training the 'dopamine' layer on the val training loop\n",
    "        buff = GameOutputBuffer(brain, brain.evaluate_text, gamma=0.99, tau=0.97, default_batch_size=batch_size)\n",
    "        buff.fill(G, num_games=batch_size)\n",
    "        buff.cpu()\n",
    "        bb.append(buff)\n",
    "    return bb"
   ]
  },
  {
   "cell_type": "code",
   "execution_count": 21,
   "id": "0536c9f1-6b15-4009-81e3-576e6bd5be6c",
   "metadata": {},
   "outputs": [],
   "source": [
    "bb = get_bb(64)"
   ]
  },
  {
   "cell_type": "code",
   "execution_count": 22,
   "id": "0b066648-6d8a-42f7-8ca7-d0dd470ad8f5",
   "metadata": {},
   "outputs": [],
   "source": [
    "mse_loss = nn.MSELoss()"
   ]
  },
  {
   "cell_type": "code",
   "execution_count": 23,
   "id": "ce7dffba-e45d-4850-81a3-f68312d06fef",
   "metadata": {},
   "outputs": [],
   "source": [
    "# Only training the dopamine module here; img_enc is frozen, and hopefully it'll learn to largely ignore text_enc\n",
    "val_optimizer = optim.Adam(brain.dopamine.parameters(), lr=0.00001, eps=1e-9)\n",
    "val_epochs = 16 #16 # old is 80, but that's only sampling a few per turn; we're gonna go through the whole buffer-buffer"
   ]
  },
  {
   "cell_type": "code",
   "execution_count": 24,
   "id": "a9f9b784-2cd7-471b-a169-ca1867dcb9e6",
   "metadata": {},
   "outputs": [],
   "source": [
    "#brain.train()"
   ]
  },
  {
   "cell_type": "code",
   "execution_count": 25,
   "id": "f66e65b6-8ecf-4787-90f8-f5075aabebec",
   "metadata": {},
   "outputs": [],
   "source": [
    "#brain.training"
   ]
  },
  {
   "cell_type": "code",
   "execution_count": 26,
   "id": "45e9ce6f-c3cc-4b45-9a65-0d078c00cd27",
   "metadata": {},
   "outputs": [],
   "source": [
    "#buff = bb[0]\n",
    "#buff"
   ]
  },
  {
   "cell_type": "code",
   "execution_count": 27,
   "id": "710e1e26-15f3-4062-be28-d3575d6ba50c",
   "metadata": {},
   "outputs": [],
   "source": [
    "#buff.to(device)\n",
    "#buff"
   ]
  },
  {
   "cell_type": "code",
   "execution_count": 28,
   "id": "300ea774-9c4f-449b-8623-847a6a16f5a5",
   "metadata": {},
   "outputs": [],
   "source": [
    "#buff.__dict__"
   ]
  },
  {
   "cell_type": "code",
   "execution_count": null,
   "id": "5ec7030e-2e0c-44dc-8320-534546ab2753",
   "metadata": {},
   "outputs": [],
   "source": []
  },
  {
   "cell_type": "code",
   "execution_count": 29,
   "id": "7c923c05-d35b-4e6d-8e1c-ab7494b36794",
   "metadata": {},
   "outputs": [],
   "source": [
    "#val_optimizer.zero_grad()"
   ]
  },
  {
   "cell_type": "code",
   "execution_count": 30,
   "id": "2cfaf00a-5b75-48fb-866f-54cb0c040f72",
   "metadata": {},
   "outputs": [],
   "source": [
    "#new_vals = buff.get_values(evaluation = False)"
   ]
  },
  {
   "cell_type": "code",
   "execution_count": 31,
   "id": "e9fc2443-a1c5-4b44-9040-c2eab408dcc3",
   "metadata": {},
   "outputs": [],
   "source": [
    "#loss = mse_loss(new_vals, buff.returns)"
   ]
  },
  {
   "cell_type": "code",
   "execution_count": 32,
   "id": "a69ababa-7883-4223-8341-bf5612657144",
   "metadata": {},
   "outputs": [],
   "source": [
    "#loss.backward()"
   ]
  },
  {
   "cell_type": "code",
   "execution_count": 33,
   "id": "a19ac016-ad5c-45bb-959b-9b6ef9c0fe99",
   "metadata": {},
   "outputs": [],
   "source": [
    "#val_optimizer.step()"
   ]
  },
  {
   "cell_type": "code",
   "execution_count": 34,
   "id": "a049f107-1484-4c60-aa43-e53817f40399",
   "metadata": {},
   "outputs": [],
   "source": [
    "#val_optimizer.zero_grad()"
   ]
  },
  {
   "cell_type": "code",
   "execution_count": 35,
   "id": "3b37851e-cbce-4356-8084-5e1c625539cd",
   "metadata": {},
   "outputs": [],
   "source": [
    "#brain.eval()"
   ]
  },
  {
   "cell_type": "code",
   "execution_count": 36,
   "id": "225d2999-c666-4962-912f-fda6a7be2af1",
   "metadata": {},
   "outputs": [],
   "source": [
    "#bb[1].cpu()"
   ]
  },
  {
   "cell_type": "code",
   "execution_count": 37,
   "id": "5b484e94-5053-4ccf-a508-62826b306bc7",
   "metadata": {},
   "outputs": [],
   "source": [
    "#loss"
   ]
  },
  {
   "cell_type": "code",
   "execution_count": 38,
   "id": "03bc5ca2-4ddb-4171-becf-b8e41d275042",
   "metadata": {},
   "outputs": [],
   "source": [
    "#bb[1].returns.grad"
   ]
  },
  {
   "cell_type": "code",
   "execution_count": 39,
   "id": "ad8b3cc7-8ed6-4a3f-a39c-125ee48121e3",
   "metadata": {},
   "outputs": [
    {
     "data": {
      "text/plain": [
       "0.6456818580627441"
      ]
     },
     "execution_count": 39,
     "metadata": {},
     "output_type": "execute_result"
    }
   ],
   "source": [
    "torch.cuda.memory_allocated() / (1024 ** 3)"
   ]
  },
  {
   "cell_type": "code",
   "execution_count": 40,
   "id": "8416fcc7-20a5-44e2-ab9f-73847c06f16a",
   "metadata": {},
   "outputs": [],
   "source": [
    "def nvidia_smi_spoof(device=device):\n",
    "    return torch.cuda.memory_allocated() / (1024 ** 3)"
   ]
  },
  {
   "cell_type": "code",
   "execution_count": 41,
   "id": "f5fd7889-cd61-4fd4-b050-39ad5fb83452",
   "metadata": {},
   "outputs": [],
   "source": [
    "import random\n",
    "def train_val_func(val_optimizer, epochs, buffer_buffer):\n",
    "    for epoch in range(epochs):\n",
    "        print(f\"==========Epoch {epoch}=====================\")\n",
    "        #print(nvidia_smi_spoof())\n",
    "        brain.train()\n",
    "        #print(nvidia_smi_spoof())\n",
    "        train_loss = 0\n",
    "        random.shuffle(buffer_buffer)\n",
    "        i = 0\n",
    "        for buffer in buffer_buffer:\n",
    "            i += 1\n",
    "            #print(nvidia_smi_spoof())\n",
    "            buffer.to(device)\n",
    "            #print(nvidia_smi_spoof())\n",
    "            val_optimizer.zero_grad()\n",
    "            #print(nvidia_smi_spoof())\n",
    "            # call value func with dopamine gradients (and no others)\n",
    "            new_vals = buffer.get_values(evaluation = False, img_gradient = False, text_gradient = False)\n",
    "            #print(nvidia_smi_spoof())\n",
    "            loss = mse_loss(new_vals, buffer.returns)\n",
    "            #print(nvidia_smi_spoof())\n",
    "            loss.backward()\n",
    "            #print(nvidia_smi_spoof())\n",
    "            val_optimizer.step()\n",
    "            #print(nvidia_smi_spoof())\n",
    "            train_loss += loss.item()\n",
    "            #print(nvidia_smi_spoof())\n",
    "            print(f\"episode {i}, val func loss {loss.item()}\\n\")\n",
    "            #print(nvidia_smi_spoof())\n",
    "            buffer.cpu()\n",
    "            #print(nvidia_smi_spoof())\n",
    "        val_optimizer.zero_grad()\n",
    "        #print(nvidia_smi_spoof())\n",
    "        print(f\"Val func train loss in epoch {epoch}:{train_loss / (len(buffer_buffer))}\")\n",
    "#train_val_func(val_optimizer, val_epochs, buffer_buffer)"
   ]
  },
  {
   "cell_type": "code",
   "execution_count": 42,
   "id": "854f5b40-eae7-42be-886a-c1c55e5f2174",
   "metadata": {},
   "outputs": [],
   "source": [
    "#train_val_func(val_optimizer, 1, bb)"
   ]
  },
  {
   "cell_type": "code",
   "execution_count": 43,
   "id": "e81815f4-ed32-4c0b-9c04-e01e28ba8d62",
   "metadata": {},
   "outputs": [],
   "source": [
    "#brain.text_enc.embed[0].weight.grad"
   ]
  },
  {
   "cell_type": "code",
   "execution_count": 44,
   "id": "2f5e01bd-67e1-4642-90ee-94503af44a15",
   "metadata": {},
   "outputs": [],
   "source": [
    "buff = bb[5]"
   ]
  },
  {
   "cell_type": "code",
   "execution_count": 45,
   "id": "60be3aca-754c-43de-b1cb-fa06723fbe49",
   "metadata": {},
   "outputs": [
    {
     "data": {
      "text/plain": [
       "{'seed_offset': 1,\n",
       " 'tau': 0.97,\n",
       " 'gamma': 0.99,\n",
       " 'default_batch_size': 1,\n",
       " 'contexts': None,\n",
       " 'logpas': tensor([[-1.3678, -1.5493, -2.5793, -1.1511]]),\n",
       " 'traces': tensor([[0, 1, 3, 4, 2]]),\n",
       " 'settings_buffer': [[<game.levels.skeleton.Settings at 0x7ff1b13916d0>,\n",
       "   <game.levels.skeleton.Settings at 0x7ff1b1391400>,\n",
       "   <game.levels.skeleton.Settings at 0x7ff1b1390b60>,\n",
       "   <game.levels.skeleton.Settings at 0x7ff1b1390830>,\n",
       "   <game.levels.skeleton.Settings at 0x7ff1b8d677d0>]],\n",
       " 'games': [<game.discreteEngine.discreteGame at 0x7ff1b1393dd0>],\n",
       " 'entropies': tensor([[1.5309, 1.5081, 1.5177, 1.5152]]),\n",
       " 'gaes': tensor([[2.1568, 1.9536, 2.2717, 1.0638]]),\n",
       " 'terminated': tensor([[False, False, False, False,  True]]),\n",
       " 'past_terminated': tensor([[False, False, False, False, False]]),\n",
       " 'values': tensor([[0.0000, 0.2836, 0.0562, 1.3196, 2.4075]]),\n",
       " 'rewards': tensor([[0., 0., 0., 0., 0.]]),\n",
       " 'returns': tensor([[0., 0., 0., 0., 0.]]),\n",
       " 'policy_model': DefaultAgentBrain(\n",
       "   (img_enc): ImageTransformerEncoder(\n",
       "     (embed): Sequential(\n",
       "       (0): PatchEmbedding(\n",
       "         (linear_project): Conv2d(3, 768, kernel_size=(14, 14), stride=(14, 14))\n",
       "       )\n",
       "       (1): PositionalEncoding_2D()\n",
       "       (2): LayerNorm((768,), eps=1e-05, elementwise_affine=True)\n",
       "       (3): Dropout(p=0.1, inplace=False)\n",
       "     )\n",
       "     (pe): PositionalEncoding_2D()\n",
       "     (encoder): TransformerEncoder(\n",
       "       (layers): ModuleList(\n",
       "         (0-5): 6 x TransformerEncoderLayer(\n",
       "           (self_attn): MultiheadAttention(\n",
       "             (out_proj): NonDynamicallyQuantizableLinear(in_features=768, out_features=768, bias=True)\n",
       "           )\n",
       "           (linear1): Linear(in_features=768, out_features=2048, bias=True)\n",
       "           (dropout): Dropout(p=0.1, inplace=False)\n",
       "           (linear2): Linear(in_features=2048, out_features=768, bias=True)\n",
       "           (norm1): LayerNorm((768,), eps=1e-05, elementwise_affine=True)\n",
       "           (norm2): LayerNorm((768,), eps=1e-05, elementwise_affine=True)\n",
       "           (dropout1): Dropout(p=0.1, inplace=False)\n",
       "           (dropout2): Dropout(p=0.1, inplace=False)\n",
       "         )\n",
       "       )\n",
       "     )\n",
       "     (post_norm): LayerNorm((768,), eps=1e-05, elementwise_affine=True)\n",
       "   )\n",
       "   (img_dec): ImageTransformerDecoder(\n",
       "     (pe): PositionalEncoding_2D()\n",
       "     (decoder): TransformerDecoder(\n",
       "       (layers): ModuleList(\n",
       "         (0-2): 3 x TransformerDecoderLayer(\n",
       "           (self_attn): MultiheadAttention(\n",
       "             (out_proj): NonDynamicallyQuantizableLinear(in_features=768, out_features=768, bias=True)\n",
       "           )\n",
       "           (multihead_attn): MultiheadAttention(\n",
       "             (out_proj): NonDynamicallyQuantizableLinear(in_features=768, out_features=768, bias=True)\n",
       "           )\n",
       "           (linear1): Linear(in_features=768, out_features=2048, bias=True)\n",
       "           (dropout): Dropout(p=0.01, inplace=False)\n",
       "           (linear2): Linear(in_features=2048, out_features=768, bias=True)\n",
       "           (norm1): LayerNorm((768,), eps=1e-05, elementwise_affine=True)\n",
       "           (norm2): LayerNorm((768,), eps=1e-05, elementwise_affine=True)\n",
       "           (norm3): LayerNorm((768,), eps=1e-05, elementwise_affine=True)\n",
       "           (dropout1): Dropout(p=0.01, inplace=False)\n",
       "           (dropout2): Dropout(p=0.01, inplace=False)\n",
       "           (dropout3): Dropout(p=0.01, inplace=False)\n",
       "         )\n",
       "       )\n",
       "     )\n",
       "     (linear_layer): Sequential(\n",
       "       (0): Dropout(p=0.1, inplace=False)\n",
       "       (1): LayerNorm((768,), eps=1e-05, elementwise_affine=True)\n",
       "       (2): PatchEmbeddingTranspose(\n",
       "         (linear_project): ConvTranspose2d(768, 3, kernel_size=(14, 14), stride=(14, 14))\n",
       "       )\n",
       "     )\n",
       "   )\n",
       "   (text_enc): SentenceTransformerEncoder(\n",
       "     (embed): Sequential(\n",
       "       (0): Embedding(5, 768, padding_idx=0)\n",
       "       (1): PositionalEncoding()\n",
       "       (2): LayerNorm((768,), eps=1e-05, elementwise_affine=True)\n",
       "       (3): Dropout(p=0.1, inplace=False)\n",
       "     )\n",
       "     (encoder): TransformerEncoder(\n",
       "       (layers): ModuleList(\n",
       "         (0-7): 8 x TransformerEncoderLayer(\n",
       "           (self_attn): MultiheadAttention(\n",
       "             (out_proj): NonDynamicallyQuantizableLinear(in_features=768, out_features=768, bias=True)\n",
       "           )\n",
       "           (linear1): Linear(in_features=768, out_features=2048, bias=True)\n",
       "           (dropout): Dropout(p=0.1, inplace=False)\n",
       "           (linear2): Linear(in_features=2048, out_features=768, bias=True)\n",
       "           (norm1): LayerNorm((768,), eps=1e-05, elementwise_affine=True)\n",
       "           (norm2): LayerNorm((768,), eps=1e-05, elementwise_affine=True)\n",
       "           (dropout1): Dropout(p=0.1, inplace=False)\n",
       "           (dropout2): Dropout(p=0.1, inplace=False)\n",
       "         )\n",
       "       )\n",
       "     )\n",
       "   )\n",
       "   (text_dec): SentenceTransformerDecoder(\n",
       "     (decoder): TransformerDecoder(\n",
       "       (layers): ModuleList(\n",
       "         (0-3): 4 x TransformerDecoderLayer(\n",
       "           (self_attn): MultiheadAttention(\n",
       "             (out_proj): NonDynamicallyQuantizableLinear(in_features=768, out_features=768, bias=True)\n",
       "           )\n",
       "           (multihead_attn): MultiheadAttention(\n",
       "             (out_proj): NonDynamicallyQuantizableLinear(in_features=768, out_features=768, bias=True)\n",
       "           )\n",
       "           (linear1): Linear(in_features=768, out_features=2048, bias=True)\n",
       "           (dropout): Dropout(p=0.1, inplace=False)\n",
       "           (linear2): Linear(in_features=2048, out_features=768, bias=True)\n",
       "           (norm1): LayerNorm((768,), eps=1e-05, elementwise_affine=True)\n",
       "           (norm2): LayerNorm((768,), eps=1e-05, elementwise_affine=True)\n",
       "           (norm3): LayerNorm((768,), eps=1e-05, elementwise_affine=True)\n",
       "           (dropout1): Dropout(p=0.1, inplace=False)\n",
       "           (dropout2): Dropout(p=0.1, inplace=False)\n",
       "           (dropout3): Dropout(p=0.1, inplace=False)\n",
       "         )\n",
       "       )\n",
       "     )\n",
       "     (fc): Sequential(\n",
       "       (0): Linear(in_features=768, out_features=3072, bias=True)\n",
       "       (1): LayerNorm((3072,), eps=1e-05, elementwise_affine=True)\n",
       "       (2): LeakyReLU(negative_slope=0.01)\n",
       "       (3): Dropout(p=0.1, inplace=False)\n",
       "       (4): Linear(in_features=3072, out_features=5, bias=True)\n",
       "     )\n",
       "   )\n",
       "   (dopamine): IntermediateTransformerScorer(\n",
       "     (decoder): TransformerDecoder(\n",
       "       (layers): ModuleList(\n",
       "         (0-3): 4 x TransformerDecoderLayer(\n",
       "           (self_attn): MultiheadAttention(\n",
       "             (out_proj): NonDynamicallyQuantizableLinear(in_features=768, out_features=768, bias=True)\n",
       "           )\n",
       "           (multihead_attn): MultiheadAttention(\n",
       "             (out_proj): NonDynamicallyQuantizableLinear(in_features=768, out_features=768, bias=True)\n",
       "           )\n",
       "           (linear1): Linear(in_features=768, out_features=2048, bias=True)\n",
       "           (dropout): Dropout(p=0.1, inplace=False)\n",
       "           (linear2): Linear(in_features=2048, out_features=768, bias=True)\n",
       "           (norm1): LayerNorm((768,), eps=1e-05, elementwise_affine=True)\n",
       "           (norm2): LayerNorm((768,), eps=1e-05, elementwise_affine=True)\n",
       "           (norm3): LayerNorm((768,), eps=1e-05, elementwise_affine=True)\n",
       "           (dropout1): Dropout(p=0.1, inplace=False)\n",
       "           (dropout2): Dropout(p=0.1, inplace=False)\n",
       "           (dropout3): Dropout(p=0.1, inplace=False)\n",
       "         )\n",
       "       )\n",
       "     )\n",
       "     (fc): Sequential(\n",
       "       (0): Linear(in_features=768, out_features=3072, bias=True)\n",
       "       (1): LayerNorm((3072,), eps=1e-05, elementwise_affine=True)\n",
       "       (2): LeakyReLU(negative_slope=0.01)\n",
       "       (3): Dropout(p=0.1, inplace=False)\n",
       "       (4): Linear(in_features=3072, out_features=1, bias=True)\n",
       "     )\n",
       "   )\n",
       " ),\n",
       " 'value_model': <bound method DefaultAgentBrain.evaluate_text of DefaultAgentBrain(\n",
       "   (img_enc): ImageTransformerEncoder(\n",
       "     (embed): Sequential(\n",
       "       (0): PatchEmbedding(\n",
       "         (linear_project): Conv2d(3, 768, kernel_size=(14, 14), stride=(14, 14))\n",
       "       )\n",
       "       (1): PositionalEncoding_2D()\n",
       "       (2): LayerNorm((768,), eps=1e-05, elementwise_affine=True)\n",
       "       (3): Dropout(p=0.1, inplace=False)\n",
       "     )\n",
       "     (pe): PositionalEncoding_2D()\n",
       "     (encoder): TransformerEncoder(\n",
       "       (layers): ModuleList(\n",
       "         (0-5): 6 x TransformerEncoderLayer(\n",
       "           (self_attn): MultiheadAttention(\n",
       "             (out_proj): NonDynamicallyQuantizableLinear(in_features=768, out_features=768, bias=True)\n",
       "           )\n",
       "           (linear1): Linear(in_features=768, out_features=2048, bias=True)\n",
       "           (dropout): Dropout(p=0.1, inplace=False)\n",
       "           (linear2): Linear(in_features=2048, out_features=768, bias=True)\n",
       "           (norm1): LayerNorm((768,), eps=1e-05, elementwise_affine=True)\n",
       "           (norm2): LayerNorm((768,), eps=1e-05, elementwise_affine=True)\n",
       "           (dropout1): Dropout(p=0.1, inplace=False)\n",
       "           (dropout2): Dropout(p=0.1, inplace=False)\n",
       "         )\n",
       "       )\n",
       "     )\n",
       "     (post_norm): LayerNorm((768,), eps=1e-05, elementwise_affine=True)\n",
       "   )\n",
       "   (img_dec): ImageTransformerDecoder(\n",
       "     (pe): PositionalEncoding_2D()\n",
       "     (decoder): TransformerDecoder(\n",
       "       (layers): ModuleList(\n",
       "         (0-2): 3 x TransformerDecoderLayer(\n",
       "           (self_attn): MultiheadAttention(\n",
       "             (out_proj): NonDynamicallyQuantizableLinear(in_features=768, out_features=768, bias=True)\n",
       "           )\n",
       "           (multihead_attn): MultiheadAttention(\n",
       "             (out_proj): NonDynamicallyQuantizableLinear(in_features=768, out_features=768, bias=True)\n",
       "           )\n",
       "           (linear1): Linear(in_features=768, out_features=2048, bias=True)\n",
       "           (dropout): Dropout(p=0.01, inplace=False)\n",
       "           (linear2): Linear(in_features=2048, out_features=768, bias=True)\n",
       "           (norm1): LayerNorm((768,), eps=1e-05, elementwise_affine=True)\n",
       "           (norm2): LayerNorm((768,), eps=1e-05, elementwise_affine=True)\n",
       "           (norm3): LayerNorm((768,), eps=1e-05, elementwise_affine=True)\n",
       "           (dropout1): Dropout(p=0.01, inplace=False)\n",
       "           (dropout2): Dropout(p=0.01, inplace=False)\n",
       "           (dropout3): Dropout(p=0.01, inplace=False)\n",
       "         )\n",
       "       )\n",
       "     )\n",
       "     (linear_layer): Sequential(\n",
       "       (0): Dropout(p=0.1, inplace=False)\n",
       "       (1): LayerNorm((768,), eps=1e-05, elementwise_affine=True)\n",
       "       (2): PatchEmbeddingTranspose(\n",
       "         (linear_project): ConvTranspose2d(768, 3, kernel_size=(14, 14), stride=(14, 14))\n",
       "       )\n",
       "     )\n",
       "   )\n",
       "   (text_enc): SentenceTransformerEncoder(\n",
       "     (embed): Sequential(\n",
       "       (0): Embedding(5, 768, padding_idx=0)\n",
       "       (1): PositionalEncoding()\n",
       "       (2): LayerNorm((768,), eps=1e-05, elementwise_affine=True)\n",
       "       (3): Dropout(p=0.1, inplace=False)\n",
       "     )\n",
       "     (encoder): TransformerEncoder(\n",
       "       (layers): ModuleList(\n",
       "         (0-7): 8 x TransformerEncoderLayer(\n",
       "           (self_attn): MultiheadAttention(\n",
       "             (out_proj): NonDynamicallyQuantizableLinear(in_features=768, out_features=768, bias=True)\n",
       "           )\n",
       "           (linear1): Linear(in_features=768, out_features=2048, bias=True)\n",
       "           (dropout): Dropout(p=0.1, inplace=False)\n",
       "           (linear2): Linear(in_features=2048, out_features=768, bias=True)\n",
       "           (norm1): LayerNorm((768,), eps=1e-05, elementwise_affine=True)\n",
       "           (norm2): LayerNorm((768,), eps=1e-05, elementwise_affine=True)\n",
       "           (dropout1): Dropout(p=0.1, inplace=False)\n",
       "           (dropout2): Dropout(p=0.1, inplace=False)\n",
       "         )\n",
       "       )\n",
       "     )\n",
       "   )\n",
       "   (text_dec): SentenceTransformerDecoder(\n",
       "     (decoder): TransformerDecoder(\n",
       "       (layers): ModuleList(\n",
       "         (0-3): 4 x TransformerDecoderLayer(\n",
       "           (self_attn): MultiheadAttention(\n",
       "             (out_proj): NonDynamicallyQuantizableLinear(in_features=768, out_features=768, bias=True)\n",
       "           )\n",
       "           (multihead_attn): MultiheadAttention(\n",
       "             (out_proj): NonDynamicallyQuantizableLinear(in_features=768, out_features=768, bias=True)\n",
       "           )\n",
       "           (linear1): Linear(in_features=768, out_features=2048, bias=True)\n",
       "           (dropout): Dropout(p=0.1, inplace=False)\n",
       "           (linear2): Linear(in_features=2048, out_features=768, bias=True)\n",
       "           (norm1): LayerNorm((768,), eps=1e-05, elementwise_affine=True)\n",
       "           (norm2): LayerNorm((768,), eps=1e-05, elementwise_affine=True)\n",
       "           (norm3): LayerNorm((768,), eps=1e-05, elementwise_affine=True)\n",
       "           (dropout1): Dropout(p=0.1, inplace=False)\n",
       "           (dropout2): Dropout(p=0.1, inplace=False)\n",
       "           (dropout3): Dropout(p=0.1, inplace=False)\n",
       "         )\n",
       "       )\n",
       "     )\n",
       "     (fc): Sequential(\n",
       "       (0): Linear(in_features=768, out_features=3072, bias=True)\n",
       "       (1): LayerNorm((3072,), eps=1e-05, elementwise_affine=True)\n",
       "       (2): LeakyReLU(negative_slope=0.01)\n",
       "       (3): Dropout(p=0.1, inplace=False)\n",
       "       (4): Linear(in_features=3072, out_features=5, bias=True)\n",
       "     )\n",
       "   )\n",
       "   (dopamine): IntermediateTransformerScorer(\n",
       "     (decoder): TransformerDecoder(\n",
       "       (layers): ModuleList(\n",
       "         (0-3): 4 x TransformerDecoderLayer(\n",
       "           (self_attn): MultiheadAttention(\n",
       "             (out_proj): NonDynamicallyQuantizableLinear(in_features=768, out_features=768, bias=True)\n",
       "           )\n",
       "           (multihead_attn): MultiheadAttention(\n",
       "             (out_proj): NonDynamicallyQuantizableLinear(in_features=768, out_features=768, bias=True)\n",
       "           )\n",
       "           (linear1): Linear(in_features=768, out_features=2048, bias=True)\n",
       "           (dropout): Dropout(p=0.1, inplace=False)\n",
       "           (linear2): Linear(in_features=2048, out_features=768, bias=True)\n",
       "           (norm1): LayerNorm((768,), eps=1e-05, elementwise_affine=True)\n",
       "           (norm2): LayerNorm((768,), eps=1e-05, elementwise_affine=True)\n",
       "           (norm3): LayerNorm((768,), eps=1e-05, elementwise_affine=True)\n",
       "           (dropout1): Dropout(p=0.1, inplace=False)\n",
       "           (dropout2): Dropout(p=0.1, inplace=False)\n",
       "           (dropout3): Dropout(p=0.1, inplace=False)\n",
       "         )\n",
       "       )\n",
       "     )\n",
       "     (fc): Sequential(\n",
       "       (0): Linear(in_features=768, out_features=3072, bias=True)\n",
       "       (1): LayerNorm((3072,), eps=1e-05, elementwise_affine=True)\n",
       "       (2): LeakyReLU(negative_slope=0.01)\n",
       "       (3): Dropout(p=0.1, inplace=False)\n",
       "       (4): Linear(in_features=3072, out_features=1, bias=True)\n",
       "     )\n",
       "   )\n",
       " )>,\n",
       " 'reward_func': None,\n",
       " 'discounts': tensor([1.0000, 0.9897, 0.9795, 0.9694, 0.9594, 0.9495, 0.9397, 0.9300, 0.9204,\n",
       "         0.9109, 0.9015, 0.8923, 0.8831, 0.8739, 0.8649, 0.8560, 0.8472, 0.8385,\n",
       "         0.8298, 0.8213, 0.8128, 0.8044, 0.7961, 0.7879, 0.7798, 0.7717, 0.7638,\n",
       "         0.7559, 0.7481, 0.7404, 0.7328, 0.7252, 0.7177]),\n",
       " 'tau_discounts': tensor([1.0000, 0.9591, 0.9198, 0.8822, 0.8461, 0.8115, 0.7783, 0.7464, 0.7159,\n",
       "         0.6866, 0.6585, 0.6316, 0.6057, 0.5810, 0.5572, 0.5344, 0.5125, 0.4916,\n",
       "         0.4714, 0.4522, 0.4337, 0.4159, 0.3989, 0.3826, 0.3669, 0.3519, 0.3375,\n",
       "         0.3237, 0.3105, 0.2978, 0.2856, 0.2739, 0.2627]),\n",
       " 'tensor_keys': ['contexts',\n",
       "  'logpas',\n",
       "  'traces',\n",
       "  'entropies',\n",
       "  'gaes',\n",
       "  'terminated',\n",
       "  'past_terminated',\n",
       "  'values',\n",
       "  'rewards',\n",
       "  'returns',\n",
       "  'discounts',\n",
       "  'tau_discounts']}"
      ]
     },
     "execution_count": 45,
     "metadata": {},
     "output_type": "execute_result"
    }
   ],
   "source": [
    "buff.__dict__"
   ]
  },
  {
   "cell_type": "code",
   "execution_count": 46,
   "id": "a0e0794a-a18f-46a0-9f6a-54e3268638c5",
   "metadata": {},
   "outputs": [
    {
     "name": "stdout",
     "output_type": "stream",
     "text": [
      "contexts\n",
      "\n",
      "\n",
      "\n",
      "logpas\n",
      "tensor([[-1.3678, -1.5493, -2.5793, -1.1511]])\n",
      "\n",
      "\n",
      "\n",
      "traces\n",
      "tensor([[0, 1, 3, 4, 2]])\n",
      "\n",
      "\n",
      "\n",
      "entropies\n",
      "tensor([[1.5309, 1.5081, 1.5177, 1.5152]])\n",
      "\n",
      "\n",
      "\n",
      "gaes\n",
      "tensor([[2.1568, 1.9536, 2.2717, 1.0638]])\n",
      "\n",
      "\n",
      "\n",
      "terminated\n",
      "tensor([[False, False, False, False,  True]])\n",
      "\n",
      "\n",
      "\n",
      "past_terminated\n",
      "tensor([[False, False, False, False, False]])\n",
      "\n",
      "\n",
      "\n",
      "values\n",
      "tensor([[0.0000, 0.2836, 0.0562, 1.3196, 2.4075]])\n",
      "\n",
      "\n",
      "\n",
      "rewards\n",
      "tensor([[0., 0., 0., 0., 0.]])\n",
      "\n",
      "\n",
      "\n",
      "returns\n",
      "tensor([[0., 0., 0., 0., 0.]])\n",
      "\n",
      "\n",
      "\n",
      "discounts\n",
      "tensor([1.0000, 0.9897, 0.9795, 0.9694, 0.9594, 0.9495, 0.9397, 0.9300, 0.9204,\n",
      "        0.9109, 0.9015, 0.8923, 0.8831, 0.8739, 0.8649, 0.8560, 0.8472, 0.8385,\n",
      "        0.8298, 0.8213, 0.8128, 0.8044, 0.7961, 0.7879, 0.7798, 0.7717, 0.7638,\n",
      "        0.7559, 0.7481, 0.7404, 0.7328, 0.7252, 0.7177])\n",
      "\n",
      "\n",
      "\n",
      "tau_discounts\n",
      "tensor([1.0000, 0.9591, 0.9198, 0.8822, 0.8461, 0.8115, 0.7783, 0.7464, 0.7159,\n",
      "        0.6866, 0.6585, 0.6316, 0.6057, 0.5810, 0.5572, 0.5344, 0.5125, 0.4916,\n",
      "        0.4714, 0.4522, 0.4337, 0.4159, 0.3989, 0.3826, 0.3669, 0.3519, 0.3375,\n",
      "        0.3237, 0.3105, 0.2978, 0.2856, 0.2739, 0.2627])\n",
      "\n",
      "\n",
      "\n"
     ]
    }
   ],
   "source": [
    "\n",
    "for key in buff.tensor_keys:\n",
    "    print(key)\n",
    "    if buff.__dict__[key] is not None:\n",
    "        print(buff.__dict__[key])\n",
    "        if buff.__dict__[key].grad is not None:\n",
    "            print(\"found a suspect\")\n",
    "            print(buff.__dict__[key].grad)\n",
    "    print('\\n\\n')\n"
   ]
  },
  {
   "cell_type": "code",
   "execution_count": 47,
   "id": "2c3f9b32-4c0e-458b-a903-736d24cf8f30",
   "metadata": {},
   "outputs": [],
   "source": [
    "brain.dopamine.fc[0].weight.grad"
   ]
  },
  {
   "cell_type": "code",
   "execution_count": 48,
   "id": "04b44217-7e5e-4fc6-a4e7-03aca41c79d3",
   "metadata": {},
   "outputs": [],
   "source": [
    "brain.text_enc.embed[0].weight.grad"
   ]
  },
  {
   "cell_type": "code",
   "execution_count": 49,
   "id": "db64755c-2601-4911-b466-a4e9be6b5ca4",
   "metadata": {},
   "outputs": [],
   "source": [
    "brain.text_dec.fc[0].weight.grad"
   ]
  },
  {
   "cell_type": "code",
   "execution_count": 50,
   "id": "5d021df7-4309-44f5-97df-89f55a65c4a8",
   "metadata": {},
   "outputs": [],
   "source": [
    "# ok. I think there's some noise in the values returned by nvidia-smi and the cuda func (slow deallocation?)\n",
    "# but it really looks like I squashed both sources of memory leaks.\n",
    "# Let's try this again, but with big-boy parameters"
   ]
  },
  {
   "cell_type": "code",
   "execution_count": 51,
   "id": "05e7ea1d-b436-409a-bcda-7846d97c0d43",
   "metadata": {},
   "outputs": [],
   "source": [
    "# let's recalculate gaes after burn-in, to get any progress on the policy network at all\n",
    "def restore_coherence(buffer_buffer):\n",
    "    for buffer in buffer_buffer:\n",
    "        buffer=buffer.cuda()\n",
    "        buffer.values = buffer.get_values() # retrained val func\n",
    "        buffer.gaes = buffer.get_gaes()\n",
    "        buffer = buffer.cpu()\n",
    "    return buffer_buffer\n",
    "#buffer_buffer = restore_coherence(buffer_buffer)"
   ]
  },
  {
   "cell_type": "code",
   "execution_count": 52,
   "id": "d007dd1f-fb0f-4e73-a4c1-7a4cb4f61e98",
   "metadata": {},
   "outputs": [],
   "source": [
    "policy_optimizer = optim.Adam(list(brain.text_enc.parameters()) + list(brain.text_dec.parameters()), lr=0.00001, eps=1e-9)\n",
    "policy_epochs = 4\n",
    "epochs = policy_epochs"
   ]
  },
  {
   "cell_type": "code",
   "execution_count": 53,
   "id": "3f45ac1a-261b-4980-b4a7-030345cbf99d",
   "metadata": {},
   "outputs": [],
   "source": [
    "def train_policy(policy_optimizer, epochs, buffer_buffer, policy_clip_range=0.1, entropy_loss_weight=0.01):\n",
    "    for epoch in range(epochs):\n",
    "        print(f\"==========Epoch {epoch}=====================\")\n",
    "        #print(nvidia_smi_spoof())\n",
    "        brain.train()\n",
    "        #print(nvidia_smi_spoof())\n",
    "        train_loss = 0\n",
    "        random.shuffle(buffer_buffer)\n",
    "        i = 0\n",
    "        for buffer in buffer_buffer:\n",
    "            i += 1\n",
    "            buffer.to(device)\n",
    "            #print(nvidia_smi_spoof())\n",
    "            policy_optimizer.zero_grad()\n",
    "            #print(nvidia_smi_spoof())\n",
    "            logpas, entropies = buffer.get_probabilities_and_entropies(evaluation=False)\n",
    "            #print(nvidia_smi_spoof())\n",
    "            ratios = (logpas - buffer.logpas).exp()\n",
    "            #print(nvidia_smi_spoof())\n",
    "            pi_obj = buffer.gaes * ratios\n",
    "            #print(nvidia_smi_spoof())\n",
    "            pi_obj_clipped = buffer.gaes * ratios.clamp(1.0 - policy_clip_range,\n",
    "                                                       1.0 + policy_clip_range)\n",
    "            #print(nvidia_smi_spoof())\n",
    "            policy_loss = -torch.min(pi_obj, pi_obj_clipped).mean()\n",
    "            #print(nvidia_smi_spoof())\n",
    "            entropy_loss = -entropies.mean() * entropy_loss_weight\n",
    "            #print(nvidia_smi_spoof())\n",
    "            loss = policy_loss + entropy_loss\n",
    "            #print(nvidia_smi_spoof())\n",
    "            loss.backward()\n",
    "            #print(nvidia_smi_spoof())\n",
    "            policy_optimizer.step()\n",
    "            #print(nvidia_smi_spoof())\n",
    "            train_loss += loss.item()\n",
    "            #print(nvidia_smi_spoof())\n",
    "            buffer.cpu()\n",
    "            #print(nvidia_smi_spoof())\n",
    "            torch.cuda.empty_cache()\n",
    "            print(f\"episode {i}, policy loss {loss.item()}\\n\")\n",
    "        del loss, logpas, entropies, ratios, pi_obj, pi_obj_clipped, policy_loss, entropy_loss\n",
    "        policy_optimizer.zero_grad()\n",
    "        #print(nvidia_smi_spoof())\n",
    "        print(f\"Policy train loss in epoch {epoch}:{train_loss / (len(buffer_buffer))}\")\n",
    "#train_policy(policy_optimizer, policy_epochs, buffer_buffer, policy_clip_range, entropy_loss_weight)"
   ]
  },
  {
   "cell_type": "code",
   "execution_count": 54,
   "id": "f46f9c5a-9bc3-4de3-bd4b-fe18cd667995",
   "metadata": {},
   "outputs": [],
   "source": [
    "#torch.cuda.empty_cache()"
   ]
  },
  {
   "cell_type": "code",
   "execution_count": 55,
   "id": "60eb9fa9-46f1-4782-93ff-eda1a59aa32f",
   "metadata": {},
   "outputs": [],
   "source": [
    "#train_policy(policy_optimizer, 1, bb[:4])#, policy_clip_range, entropy_loss_weight)"
   ]
  },
  {
   "cell_type": "code",
   "execution_count": 56,
   "id": "497e45a3-0370-4279-a3f5-d36eaf431e3e",
   "metadata": {},
   "outputs": [],
   "source": [
    "#train_policy(policy_optimizer, 2, bb[4:8])#, policy_clip_range, entropy_loss_weight)"
   ]
  },
  {
   "cell_type": "code",
   "execution_count": 57,
   "id": "812b0e2b-c32b-4605-810c-16acea4b68bc",
   "metadata": {},
   "outputs": [
    {
     "data": {
      "text/plain": [
       "0.6456818580627441"
      ]
     },
     "execution_count": 57,
     "metadata": {},
     "output_type": "execute_result"
    }
   ],
   "source": [
    "#policy_optimizer.zero_grad()\n",
    "#torch.cuda.empty_cache()\n",
    "nvidia_smi_spoof()"
   ]
  },
  {
   "cell_type": "code",
   "execution_count": 58,
   "id": "95dfe71b-cc9e-43dc-b11d-4491b7c39d52",
   "metadata": {},
   "outputs": [],
   "source": [
    "#for b in bb:\n",
    "    #print(b.get_device())"
   ]
  },
  {
   "cell_type": "code",
   "execution_count": null,
   "id": "7293b064-6de3-4be7-a1db-074ae3c393de",
   "metadata": {},
   "outputs": [],
   "source": []
  },
  {
   "cell_type": "code",
   "execution_count": 59,
   "id": "eb5806e5-ba1e-4d9e-acf6-3d7fbec2aaa0",
   "metadata": {},
   "outputs": [],
   "source": [
    "def average_return(bb):\n",
    "    \"\"\"The average return (at the end of the seeds alone) from a buffer-buffer\"\"\"\n",
    "    s = torch.zeros(bb[0].returns[:, 0].size(), device = bb[0].returns[:, 0].device)\n",
    "    for b in bb:\n",
    "        s += bb[0].returns[:, 0]\n",
    "    return torch.sum(s).item()/(len(bb) * bb[0].returns.size()[0])"
   ]
  },
  {
   "cell_type": "code",
   "execution_count": 60,
   "id": "700176bf-191e-4502-b15c-73a125c33eb2",
   "metadata": {},
   "outputs": [],
   "source": [
    "# no policy optimization on first round, only subsequent\n",
    "def run_round(round_num, policy_optimizer, val_optimizer, num_buffers=64, batch_size=6, policy_epochs=4, val_epochs=16, policy_clip_range=0.5, entropy_loss_weight=1e-3):\n",
    "    # First, get some samples\n",
    "    brain.eval()\n",
    "#    get_value.eval()\n",
    "    buffer_buffer = get_bb(num_buffers, batch_size) # run the inference side\n",
    "    print(f\"Return before training was {average_return(buffer_buffer)}\")\n",
    "    if round_num > 0:\n",
    "        print(\"\\n~~~~~~~POLICY loop~~~~~~~\\n\")\n",
    "        train_policy(policy_optimizer, policy_epochs, buffer_buffer, policy_clip_range, entropy_loss_weight)\n",
    "    print(\"\\n~~~~~~~~VALUE loop~~~~~~~~~~~\\n\")\n",
    "    train_val_func(val_optimizer, val_epochs, buffer_buffer)\n",
    "    del buffer_buffer"
   ]
  },
  {
   "cell_type": "code",
   "execution_count": null,
   "id": "8ddc6d12-3ee2-460d-ab49-19b853173d62",
   "metadata": {},
   "outputs": [
    {
     "name": "stdout",
     "output_type": "stream",
     "text": [
      "**********************ROUND 0 ***************************\n",
      "\n"
     ]
    }
   ],
   "source": [
    "import time\n",
    "\n",
    "policy_epochs=4\n",
    "val_epochs=16\n",
    "num_buffers=8 # keep it simpler\n",
    "batch_size=12\n",
    "num_rounds = 150*10 # give it more of a chance to learn policy, which can only change a little over each round.\n",
    "policy_clip_range=0.5\n",
    "entropy_loss_weight=5e-3\n",
    "for i in range(num_rounds):\n",
    "    start = time.time()\n",
    "    print(f\"**********************ROUND {i} ***************************\\n\")\n",
    "    run_round(i, policy_optimizer, val_optimizer, num_buffers, batch_size, policy_epochs, val_epochs, policy_clip_range, entropy_loss_weight)\n",
    "    torch.save(brain.state_dict(), f'brain_checkpoints/brain_EXPERIMENTAL_5output_weights_RL_v4_round{i + 1}.pth')\n",
    "    elapsed = time.time() - start\n",
    "    print(f\"***********************TIME WAS {elapsed / 60} min*****************************\\n\")\n",
    "    # I think the entropy was too low last time, let's see if this fixes the issue.\n",
    "    if i > 40:\n",
    "        entropy_loss_weight = max(entropy_loss_weight / 2, 1e-4)#1e-3)"
   ]
  },
  {
   "cell_type": "code",
   "execution_count": null,
   "id": "274f507f-c1c1-442d-94e2-d31681c7c7d5",
   "metadata": {},
   "outputs": [],
   "source": [
    "# having the '2' value available at all for the trace is a problem. It's cutting these short\n",
    "# Also, it needs more steps to find the gold.\n",
    "# THe next reasonable task is to fix these two issues, then rerun this training sesssion."
   ]
  }
 ],
 "metadata": {
  "kernelspec": {
   "display_name": "Python 3 (ipykernel)",
   "language": "python",
   "name": "python3"
  },
  "language_info": {
   "codemirror_mode": {
    "name": "ipython",
    "version": 3
   },
   "file_extension": ".py",
   "mimetype": "text/x-python",
   "name": "python",
   "nbconvert_exporter": "python",
   "pygments_lexer": "ipython3",
   "version": "3.12.8"
  }
 },
 "nbformat": 4,
 "nbformat_minor": 5
}
