{
 "cells": [
  {
   "cell_type": "code",
   "execution_count": 1,
   "id": "d62def0d-4a9f-49ed-bc95-7dc6db715a44",
   "metadata": {},
   "outputs": [],
   "source": [
    "# first running this after the training script ran for about 500 rounds"
   ]
  },
  {
   "cell_type": "code",
   "execution_count": 2,
   "id": "dd468b12-a04b-4e6a-8ebe-45a1bcc14080",
   "metadata": {},
   "outputs": [
    {
     "name": "stdout",
     "output_type": "stream",
     "text": [
      "pygame 2.6.1 (SDL 2.28.4, Python 3.12.8)\n",
      "Hello from the pygame community. https://www.pygame.org/contribute.html\n"
     ]
    }
   ],
   "source": [
    "from game import *"
   ]
  },
  {
   "cell_type": "code",
   "execution_count": 3,
   "id": "031b3e7d-92f5-44a3-91b9-9a8be3b8e124",
   "metadata": {},
   "outputs": [],
   "source": [
    "game_settings = BIG_tool_use_advanced_2_5\n",
    "game_settings.gameSize = 224 # for compatibility with brain's expected size\n",
    "G = discreteGame(game_settings) # kind of a waste; will only call this object to generate random versions of itself"
   ]
  },
  {
   "cell_type": "code",
   "execution_count": 4,
   "id": "4f03324f-0626-4a9e-88fc-3d33cd52cfb5",
   "metadata": {},
   "outputs": [
    {
     "data": {
      "text/plain": [
       "<matplotlib.image.AxesImage at 0x7f7a84e27320>"
      ]
     },
     "execution_count": 4,
     "metadata": {},
     "output_type": "execute_result"
    },
    {
     "data": {
      "image/png": "[encoded data removed]",
      "text/plain": [
       "<Figure size 640x480 with 1 Axes>"
      ]
     },
     "metadata": {},
     "output_type": "display_data"
    }
   ],
   "source": [
    "import matplotlib.pyplot as plt\n",
    "plt.imshow(G.getData())"
   ]
  },
  {
   "cell_type": "code",
   "execution_count": 5,
   "id": "1667ff3f-5583-4c0f-b0ce-29e9181e8af1",
   "metadata": {},
   "outputs": [],
   "source": [
    "from RL_helper import *"
   ]
  },
  {
   "cell_type": "code",
   "execution_count": 6,
   "id": "a87a4ab3-fb81-4425-b4f2-7ff9eed71528",
   "metadata": {},
   "outputs": [],
   "source": [
    "from visual_transformer import *\n",
    "device = torch.device('cuda:1') # doing this on the P40"
   ]
  },
  {
   "cell_type": "code",
   "execution_count": 7,
   "id": "7d5c0f64-d9f7-4055-8e01-aa080a2ee34c",
   "metadata": {},
   "outputs": [],
   "source": [
    "def quick_display(torch_img):\n",
    "    clean = torch_img.detach().cpu()\n",
    "    right_order = torch.permute(clean, (1, 2, 0))\n",
    "    array = right_order.numpy()\n",
    "    plt.imshow(array)"
   ]
  },
  {
   "cell_type": "code",
   "execution_count": 8,
   "id": "a3c70efc-bef8-4116-837c-c2474d91ade5",
   "metadata": {},
   "outputs": [
    {
     "data": {
      "text/plain": [
       "{1: 1, 2: 2, 3: 3, 4: 4}"
      ]
     },
     "execution_count": 8,
     "metadata": {},
     "output_type": "execute_result"
    }
   ],
   "source": [
    "symbol_action_map = {1: 1, 2: 2, 3: 3, 4: 4}\n",
    "symbol_action_map"
   ]
  },
  {
   "cell_type": "code",
   "execution_count": 9,
   "id": "7b3a5acb-57d6-4640-900e-bff398a03daa",
   "metadata": {},
   "outputs": [
    {
     "data": {
      "text/plain": [
       "<All keys matched successfully>"
      ]
     },
     "execution_count": 9,
     "metadata": {},
     "output_type": "execute_result"
    }
   ],
   "source": [
    "# Next, I need to set up the brain itself\n",
    "brain = DefaultAgentBrain(5).to(device)\n",
    "brain.load_state_dict(torch.load(\"brain_checkpoints/brain_EXPERIMENTAL_5output_weights_semi-guided_RL_GRPO_v2_round10.pth\", weights_only=True, map_location=device))"
   ]
  },
  {
   "cell_type": "code",
   "execution_count": 10,
   "id": "f9155d59-8005-4474-9211-b0513d6c6a62",
   "metadata": {},
   "outputs": [],
   "source": [
    "# Alternative, let's look at the untrained brain behavior:\n",
    "# Next, I need to set up the brain itself\n",
    "#old_brain = DefaultAgentBrain()\n",
    "#old_brain.load_state_dict(torch.load('brain_checkpoints/brain_weights_tutorial1_v3_batch95000.pth', weights_only=True, map_location='cpu'))\n",
    "\n",
    "#brain = DefaultAgentBrain(5)\n",
    "#brain.img_enc = old_brain.img_enc\n",
    "#brain.img_dec = old_brain.img_dec\n",
    "#brain = brain.to(device)"
   ]
  },
  {
   "cell_type": "code",
   "execution_count": 11,
   "id": "78dc67be-b844-40b4-8495-8d91c3bc32e0",
   "metadata": {},
   "outputs": [
    {
     "data": {
      "text/plain": [
       "DefaultAgentBrain(\n",
       "  (img_enc): ImageTransformerEncoder(\n",
       "    (embed): Sequential(\n",
       "      (0): PatchEmbedding(\n",
       "        (linear_project): Conv2d(3, 768, kernel_size=(14, 14), stride=(14, 14))\n",
       "      )\n",
       "      (1): PositionalEncoding_2D()\n",
       "      (2): LayerNorm((768,), eps=1e-05, elementwise_affine=True)\n",
       "      (3): Dropout(p=0.1, inplace=False)\n",
       "    )\n",
       "    (pe): PositionalEncoding_2D()\n",
       "    (encoder): TransformerEncoder(\n",
       "      (layers): ModuleList(\n",
       "        (0-5): 6 x TransformerEncoderLayer(\n",
       "          (self_attn): MultiheadAttention(\n",
       "            (out_proj): NonDynamicallyQuantizableLinear(in_features=768, out_features=768, bias=True)\n",
       "          )\n",
       "          (linear1): Linear(in_features=768, out_features=2048, bias=True)\n",
       "          (dropout): Dropout(p=0.1, inplace=False)\n",
       "          (linear2): Linear(in_features=2048, out_features=768, bias=True)\n",
       "          (norm1): LayerNorm((768,), eps=1e-05, elementwise_affine=True)\n",
       "          (norm2): LayerNorm((768,), eps=1e-05, elementwise_affine=True)\n",
       "          (dropout1): Dropout(p=0.1, inplace=False)\n",
       "          (dropout2): Dropout(p=0.1, inplace=False)\n",
       "        )\n",
       "      )\n",
       "    )\n",
       "    (post_norm): LayerNorm((768,), eps=1e-05, elementwise_affine=True)\n",
       "  )\n",
       "  (img_dec): ImageTransformerDecoder(\n",
       "    (pe): PositionalEncoding_2D()\n",
       "    (decoder): TransformerDecoder(\n",
       "      (layers): ModuleList(\n",
       "        (0-2): 3 x TransformerDecoderLayer(\n",
       "          (self_attn): MultiheadAttention(\n",
       "            (out_proj): NonDynamicallyQuantizableLinear(in_features=768, out_features=768, bias=True)\n",
       "          )\n",
       "          (multihead_attn): MultiheadAttention(\n",
       "            (out_proj): NonDynamicallyQuantizableLinear(in_features=768, out_features=768, bias=True)\n",
       "          )\n",
       "          (linear1): Linear(in_features=768, out_features=2048, bias=True)\n",
       "          (dropout): Dropout(p=0.01, inplace=False)\n",
       "          (linear2): Linear(in_features=2048, out_features=768, bias=True)\n",
       "          (norm1): LayerNorm((768,), eps=1e-05, elementwise_affine=True)\n",
       "          (norm2): LayerNorm((768,), eps=1e-05, elementwise_affine=True)\n",
       "          (norm3): LayerNorm((768,), eps=1e-05, elementwise_affine=True)\n",
       "          (dropout1): Dropout(p=0.01, inplace=False)\n",
       "          (dropout2): Dropout(p=0.01, inplace=False)\n",
       "          (dropout3): Dropout(p=0.01, inplace=False)\n",
       "        )\n",
       "      )\n",
       "    )\n",
       "    (linear_layer): Sequential(\n",
       "      (0): Dropout(p=0.1, inplace=False)\n",
       "      (1): LayerNorm((768,), eps=1e-05, elementwise_affine=True)\n",
       "      (2): PatchEmbeddingTranspose(\n",
       "        (linear_project): ConvTranspose2d(768, 3, kernel_size=(14, 14), stride=(14, 14))\n",
       "      )\n",
       "    )\n",
       "  )\n",
       "  (text_enc): SentenceTransformerEncoder(\n",
       "    (embed): Sequential(\n",
       "      (0): Embedding(5, 768, padding_idx=0)\n",
       "      (1): PositionalEncoding()\n",
       "      (2): LayerNorm((768,), eps=1e-05, elementwise_affine=True)\n",
       "      (3): Dropout(p=0.1, inplace=False)\n",
       "    )\n",
       "    (encoder): TransformerEncoder(\n",
       "      (layers): ModuleList(\n",
       "        (0-7): 8 x TransformerEncoderLayer(\n",
       "          (self_attn): MultiheadAttention(\n",
       "            (out_proj): NonDynamicallyQuantizableLinear(in_features=768, out_features=768, bias=True)\n",
       "          )\n",
       "          (linear1): Linear(in_features=768, out_features=2048, bias=True)\n",
       "          (dropout): Dropout(p=0.1, inplace=False)\n",
       "          (linear2): Linear(in_features=2048, out_features=768, bias=True)\n",
       "          (norm1): LayerNorm((768,), eps=1e-05, elementwise_affine=True)\n",
       "          (norm2): LayerNorm((768,), eps=1e-05, elementwise_affine=True)\n",
       "          (dropout1): Dropout(p=0.1, inplace=False)\n",
       "          (dropout2): Dropout(p=0.1, inplace=False)\n",
       "        )\n",
       "      )\n",
       "    )\n",
       "  )\n",
       "  (text_dec): SentenceTransformerDecoder(\n",
       "    (decoder): TransformerDecoder(\n",
       "      (layers): ModuleList(\n",
       "        (0-3): 4 x TransformerDecoderLayer(\n",
       "          (self_attn): MultiheadAttention(\n",
       "            (out_proj): NonDynamicallyQuantizableLinear(in_features=768, out_features=768, bias=True)\n",
       "          )\n",
       "          (multihead_attn): MultiheadAttention(\n",
       "            (out_proj): NonDynamicallyQuantizableLinear(in_features=768, out_features=768, bias=True)\n",
       "          )\n",
       "          (linear1): Linear(in_features=768, out_features=2048, bias=True)\n",
       "          (dropout): Dropout(p=0.1, inplace=False)\n",
       "          (linear2): Linear(in_features=2048, out_features=768, bias=True)\n",
       "          (norm1): LayerNorm((768,), eps=1e-05, elementwise_affine=True)\n",
       "          (norm2): LayerNorm((768,), eps=1e-05, elementwise_affine=True)\n",
       "          (norm3): LayerNorm((768,), eps=1e-05, elementwise_affine=True)\n",
       "          (dropout1): Dropout(p=0.1, inplace=False)\n",
       "          (dropout2): Dropout(p=0.1, inplace=False)\n",
       "          (dropout3): Dropout(p=0.1, inplace=False)\n",
       "        )\n",
       "      )\n",
       "    )\n",
       "    (fc): Sequential(\n",
       "      (0): Linear(in_features=768, out_features=3072, bias=True)\n",
       "      (1): LayerNorm((3072,), eps=1e-05, elementwise_affine=True)\n",
       "      (2): LeakyReLU(negative_slope=0.01)\n",
       "      (3): Dropout(p=0.1, inplace=False)\n",
       "      (4): Linear(in_features=3072, out_features=5, bias=True)\n",
       "    )\n",
       "  )\n",
       "  (dopamine): IntermediateTransformerScorer(\n",
       "    (decoder): TransformerDecoder(\n",
       "      (layers): ModuleList(\n",
       "        (0-3): 4 x TransformerDecoderLayer(\n",
       "          (self_attn): MultiheadAttention(\n",
       "            (out_proj): NonDynamicallyQuantizableLinear(in_features=768, out_features=768, bias=True)\n",
       "          )\n",
       "          (multihead_attn): MultiheadAttention(\n",
       "            (out_proj): NonDynamicallyQuantizableLinear(in_features=768, out_features=768, bias=True)\n",
       "          )\n",
       "          (linear1): Linear(in_features=768, out_features=2048, bias=True)\n",
       "          (dropout): Dropout(p=0.1, inplace=False)\n",
       "          (linear2): Linear(in_features=2048, out_features=768, bias=True)\n",
       "          (norm1): LayerNorm((768,), eps=1e-05, elementwise_affine=True)\n",
       "          (norm2): LayerNorm((768,), eps=1e-05, elementwise_affine=True)\n",
       "          (norm3): LayerNorm((768,), eps=1e-05, elementwise_affine=True)\n",
       "          (dropout1): Dropout(p=0.1, inplace=False)\n",
       "          (dropout2): Dropout(p=0.1, inplace=False)\n",
       "          (dropout3): Dropout(p=0.1, inplace=False)\n",
       "        )\n",
       "      )\n",
       "    )\n",
       "    (fc): Sequential(\n",
       "      (0): Linear(in_features=768, out_features=3072, bias=True)\n",
       "      (1): LayerNorm((3072,), eps=1e-05, elementwise_affine=True)\n",
       "      (2): LeakyReLU(negative_slope=0.01)\n",
       "      (3): Dropout(p=0.1, inplace=False)\n",
       "      (4): Linear(in_features=3072, out_features=1, bias=True)\n",
       "    )\n",
       "  )\n",
       ")"
      ]
     },
     "execution_count": 11,
     "metadata": {},
     "output_type": "execute_result"
    }
   ],
   "source": [
    "brain.train()\n"
   ]
  },
  {
   "cell_type": "code",
   "execution_count": 12,
   "id": "8a93a86b-ce12-4fae-8814-c528920923ca",
   "metadata": {},
   "outputs": [],
   "source": [
    "from RL_logic_solver import *"
   ]
  },
  {
   "cell_type": "code",
   "execution_count": 13,
   "id": "00840b40-195c-4fe8-9dd7-3580ae06ebf8",
   "metadata": {},
   "outputs": [],
   "source": [
    "batch_size=16\n",
    "buff_classic = GameOutputBuffer(brain, brain.evaluate_text, gamma=0.99, tau=0.97, default_batch_size=batch_size)\n",
    "buff_guide = GameOutputBuffer(brain, brain.evaluate_text, gamma=0.99, tau=0.97, default_batch_size=batch_size)"
   ]
  },
  {
   "cell_type": "code",
   "execution_count": 14,
   "id": "b71b1cb3-3282-4428-a036-f6617b84d97c",
   "metadata": {},
   "outputs": [],
   "source": [
    "buff_classic.fill(G, num_games=batch_size)\n",
    "fake_data_fill(buff_guide, G, batch_size, device=device)"
   ]
  },
  {
   "cell_type": "code",
   "execution_count": 15,
   "id": "a4863363-5bce-48e0-8e60-e78bed0eeee5",
   "metadata": {},
   "outputs": [],
   "source": [
    "# Let's examine game 0"
   ]
  },
  {
   "cell_type": "code",
   "execution_count": 16,
   "id": "eff0546f-df3f-418c-b384-81562e783432",
   "metadata": {},
   "outputs": [
    {
     "data": {
      "text/plain": [
       "{'seed_offset': 1,\n",
       " 'max_agent_offset': 0.5,\n",
       " 'tau': 0.97,\n",
       " 'gamma': 0.99,\n",
       " 'default_batch_size': 16,\n",
       " 'contexts': None,\n",
       " 'logpas': tensor([[0., 0., 0., 0., 0., 0., 0., 0., 0., 0., 0., 0., 0., 0., 0., 0., 0., 0., 0., 0., 0., 0., 0., 0.,\n",
       "          0., 0., 0., 0., 0., 0., 0.],\n",
       "         [0., 0., 0., 0., 0., 0., 0., 0., 0., 0., 0., 0., 0., 0., 0., 0., 0., 0., 0., 0., 0., 0., 0., 0.,\n",
       "          0., 0., 0., 0., 0., 0., 0.],\n",
       "         [0., 0., 0., 0., 0., 0., 0., 0., 0., 0., 0., 0., 0., 0., 0., 0., 0., 0., 0., 0., 0., 0., 0., 0.,\n",
       "          0., 0., 0., 0., 0., 0., 0.],\n",
       "         [0., 0., 0., 0., 0., 0., 0., 0., 0., 0., 0., 0., 0., 0., 0., 0., 0., 0., 0., 0., 0., 0., 0., 0.,\n",
       "          0., 0., 0., 0., 0., 0., 0.],\n",
       "         [0., 0., 0., 0., 0., 0., 0., 0., 0., 0., 0., 0., 0., 0., 0., 0., 0., 0., 0., 0., 0., 0., 0., 0.,\n",
       "          0., 0., 0., 0., 0., 0., 0.],\n",
       "         [0., 0., 0., 0., 0., 0., 0., 0., 0., 0., 0., 0., 0., 0., 0., 0., 0., 0., 0., 0., 0., 0., 0., 0.,\n",
       "          0., 0., 0., 0., 0., 0., 0.],\n",
       "         [0., 0., 0., 0., 0., 0., 0., 0., 0., 0., 0., 0., 0., 0., 0., 0., 0., 0., 0., 0., 0., 0., 0., 0.,\n",
       "          0., 0., 0., 0., 0., 0., 0.],\n",
       "         [0., 0., 0., 0., 0., 0., 0., 0., 0., 0., 0., 0., 0., 0., 0., 0., 0., 0., 0., 0., 0., 0., 0., 0.,\n",
       "          0., 0., 0., 0., 0., 0., 0.],\n",
       "         [0., 0., 0., 0., 0., 0., 0., 0., 0., 0., 0., 0., 0., 0., 0., 0., 0., 0., 0., 0., 0., 0., 0., 0.,\n",
       "          0., 0., 0., 0., 0., 0., 0.],\n",
       "         [0., 0., 0., 0., 0., 0., 0., 0., 0., 0., 0., 0., 0., 0., 0., 0., 0., 0., 0., 0., 0., 0., 0., 0.,\n",
       "          0., 0., 0., 0., 0., 0., 0.],\n",
       "         [0., 0., 0., 0., 0., 0., 0., 0., 0., 0., 0., 0., 0., 0., 0., 0., 0., 0., 0., 0., 0., 0., 0., 0.,\n",
       "          0., 0., 0., 0., 0., 0., 0.],\n",
       "         [0., 0., 0., 0., 0., 0., 0., 0., 0., 0., 0., 0., 0., 0., 0., 0., 0., 0., 0., 0., 0., 0., 0., 0.,\n",
       "          0., 0., 0., 0., 0., 0., 0.],\n",
       "         [0., 0., 0., 0., 0., 0., 0., 0., 0., 0., 0., 0., 0., 0., 0., 0., 0., 0., 0., 0., 0., 0., 0., 0.,\n",
       "          0., 0., 0., 0., 0., 0., 0.],\n",
       "         [0., 0., 0., 0., 0., 0., 0., 0., 0., 0., 0., 0., 0., 0., 0., 0., 0., 0., 0., 0., 0., 0., 0., 0.,\n",
       "          0., 0., 0., 0., 0., 0., 0.],\n",
       "         [0., 0., 0., 0., 0., 0., 0., 0., 0., 0., 0., 0., 0., 0., 0., 0., 0., 0., 0., 0., 0., 0., 0., 0.,\n",
       "          0., 0., 0., 0., 0., 0., 0.],\n",
       "         [0., 0., 0., 0., 0., 0., 0., 0., 0., 0., 0., 0., 0., 0., 0., 0., 0., 0., 0., 0., 0., 0., 0., 0.,\n",
       "          0., 0., 0., 0., 0., 0., 0.]], device='cuda:1'),\n",
       " 'traces': tensor([[0, 3, 3, 3, 3, 3, 3, 3, 3, 3, 1, 1, 1, 1, 1, 1, 1, 2, 0, 0, 0, 0, 0, 0,\n",
       "          0, 0, 0, 0, 0, 0, 0, 0],\n",
       "         [0, 3, 3, 3, 3, 3, 3, 3, 3, 3, 3, 3, 3, 3, 1, 1, 1, 1, 1, 2, 0, 0, 0, 0,\n",
       "          0, 0, 0, 0, 0, 0, 0, 0],\n",
       "         [0, 4, 4, 4, 4, 4, 4, 4, 4, 4, 4, 4, 4, 4, 4, 4, 4, 4, 4, 4, 4, 1, 1, 1,\n",
       "          2, 0, 0, 0, 0, 0, 0, 0],\n",
       "         [0, 4, 4, 4, 4, 4, 4, 4, 4, 4, 4, 4, 4, 4, 4, 4, 4, 4, 4, 4, 4, 4, 4, 4,\n",
       "          4, 4, 4, 4, 4, 4, 1, 2],\n",
       "         [0, 4, 4, 4, 4, 4, 4, 4, 4, 4, 4, 4, 4, 4, 4, 4, 4, 4, 4, 4, 4, 1, 1, 1,\n",
       "          1, 1, 1, 1, 2, 0, 0, 0],\n",
       "         [0, 3, 3, 3, 3, 3, 3, 3, 3, 3, 3, 3, 3, 3, 3, 3, 3, 3, 3, 3, 3, 3, 3, 3,\n",
       "          1, 1, 2, 0, 0, 0, 0, 0],\n",
       "         [0, 3, 3, 3, 3, 1, 1, 1, 1, 1, 1, 1, 1, 1, 1, 1, 1, 1, 1, 1, 1, 1, 1, 1,\n",
       "          1, 1, 1, 1, 1, 1, 1, 2],\n",
       "         [0, 4, 4, 4, 4, 4, 4, 4, 4, 4, 4, 4, 4, 4, 4, 4, 4, 4, 1, 1, 1, 1, 1, 1,\n",
       "          1, 2, 0, 0, 0, 0, 0, 0],\n",
       "         [0, 1, 2, 0, 0, 0, 0, 0, 0, 0, 0, 0, 0, 0, 0, 0, 0, 0, 0, 0, 0, 0, 0, 0,\n",
       "          0, 0, 0, 0, 0, 0, 0, 0],\n",
       "         [0, 4, 4, 4, 4, 4, 1, 1, 1, 1, 1, 1, 1, 2, 0, 0, 0, 0, 0, 0, 0, 0, 0, 0,\n",
       "          0, 0, 0, 0, 0, 0, 0, 0],\n",
       "         [0, 1, 1, 1, 1, 1, 1, 2, 0, 0, 0, 0, 0, 0, 0, 0, 0, 0, 0, 0, 0, 0, 0, 0,\n",
       "          0, 0, 0, 0, 0, 0, 0, 0],\n",
       "         [0, 3, 3, 3, 3, 3, 3, 3, 3, 3, 3, 3, 3, 3, 3, 3, 3, 3, 3, 3, 3, 3, 3, 1,\n",
       "          1, 1, 1, 1, 1, 2, 0, 0],\n",
       "         [0, 3, 3, 3, 3, 3, 3, 3, 3, 3, 3, 3, 3, 3, 3, 3, 3, 3, 3, 3, 3, 3, 3, 3,\n",
       "          3, 3, 3, 3, 1, 1, 1, 2],\n",
       "         [0, 4, 4, 4, 4, 1, 1, 1, 1, 1, 1, 2, 0, 0, 0, 0, 0, 0, 0, 0, 0, 0, 0, 0,\n",
       "          0, 0, 0, 0, 0, 0, 0, 0],\n",
       "         [0, 4, 4, 4, 4, 4, 4, 4, 4, 4, 1, 1, 1, 1, 2, 0, 0, 0, 0, 0, 0, 0, 0, 0,\n",
       "          0, 0, 0, 0, 0, 0, 0, 0],\n",
       "         [0, 3, 3, 3, 3, 3, 3, 3, 3, 3, 3, 3, 3, 3, 3, 3, 3, 3, 3, 3, 3, 3, 3, 3,\n",
       "          1, 1, 1, 1, 1, 1, 1, 2]], device='cuda:1'),\n",
       " 'settings_buffer': [[<game.levels.skeleton.Settings at 0x7f79bd82d730>,\n",
       "   <game.levels.skeleton.Settings at 0x7f79bd82cfe0>,\n",
       "   <game.levels.skeleton.Settings at 0x7f79bd82ce30>,\n",
       "   <game.levels.skeleton.Settings at 0x7f79bd82cec0>,\n",
       "   <game.levels.skeleton.Settings at 0x7f79bd82cd10>,\n",
       "   <game.levels.skeleton.Settings at 0x7f79bd82cda0>,\n",
       "   <game.levels.skeleton.Settings at 0x7f79bd82cbf0>,\n",
       "   <game.levels.skeleton.Settings at 0x7f79bd82cc80>,\n",
       "   <game.levels.skeleton.Settings at 0x7f79bd82cad0>,\n",
       "   <game.levels.skeleton.Settings at 0x7f79bd82cb60>,\n",
       "   <game.levels.skeleton.Settings at 0x7f79bd82c9b0>,\n",
       "   <game.levels.skeleton.Settings at 0x7f79bd82ca40>,\n",
       "   <game.levels.skeleton.Settings at 0x7f79bd82c890>,\n",
       "   <game.levels.skeleton.Settings at 0x7f79bd82c920>,\n",
       "   <game.levels.skeleton.Settings at 0x7f79bd82c770>,\n",
       "   <game.levels.skeleton.Settings at 0x7f79bd82c800>,\n",
       "   <game.levels.skeleton.Settings at 0x7f79bd82c650>,\n",
       "   <game.levels.skeleton.Settings at 0x7f79bd82c6e0>,\n",
       "   <game.levels.skeleton.Settings at 0x7f79bd82c560>,\n",
       "   <game.levels.skeleton.Settings at 0x7f79bd82d820>,\n",
       "   <game.levels.skeleton.Settings at 0x7f79bd82d880>,\n",
       "   <game.levels.skeleton.Settings at 0x7f79bd82d8e0>,\n",
       "   <game.levels.skeleton.Settings at 0x7f79bd82d940>,\n",
       "   <game.levels.skeleton.Settings at 0x7f79bd82d9a0>,\n",
       "   <game.levels.skeleton.Settings at 0x7f79bd82da00>,\n",
       "   <game.levels.skeleton.Settings at 0x7f79bd82da60>,\n",
       "   <game.levels.skeleton.Settings at 0x7f79bd82dac0>,\n",
       "   <game.levels.skeleton.Settings at 0x7f79bd82db20>,\n",
       "   <game.levels.skeleton.Settings at 0x7f79bd82db80>,\n",
       "   <game.levels.skeleton.Settings at 0x7f79bd82dbe0>,\n",
       "   <game.levels.skeleton.Settings at 0x7f79bd82dc40>,\n",
       "   <game.levels.skeleton.Settings at 0x7f79bd82dca0>,\n",
       "   <game.levels.skeleton.Settings at 0x7f79bd82dd00>],\n",
       "  [<game.levels.skeleton.Settings at 0x7f79bd82d790>,\n",
       "   <game.levels.skeleton.Settings at 0x7f79bd82dd60>,\n",
       "   <game.levels.skeleton.Settings at 0x7f79bd82ddc0>,\n",
       "   <game.levels.skeleton.Settings at 0x7f79bd82de20>,\n",
       "   <game.levels.skeleton.Settings at 0x7f79bd82de80>,\n",
       "   <game.levels.skeleton.Settings at 0x7f79bd82dee0>,\n",
       "   <game.levels.skeleton.Settings at 0x7f79bd82df40>,\n",
       "   <game.levels.skeleton.Settings at 0x7f79bd82dfa0>,\n",
       "   <game.levels.skeleton.Settings at 0x7f79bd82e000>,\n",
       "   <game.levels.skeleton.Settings at 0x7f79bd82e060>,\n",
       "   <game.levels.skeleton.Settings at 0x7f79bd82e0c0>,\n",
       "   <game.levels.skeleton.Settings at 0x7f79bd82e120>,\n",
       "   <game.levels.skeleton.Settings at 0x7f79bd82e180>,\n",
       "   <game.levels.skeleton.Settings at 0x7f79bd82e1e0>,\n",
       "   <game.levels.skeleton.Settings at 0x7f79bd82e240>,\n",
       "   <game.levels.skeleton.Settings at 0x7f79bd82e2a0>,\n",
       "   <game.levels.skeleton.Settings at 0x7f79bd82e300>,\n",
       "   <game.levels.skeleton.Settings at 0x7f79bd82e360>,\n",
       "   <game.levels.skeleton.Settings at 0x7f79bd82e3c0>,\n",
       "   <game.levels.skeleton.Settings at 0x7f79bd82e420>,\n",
       "   <game.levels.skeleton.Settings at 0x7f79bd82e480>,\n",
       "   <game.levels.skeleton.Settings at 0x7f79bd82e4e0>,\n",
       "   <game.levels.skeleton.Settings at 0x7f79bd82e540>,\n",
       "   <game.levels.skeleton.Settings at 0x7f79bd82e5a0>,\n",
       "   <game.levels.skeleton.Settings at 0x7f79bd82e600>,\n",
       "   <game.levels.skeleton.Settings at 0x7f79bd82e660>,\n",
       "   <game.levels.skeleton.Settings at 0x7f79bd82e6c0>,\n",
       "   <game.levels.skeleton.Settings at 0x7f79bd82e720>,\n",
       "   <game.levels.skeleton.Settings at 0x7f79bd82e780>,\n",
       "   <game.levels.skeleton.Settings at 0x7f79bd82e7e0>,\n",
       "   <game.levels.skeleton.Settings at 0x7f79bd82e840>,\n",
       "   <game.levels.skeleton.Settings at 0x7f79bd82e8a0>,\n",
       "   <game.levels.skeleton.Settings at 0x7f79bd82e900>],\n",
       "  [<game.levels.skeleton.Settings at 0x7f79bd82d7c0>,\n",
       "   <game.levels.skeleton.Settings at 0x7f79bd82e960>,\n",
       "   <game.levels.skeleton.Settings at 0x7f79bd82e9c0>,\n",
       "   <game.levels.skeleton.Settings at 0x7f79bd82ea20>,\n",
       "   <game.levels.skeleton.Settings at 0x7f79bd82ea80>,\n",
       "   <game.levels.skeleton.Settings at 0x7f79bd82eae0>,\n",
       "   <game.levels.skeleton.Settings at 0x7f79bd82eb40>,\n",
       "   <game.levels.skeleton.Settings at 0x7f79bd82eba0>,\n",
       "   <game.levels.skeleton.Settings at 0x7f79bd82ec00>,\n",
       "   <game.levels.skeleton.Settings at 0x7f79bd82ec60>,\n",
       "   <game.levels.skeleton.Settings at 0x7f79bd82ecc0>,\n",
       "   <game.levels.skeleton.Settings at 0x7f79bd82ed20>,\n",
       "   <game.levels.skeleton.Settings at 0x7f79bd82ed80>,\n",
       "   <game.levels.skeleton.Settings at 0x7f79bd82ede0>,\n",
       "   <game.levels.skeleton.Settings at 0x7f79bd82ee40>,\n",
       "   <game.levels.skeleton.Settings at 0x7f79bd82eea0>,\n",
       "   <game.levels.skeleton.Settings at 0x7f79bd82ef00>,\n",
       "   <game.levels.skeleton.Settings at 0x7f79bd82ef60>,\n",
       "   <game.levels.skeleton.Settings at 0x7f79bd82efc0>,\n",
       "   <game.levels.skeleton.Settings at 0x7f79bd82f020>,\n",
       "   <game.levels.skeleton.Settings at 0x7f79bd82f080>,\n",
       "   <game.levels.skeleton.Settings at 0x7f79bd82f0e0>,\n",
       "   <game.levels.skeleton.Settings at 0x7f79bd82f140>,\n",
       "   <game.levels.skeleton.Settings at 0x7f79bd82f1a0>,\n",
       "   <game.levels.skeleton.Settings at 0x7f79bd82f200>,\n",
       "   <game.levels.skeleton.Settings at 0x7f79bd82f260>,\n",
       "   <game.levels.skeleton.Settings at 0x7f79bd82f2c0>,\n",
       "   <game.levels.skeleton.Settings at 0x7f79bd82f320>,\n",
       "   <game.levels.skeleton.Settings at 0x7f79bd82f380>,\n",
       "   <game.levels.skeleton.Settings at 0x7f79bd82f3e0>,\n",
       "   <game.levels.skeleton.Settings at 0x7f79bd82f440>,\n",
       "   <game.levels.skeleton.Settings at 0x7f79bd82f4a0>,\n",
       "   <game.levels.skeleton.Settings at 0x7f79bd82f500>],\n",
       "  [<game.levels.skeleton.Settings at 0x7f79bd82d5b0>,\n",
       "   <game.levels.skeleton.Settings at 0x7f79bd82f560>,\n",
       "   <game.levels.skeleton.Settings at 0x7f79bd82f5c0>,\n",
       "   <game.levels.skeleton.Settings at 0x7f79bd82f620>,\n",
       "   <game.levels.skeleton.Settings at 0x7f79bd82f680>,\n",
       "   <game.levels.skeleton.Settings at 0x7f79bd82f6e0>,\n",
       "   <game.levels.skeleton.Settings at 0x7f79bd82f740>,\n",
       "   <game.levels.skeleton.Settings at 0x7f79bd82f7a0>,\n",
       "   <game.levels.skeleton.Settings at 0x7f79bd82f800>,\n",
       "   <game.levels.skeleton.Settings at 0x7f79bd82f860>,\n",
       "   <game.levels.skeleton.Settings at 0x7f79bd82f8c0>,\n",
       "   <game.levels.skeleton.Settings at 0x7f79bd82f920>,\n",
       "   <game.levels.skeleton.Settings at 0x7f79bd82f980>,\n",
       "   <game.levels.skeleton.Settings at 0x7f79bd82f9e0>,\n",
       "   <game.levels.skeleton.Settings at 0x7f79bd82fa40>,\n",
       "   <game.levels.skeleton.Settings at 0x7f79bd82faa0>,\n",
       "   <game.levels.skeleton.Settings at 0x7f79bd82fb00>,\n",
       "   <game.levels.skeleton.Settings at 0x7f79bd82fb60>,\n",
       "   <game.levels.skeleton.Settings at 0x7f79bd82fbc0>,\n",
       "   <game.levels.skeleton.Settings at 0x7f79bd82fc20>,\n",
       "   <game.levels.skeleton.Settings at 0x7f79bd82fc80>,\n",
       "   <game.levels.skeleton.Settings at 0x7f79bd82fce0>,\n",
       "   <game.levels.skeleton.Settings at 0x7f79bd82fd40>,\n",
       "   <game.levels.skeleton.Settings at 0x7f79bd82fda0>,\n",
       "   <game.levels.skeleton.Settings at 0x7f79bd82fe00>,\n",
       "   <game.levels.skeleton.Settings at 0x7f79bd82fe60>,\n",
       "   <game.levels.skeleton.Settings at 0x7f79bd82fec0>,\n",
       "   <game.levels.skeleton.Settings at 0x7f79bd82ff20>,\n",
       "   <game.levels.skeleton.Settings at 0x7f79bd82ff80>,\n",
       "   <game.levels.skeleton.Settings at 0x7f79bd82ffe0>,\n",
       "   <game.levels.skeleton.Settings at 0x7f79bd868080>,\n",
       "   <game.levels.skeleton.Settings at 0x7f79bd8680e0>,\n",
       "   <game.levels.skeleton.Settings at 0x7f79bd868140>],\n",
       "  [<game.levels.skeleton.Settings at 0x7f79bd82d640>,\n",
       "   <game.levels.skeleton.Settings at 0x7f79bd8681a0>,\n",
       "   <game.levels.skeleton.Settings at 0x7f79bd868200>,\n",
       "   <game.levels.skeleton.Settings at 0x7f79bd868260>,\n",
       "   <game.levels.skeleton.Settings at 0x7f79bd8682c0>,\n",
       "   <game.levels.skeleton.Settings at 0x7f79bd868320>,\n",
       "   <game.levels.skeleton.Settings at 0x7f79bd868380>,\n",
       "   <game.levels.skeleton.Settings at 0x7f79bd8683e0>,\n",
       "   <game.levels.skeleton.Settings at 0x7f79bd868440>,\n",
       "   <game.levels.skeleton.Settings at 0x7f79bd8684a0>,\n",
       "   <game.levels.skeleton.Settings at 0x7f79bd868500>,\n",
       "   <game.levels.skeleton.Settings at 0x7f79bd868560>,\n",
       "   <game.levels.skeleton.Settings at 0x7f79bd8685c0>,\n",
       "   <game.levels.skeleton.Settings at 0x7f79bd868620>,\n",
       "   <game.levels.skeleton.Settings at 0x7f79bd868680>,\n",
       "   <game.levels.skeleton.Settings at 0x7f79bd8686e0>,\n",
       "   <game.levels.skeleton.Settings at 0x7f79bd868740>,\n",
       "   <game.levels.skeleton.Settings at 0x7f79bd8687a0>,\n",
       "   <game.levels.skeleton.Settings at 0x7f79bd868800>,\n",
       "   <game.levels.skeleton.Settings at 0x7f79bd868860>,\n",
       "   <game.levels.skeleton.Settings at 0x7f79bd8688c0>,\n",
       "   <game.levels.skeleton.Settings at 0x7f79bd868920>,\n",
       "   <game.levels.skeleton.Settings at 0x7f79bd868980>,\n",
       "   <game.levels.skeleton.Settings at 0x7f79bd8689e0>,\n",
       "   <game.levels.skeleton.Settings at 0x7f79bd868a40>,\n",
       "   <game.levels.skeleton.Settings at 0x7f79bd868aa0>,\n",
       "   <game.levels.skeleton.Settings at 0x7f79bd868b00>,\n",
       "   <game.levels.skeleton.Settings at 0x7f79bd868b60>,\n",
       "   <game.levels.skeleton.Settings at 0x7f79bd868bc0>,\n",
       "   <game.levels.skeleton.Settings at 0x7f79bd868c20>,\n",
       "   <game.levels.skeleton.Settings at 0x7f79bd868c80>,\n",
       "   <game.levels.skeleton.Settings at 0x7f79bd868ce0>,\n",
       "   <game.levels.skeleton.Settings at 0x7f79bd868d40>],\n",
       "  [<game.levels.skeleton.Settings at 0x7f79bd82d250>,\n",
       "   <game.levels.skeleton.Settings at 0x7f79bd868da0>,\n",
       "   <game.levels.skeleton.Settings at 0x7f79bd868e00>,\n",
       "   <game.levels.skeleton.Settings at 0x7f79bd868e60>,\n",
       "   <game.levels.skeleton.Settings at 0x7f79bd868ec0>,\n",
       "   <game.levels.skeleton.Settings at 0x7f79bd868f20>,\n",
       "   <game.levels.skeleton.Settings at 0x7f79bd868f80>,\n",
       "   <game.levels.skeleton.Settings at 0x7f79bd868fe0>,\n",
       "   <game.levels.skeleton.Settings at 0x7f79bd869040>,\n",
       "   <game.levels.skeleton.Settings at 0x7f79bd8690a0>,\n",
       "   <game.levels.skeleton.Settings at 0x7f79bd869100>,\n",
       "   <game.levels.skeleton.Settings at 0x7f79bd869160>,\n",
       "   <game.levels.skeleton.Settings at 0x7f79bd8691c0>,\n",
       "   <game.levels.skeleton.Settings at 0x7f79bd869220>,\n",
       "   <game.levels.skeleton.Settings at 0x7f79bd869280>,\n",
       "   <game.levels.skeleton.Settings at 0x7f79bd8692e0>,\n",
       "   <game.levels.skeleton.Settings at 0x7f79bd869340>,\n",
       "   <game.levels.skeleton.Settings at 0x7f79bd8693a0>,\n",
       "   <game.levels.skeleton.Settings at 0x7f79bd869400>,\n",
       "   <game.levels.skeleton.Settings at 0x7f79bd869460>,\n",
       "   <game.levels.skeleton.Settings at 0x7f79bd8694c0>,\n",
       "   <game.levels.skeleton.Settings at 0x7f79bd869520>,\n",
       "   <game.levels.skeleton.Settings at 0x7f79bd869580>,\n",
       "   <game.levels.skeleton.Settings at 0x7f79bd8695e0>,\n",
       "   <game.levels.skeleton.Settings at 0x7f79bd869640>,\n",
       "   <game.levels.skeleton.Settings at 0x7f79bd8696a0>,\n",
       "   <game.levels.skeleton.Settings at 0x7f79bd869700>,\n",
       "   <game.levels.skeleton.Settings at 0x7f79bd869760>,\n",
       "   <game.levels.skeleton.Settings at 0x7f79bd8697c0>,\n",
       "   <game.levels.skeleton.Settings at 0x7f79bd869820>,\n",
       "   <game.levels.skeleton.Settings at 0x7f79bd869880>,\n",
       "   <game.levels.skeleton.Settings at 0x7f79bd8698e0>,\n",
       "   <game.levels.skeleton.Settings at 0x7f79bd869940>],\n",
       "  [<game.levels.skeleton.Settings at 0x7f79bd82d520>,\n",
       "   <game.levels.skeleton.Settings at 0x7f79bd8699a0>,\n",
       "   <game.levels.skeleton.Settings at 0x7f79bd869a00>,\n",
       "   <game.levels.skeleton.Settings at 0x7f79bd869a60>,\n",
       "   <game.levels.skeleton.Settings at 0x7f79bd869ac0>,\n",
       "   <game.levels.skeleton.Settings at 0x7f79bd869b20>,\n",
       "   <game.levels.skeleton.Settings at 0x7f79bd869b80>,\n",
       "   <game.levels.skeleton.Settings at 0x7f79bd869be0>,\n",
       "   <game.levels.skeleton.Settings at 0x7f79bd869c40>,\n",
       "   <game.levels.skeleton.Settings at 0x7f79bd869ca0>,\n",
       "   <game.levels.skeleton.Settings at 0x7f79bd869d00>,\n",
       "   <game.levels.skeleton.Settings at 0x7f79bd869d60>,\n",
       "   <game.levels.skeleton.Settings at 0x7f79bd869dc0>,\n",
       "   <game.levels.skeleton.Settings at 0x7f79bd869e20>,\n",
       "   <game.levels.skeleton.Settings at 0x7f79bd869e80>,\n",
       "   <game.levels.skeleton.Settings at 0x7f79bd869ee0>,\n",
       "   <game.levels.skeleton.Settings at 0x7f79bd869f40>,\n",
       "   <game.levels.skeleton.Settings at 0x7f79bd869fa0>,\n",
       "   <game.levels.skeleton.Settings at 0x7f79bd86a000>,\n",
       "   <game.levels.skeleton.Settings at 0x7f79bd86a060>,\n",
       "   <game.levels.skeleton.Settings at 0x7f79bd86a0c0>,\n",
       "   <game.levels.skeleton.Settings at 0x7f79bd86a120>,\n",
       "   <game.levels.skeleton.Settings at 0x7f79bd86a180>,\n",
       "   <game.levels.skeleton.Settings at 0x7f79bd86a1e0>,\n",
       "   <game.levels.skeleton.Settings at 0x7f79bd86a240>,\n",
       "   <game.levels.skeleton.Settings at 0x7f79bd86a2a0>,\n",
       "   <game.levels.skeleton.Settings at 0x7f79bd86a300>,\n",
       "   <game.levels.skeleton.Settings at 0x7f79bd86a360>,\n",
       "   <game.levels.skeleton.Settings at 0x7f79bd86a3c0>,\n",
       "   <game.levels.skeleton.Settings at 0x7f79bd86a420>,\n",
       "   <game.levels.skeleton.Settings at 0x7f79bd86a480>,\n",
       "   <game.levels.skeleton.Settings at 0x7f79bd86a4e0>,\n",
       "   <game.levels.skeleton.Settings at 0x7f79bd86a540>],\n",
       "  [<game.levels.skeleton.Settings at 0x7f79bd82d3a0>,\n",
       "   <game.levels.skeleton.Settings at 0x7f79bd86a5a0>,\n",
       "   <game.levels.skeleton.Settings at 0x7f79bd86a600>,\n",
       "   <game.levels.skeleton.Settings at 0x7f79bd86a660>,\n",
       "   <game.levels.skeleton.Settings at 0x7f79bd86a6c0>,\n",
       "   <game.levels.skeleton.Settings at 0x7f79bd86a720>,\n",
       "   <game.levels.skeleton.Settings at 0x7f79bd86a780>,\n",
       "   <game.levels.skeleton.Settings at 0x7f79bd86a7e0>,\n",
       "   <game.levels.skeleton.Settings at 0x7f79bd86a840>,\n",
       "   <game.levels.skeleton.Settings at 0x7f79bd86a8a0>,\n",
       "   <game.levels.skeleton.Settings at 0x7f79bd86a900>,\n",
       "   <game.levels.skeleton.Settings at 0x7f79bd86a960>,\n",
       "   <game.levels.skeleton.Settings at 0x7f79bd86a9c0>,\n",
       "   <game.levels.skeleton.Settings at 0x7f79bd86aa20>,\n",
       "   <game.levels.skeleton.Settings at 0x7f79bd86aa80>,\n",
       "   <game.levels.skeleton.Settings at 0x7f79bd86aae0>,\n",
       "   <game.levels.skeleton.Settings at 0x7f79bd86ab40>,\n",
       "   <game.levels.skeleton.Settings at 0x7f79bd86aba0>,\n",
       "   <game.levels.skeleton.Settings at 0x7f79bd86ac00>,\n",
       "   <game.levels.skeleton.Settings at 0x7f79bd86ac60>,\n",
       "   <game.levels.skeleton.Settings at 0x7f79bd86acc0>,\n",
       "   <game.levels.skeleton.Settings at 0x7f79bd86ad20>,\n",
       "   <game.levels.skeleton.Settings at 0x7f79bd86ad80>,\n",
       "   <game.levels.skeleton.Settings at 0x7f79bd86ade0>,\n",
       "   <game.levels.skeleton.Settings at 0x7f79bd86ae40>,\n",
       "   <game.levels.skeleton.Settings at 0x7f79bd86aea0>,\n",
       "   <game.levels.skeleton.Settings at 0x7f79bd86af00>,\n",
       "   <game.levels.skeleton.Settings at 0x7f79bd86af60>,\n",
       "   <game.levels.skeleton.Settings at 0x7f79bd86afc0>,\n",
       "   <game.levels.skeleton.Settings at 0x7f79bd86b020>,\n",
       "   <game.levels.skeleton.Settings at 0x7f79bd86b080>,\n",
       "   <game.levels.skeleton.Settings at 0x7f79bd86b0e0>,\n",
       "   <game.levels.skeleton.Settings at 0x7f79bd86b140>],\n",
       "  [<game.levels.skeleton.Settings at 0x7f79bd82d400>,\n",
       "   <game.levels.skeleton.Settings at 0x7f79bd86b1a0>,\n",
       "   <game.levels.skeleton.Settings at 0x7f79bd86b200>,\n",
       "   <game.levels.skeleton.Settings at 0x7f79bd86b260>,\n",
       "   <game.levels.skeleton.Settings at 0x7f79bd86b2c0>,\n",
       "   <game.levels.skeleton.Settings at 0x7f79bd86b320>,\n",
       "   <game.levels.skeleton.Settings at 0x7f79bd86b380>,\n",
       "   <game.levels.skeleton.Settings at 0x7f79bd86b3e0>,\n",
       "   <game.levels.skeleton.Settings at 0x7f79bd86b440>,\n",
       "   <game.levels.skeleton.Settings at 0x7f79bd86b4a0>,\n",
       "   <game.levels.skeleton.Settings at 0x7f79bd86b500>,\n",
       "   <game.levels.skeleton.Settings at 0x7f79bd86b560>,\n",
       "   <game.levels.skeleton.Settings at 0x7f79bd86b5c0>,\n",
       "   <game.levels.skeleton.Settings at 0x7f79bd86b620>,\n",
       "   <game.levels.skeleton.Settings at 0x7f79bd86b680>,\n",
       "   <game.levels.skeleton.Settings at 0x7f79bd86b6e0>,\n",
       "   <game.levels.skeleton.Settings at 0x7f79bd86b740>,\n",
       "   <game.levels.skeleton.Settings at 0x7f79bd86b7a0>,\n",
       "   <game.levels.skeleton.Settings at 0x7f79bd86b800>,\n",
       "   <game.levels.skeleton.Settings at 0x7f79bd86b860>,\n",
       "   <game.levels.skeleton.Settings at 0x7f79bd86b8c0>,\n",
       "   <game.levels.skeleton.Settings at 0x7f79bd86b920>,\n",
       "   <game.levels.skeleton.Settings at 0x7f79bd86b980>,\n",
       "   <game.levels.skeleton.Settings at 0x7f79bd86b9e0>,\n",
       "   <game.levels.skeleton.Settings at 0x7f79bd86ba40>,\n",
       "   <game.levels.skeleton.Settings at 0x7f79bd86baa0>,\n",
       "   <game.levels.skeleton.Settings at 0x7f79bd86bb00>,\n",
       "   <game.levels.skeleton.Settings at 0x7f79bd86bb60>,\n",
       "   <game.levels.skeleton.Settings at 0x7f79bd86bbc0>,\n",
       "   <game.levels.skeleton.Settings at 0x7f79bd86bc20>,\n",
       "   <game.levels.skeleton.Settings at 0x7f79bd86bc80>,\n",
       "   <game.levels.skeleton.Settings at 0x7f79bd86bce0>,\n",
       "   <game.levels.skeleton.Settings at 0x7f79bd86bd40>],\n",
       "  [<game.levels.skeleton.Settings at 0x7f79bd82d130>,\n",
       "   <game.levels.skeleton.Settings at 0x7f79bd86bda0>,\n",
       "   <game.levels.skeleton.Settings at 0x7f79bd86be00>,\n",
       "   <game.levels.skeleton.Settings at 0x7f79bd86be60>,\n",
       "   <game.levels.skeleton.Settings at 0x7f79bd86bec0>,\n",
       "   <game.levels.skeleton.Settings at 0x7f79bd86bf20>,\n",
       "   <game.levels.skeleton.Settings at 0x7f79bd86bf80>,\n",
       "   <game.levels.skeleton.Settings at 0x7f79bd86bfe0>,\n",
       "   <game.levels.skeleton.Settings at 0x7f79bd89c080>,\n",
       "   <game.levels.skeleton.Settings at 0x7f79bd89c0e0>,\n",
       "   <game.levels.skeleton.Settings at 0x7f79bd89c140>,\n",
       "   <game.levels.skeleton.Settings at 0x7f79bd89c1a0>,\n",
       "   <game.levels.skeleton.Settings at 0x7f79bd89c200>,\n",
       "   <game.levels.skeleton.Settings at 0x7f79bd89c260>,\n",
       "   <game.levels.skeleton.Settings at 0x7f79bd89c2c0>,\n",
       "   <game.levels.skeleton.Settings at 0x7f79bd89c320>,\n",
       "   <game.levels.skeleton.Settings at 0x7f79bd89c380>,\n",
       "   <game.levels.skeleton.Settings at 0x7f79bd89c3e0>,\n",
       "   <game.levels.skeleton.Settings at 0x7f79bd89c440>,\n",
       "   <game.levels.skeleton.Settings at 0x7f79bd89c4a0>,\n",
       "   <game.levels.skeleton.Settings at 0x7f79bd89c500>,\n",
       "   <game.levels.skeleton.Settings at 0x7f79bd89c560>,\n",
       "   <game.levels.skeleton.Settings at 0x7f79bd89c5c0>,\n",
       "   <game.levels.skeleton.Settings at 0x7f79bd89c620>,\n",
       "   <game.levels.skeleton.Settings at 0x7f79bd89c680>,\n",
       "   <game.levels.skeleton.Settings at 0x7f79bd89c6e0>,\n",
       "   <game.levels.skeleton.Settings at 0x7f79bd89c740>,\n",
       "   <game.levels.skeleton.Settings at 0x7f79bd89c7a0>,\n",
       "   <game.levels.skeleton.Settings at 0x7f79bd89c800>,\n",
       "   <game.levels.skeleton.Settings at 0x7f79bd89c860>,\n",
       "   <game.levels.skeleton.Settings at 0x7f79bd89c8c0>,\n",
       "   <game.levels.skeleton.Settings at 0x7f79bd89c920>,\n",
       "   <game.levels.skeleton.Settings at 0x7f79bd89c980>],\n",
       "  [<game.levels.skeleton.Settings at 0x7f79bd82d2e0>,\n",
       "   <game.levels.skeleton.Settings at 0x7f79bd89c9e0>,\n",
       "   <game.levels.skeleton.Settings at 0x7f79bd89ca40>,\n",
       "   <game.levels.skeleton.Settings at 0x7f79bd89caa0>,\n",
       "   <game.levels.skeleton.Settings at 0x7f79bd89cb00>,\n",
       "   <game.levels.skeleton.Settings at 0x7f79bd89cb60>,\n",
       "   <game.levels.skeleton.Settings at 0x7f79bd89cbc0>,\n",
       "   <game.levels.skeleton.Settings at 0x7f79bd89cc20>,\n",
       "   <game.levels.skeleton.Settings at 0x7f79bd89cc80>,\n",
       "   <game.levels.skeleton.Settings at 0x7f79bd89cce0>,\n",
       "   <game.levels.skeleton.Settings at 0x7f79bd89cd40>,\n",
       "   <game.levels.skeleton.Settings at 0x7f79bd89cda0>,\n",
       "   <game.levels.skeleton.Settings at 0x7f79bd89ce00>,\n",
       "   <game.levels.skeleton.Settings at 0x7f79bd89ce60>,\n",
       "   <game.levels.skeleton.Settings at 0x7f79bd89cec0>,\n",
       "   <game.levels.skeleton.Settings at 0x7f79bd89cf20>,\n",
       "   <game.levels.skeleton.Settings at 0x7f79bd89cf80>,\n",
       "   <game.levels.skeleton.Settings at 0x7f79bd89cfe0>,\n",
       "   <game.levels.skeleton.Settings at 0x7f79bd89d040>,\n",
       "   <game.levels.skeleton.Settings at 0x7f79bd89d0a0>,\n",
       "   <game.levels.skeleton.Settings at 0x7f79bd89d100>,\n",
       "   <game.levels.skeleton.Settings at 0x7f79bd89d160>,\n",
       "   <game.levels.skeleton.Settings at 0x7f79bd89d1c0>,\n",
       "   <game.levels.skeleton.Settings at 0x7f79bd89d220>,\n",
       "   <game.levels.skeleton.Settings at 0x7f79bd89d280>,\n",
       "   <game.levels.skeleton.Settings at 0x7f79bd89d2e0>,\n",
       "   <game.levels.skeleton.Settings at 0x7f79bd89d340>,\n",
       "   <game.levels.skeleton.Settings at 0x7f79bd89d3a0>,\n",
       "   <game.levels.skeleton.Settings at 0x7f79bd89d400>,\n",
       "   <game.levels.skeleton.Settings at 0x7f79bd89d460>,\n",
       "   <game.levels.skeleton.Settings at 0x7f79bd89d4c0>,\n",
       "   <game.levels.skeleton.Settings at 0x7f79bd89d520>,\n",
       "   <game.levels.skeleton.Settings at 0x7f79bd89d580>],\n",
       "  [<game.levels.skeleton.Settings at 0x7f79bd82cef0>,\n",
       "   <game.levels.skeleton.Settings at 0x7f79bd89d5e0>,\n",
       "   <game.levels.skeleton.Settings at 0x7f79bd89d640>,\n",
       "   <game.levels.skeleton.Settings at 0x7f79bd89d6a0>,\n",
       "   <game.levels.skeleton.Settings at 0x7f79bd89d700>,\n",
       "   <game.levels.skeleton.Settings at 0x7f79bd89d760>,\n",
       "   <game.levels.skeleton.Settings at 0x7f79bd89d7c0>,\n",
       "   <game.levels.skeleton.Settings at 0x7f79bd89d820>,\n",
       "   <game.levels.skeleton.Settings at 0x7f79bd89d880>,\n",
       "   <game.levels.skeleton.Settings at 0x7f79bd7c9190>,\n",
       "   <game.levels.skeleton.Settings at 0x7f79bd89d8e0>,\n",
       "   <game.levels.skeleton.Settings at 0x7f79bd89d940>,\n",
       "   <game.levels.skeleton.Settings at 0x7f79bd89d9a0>,\n",
       "   <game.levels.skeleton.Settings at 0x7f79bd89da00>,\n",
       "   <game.levels.skeleton.Settings at 0x7f79bd89da60>,\n",
       "   <game.levels.skeleton.Settings at 0x7f79bd89dac0>,\n",
       "   <game.levels.skeleton.Settings at 0x7f79bd89db20>,\n",
       "   <game.levels.skeleton.Settings at 0x7f79bd89db80>,\n",
       "   <game.levels.skeleton.Settings at 0x7f79bd89dbe0>,\n",
       "   <game.levels.skeleton.Settings at 0x7f79bd89dc40>,\n",
       "   <game.levels.skeleton.Settings at 0x7f79bd89dca0>,\n",
       "   <game.levels.skeleton.Settings at 0x7f79bd89dd00>,\n",
       "   <game.levels.skeleton.Settings at 0x7f79bd89dd60>,\n",
       "   <game.levels.skeleton.Settings at 0x7f79bd89ddc0>,\n",
       "   <game.levels.skeleton.Settings at 0x7f79bd89de20>,\n",
       "   <game.levels.skeleton.Settings at 0x7f79bd89de80>,\n",
       "   <game.levels.skeleton.Settings at 0x7f79bd89dee0>,\n",
       "   <game.levels.skeleton.Settings at 0x7f79bd89df40>,\n",
       "   <game.levels.skeleton.Settings at 0x7f79bd89dfa0>,\n",
       "   <game.levels.skeleton.Settings at 0x7f79bd89e000>,\n",
       "   <game.levels.skeleton.Settings at 0x7f79bd89e060>,\n",
       "   <game.levels.skeleton.Settings at 0x7f79bd89e0c0>,\n",
       "   <game.levels.skeleton.Settings at 0x7f79bd89e120>],\n",
       "  [<game.levels.skeleton.Settings at 0x7f79bd82d1c0>,\n",
       "   <game.levels.skeleton.Settings at 0x7f79bd89e180>,\n",
       "   <game.levels.skeleton.Settings at 0x7f79bd89e1e0>,\n",
       "   <game.levels.skeleton.Settings at 0x7f79bd89e240>,\n",
       "   <game.levels.skeleton.Settings at 0x7f79bd89e2a0>,\n",
       "   <game.levels.skeleton.Settings at 0x7f79bd89e300>,\n",
       "   <game.levels.skeleton.Settings at 0x7f79bd89e360>,\n",
       "   <game.levels.skeleton.Settings at 0x7f79bd89e3c0>,\n",
       "   <game.levels.skeleton.Settings at 0x7f79bd89e420>,\n",
       "   <game.levels.skeleton.Settings at 0x7f79bd89e480>,\n",
       "   <game.levels.skeleton.Settings at 0x7f79bd89e4e0>,\n",
       "   <game.levels.skeleton.Settings at 0x7f79bd89e540>,\n",
       "   <game.levels.skeleton.Settings at 0x7f79bd89e5a0>,\n",
       "   <game.levels.skeleton.Settings at 0x7f79bd89e600>,\n",
       "   <game.levels.skeleton.Settings at 0x7f79bd89e660>,\n",
       "   <game.levels.skeleton.Settings at 0x7f79bd89e6c0>,\n",
       "   <game.levels.skeleton.Settings at 0x7f79bd89e720>,\n",
       "   <game.levels.skeleton.Settings at 0x7f79bd89e780>,\n",
       "   <game.levels.skeleton.Settings at 0x7f79bd89e7e0>,\n",
       "   <game.levels.skeleton.Settings at 0x7f79bd89e840>,\n",
       "   <game.levels.skeleton.Settings at 0x7f79bd89e8a0>,\n",
       "   <game.levels.skeleton.Settings at 0x7f79bd89e900>,\n",
       "   <game.levels.skeleton.Settings at 0x7f79bd89e960>,\n",
       "   <game.levels.skeleton.Settings at 0x7f79bd89e9c0>,\n",
       "   <game.levels.skeleton.Settings at 0x7f79bd89ea20>,\n",
       "   <game.levels.skeleton.Settings at 0x7f79bd89ea80>,\n",
       "   <game.levels.skeleton.Settings at 0x7f79bd89eae0>,\n",
       "   <game.levels.skeleton.Settings at 0x7f79bd89eb40>,\n",
       "   <game.levels.skeleton.Settings at 0x7f79bd89eba0>,\n",
       "   <game.levels.skeleton.Settings at 0x7f79bd89ec00>,\n",
       "   <game.levels.skeleton.Settings at 0x7f79bd89ec60>,\n",
       "   <game.levels.skeleton.Settings at 0x7f79bd89ecc0>,\n",
       "   <game.levels.skeleton.Settings at 0x7f79bd89ed20>],\n",
       "  [<game.levels.skeleton.Settings at 0x7f79bd82d040>,\n",
       "   <game.levels.skeleton.Settings at 0x7f79bd89ed80>,\n",
       "   <game.levels.skeleton.Settings at 0x7f79bd89ede0>,\n",
       "   <game.levels.skeleton.Settings at 0x7f79bd89ee40>,\n",
       "   <game.levels.skeleton.Settings at 0x7f79bd89eea0>,\n",
       "   <game.levels.skeleton.Settings at 0x7f79bd89ef00>,\n",
       "   <game.levels.skeleton.Settings at 0x7f79bd89ef60>,\n",
       "   <game.levels.skeleton.Settings at 0x7f79bd89efc0>,\n",
       "   <game.levels.skeleton.Settings at 0x7f79bd89f020>,\n",
       "   <game.levels.skeleton.Settings at 0x7f79bd89f080>,\n",
       "   <game.levels.skeleton.Settings at 0x7f79bd89f0e0>,\n",
       "   <game.levels.skeleton.Settings at 0x7f79bd89f140>,\n",
       "   <game.levels.skeleton.Settings at 0x7f79bd89f1a0>,\n",
       "   <game.levels.skeleton.Settings at 0x7f79bd89f200>,\n",
       "   <game.levels.skeleton.Settings at 0x7f79bd89f260>,\n",
       "   <game.levels.skeleton.Settings at 0x7f79bd89f2c0>,\n",
       "   <game.levels.skeleton.Settings at 0x7f79bd89f320>,\n",
       "   <game.levels.skeleton.Settings at 0x7f79c59edf10>,\n",
       "   <game.levels.skeleton.Settings at 0x7f79c59ed310>,\n",
       "   <game.levels.skeleton.Settings at 0x7f79c59eda90>,\n",
       "   <game.levels.skeleton.Settings at 0x7f79c59ed850>,\n",
       "   <game.levels.skeleton.Settings at 0x7f79c59ed4f0>,\n",
       "   <game.levels.skeleton.Settings at 0x7f79c59ed970>,\n",
       "   <game.levels.skeleton.Settings at 0x7f79c59ee1b0>,\n",
       "   <game.levels.skeleton.Settings at 0x7f79c59ede50>,\n",
       "   <game.levels.skeleton.Settings at 0x7f79c59ee210>,\n",
       "   <game.levels.skeleton.Settings at 0x7f79c59ee2a0>,\n",
       "   <game.levels.skeleton.Settings at 0x7f79c59ee4b0>,\n",
       "   <game.levels.skeleton.Settings at 0x7f79c59ee4e0>,\n",
       "   <game.levels.skeleton.Settings at 0x7f79c59ee5d0>,\n",
       "   <game.levels.skeleton.Settings at 0x7f79c59ee660>,\n",
       "   <game.levels.skeleton.Settings at 0x7f79c59ee6f0>,\n",
       "   <game.levels.skeleton.Settings at 0x7f79c59ee780>],\n",
       "  [<game.levels.skeleton.Settings at 0x7f79bd82d0a0>,\n",
       "   <game.levels.skeleton.Settings at 0x7f79c59ee720>,\n",
       "   <game.levels.skeleton.Settings at 0x7f79c59ee7b0>,\n",
       "   <game.levels.skeleton.Settings at 0x7f79c59ee840>,\n",
       "   <game.levels.skeleton.Settings at 0x7f79c59eea50>,\n",
       "   <game.levels.skeleton.Settings at 0x7f79c59eea80>,\n",
       "   <game.levels.skeleton.Settings at 0x7f79c59eeb70>,\n",
       "   <game.levels.skeleton.Settings at 0x7f79c59eec00>,\n",
       "   <game.levels.skeleton.Settings at 0x7f79c59eec90>,\n",
       "   <game.levels.skeleton.Settings at 0x7f79c5a8bfe0>,\n",
       "   <game.levels.skeleton.Settings at 0x7f79c5a8be60>,\n",
       "   <game.levels.skeleton.Settings at 0x7f79c5a8be30>,\n",
       "   <game.levels.skeleton.Settings at 0x7f79c5a8bd10>,\n",
       "   <game.levels.skeleton.Settings at 0x7f79c5a8bc80>,\n",
       "   <game.levels.skeleton.Settings at 0x7f79c5a8bbf0>,\n",
       "   <game.levels.skeleton.Settings at 0x7f79c5a8bb60>,\n",
       "   <game.levels.skeleton.Settings at 0x7f79c5a8bad0>,\n",
       "   <game.levels.skeleton.Settings at 0x7f79c5a8ba40>,\n",
       "   <game.levels.skeleton.Settings at 0x7f79c5a8b9b0>,\n",
       "   <game.levels.skeleton.Settings at 0x7f79c5a8b8f0>,\n",
       "   <game.levels.skeleton.Settings at 0x7f79c5a8b800>,\n",
       "   <game.levels.skeleton.Settings at 0x7f79c5a8b710>,\n",
       "   <game.levels.skeleton.Settings at 0x7f79c5a8b950>,\n",
       "   <game.levels.skeleton.Settings at 0x7f79c5a8b680>,\n",
       "   <game.levels.skeleton.Settings at 0x7f79c5a8b830>,\n",
       "   <game.levels.skeleton.Settings at 0x7f79c5a8bdd0>,\n",
       "   <game.levels.skeleton.Settings at 0x7f79c5a8aba0>,\n",
       "   <game.levels.skeleton.Settings at 0x7f79c5a8b650>,\n",
       "   <game.levels.skeleton.Settings at 0x7f79c5a8b530>,\n",
       "   <game.levels.skeleton.Settings at 0x7f79c5a8b4a0>,\n",
       "   <game.levels.skeleton.Settings at 0x7f79c5a8b410>,\n",
       "   <game.levels.skeleton.Settings at 0x7f79c5a8b380>,\n",
       "   <game.levels.skeleton.Settings at 0x7f79c5a8b2f0>],\n",
       "  [<game.levels.skeleton.Settings at 0x7f79bd82cf20>,\n",
       "   <game.levels.skeleton.Settings at 0x7f79c5a8b260>,\n",
       "   <game.levels.skeleton.Settings at 0x7f79c5a8b1d0>,\n",
       "   <game.levels.skeleton.Settings at 0x7f79c5a8b110>,\n",
       "   <game.levels.skeleton.Settings at 0x7f79c5a8b020>,\n",
       "   <game.levels.skeleton.Settings at 0x7f79c5a8af30>,\n",
       "   <game.levels.skeleton.Settings at 0x7f79c5a8b170>,\n",
       "   <game.levels.skeleton.Settings at 0x7f79c5a8aea0>,\n",
       "   <game.levels.skeleton.Settings at 0x7f79c5a8b050>,\n",
       "   <game.levels.skeleton.Settings at 0x7f79c5a8ae70>,\n",
       "   <game.levels.skeleton.Settings at 0x7f79c5a8ab10>,\n",
       "   <game.levels.skeleton.Settings at 0x7f79c5a8aa80>,\n",
       "   <game.levels.skeleton.Settings at 0x7f79c5a8a9f0>,\n",
       "   <game.levels.skeleton.Settings at 0x7f79c5a8a960>,\n",
       "   <game.levels.skeleton.Settings at 0x7f79c5a8a8d0>,\n",
       "   <game.levels.skeleton.Settings at 0x7f79c5a8a840>,\n",
       "   <game.levels.skeleton.Settings at 0x7f79c5a8a7b0>,\n",
       "   <game.levels.skeleton.Settings at 0x7f79c5a8a720>,\n",
       "   <game.levels.skeleton.Settings at 0x7f79c5a8a630>,\n",
       "   <game.levels.skeleton.Settings at 0x7f79c5a8a600>,\n",
       "   <game.levels.skeleton.Settings at 0x7f79c5a8a510>,\n",
       "   <game.levels.skeleton.Settings at 0x7f79c5a8a4e0>,\n",
       "   <game.levels.skeleton.Settings at 0x7f79c5a893d0>,\n",
       "   <game.levels.skeleton.Settings at 0x7f79c5a8a3c0>,\n",
       "   <game.levels.skeleton.Settings at 0x7f79c5a8a330>,\n",
       "   <game.levels.skeleton.Settings at 0x7f79c5a8a2a0>,\n",
       "   <game.levels.skeleton.Settings at 0x7f79c5a8a210>,\n",
       "   <game.levels.skeleton.Settings at 0x7f79c5a8a180>,\n",
       "   <game.levels.skeleton.Settings at 0x7f79c5a8a0f0>,\n",
       "   <game.levels.skeleton.Settings at 0x7f79c5a8a060>,\n",
       "   <game.levels.skeleton.Settings at 0x7f79c5a89fd0>,\n",
       "   <game.levels.skeleton.Settings at 0x7f79c5a89f40>,\n",
       "   <game.levels.skeleton.Settings at 0x7f79c5a89e50>]],\n",
       " 'games': None,\n",
       " 'entropies': tensor([[0., 0., 0., 0., 0., 0., 0., 0., 0., 0., 0., 0., 0., 0., 0., 0., 0., 0., 0., 0., 0., 0., 0., 0.,\n",
       "          0., 0., 0., 0., 0., 0., 0.],\n",
       "         [0., 0., 0., 0., 0., 0., 0., 0., 0., 0., 0., 0., 0., 0., 0., 0., 0., 0., 0., 0., 0., 0., 0., 0.,\n",
       "          0., 0., 0., 0., 0., 0., 0.],\n",
       "         [0., 0., 0., 0., 0., 0., 0., 0., 0., 0., 0., 0., 0., 0., 0., 0., 0., 0., 0., 0., 0., 0., 0., 0.,\n",
       "          0., 0., 0., 0., 0., 0., 0.],\n",
       "         [0., 0., 0., 0., 0., 0., 0., 0., 0., 0., 0., 0., 0., 0., 0., 0., 0., 0., 0., 0., 0., 0., 0., 0.,\n",
       "          0., 0., 0., 0., 0., 0., 0.],\n",
       "         [0., 0., 0., 0., 0., 0., 0., 0., 0., 0., 0., 0., 0., 0., 0., 0., 0., 0., 0., 0., 0., 0., 0., 0.,\n",
       "          0., 0., 0., 0., 0., 0., 0.],\n",
       "         [0., 0., 0., 0., 0., 0., 0., 0., 0., 0., 0., 0., 0., 0., 0., 0., 0., 0., 0., 0., 0., 0., 0., 0.,\n",
       "          0., 0., 0., 0., 0., 0., 0.],\n",
       "         [0., 0., 0., 0., 0., 0., 0., 0., 0., 0., 0., 0., 0., 0., 0., 0., 0., 0., 0., 0., 0., 0., 0., 0.,\n",
       "          0., 0., 0., 0., 0., 0., 0.],\n",
       "         [0., 0., 0., 0., 0., 0., 0., 0., 0., 0., 0., 0., 0., 0., 0., 0., 0., 0., 0., 0., 0., 0., 0., 0.,\n",
       "          0., 0., 0., 0., 0., 0., 0.],\n",
       "         [0., 0., 0., 0., 0., 0., 0., 0., 0., 0., 0., 0., 0., 0., 0., 0., 0., 0., 0., 0., 0., 0., 0., 0.,\n",
       "          0., 0., 0., 0., 0., 0., 0.],\n",
       "         [0., 0., 0., 0., 0., 0., 0., 0., 0., 0., 0., 0., 0., 0., 0., 0., 0., 0., 0., 0., 0., 0., 0., 0.,\n",
       "          0., 0., 0., 0., 0., 0., 0.],\n",
       "         [0., 0., 0., 0., 0., 0., 0., 0., 0., 0., 0., 0., 0., 0., 0., 0., 0., 0., 0., 0., 0., 0., 0., 0.,\n",
       "          0., 0., 0., 0., 0., 0., 0.],\n",
       "         [0., 0., 0., 0., 0., 0., 0., 0., 0., 0., 0., 0., 0., 0., 0., 0., 0., 0., 0., 0., 0., 0., 0., 0.,\n",
       "          0., 0., 0., 0., 0., 0., 0.],\n",
       "         [0., 0., 0., 0., 0., 0., 0., 0., 0., 0., 0., 0., 0., 0., 0., 0., 0., 0., 0., 0., 0., 0., 0., 0.,\n",
       "          0., 0., 0., 0., 0., 0., 0.],\n",
       "         [0., 0., 0., 0., 0., 0., 0., 0., 0., 0., 0., 0., 0., 0., 0., 0., 0., 0., 0., 0., 0., 0., 0., 0.,\n",
       "          0., 0., 0., 0., 0., 0., 0.],\n",
       "         [0., 0., 0., 0., 0., 0., 0., 0., 0., 0., 0., 0., 0., 0., 0., 0., 0., 0., 0., 0., 0., 0., 0., 0.,\n",
       "          0., 0., 0., 0., 0., 0., 0.],\n",
       "         [0., 0., 0., 0., 0., 0., 0., 0., 0., 0., 0., 0., 0., 0., 0., 0., 0., 0., 0., 0., 0., 0., 0., 0.,\n",
       "          0., 0., 0., 0., 0., 0., 0.]], device='cuda:1'),\n",
       " 'gaes': None,\n",
       " 'terminated': tensor([[False, False, False, False, False, False, False, False, False, False,\n",
       "          False, False, False, False, False, False, False,  True,  True,  True,\n",
       "           True,  True,  True,  True,  True,  True,  True,  True,  True,  True,\n",
       "           True,  True],\n",
       "         [False, False, False, False, False, False, False, False, False, False,\n",
       "          False, False, False, False, False, False, False, False, False,  True,\n",
       "           True,  True,  True,  True,  True,  True,  True,  True,  True,  True,\n",
       "           True,  True],\n",
       "         [False, False, False, False, False, False, False, False, False, False,\n",
       "          False, False, False, False, False, False, False, False, False, False,\n",
       "          False, False, False, False,  True,  True,  True,  True,  True,  True,\n",
       "           True,  True],\n",
       "         [False, False, False, False, False, False, False, False, False, False,\n",
       "          False, False, False, False, False, False, False, False, False, False,\n",
       "          False, False, False, False, False, False, False, False, False, False,\n",
       "          False,  True],\n",
       "         [False, False, False, False, False, False, False, False, False, False,\n",
       "          False, False, False, False, False, False, False, False, False, False,\n",
       "          False, False, False, False, False, False, False, False,  True,  True,\n",
       "           True,  True],\n",
       "         [False, False, False, False, False, False, False, False, False, False,\n",
       "          False, False, False, False, False, False, False, False, False, False,\n",
       "          False, False, False, False, False, False,  True,  True,  True,  True,\n",
       "           True,  True],\n",
       "         [False, False, False, False, False, False, False, False, False, False,\n",
       "          False, False, False, False, False, False, False, False, False, False,\n",
       "          False, False, False, False, False, False, False, False, False, False,\n",
       "          False,  True],\n",
       "         [False, False, False, False, False, False, False, False, False, False,\n",
       "          False, False, False, False, False, False, False, False, False, False,\n",
       "          False, False, False, False, False,  True,  True,  True,  True,  True,\n",
       "           True,  True],\n",
       "         [False, False,  True,  True,  True,  True,  True,  True,  True,  True,\n",
       "           True,  True,  True,  True,  True,  True,  True,  True,  True,  True,\n",
       "           True,  True,  True,  True,  True,  True,  True,  True,  True,  True,\n",
       "           True,  True],\n",
       "         [False, False, False, False, False, False, False, False, False, False,\n",
       "          False, False, False,  True,  True,  True,  True,  True,  True,  True,\n",
       "           True,  True,  True,  True,  True,  True,  True,  True,  True,  True,\n",
       "           True,  True],\n",
       "         [False, False, False, False, False, False, False,  True,  True,  True,\n",
       "           True,  True,  True,  True,  True,  True,  True,  True,  True,  True,\n",
       "           True,  True,  True,  True,  True,  True,  True,  True,  True,  True,\n",
       "           True,  True],\n",
       "         [False, False, False, False, False, False, False, False, False, False,\n",
       "          False, False, False, False, False, False, False, False, False, False,\n",
       "          False, False, False, False, False, False, False, False, False,  True,\n",
       "           True,  True],\n",
       "         [False, False, False, False, False, False, False, False, False, False,\n",
       "          False, False, False, False, False, False, False, False, False, False,\n",
       "          False, False, False, False, False, False, False, False, False, False,\n",
       "          False,  True],\n",
       "         [False, False, False, False, False, False, False, False, False, False,\n",
       "          False,  True,  True,  True,  True,  True,  True,  True,  True,  True,\n",
       "           True,  True,  True,  True,  True,  True,  True,  True,  True,  True,\n",
       "           True,  True],\n",
       "         [False, False, False, False, False, False, False, False, False, False,\n",
       "          False, False, False, False,  True,  True,  True,  True,  True,  True,\n",
       "           True,  True,  True,  True,  True,  True,  True,  True,  True,  True,\n",
       "           True,  True],\n",
       "         [False, False, False, False, False, False, False, False, False, False,\n",
       "          False, False, False, False, False, False, False, False, False, False,\n",
       "          False, False, False, False, False, False, False, False, False, False,\n",
       "          False,  True]], device='cuda:1'),\n",
       " 'past_terminated': tensor([[False, False, False, False, False, False, False, False, False, False,\n",
       "          False, False, False, False, False, False, False, False,  True,  True,\n",
       "           True,  True,  True,  True,  True,  True,  True,  True,  True,  True,\n",
       "           True,  True],\n",
       "         [False, False, False, False, False, False, False, False, False, False,\n",
       "          False, False, False, False, False, False, False, False, False, False,\n",
       "           True,  True,  True,  True,  True,  True,  True,  True,  True,  True,\n",
       "           True,  True],\n",
       "         [False, False, False, False, False, False, False, False, False, False,\n",
       "          False, False, False, False, False, False, False, False, False, False,\n",
       "          False, False, False, False, False,  True,  True,  True,  True,  True,\n",
       "           True,  True],\n",
       "         [False, False, False, False, False, False, False, False, False, False,\n",
       "          False, False, False, False, False, False, False, False, False, False,\n",
       "          False, False, False, False, False, False, False, False, False, False,\n",
       "          False, False],\n",
       "         [False, False, False, False, False, False, False, False, False, False,\n",
       "          False, False, False, False, False, False, False, False, False, False,\n",
       "          False, False, False, False, False, False, False, False, False,  True,\n",
       "           True,  True],\n",
       "         [False, False, False, False, False, False, False, False, False, False,\n",
       "          False, False, False, False, False, False, False, False, False, False,\n",
       "          False, False, False, False, False, False, False,  True,  True,  True,\n",
       "           True,  True],\n",
       "         [False, False, False, False, False, False, False, False, False, False,\n",
       "          False, False, False, False, False, False, False, False, False, False,\n",
       "          False, False, False, False, False, False, False, False, False, False,\n",
       "          False, False],\n",
       "         [False, False, False, False, False, False, False, False, False, False,\n",
       "          False, False, False, False, False, False, False, False, False, False,\n",
       "          False, False, False, False, False, False,  True,  True,  True,  True,\n",
       "           True,  True],\n",
       "         [False, False, False,  True,  True,  True,  True,  True,  True,  True,\n",
       "           True,  True,  True,  True,  True,  True,  True,  True,  True,  True,\n",
       "           True,  True,  True,  True,  True,  True,  True,  True,  True,  True,\n",
       "           True,  True],\n",
       "         [False, False, False, False, False, False, False, False, False, False,\n",
       "          False, False, False, False,  True,  True,  True,  True,  True,  True,\n",
       "           True,  True,  True,  True,  True,  True,  True,  True,  True,  True,\n",
       "           True,  True],\n",
       "         [False, False, False, False, False, False, False, False,  True,  True,\n",
       "           True,  True,  True,  True,  True,  True,  True,  True,  True,  True,\n",
       "           True,  True,  True,  True,  True,  True,  True,  True,  True,  True,\n",
       "           True,  True],\n",
       "         [False, False, False, False, False, False, False, False, False, False,\n",
       "          False, False, False, False, False, False, False, False, False, False,\n",
       "          False, False, False, False, False, False, False, False, False, False,\n",
       "           True,  True],\n",
       "         [False, False, False, False, False, False, False, False, False, False,\n",
       "          False, False, False, False, False, False, False, False, False, False,\n",
       "          False, False, False, False, False, False, False, False, False, False,\n",
       "          False, False],\n",
       "         [False, False, False, False, False, False, False, False, False, False,\n",
       "          False, False,  True,  True,  True,  True,  True,  True,  True,  True,\n",
       "           True,  True,  True,  True,  True,  True,  True,  True,  True,  True,\n",
       "           True,  True],\n",
       "         [False, False, False, False, False, False, False, False, False, False,\n",
       "          False, False, False, False, False,  True,  True,  True,  True,  True,\n",
       "           True,  True,  True,  True,  True,  True,  True,  True,  True,  True,\n",
       "           True,  True],\n",
       "         [False, False, False, False, False, False, False, False, False, False,\n",
       "          False, False, False, False, False, False, False, False, False, False,\n",
       "          False, False, False, False, False, False, False, False, False, False,\n",
       "          False, False]], device='cuda:1'),\n",
       " 'values': None,\n",
       " 'rewards': tensor([[0, 0, 0, 0, 0, 0, 0, 0, 0, 0, 0, 0, 0, 0, 0, 0, 0, 1, 0, 0, 0, 0, 0, 0,\n",
       "          0, 0, 0, 0, 0, 0, 0, 0],\n",
       "         [0, 0, 0, 0, 0, 0, 0, 0, 0, 0, 0, 0, 0, 0, 0, 0, 0, 0, 0, 1, 0, 0, 0, 0,\n",
       "          0, 0, 0, 0, 0, 0, 0, 0],\n",
       "         [0, 0, 0, 0, 0, 0, 0, 0, 0, 0, 0, 0, 0, 0, 0, 0, 0, 0, 0, 0, 0, 0, 0, 0,\n",
       "          1, 0, 0, 0, 0, 0, 0, 0],\n",
       "         [0, 0, 0, 0, 0, 0, 0, 0, 0, 0, 0, 0, 0, 0, 0, 0, 0, 0, 0, 0, 0, 0, 0, 0,\n",
       "          0, 0, 0, 0, 0, 0, 0, 0],\n",
       "         [0, 0, 0, 0, 0, 0, 0, 0, 0, 0, 0, 0, 0, 0, 0, 0, 0, 0, 0, 0, 0, 0, 0, 0,\n",
       "          0, 0, 0, 0, 1, 0, 0, 0],\n",
       "         [0, 0, 0, 0, 0, 0, 0, 0, 0, 0, 0, 0, 0, 0, 0, 0, 0, 0, 0, 0, 0, 0, 0, 0,\n",
       "          0, 0, 1, 0, 0, 0, 0, 0],\n",
       "         [0, 0, 0, 0, 0, 0, 0, 0, 0, 0, 0, 0, 0, 0, 0, 0, 0, 0, 0, 0, 0, 0, 0, 0,\n",
       "          0, 0, 0, 0, 0, 0, 0, 0],\n",
       "         [0, 0, 0, 0, 0, 0, 0, 0, 0, 0, 0, 0, 0, 0, 0, 0, 0, 0, 0, 0, 0, 0, 0, 0,\n",
       "          0, 1, 0, 0, 0, 0, 0, 0],\n",
       "         [0, 0, 1, 0, 0, 0, 0, 0, 0, 0, 0, 0, 0, 0, 0, 0, 0, 0, 0, 0, 0, 0, 0, 0,\n",
       "          0, 0, 0, 0, 0, 0, 0, 0],\n",
       "         [0, 0, 0, 0, 0, 0, 0, 0, 0, 0, 0, 0, 0, 1, 0, 0, 0, 0, 0, 0, 0, 0, 0, 0,\n",
       "          0, 0, 0, 0, 0, 0, 0, 0],\n",
       "         [0, 0, 0, 0, 0, 0, 0, 1, 0, 0, 0, 0, 0, 0, 0, 0, 0, 0, 0, 0, 0, 0, 0, 0,\n",
       "          0, 0, 0, 0, 0, 0, 0, 0],\n",
       "         [0, 0, 0, 0, 0, 0, 0, 0, 0, 0, 0, 0, 0, 0, 0, 0, 0, 0, 0, 0, 0, 0, 0, 0,\n",
       "          0, 0, 0, 0, 0, 1, 0, 0],\n",
       "         [0, 0, 0, 0, 0, 0, 0, 0, 0, 0, 0, 0, 0, 0, 0, 0, 0, 0, 0, 0, 0, 0, 0, 0,\n",
       "          0, 0, 0, 0, 0, 0, 0, 0],\n",
       "         [0, 0, 0, 0, 0, 0, 0, 0, 0, 0, 0, 1, 0, 0, 0, 0, 0, 0, 0, 0, 0, 0, 0, 0,\n",
       "          0, 0, 0, 0, 0, 0, 0, 0],\n",
       "         [0, 0, 0, 0, 0, 0, 0, 0, 0, 0, 0, 0, 0, 0, 1, 0, 0, 0, 0, 0, 0, 0, 0, 0,\n",
       "          0, 0, 0, 0, 0, 0, 0, 0],\n",
       "         [0, 0, 0, 0, 0, 0, 0, 0, 0, 0, 0, 0, 0, 0, 0, 0, 0, 0, 0, 0, 0, 0, 0, 0,\n",
       "          0, 0, 0, 0, 0, 0, 0, 0]], device='cuda:1'),\n",
       " 'returns': tensor([[0.8429, 0.8515, 0.8601, 0.8687, 0.8775, 0.8864, 0.8953, 0.9044, 0.9135,\n",
       "          0.9227, 0.9321, 0.9415, 0.9510, 0.9606, 0.9703, 0.9801, 0.9900, 1.0000,\n",
       "          0.0000, 0.0000, 0.0000, 0.0000, 0.0000, 0.0000, 0.0000, 0.0000, 0.0000,\n",
       "          0.0000, 0.0000, 0.0000, 0.0000, 0.0000],\n",
       "         [0.8262, 0.8345, 0.8429, 0.8515, 0.8601, 0.8687, 0.8775, 0.8864, 0.8953,\n",
       "          0.9044, 0.9135, 0.9227, 0.9321, 0.9415, 0.9510, 0.9606, 0.9703, 0.9801,\n",
       "          0.9900, 1.0000, 0.0000, 0.0000, 0.0000, 0.0000, 0.0000, 0.0000, 0.0000,\n",
       "          0.0000, 0.0000, 0.0000, 0.0000, 0.0000],\n",
       "         [0.7857, 0.7936, 0.8016, 0.8097, 0.8179, 0.8262, 0.8345, 0.8429, 0.8515,\n",
       "          0.8601, 0.8687, 0.8775, 0.8864, 0.8953, 0.9044, 0.9135, 0.9227, 0.9321,\n",
       "          0.9415, 0.9510, 0.9606, 0.9703, 0.9801, 0.9900, 1.0000, 0.0000, 0.0000,\n",
       "          0.0000, 0.0000, 0.0000, 0.0000, 0.0000],\n",
       "         [0.0000, 0.0000, 0.0000, 0.0000, 0.0000, 0.0000, 0.0000, 0.0000, 0.0000,\n",
       "          0.0000, 0.0000, 0.0000, 0.0000, 0.0000, 0.0000, 0.0000, 0.0000, 0.0000,\n",
       "          0.0000, 0.0000, 0.0000, 0.0000, 0.0000, 0.0000, 0.0000, 0.0000, 0.0000,\n",
       "          0.0000, 0.0000, 0.0000, 0.0000, 0.0000],\n",
       "         [0.7547, 0.7623, 0.7700, 0.7778, 0.7857, 0.7936, 0.8016, 0.8097, 0.8179,\n",
       "          0.8262, 0.8345, 0.8429, 0.8515, 0.8601, 0.8687, 0.8775, 0.8864, 0.8953,\n",
       "          0.9044, 0.9135, 0.9227, 0.9321, 0.9415, 0.9510, 0.9606, 0.9703, 0.9801,\n",
       "          0.9900, 1.0000, 0.0000, 0.0000, 0.0000],\n",
       "         [0.7700, 0.7778, 0.7857, 0.7936, 0.8016, 0.8097, 0.8179, 0.8262, 0.8345,\n",
       "          0.8429, 0.8515, 0.8601, 0.8687, 0.8775, 0.8864, 0.8953, 0.9044, 0.9135,\n",
       "          0.9227, 0.9321, 0.9415, 0.9510, 0.9606, 0.9703, 0.9801, 0.9900, 1.0000,\n",
       "          0.0000, 0.0000, 0.0000, 0.0000, 0.0000],\n",
       "         [0.0000, 0.0000, 0.0000, 0.0000, 0.0000, 0.0000, 0.0000, 0.0000, 0.0000,\n",
       "          0.0000, 0.0000, 0.0000, 0.0000, 0.0000, 0.0000, 0.0000, 0.0000, 0.0000,\n",
       "          0.0000, 0.0000, 0.0000, 0.0000, 0.0000, 0.0000, 0.0000, 0.0000, 0.0000,\n",
       "          0.0000, 0.0000, 0.0000, 0.0000, 0.0000],\n",
       "         [0.7778, 0.7857, 0.7936, 0.8016, 0.8097, 0.8179, 0.8262, 0.8345, 0.8429,\n",
       "          0.8515, 0.8601, 0.8687, 0.8775, 0.8864, 0.8953, 0.9044, 0.9135, 0.9227,\n",
       "          0.9321, 0.9415, 0.9510, 0.9606, 0.9703, 0.9801, 0.9900, 1.0000, 0.0000,\n",
       "          0.0000, 0.0000, 0.0000, 0.0000, 0.0000],\n",
       "         [0.9801, 0.9900, 1.0000, 0.0000, 0.0000, 0.0000, 0.0000, 0.0000, 0.0000,\n",
       "          0.0000, 0.0000, 0.0000, 0.0000, 0.0000, 0.0000, 0.0000, 0.0000, 0.0000,\n",
       "          0.0000, 0.0000, 0.0000, 0.0000, 0.0000, 0.0000, 0.0000, 0.0000, 0.0000,\n",
       "          0.0000, 0.0000, 0.0000, 0.0000, 0.0000],\n",
       "         [0.8775, 0.8864, 0.8953, 0.9044, 0.9135, 0.9227, 0.9321, 0.9415, 0.9510,\n",
       "          0.9606, 0.9703, 0.9801, 0.9900, 1.0000, 0.0000, 0.0000, 0.0000, 0.0000,\n",
       "          0.0000, 0.0000, 0.0000, 0.0000, 0.0000, 0.0000, 0.0000, 0.0000, 0.0000,\n",
       "          0.0000, 0.0000, 0.0000, 0.0000, 0.0000],\n",
       "         [0.9321, 0.9415, 0.9510, 0.9606, 0.9703, 0.9801, 0.9900, 1.0000, 0.0000,\n",
       "          0.0000, 0.0000, 0.0000, 0.0000, 0.0000, 0.0000, 0.0000, 0.0000, 0.0000,\n",
       "          0.0000, 0.0000, 0.0000, 0.0000, 0.0000, 0.0000, 0.0000, 0.0000, 0.0000,\n",
       "          0.0000, 0.0000, 0.0000, 0.0000, 0.0000],\n",
       "         [0.7472, 0.7547, 0.7623, 0.7700, 0.7778, 0.7857, 0.7936, 0.8016, 0.8097,\n",
       "          0.8179, 0.8262, 0.8345, 0.8429, 0.8515, 0.8601, 0.8687, 0.8775, 0.8864,\n",
       "          0.8953, 0.9044, 0.9135, 0.9227, 0.9321, 0.9415, 0.9510, 0.9606, 0.9703,\n",
       "          0.9801, 0.9900, 1.0000, 0.0000, 0.0000],\n",
       "         [0.0000, 0.0000, 0.0000, 0.0000, 0.0000, 0.0000, 0.0000, 0.0000, 0.0000,\n",
       "          0.0000, 0.0000, 0.0000, 0.0000, 0.0000, 0.0000, 0.0000, 0.0000, 0.0000,\n",
       "          0.0000, 0.0000, 0.0000, 0.0000, 0.0000, 0.0000, 0.0000, 0.0000, 0.0000,\n",
       "          0.0000, 0.0000, 0.0000, 0.0000, 0.0000],\n",
       "         [0.8953, 0.9044, 0.9135, 0.9227, 0.9321, 0.9415, 0.9510, 0.9606, 0.9703,\n",
       "          0.9801, 0.9900, 1.0000, 0.0000, 0.0000, 0.0000, 0.0000, 0.0000, 0.0000,\n",
       "          0.0000, 0.0000, 0.0000, 0.0000, 0.0000, 0.0000, 0.0000, 0.0000, 0.0000,\n",
       "          0.0000, 0.0000, 0.0000, 0.0000, 0.0000],\n",
       "         [0.8687, 0.8775, 0.8864, 0.8953, 0.9044, 0.9135, 0.9227, 0.9321, 0.9415,\n",
       "          0.9510, 0.9606, 0.9703, 0.9801, 0.9900, 1.0000, 0.0000, 0.0000, 0.0000,\n",
       "          0.0000, 0.0000, 0.0000, 0.0000, 0.0000, 0.0000, 0.0000, 0.0000, 0.0000,\n",
       "          0.0000, 0.0000, 0.0000, 0.0000, 0.0000],\n",
       "         [0.0000, 0.0000, 0.0000, 0.0000, 0.0000, 0.0000, 0.0000, 0.0000, 0.0000,\n",
       "          0.0000, 0.0000, 0.0000, 0.0000, 0.0000, 0.0000, 0.0000, 0.0000, 0.0000,\n",
       "          0.0000, 0.0000, 0.0000, 0.0000, 0.0000, 0.0000, 0.0000, 0.0000, 0.0000,\n",
       "          0.0000, 0.0000, 0.0000, 0.0000, 0.0000]], device='cuda:1'),\n",
       " 'policy_model': DefaultAgentBrain(\n",
       "   (img_enc): ImageTransformerEncoder(\n",
       "     (embed): Sequential(\n",
       "       (0): PatchEmbedding(\n",
       "         (linear_project): Conv2d(3, 768, kernel_size=(14, 14), stride=(14, 14))\n",
       "       )\n",
       "       (1): PositionalEncoding_2D()\n",
       "       (2): LayerNorm((768,), eps=1e-05, elementwise_affine=True)\n",
       "       (3): Dropout(p=0.1, inplace=False)\n",
       "     )\n",
       "     (pe): PositionalEncoding_2D()\n",
       "     (encoder): TransformerEncoder(\n",
       "       (layers): ModuleList(\n",
       "         (0-5): 6 x TransformerEncoderLayer(\n",
       "           (self_attn): MultiheadAttention(\n",
       "             (out_proj): NonDynamicallyQuantizableLinear(in_features=768, out_features=768, bias=True)\n",
       "           )\n",
       "           (linear1): Linear(in_features=768, out_features=2048, bias=True)\n",
       "           (dropout): Dropout(p=0.1, inplace=False)\n",
       "           (linear2): Linear(in_features=2048, out_features=768, bias=True)\n",
       "           (norm1): LayerNorm((768,), eps=1e-05, elementwise_affine=True)\n",
       "           (norm2): LayerNorm((768,), eps=1e-05, elementwise_affine=True)\n",
       "           (dropout1): Dropout(p=0.1, inplace=False)\n",
       "           (dropout2): Dropout(p=0.1, inplace=False)\n",
       "         )\n",
       "       )\n",
       "     )\n",
       "     (post_norm): LayerNorm((768,), eps=1e-05, elementwise_affine=True)\n",
       "   )\n",
       "   (img_dec): ImageTransformerDecoder(\n",
       "     (pe): PositionalEncoding_2D()\n",
       "     (decoder): TransformerDecoder(\n",
       "       (layers): ModuleList(\n",
       "         (0-2): 3 x TransformerDecoderLayer(\n",
       "           (self_attn): MultiheadAttention(\n",
       "             (out_proj): NonDynamicallyQuantizableLinear(in_features=768, out_features=768, bias=True)\n",
       "           )\n",
       "           (multihead_attn): MultiheadAttention(\n",
       "             (out_proj): NonDynamicallyQuantizableLinear(in_features=768, out_features=768, bias=True)\n",
       "           )\n",
       "           (linear1): Linear(in_features=768, out_features=2048, bias=True)\n",
       "           (dropout): Dropout(p=0.01, inplace=False)\n",
       "           (linear2): Linear(in_features=2048, out_features=768, bias=True)\n",
       "           (norm1): LayerNorm((768,), eps=1e-05, elementwise_affine=True)\n",
       "           (norm2): LayerNorm((768,), eps=1e-05, elementwise_affine=True)\n",
       "           (norm3): LayerNorm((768,), eps=1e-05, elementwise_affine=True)\n",
       "           (dropout1): Dropout(p=0.01, inplace=False)\n",
       "           (dropout2): Dropout(p=0.01, inplace=False)\n",
       "           (dropout3): Dropout(p=0.01, inplace=False)\n",
       "         )\n",
       "       )\n",
       "     )\n",
       "     (linear_layer): Sequential(\n",
       "       (0): Dropout(p=0.1, inplace=False)\n",
       "       (1): LayerNorm((768,), eps=1e-05, elementwise_affine=True)\n",
       "       (2): PatchEmbeddingTranspose(\n",
       "         (linear_project): ConvTranspose2d(768, 3, kernel_size=(14, 14), stride=(14, 14))\n",
       "       )\n",
       "     )\n",
       "   )\n",
       "   (text_enc): SentenceTransformerEncoder(\n",
       "     (embed): Sequential(\n",
       "       (0): Embedding(5, 768, padding_idx=0)\n",
       "       (1): PositionalEncoding()\n",
       "       (2): LayerNorm((768,), eps=1e-05, elementwise_affine=True)\n",
       "       (3): Dropout(p=0.1, inplace=False)\n",
       "     )\n",
       "     (encoder): TransformerEncoder(\n",
       "       (layers): ModuleList(\n",
       "         (0-7): 8 x TransformerEncoderLayer(\n",
       "           (self_attn): MultiheadAttention(\n",
       "             (out_proj): NonDynamicallyQuantizableLinear(in_features=768, out_features=768, bias=True)\n",
       "           )\n",
       "           (linear1): Linear(in_features=768, out_features=2048, bias=True)\n",
       "           (dropout): Dropout(p=0.1, inplace=False)\n",
       "           (linear2): Linear(in_features=2048, out_features=768, bias=True)\n",
       "           (norm1): LayerNorm((768,), eps=1e-05, elementwise_affine=True)\n",
       "           (norm2): LayerNorm((768,), eps=1e-05, elementwise_affine=True)\n",
       "           (dropout1): Dropout(p=0.1, inplace=False)\n",
       "           (dropout2): Dropout(p=0.1, inplace=False)\n",
       "         )\n",
       "       )\n",
       "     )\n",
       "   )\n",
       "   (text_dec): SentenceTransformerDecoder(\n",
       "     (decoder): TransformerDecoder(\n",
       "       (layers): ModuleList(\n",
       "         (0-3): 4 x TransformerDecoderLayer(\n",
       "           (self_attn): MultiheadAttention(\n",
       "             (out_proj): NonDynamicallyQuantizableLinear(in_features=768, out_features=768, bias=True)\n",
       "           )\n",
       "           (multihead_attn): MultiheadAttention(\n",
       "             (out_proj): NonDynamicallyQuantizableLinear(in_features=768, out_features=768, bias=True)\n",
       "           )\n",
       "           (linear1): Linear(in_features=768, out_features=2048, bias=True)\n",
       "           (dropout): Dropout(p=0.1, inplace=False)\n",
       "           (linear2): Linear(in_features=2048, out_features=768, bias=True)\n",
       "           (norm1): LayerNorm((768,), eps=1e-05, elementwise_affine=True)\n",
       "           (norm2): LayerNorm((768,), eps=1e-05, elementwise_affine=True)\n",
       "           (norm3): LayerNorm((768,), eps=1e-05, elementwise_affine=True)\n",
       "           (dropout1): Dropout(p=0.1, inplace=False)\n",
       "           (dropout2): Dropout(p=0.1, inplace=False)\n",
       "           (dropout3): Dropout(p=0.1, inplace=False)\n",
       "         )\n",
       "       )\n",
       "     )\n",
       "     (fc): Sequential(\n",
       "       (0): Linear(in_features=768, out_features=3072, bias=True)\n",
       "       (1): LayerNorm((3072,), eps=1e-05, elementwise_affine=True)\n",
       "       (2): LeakyReLU(negative_slope=0.01)\n",
       "       (3): Dropout(p=0.1, inplace=False)\n",
       "       (4): Linear(in_features=3072, out_features=5, bias=True)\n",
       "     )\n",
       "   )\n",
       "   (dopamine): IntermediateTransformerScorer(\n",
       "     (decoder): TransformerDecoder(\n",
       "       (layers): ModuleList(\n",
       "         (0-3): 4 x TransformerDecoderLayer(\n",
       "           (self_attn): MultiheadAttention(\n",
       "             (out_proj): NonDynamicallyQuantizableLinear(in_features=768, out_features=768, bias=True)\n",
       "           )\n",
       "           (multihead_attn): MultiheadAttention(\n",
       "             (out_proj): NonDynamicallyQuantizableLinear(in_features=768, out_features=768, bias=True)\n",
       "           )\n",
       "           (linear1): Linear(in_features=768, out_features=2048, bias=True)\n",
       "           (dropout): Dropout(p=0.1, inplace=False)\n",
       "           (linear2): Linear(in_features=2048, out_features=768, bias=True)\n",
       "           (norm1): LayerNorm((768,), eps=1e-05, elementwise_affine=True)\n",
       "           (norm2): LayerNorm((768,), eps=1e-05, elementwise_affine=True)\n",
       "           (norm3): LayerNorm((768,), eps=1e-05, elementwise_affine=True)\n",
       "           (dropout1): Dropout(p=0.1, inplace=False)\n",
       "           (dropout2): Dropout(p=0.1, inplace=False)\n",
       "           (dropout3): Dropout(p=0.1, inplace=False)\n",
       "         )\n",
       "       )\n",
       "     )\n",
       "     (fc): Sequential(\n",
       "       (0): Linear(in_features=768, out_features=3072, bias=True)\n",
       "       (1): LayerNorm((3072,), eps=1e-05, elementwise_affine=True)\n",
       "       (2): LeakyReLU(negative_slope=0.01)\n",
       "       (3): Dropout(p=0.1, inplace=False)\n",
       "       (4): Linear(in_features=3072, out_features=1, bias=True)\n",
       "     )\n",
       "   )\n",
       " ),\n",
       " 'value_model': <bound method DefaultAgentBrain.evaluate_text of DefaultAgentBrain(\n",
       "   (img_enc): ImageTransformerEncoder(\n",
       "     (embed): Sequential(\n",
       "       (0): PatchEmbedding(\n",
       "         (linear_project): Conv2d(3, 768, kernel_size=(14, 14), stride=(14, 14))\n",
       "       )\n",
       "       (1): PositionalEncoding_2D()\n",
       "       (2): LayerNorm((768,), eps=1e-05, elementwise_affine=True)\n",
       "       (3): Dropout(p=0.1, inplace=False)\n",
       "     )\n",
       "     (pe): PositionalEncoding_2D()\n",
       "     (encoder): TransformerEncoder(\n",
       "       (layers): ModuleList(\n",
       "         (0-5): 6 x TransformerEncoderLayer(\n",
       "           (self_attn): MultiheadAttention(\n",
       "             (out_proj): NonDynamicallyQuantizableLinear(in_features=768, out_features=768, bias=True)\n",
       "           )\n",
       "           (linear1): Linear(in_features=768, out_features=2048, bias=True)\n",
       "           (dropout): Dropout(p=0.1, inplace=False)\n",
       "           (linear2): Linear(in_features=2048, out_features=768, bias=True)\n",
       "           (norm1): LayerNorm((768,), eps=1e-05, elementwise_affine=True)\n",
       "           (norm2): LayerNorm((768,), eps=1e-05, elementwise_affine=True)\n",
       "           (dropout1): Dropout(p=0.1, inplace=False)\n",
       "           (dropout2): Dropout(p=0.1, inplace=False)\n",
       "         )\n",
       "       )\n",
       "     )\n",
       "     (post_norm): LayerNorm((768,), eps=1e-05, elementwise_affine=True)\n",
       "   )\n",
       "   (img_dec): ImageTransformerDecoder(\n",
       "     (pe): PositionalEncoding_2D()\n",
       "     (decoder): TransformerDecoder(\n",
       "       (layers): ModuleList(\n",
       "         (0-2): 3 x TransformerDecoderLayer(\n",
       "           (self_attn): MultiheadAttention(\n",
       "             (out_proj): NonDynamicallyQuantizableLinear(in_features=768, out_features=768, bias=True)\n",
       "           )\n",
       "           (multihead_attn): MultiheadAttention(\n",
       "             (out_proj): NonDynamicallyQuantizableLinear(in_features=768, out_features=768, bias=True)\n",
       "           )\n",
       "           (linear1): Linear(in_features=768, out_features=2048, bias=True)\n",
       "           (dropout): Dropout(p=0.01, inplace=False)\n",
       "           (linear2): Linear(in_features=2048, out_features=768, bias=True)\n",
       "           (norm1): LayerNorm((768,), eps=1e-05, elementwise_affine=True)\n",
       "           (norm2): LayerNorm((768,), eps=1e-05, elementwise_affine=True)\n",
       "           (norm3): LayerNorm((768,), eps=1e-05, elementwise_affine=True)\n",
       "           (dropout1): Dropout(p=0.01, inplace=False)\n",
       "           (dropout2): Dropout(p=0.01, inplace=False)\n",
       "           (dropout3): Dropout(p=0.01, inplace=False)\n",
       "         )\n",
       "       )\n",
       "     )\n",
       "     (linear_layer): Sequential(\n",
       "       (0): Dropout(p=0.1, inplace=False)\n",
       "       (1): LayerNorm((768,), eps=1e-05, elementwise_affine=True)\n",
       "       (2): PatchEmbeddingTranspose(\n",
       "         (linear_project): ConvTranspose2d(768, 3, kernel_size=(14, 14), stride=(14, 14))\n",
       "       )\n",
       "     )\n",
       "   )\n",
       "   (text_enc): SentenceTransformerEncoder(\n",
       "     (embed): Sequential(\n",
       "       (0): Embedding(5, 768, padding_idx=0)\n",
       "       (1): PositionalEncoding()\n",
       "       (2): LayerNorm((768,), eps=1e-05, elementwise_affine=True)\n",
       "       (3): Dropout(p=0.1, inplace=False)\n",
       "     )\n",
       "     (encoder): TransformerEncoder(\n",
       "       (layers): ModuleList(\n",
       "         (0-7): 8 x TransformerEncoderLayer(\n",
       "           (self_attn): MultiheadAttention(\n",
       "             (out_proj): NonDynamicallyQuantizableLinear(in_features=768, out_features=768, bias=True)\n",
       "           )\n",
       "           (linear1): Linear(in_features=768, out_features=2048, bias=True)\n",
       "           (dropout): Dropout(p=0.1, inplace=False)\n",
       "           (linear2): Linear(in_features=2048, out_features=768, bias=True)\n",
       "           (norm1): LayerNorm((768,), eps=1e-05, elementwise_affine=True)\n",
       "           (norm2): LayerNorm((768,), eps=1e-05, elementwise_affine=True)\n",
       "           (dropout1): Dropout(p=0.1, inplace=False)\n",
       "           (dropout2): Dropout(p=0.1, inplace=False)\n",
       "         )\n",
       "       )\n",
       "     )\n",
       "   )\n",
       "   (text_dec): SentenceTransformerDecoder(\n",
       "     (decoder): TransformerDecoder(\n",
       "       (layers): ModuleList(\n",
       "         (0-3): 4 x TransformerDecoderLayer(\n",
       "           (self_attn): MultiheadAttention(\n",
       "             (out_proj): NonDynamicallyQuantizableLinear(in_features=768, out_features=768, bias=True)\n",
       "           )\n",
       "           (multihead_attn): MultiheadAttention(\n",
       "             (out_proj): NonDynamicallyQuantizableLinear(in_features=768, out_features=768, bias=True)\n",
       "           )\n",
       "           (linear1): Linear(in_features=768, out_features=2048, bias=True)\n",
       "           (dropout): Dropout(p=0.1, inplace=False)\n",
       "           (linear2): Linear(in_features=2048, out_features=768, bias=True)\n",
       "           (norm1): LayerNorm((768,), eps=1e-05, elementwise_affine=True)\n",
       "           (norm2): LayerNorm((768,), eps=1e-05, elementwise_affine=True)\n",
       "           (norm3): LayerNorm((768,), eps=1e-05, elementwise_affine=True)\n",
       "           (dropout1): Dropout(p=0.1, inplace=False)\n",
       "           (dropout2): Dropout(p=0.1, inplace=False)\n",
       "           (dropout3): Dropout(p=0.1, inplace=False)\n",
       "         )\n",
       "       )\n",
       "     )\n",
       "     (fc): Sequential(\n",
       "       (0): Linear(in_features=768, out_features=3072, bias=True)\n",
       "       (1): LayerNorm((3072,), eps=1e-05, elementwise_affine=True)\n",
       "       (2): LeakyReLU(negative_slope=0.01)\n",
       "       (3): Dropout(p=0.1, inplace=False)\n",
       "       (4): Linear(in_features=3072, out_features=5, bias=True)\n",
       "     )\n",
       "   )\n",
       "   (dopamine): IntermediateTransformerScorer(\n",
       "     (decoder): TransformerDecoder(\n",
       "       (layers): ModuleList(\n",
       "         (0-3): 4 x TransformerDecoderLayer(\n",
       "           (self_attn): MultiheadAttention(\n",
       "             (out_proj): NonDynamicallyQuantizableLinear(in_features=768, out_features=768, bias=True)\n",
       "           )\n",
       "           (multihead_attn): MultiheadAttention(\n",
       "             (out_proj): NonDynamicallyQuantizableLinear(in_features=768, out_features=768, bias=True)\n",
       "           )\n",
       "           (linear1): Linear(in_features=768, out_features=2048, bias=True)\n",
       "           (dropout): Dropout(p=0.1, inplace=False)\n",
       "           (linear2): Linear(in_features=2048, out_features=768, bias=True)\n",
       "           (norm1): LayerNorm((768,), eps=1e-05, elementwise_affine=True)\n",
       "           (norm2): LayerNorm((768,), eps=1e-05, elementwise_affine=True)\n",
       "           (norm3): LayerNorm((768,), eps=1e-05, elementwise_affine=True)\n",
       "           (dropout1): Dropout(p=0.1, inplace=False)\n",
       "           (dropout2): Dropout(p=0.1, inplace=False)\n",
       "           (dropout3): Dropout(p=0.1, inplace=False)\n",
       "         )\n",
       "       )\n",
       "     )\n",
       "     (fc): Sequential(\n",
       "       (0): Linear(in_features=768, out_features=3072, bias=True)\n",
       "       (1): LayerNorm((3072,), eps=1e-05, elementwise_affine=True)\n",
       "       (2): LeakyReLU(negative_slope=0.01)\n",
       "       (3): Dropout(p=0.1, inplace=False)\n",
       "       (4): Linear(in_features=3072, out_features=1, bias=True)\n",
       "     )\n",
       "   )\n",
       " )>,\n",
       " 'reward_func': None,\n",
       " 'discounts': tensor([1.0000, 0.9897, 0.9795, 0.9694, 0.9594, 0.9495, 0.9397, 0.9300, 0.9204,\n",
       "         0.9109, 0.9015, 0.8923, 0.8831, 0.8739, 0.8649, 0.8560, 0.8472, 0.8385,\n",
       "         0.8298, 0.8213, 0.8128, 0.8044, 0.7961, 0.7879, 0.7798, 0.7717, 0.7638,\n",
       "         0.7559, 0.7481, 0.7404, 0.7328, 0.7252, 0.7177], device='cuda:1'),\n",
       " 'tau_discounts': tensor([1.0000, 0.9591, 0.9198, 0.8822, 0.8461, 0.8115, 0.7783, 0.7464, 0.7159,\n",
       "         0.6866, 0.6585, 0.6316, 0.6057, 0.5810, 0.5572, 0.5344, 0.5125, 0.4916,\n",
       "         0.4714, 0.4522, 0.4337, 0.4159, 0.3989, 0.3826, 0.3669, 0.3519, 0.3375,\n",
       "         0.3237, 0.3105, 0.2978, 0.2856, 0.2739, 0.2627], device='cuda:1'),\n",
       " 'tensor_keys': ['contexts',\n",
       "  'logpas',\n",
       "  'traces',\n",
       "  'entropies',\n",
       "  'gaes',\n",
       "  'terminated',\n",
       "  'past_terminated',\n",
       "  'values',\n",
       "  'rewards',\n",
       "  'returns',\n",
       "  'discounts',\n",
       "  'tau_discounts']}"
      ]
     },
     "execution_count": 16,
     "metadata": {},
     "output_type": "execute_result"
    }
   ],
   "source": [
    "buff_guide.__dict__"
   ]
  },
  {
   "cell_type": "code",
   "execution_count": 17,
   "id": "a8d71a62-0adf-4a03-8977-0a487244481b",
   "metadata": {},
   "outputs": [],
   "source": [
    "game_trace = buff_guide.settings_buffer[0]"
   ]
  },
  {
   "cell_type": "code",
   "execution_count": 18,
   "id": "c44c3816-6733-4929-8ee7-19fe62c01220",
   "metadata": {},
   "outputs": [
    {
     "data": {
      "text/plain": [
       "<matplotlib.image.AxesImage at 0x7f79c5a3ed20>"
      ]
     },
     "execution_count": 18,
     "metadata": {},
     "output_type": "execute_result"
    },
    {
     "data": {
      "image/png": "[encoded data removed]",
      "text/plain": [
       "<Figure size 640x480 with 1 Axes>"
      ]
     },
     "metadata": {},
     "output_type": "display_data"
    }
   ],
   "source": [
    "plt.imshow(discreteGame(game_trace[15]).getData())"
   ]
  },
  {
   "cell_type": "code",
   "execution_count": 19,
   "id": "605604c1-dc3d-47b8-a9f2-e807d19500a2",
   "metadata": {},
   "outputs": [
    {
     "data": {
      "text/plain": [
       "0.5474470657728686"
      ]
     },
     "execution_count": 19,
     "metadata": {},
     "output_type": "execute_result"
    }
   ],
   "source": [
    "game_trace[7].direction"
   ]
  },
  {
   "cell_type": "code",
   "execution_count": 20,
   "id": "00d86c07-4659-4a07-a426-4d03bbcb86db",
   "metadata": {},
   "outputs": [
    {
     "data": {
      "text/plain": [
       "0.2513468845677507"
      ]
     },
     "execution_count": 20,
     "metadata": {},
     "output_type": "execute_result"
    }
   ],
   "source": [
    "game_trace[0].agent_x"
   ]
  },
  {
   "cell_type": "code",
   "execution_count": 21,
   "id": "53ae7bbd-c898-4ea8-8b2d-bf0371316bdc",
   "metadata": {},
   "outputs": [
    {
     "data": {
      "text/plain": [
       "0.2513468845677507"
      ]
     },
     "execution_count": 21,
     "metadata": {},
     "output_type": "execute_result"
    }
   ],
   "source": [
    "game_trace[10].agent_x"
   ]
  },
  {
   "cell_type": "code",
   "execution_count": 22,
   "id": "1ea19727-7694-4845-8e86-d495fd756067",
   "metadata": {},
   "outputs": [
    {
     "data": {
      "text/plain": [
       "tensor([[0, 0, 0, 0, 0, 0, 0, 0, 0, 0, 0, 0, 0, 0, 0, 0, 0, 1, 0, 0, 0, 0, 0, 0,\n",
       "         0, 0, 0, 0, 0, 0, 0, 0],\n",
       "        [0, 0, 0, 0, 0, 0, 0, 0, 0, 0, 0, 0, 0, 0, 0, 0, 0, 0, 0, 1, 0, 0, 0, 0,\n",
       "         0, 0, 0, 0, 0, 0, 0, 0],\n",
       "        [0, 0, 0, 0, 0, 0, 0, 0, 0, 0, 0, 0, 0, 0, 0, 0, 0, 0, 0, 0, 0, 0, 0, 0,\n",
       "         1, 0, 0, 0, 0, 0, 0, 0],\n",
       "        [0, 0, 0, 0, 0, 0, 0, 0, 0, 0, 0, 0, 0, 0, 0, 0, 0, 0, 0, 0, 0, 0, 0, 0,\n",
       "         0, 0, 0, 0, 0, 0, 0, 0],\n",
       "        [0, 0, 0, 0, 0, 0, 0, 0, 0, 0, 0, 0, 0, 0, 0, 0, 0, 0, 0, 0, 0, 0, 0, 0,\n",
       "         0, 0, 0, 0, 1, 0, 0, 0],\n",
       "        [0, 0, 0, 0, 0, 0, 0, 0, 0, 0, 0, 0, 0, 0, 0, 0, 0, 0, 0, 0, 0, 0, 0, 0,\n",
       "         0, 0, 1, 0, 0, 0, 0, 0],\n",
       "        [0, 0, 0, 0, 0, 0, 0, 0, 0, 0, 0, 0, 0, 0, 0, 0, 0, 0, 0, 0, 0, 0, 0, 0,\n",
       "         0, 0, 0, 0, 0, 0, 0, 0],\n",
       "        [0, 0, 0, 0, 0, 0, 0, 0, 0, 0, 0, 0, 0, 0, 0, 0, 0, 0, 0, 0, 0, 0, 0, 0,\n",
       "         0, 1, 0, 0, 0, 0, 0, 0],\n",
       "        [0, 0, 1, 0, 0, 0, 0, 0, 0, 0, 0, 0, 0, 0, 0, 0, 0, 0, 0, 0, 0, 0, 0, 0,\n",
       "         0, 0, 0, 0, 0, 0, 0, 0],\n",
       "        [0, 0, 0, 0, 0, 0, 0, 0, 0, 0, 0, 0, 0, 1, 0, 0, 0, 0, 0, 0, 0, 0, 0, 0,\n",
       "         0, 0, 0, 0, 0, 0, 0, 0],\n",
       "        [0, 0, 0, 0, 0, 0, 0, 1, 0, 0, 0, 0, 0, 0, 0, 0, 0, 0, 0, 0, 0, 0, 0, 0,\n",
       "         0, 0, 0, 0, 0, 0, 0, 0],\n",
       "        [0, 0, 0, 0, 0, 0, 0, 0, 0, 0, 0, 0, 0, 0, 0, 0, 0, 0, 0, 0, 0, 0, 0, 0,\n",
       "         0, 0, 0, 0, 0, 1, 0, 0],\n",
       "        [0, 0, 0, 0, 0, 0, 0, 0, 0, 0, 0, 0, 0, 0, 0, 0, 0, 0, 0, 0, 0, 0, 0, 0,\n",
       "         0, 0, 0, 0, 0, 0, 0, 0],\n",
       "        [0, 0, 0, 0, 0, 0, 0, 0, 0, 0, 0, 1, 0, 0, 0, 0, 0, 0, 0, 0, 0, 0, 0, 0,\n",
       "         0, 0, 0, 0, 0, 0, 0, 0],\n",
       "        [0, 0, 0, 0, 0, 0, 0, 0, 0, 0, 0, 0, 0, 0, 1, 0, 0, 0, 0, 0, 0, 0, 0, 0,\n",
       "         0, 0, 0, 0, 0, 0, 0, 0],\n",
       "        [0, 0, 0, 0, 0, 0, 0, 0, 0, 0, 0, 0, 0, 0, 0, 0, 0, 0, 0, 0, 0, 0, 0, 0,\n",
       "         0, 0, 0, 0, 0, 0, 0, 0]], device='cuda:1')"
      ]
     },
     "execution_count": 22,
     "metadata": {},
     "output_type": "execute_result"
    }
   ],
   "source": [
    "buff_guide.rewards"
   ]
  },
  {
   "cell_type": "code",
   "execution_count": 23,
   "id": "2e4d334f-140c-45ef-ae66-4e2a2d55046b",
   "metadata": {},
   "outputs": [],
   "source": [
    "# Main proble so far: all the settings are stored wrong. Only the initial value is storedd, not any subsequent one at all\n",
    "# This is true at the very least in the case of the 'fake data fill' func.\n",
    "# THis must change.\n",
    "#\n",
    "# It was also cool to see that, after round 10, the agent tried to turn and then go forward. It failed to go far enough, \n",
    "# but clearly this imitiation strategy works a little.\n",
    "# fake_data-fill also needs not to call the dopamine func or the gaes, unless I want it to. Add that option."
   ]
  },
  {
   "cell_type": "code",
   "execution_count": 24,
   "id": "07d236d0-d818-4df9-a54c-344c2275c184",
   "metadata": {},
   "outputs": [
    {
     "data": {
      "text/plain": [
       "tensor([[0.8429, 0.8515, 0.8601, 0.8687, 0.8775, 0.8864, 0.8953, 0.9044, 0.9135,\n",
       "         0.9227, 0.9321, 0.9415, 0.9510, 0.9606, 0.9703, 0.9801, 0.9900, 1.0000,\n",
       "         0.0000, 0.0000, 0.0000, 0.0000, 0.0000, 0.0000, 0.0000, 0.0000, 0.0000,\n",
       "         0.0000, 0.0000, 0.0000, 0.0000, 0.0000],\n",
       "        [0.8262, 0.8345, 0.8429, 0.8515, 0.8601, 0.8687, 0.8775, 0.8864, 0.8953,\n",
       "         0.9044, 0.9135, 0.9227, 0.9321, 0.9415, 0.9510, 0.9606, 0.9703, 0.9801,\n",
       "         0.9900, 1.0000, 0.0000, 0.0000, 0.0000, 0.0000, 0.0000, 0.0000, 0.0000,\n",
       "         0.0000, 0.0000, 0.0000, 0.0000, 0.0000],\n",
       "        [0.7857, 0.7936, 0.8016, 0.8097, 0.8179, 0.8262, 0.8345, 0.8429, 0.8515,\n",
       "         0.8601, 0.8687, 0.8775, 0.8864, 0.8953, 0.9044, 0.9135, 0.9227, 0.9321,\n",
       "         0.9415, 0.9510, 0.9606, 0.9703, 0.9801, 0.9900, 1.0000, 0.0000, 0.0000,\n",
       "         0.0000, 0.0000, 0.0000, 0.0000, 0.0000],\n",
       "        [0.0000, 0.0000, 0.0000, 0.0000, 0.0000, 0.0000, 0.0000, 0.0000, 0.0000,\n",
       "         0.0000, 0.0000, 0.0000, 0.0000, 0.0000, 0.0000, 0.0000, 0.0000, 0.0000,\n",
       "         0.0000, 0.0000, 0.0000, 0.0000, 0.0000, 0.0000, 0.0000, 0.0000, 0.0000,\n",
       "         0.0000, 0.0000, 0.0000, 0.0000, 0.0000],\n",
       "        [0.7547, 0.7623, 0.7700, 0.7778, 0.7857, 0.7936, 0.8016, 0.8097, 0.8179,\n",
       "         0.8262, 0.8345, 0.8429, 0.8515, 0.8601, 0.8687, 0.8775, 0.8864, 0.8953,\n",
       "         0.9044, 0.9135, 0.9227, 0.9321, 0.9415, 0.9510, 0.9606, 0.9703, 0.9801,\n",
       "         0.9900, 1.0000, 0.0000, 0.0000, 0.0000],\n",
       "        [0.7700, 0.7778, 0.7857, 0.7936, 0.8016, 0.8097, 0.8179, 0.8262, 0.8345,\n",
       "         0.8429, 0.8515, 0.8601, 0.8687, 0.8775, 0.8864, 0.8953, 0.9044, 0.9135,\n",
       "         0.9227, 0.9321, 0.9415, 0.9510, 0.9606, 0.9703, 0.9801, 0.9900, 1.0000,\n",
       "         0.0000, 0.0000, 0.0000, 0.0000, 0.0000],\n",
       "        [0.0000, 0.0000, 0.0000, 0.0000, 0.0000, 0.0000, 0.0000, 0.0000, 0.0000,\n",
       "         0.0000, 0.0000, 0.0000, 0.0000, 0.0000, 0.0000, 0.0000, 0.0000, 0.0000,\n",
       "         0.0000, 0.0000, 0.0000, 0.0000, 0.0000, 0.0000, 0.0000, 0.0000, 0.0000,\n",
       "         0.0000, 0.0000, 0.0000, 0.0000, 0.0000],\n",
       "        [0.7778, 0.7857, 0.7936, 0.8016, 0.8097, 0.8179, 0.8262, 0.8345, 0.8429,\n",
       "         0.8515, 0.8601, 0.8687, 0.8775, 0.8864, 0.8953, 0.9044, 0.9135, 0.9227,\n",
       "         0.9321, 0.9415, 0.9510, 0.9606, 0.9703, 0.9801, 0.9900, 1.0000, 0.0000,\n",
       "         0.0000, 0.0000, 0.0000, 0.0000, 0.0000],\n",
       "        [0.9801, 0.9900, 1.0000, 0.0000, 0.0000, 0.0000, 0.0000, 0.0000, 0.0000,\n",
       "         0.0000, 0.0000, 0.0000, 0.0000, 0.0000, 0.0000, 0.0000, 0.0000, 0.0000,\n",
       "         0.0000, 0.0000, 0.0000, 0.0000, 0.0000, 0.0000, 0.0000, 0.0000, 0.0000,\n",
       "         0.0000, 0.0000, 0.0000, 0.0000, 0.0000],\n",
       "        [0.8775, 0.8864, 0.8953, 0.9044, 0.9135, 0.9227, 0.9321, 0.9415, 0.9510,\n",
       "         0.9606, 0.9703, 0.9801, 0.9900, 1.0000, 0.0000, 0.0000, 0.0000, 0.0000,\n",
       "         0.0000, 0.0000, 0.0000, 0.0000, 0.0000, 0.0000, 0.0000, 0.0000, 0.0000,\n",
       "         0.0000, 0.0000, 0.0000, 0.0000, 0.0000],\n",
       "        [0.9321, 0.9415, 0.9510, 0.9606, 0.9703, 0.9801, 0.9900, 1.0000, 0.0000,\n",
       "         0.0000, 0.0000, 0.0000, 0.0000, 0.0000, 0.0000, 0.0000, 0.0000, 0.0000,\n",
       "         0.0000, 0.0000, 0.0000, 0.0000, 0.0000, 0.0000, 0.0000, 0.0000, 0.0000,\n",
       "         0.0000, 0.0000, 0.0000, 0.0000, 0.0000],\n",
       "        [0.7472, 0.7547, 0.7623, 0.7700, 0.7778, 0.7857, 0.7936, 0.8016, 0.8097,\n",
       "         0.8179, 0.8262, 0.8345, 0.8429, 0.8515, 0.8601, 0.8687, 0.8775, 0.8864,\n",
       "         0.8953, 0.9044, 0.9135, 0.9227, 0.9321, 0.9415, 0.9510, 0.9606, 0.9703,\n",
       "         0.9801, 0.9900, 1.0000, 0.0000, 0.0000],\n",
       "        [0.0000, 0.0000, 0.0000, 0.0000, 0.0000, 0.0000, 0.0000, 0.0000, 0.0000,\n",
       "         0.0000, 0.0000, 0.0000, 0.0000, 0.0000, 0.0000, 0.0000, 0.0000, 0.0000,\n",
       "         0.0000, 0.0000, 0.0000, 0.0000, 0.0000, 0.0000, 0.0000, 0.0000, 0.0000,\n",
       "         0.0000, 0.0000, 0.0000, 0.0000, 0.0000],\n",
       "        [0.8953, 0.9044, 0.9135, 0.9227, 0.9321, 0.9415, 0.9510, 0.9606, 0.9703,\n",
       "         0.9801, 0.9900, 1.0000, 0.0000, 0.0000, 0.0000, 0.0000, 0.0000, 0.0000,\n",
       "         0.0000, 0.0000, 0.0000, 0.0000, 0.0000, 0.0000, 0.0000, 0.0000, 0.0000,\n",
       "         0.0000, 0.0000, 0.0000, 0.0000, 0.0000],\n",
       "        [0.8687, 0.8775, 0.8864, 0.8953, 0.9044, 0.9135, 0.9227, 0.9321, 0.9415,\n",
       "         0.9510, 0.9606, 0.9703, 0.9801, 0.9900, 1.0000, 0.0000, 0.0000, 0.0000,\n",
       "         0.0000, 0.0000, 0.0000, 0.0000, 0.0000, 0.0000, 0.0000, 0.0000, 0.0000,\n",
       "         0.0000, 0.0000, 0.0000, 0.0000, 0.0000],\n",
       "        [0.0000, 0.0000, 0.0000, 0.0000, 0.0000, 0.0000, 0.0000, 0.0000, 0.0000,\n",
       "         0.0000, 0.0000, 0.0000, 0.0000, 0.0000, 0.0000, 0.0000, 0.0000, 0.0000,\n",
       "         0.0000, 0.0000, 0.0000, 0.0000, 0.0000, 0.0000, 0.0000, 0.0000, 0.0000,\n",
       "         0.0000, 0.0000, 0.0000, 0.0000, 0.0000]], device='cuda:1')"
      ]
     },
     "execution_count": 24,
     "metadata": {},
     "output_type": "execute_result"
    }
   ],
   "source": [
    "buff_guide.returns"
   ]
  },
  {
   "cell_type": "code",
   "execution_count": 25,
   "id": "430cab1f-4e27-4809-88b0-2af7497d2f25",
   "metadata": {},
   "outputs": [
    {
     "data": {
      "text/plain": [
       "tensor([[0., 0.],\n",
       "        [0., 0.],\n",
       "        [0., 0.],\n",
       "        [0., 0.],\n",
       "        [0., 0.],\n",
       "        [0., 0.],\n",
       "        [0., 0.],\n",
       "        [0., 0.],\n",
       "        [0., 0.],\n",
       "        [0., 0.],\n",
       "        [0., 0.],\n",
       "        [0., 0.],\n",
       "        [0., 0.],\n",
       "        [0., 0.],\n",
       "        [0., 0.],\n",
       "        [0., 0.]], device='cuda:1')"
      ]
     },
     "execution_count": 25,
     "metadata": {},
     "output_type": "execute_result"
    }
   ],
   "source": [
    "buff_classic.returns"
   ]
  },
  {
   "cell_type": "code",
   "execution_count": 26,
   "id": "3efba30c-d725-4b0f-938d-4d2c603df7a6",
   "metadata": {},
   "outputs": [
    {
     "data": {
      "text/plain": [
       "<RL_helper.GameOutputBuffer at 0x7f79c5a3daf0>"
      ]
     },
     "execution_count": 26,
     "metadata": {},
     "output_type": "execute_result"
    }
   ],
   "source": [
    "# let's not waste gpu space\n",
    "buff_classic.cpu()\n",
    "buff_guide.cpu()"
   ]
  },
  {
   "cell_type": "code",
   "execution_count": 27,
   "id": "1308ef54-3aa8-4295-a40a-a7c2495d4c43",
   "metadata": {},
   "outputs": [],
   "source": [
    "def average_return(bb):\n",
    "    \"\"\"The average return (at the end of the seeds alone) from a buffer-buffer\"\"\"\n",
    "    s = torch.zeros(bb[0].returns[:, 0].size(), device = bb[0].returns[:, 0].device)\n",
    "    for b in bb:\n",
    "        #s += bb[0].returns[:, 0]\n",
    "        s += b.returns[:, 0]\n",
    "    return torch.sum(s).item()/(len(bb) * bb[0].returns.size()[0])"
   ]
  },
  {
   "cell_type": "code",
   "execution_count": 28,
   "id": "6d75ccb7-c661-42e7-abe8-e8105cd30fd4",
   "metadata": {},
   "outputs": [],
   "source": [
    "def get_bb(num_buffers=64, batch_size=1, start_with_guide=True):\n",
    "    bb = []\n",
    "    brain.eval()\n",
    "    for i in range(num_buffers):\n",
    "        print(i)\n",
    "        # In this case, we are only training the 'dopamine' layer on the val training loop\n",
    "        buff = GameOutputBuffer(brain, brain.evaluate_text, gamma=0.99, tau=0.97, default_batch_size=batch_size)\n",
    "        if start_with_guide and (i == 0):\n",
    "            fake_data_fill(buff, G, batch_size, device=device) # This one guide is the only difference between this and the main one.\n",
    "        else:\n",
    "            buff.fill(G, num_games=batch_size)\n",
    "        buff.cpu()\n",
    "        bb.append(buff)\n",
    "        #print(buff.traces)\n",
    "    score = average_return(bb)\n",
    "    score_tensor = torch.tensor([score], device=device)\n",
    "    for i in range(num_buffers):\n",
    "        print(i)\n",
    "        buff = bb[i]\n",
    "        buff.to(device)\n",
    "        buff.use_values(score_tensor) # computes values tensor and gae's\n",
    "        buff.cpu()\n",
    "    return bb"
   ]
  },
  {
   "cell_type": "code",
   "execution_count": 29,
   "id": "acf4e3e1-5e15-4fd8-9c70-d16a42a259fe",
   "metadata": {},
   "outputs": [
    {
     "name": "stdout",
     "output_type": "stream",
     "text": [
      "0\n",
      "1\n",
      "2\n",
      "3\n",
      "4\n",
      "5\n",
      "6\n",
      "7\n",
      "0\n",
      "1\n",
      "2\n",
      "3\n",
      "4\n",
      "5\n",
      "6\n",
      "7\n"
     ]
    }
   ],
   "source": [
    "bb = get_bb(num_buffers=8, batch_size=16)"
   ]
  },
  {
   "cell_type": "code",
   "execution_count": 30,
   "id": "5285235f-1367-44a4-80ff-6630a2aa26d4",
   "metadata": {},
   "outputs": [
    {
     "data": {
      "text/plain": [
       "tensor([[0, 4, 4, 4, 4, 4, 4, 4, 4, 4, 4, 4, 4, 4, 4, 4, 4, 4, 4, 4, 4, 4, 4, 4,\n",
       "         4, 4, 4, 4, 4, 4, 1, 2],\n",
       "        [0, 3, 3, 1, 1, 1, 1, 1, 1, 2, 0, 0, 0, 0, 0, 0, 0, 0, 0, 0, 0, 0, 0, 0,\n",
       "         0, 0, 0, 0, 0, 0, 0, 0],\n",
       "        [0, 3, 3, 3, 3, 3, 3, 3, 3, 3, 3, 3, 3, 3, 3, 3, 3, 3, 3, 3, 3, 3, 3, 3,\n",
       "         3, 3, 3, 1, 1, 1, 1, 2],\n",
       "        [0, 4, 4, 4, 4, 4, 4, 4, 4, 4, 4, 4, 4, 4, 4, 4, 4, 4, 4, 4, 4, 4, 4, 1,\n",
       "         1, 1, 1, 1, 1, 1, 1, 2],\n",
       "        [0, 3, 3, 3, 3, 3, 3, 3, 3, 3, 3, 3, 3, 3, 3, 1, 1, 1, 1, 1, 2, 0, 0, 0,\n",
       "         0, 0, 0, 0, 0, 0, 0, 0],\n",
       "        [0, 3, 3, 3, 3, 3, 3, 3, 3, 3, 3, 3, 3, 3, 3, 3, 3, 3, 3, 1, 1, 1, 1, 1,\n",
       "         2, 0, 0, 0, 0, 0, 0, 0],\n",
       "        [0, 3, 3, 3, 3, 3, 3, 3, 3, 3, 3, 1, 1, 1, 1, 2, 0, 0, 0, 0, 0, 0, 0, 0,\n",
       "         0, 0, 0, 0, 0, 0, 0, 0],\n",
       "        [0, 4, 4, 4, 4, 4, 4, 4, 4, 4, 1, 1, 2, 0, 0, 0, 0, 0, 0, 0, 0, 0, 0, 0,\n",
       "         0, 0, 0, 0, 0, 0, 0, 0],\n",
       "        [0, 4, 4, 4, 4, 4, 4, 4, 4, 1, 1, 1, 1, 1, 1, 1, 2, 0, 0, 0, 0, 0, 0, 0,\n",
       "         0, 0, 0, 0, 0, 0, 0, 0],\n",
       "        [0, 3, 3, 3, 3, 3, 3, 3, 3, 3, 1, 1, 1, 1, 1, 1, 1, 1, 2, 0, 0, 0, 0, 0,\n",
       "         0, 0, 0, 0, 0, 0, 0, 0],\n",
       "        [0, 3, 3, 3, 3, 3, 3, 3, 3, 3, 3, 1, 1, 1, 1, 2, 0, 0, 0, 0, 0, 0, 0, 0,\n",
       "         0, 0, 0, 0, 0, 0, 0, 0],\n",
       "        [0, 3, 3, 3, 3, 3, 3, 3, 3, 3, 3, 3, 1, 1, 1, 1, 1, 1, 2, 0, 0, 0, 0, 0,\n",
       "         0, 0, 0, 0, 0, 0, 0, 0],\n",
       "        [0, 4, 4, 4, 4, 4, 4, 4, 4, 4, 4, 4, 4, 4, 4, 4, 4, 4, 4, 1, 1, 1, 2, 0,\n",
       "         0, 0, 0, 0, 0, 0, 0, 0],\n",
       "        [0, 4, 4, 4, 4, 4, 4, 4, 4, 4, 4, 4, 4, 4, 4, 4, 4, 4, 4, 4, 4, 1, 1, 1,\n",
       "         1, 1, 1, 1, 2, 0, 0, 0],\n",
       "        [0, 4, 4, 4, 4, 4, 4, 4, 4, 4, 4, 4, 4, 4, 4, 4, 4, 1, 1, 1, 1, 2, 0, 0,\n",
       "         0, 0, 0, 0, 0, 0, 0, 0],\n",
       "        [0, 4, 4, 4, 4, 1, 1, 1, 1, 1, 1, 1, 1, 1, 1, 1, 1, 1, 1, 1, 1, 1, 1, 1,\n",
       "         1, 1, 1, 1, 1, 1, 1, 2]])"
      ]
     },
     "execution_count": 30,
     "metadata": {},
     "output_type": "execute_result"
    }
   ],
   "source": [
    "bb[0].traces"
   ]
  },
  {
   "cell_type": "code",
   "execution_count": 31,
   "id": "41faf2eb-32dc-402c-aeaf-3ff74176cd5f",
   "metadata": {},
   "outputs": [
    {
     "data": {
      "text/plain": [
       "tensor([[0, 2],\n",
       "        [0, 2],\n",
       "        [0, 2],\n",
       "        [0, 2],\n",
       "        [0, 2],\n",
       "        [0, 2],\n",
       "        [0, 2],\n",
       "        [0, 2],\n",
       "        [0, 2],\n",
       "        [0, 2],\n",
       "        [0, 2],\n",
       "        [0, 2],\n",
       "        [0, 2],\n",
       "        [0, 2],\n",
       "        [0, 2],\n",
       "        [0, 2]])"
      ]
     },
     "execution_count": 31,
     "metadata": {},
     "output_type": "execute_result"
    }
   ],
   "source": [
    "bb[1].traces"
   ]
  },
  {
   "cell_type": "code",
   "execution_count": 32,
   "id": "da7d5e3b-fb58-4dc9-b4b5-d1df1225bb4c",
   "metadata": {},
   "outputs": [
    {
     "data": {
      "text/plain": [
       "tensor([[0.0782, 0.0782, 0.0782, 0.0782, 0.0782, 0.0782, 0.0782, 0.0782, 0.0782,\n",
       "         0.0782, 0.0782, 0.0782, 0.0782, 0.0782, 0.0782, 0.0782, 0.0782, 0.0782,\n",
       "         0.0782, 0.0782, 0.0782, 0.0782, 0.0782, 0.0782, 0.0782, 0.0782, 0.0782,\n",
       "         0.0782, 0.0782, 0.0782, 0.0782, 0.0782],\n",
       "        [0.0782, 0.0782, 0.0782, 0.0782, 0.0782, 0.0782, 0.0782, 0.0782, 0.0782,\n",
       "         0.0782, 0.0782, 0.0782, 0.0782, 0.0782, 0.0782, 0.0782, 0.0782, 0.0782,\n",
       "         0.0782, 0.0782, 0.0782, 0.0782, 0.0782, 0.0782, 0.0782, 0.0782, 0.0782,\n",
       "         0.0782, 0.0782, 0.0782, 0.0782, 0.0782],\n",
       "        [0.0782, 0.0782, 0.0782, 0.0782, 0.0782, 0.0782, 0.0782, 0.0782, 0.0782,\n",
       "         0.0782, 0.0782, 0.0782, 0.0782, 0.0782, 0.0782, 0.0782, 0.0782, 0.0782,\n",
       "         0.0782, 0.0782, 0.0782, 0.0782, 0.0782, 0.0782, 0.0782, 0.0782, 0.0782,\n",
       "         0.0782, 0.0782, 0.0782, 0.0782, 0.0782],\n",
       "        [0.0782, 0.0782, 0.0782, 0.0782, 0.0782, 0.0782, 0.0782, 0.0782, 0.0782,\n",
       "         0.0782, 0.0782, 0.0782, 0.0782, 0.0782, 0.0782, 0.0782, 0.0782, 0.0782,\n",
       "         0.0782, 0.0782, 0.0782, 0.0782, 0.0782, 0.0782, 0.0782, 0.0782, 0.0782,\n",
       "         0.0782, 0.0782, 0.0782, 0.0782, 0.0782],\n",
       "        [0.0782, 0.0782, 0.0782, 0.0782, 0.0782, 0.0782, 0.0782, 0.0782, 0.0782,\n",
       "         0.0782, 0.0782, 0.0782, 0.0782, 0.0782, 0.0782, 0.0782, 0.0782, 0.0782,\n",
       "         0.0782, 0.0782, 0.0782, 0.0782, 0.0782, 0.0782, 0.0782, 0.0782, 0.0782,\n",
       "         0.0782, 0.0782, 0.0782, 0.0782, 0.0782],\n",
       "        [0.0782, 0.0782, 0.0782, 0.0782, 0.0782, 0.0782, 0.0782, 0.0782, 0.0782,\n",
       "         0.0782, 0.0782, 0.0782, 0.0782, 0.0782, 0.0782, 0.0782, 0.0782, 0.0782,\n",
       "         0.0782, 0.0782, 0.0782, 0.0782, 0.0782, 0.0782, 0.0782, 0.0782, 0.0782,\n",
       "         0.0782, 0.0782, 0.0782, 0.0782, 0.0782],\n",
       "        [0.0782, 0.0782, 0.0782, 0.0782, 0.0782, 0.0782, 0.0782, 0.0782, 0.0782,\n",
       "         0.0782, 0.0782, 0.0782, 0.0782, 0.0782, 0.0782, 0.0782, 0.0782, 0.0782,\n",
       "         0.0782, 0.0782, 0.0782, 0.0782, 0.0782, 0.0782, 0.0782, 0.0782, 0.0782,\n",
       "         0.0782, 0.0782, 0.0782, 0.0782, 0.0782],\n",
       "        [0.0782, 0.0782, 0.0782, 0.0782, 0.0782, 0.0782, 0.0782, 0.0782, 0.0782,\n",
       "         0.0782, 0.0782, 0.0782, 0.0782, 0.0782, 0.0782, 0.0782, 0.0782, 0.0782,\n",
       "         0.0782, 0.0782, 0.0782, 0.0782, 0.0782, 0.0782, 0.0782, 0.0782, 0.0782,\n",
       "         0.0782, 0.0782, 0.0782, 0.0782, 0.0782],\n",
       "        [0.0782, 0.0782, 0.0782, 0.0782, 0.0782, 0.0782, 0.0782, 0.0782, 0.0782,\n",
       "         0.0782, 0.0782, 0.0782, 0.0782, 0.0782, 0.0782, 0.0782, 0.0782, 0.0782,\n",
       "         0.0782, 0.0782, 0.0782, 0.0782, 0.0782, 0.0782, 0.0782, 0.0782, 0.0782,\n",
       "         0.0782, 0.0782, 0.0782, 0.0782, 0.0782],\n",
       "        [0.0782, 0.0782, 0.0782, 0.0782, 0.0782, 0.0782, 0.0782, 0.0782, 0.0782,\n",
       "         0.0782, 0.0782, 0.0782, 0.0782, 0.0782, 0.0782, 0.0782, 0.0782, 0.0782,\n",
       "         0.0782, 0.0782, 0.0782, 0.0782, 0.0782, 0.0782, 0.0782, 0.0782, 0.0782,\n",
       "         0.0782, 0.0782, 0.0782, 0.0782, 0.0782],\n",
       "        [0.0782, 0.0782, 0.0782, 0.0782, 0.0782, 0.0782, 0.0782, 0.0782, 0.0782,\n",
       "         0.0782, 0.0782, 0.0782, 0.0782, 0.0782, 0.0782, 0.0782, 0.0782, 0.0782,\n",
       "         0.0782, 0.0782, 0.0782, 0.0782, 0.0782, 0.0782, 0.0782, 0.0782, 0.0782,\n",
       "         0.0782, 0.0782, 0.0782, 0.0782, 0.0782],\n",
       "        [0.0782, 0.0782, 0.0782, 0.0782, 0.0782, 0.0782, 0.0782, 0.0782, 0.0782,\n",
       "         0.0782, 0.0782, 0.0782, 0.0782, 0.0782, 0.0782, 0.0782, 0.0782, 0.0782,\n",
       "         0.0782, 0.0782, 0.0782, 0.0782, 0.0782, 0.0782, 0.0782, 0.0782, 0.0782,\n",
       "         0.0782, 0.0782, 0.0782, 0.0782, 0.0782],\n",
       "        [0.0782, 0.0782, 0.0782, 0.0782, 0.0782, 0.0782, 0.0782, 0.0782, 0.0782,\n",
       "         0.0782, 0.0782, 0.0782, 0.0782, 0.0782, 0.0782, 0.0782, 0.0782, 0.0782,\n",
       "         0.0782, 0.0782, 0.0782, 0.0782, 0.0782, 0.0782, 0.0782, 0.0782, 0.0782,\n",
       "         0.0782, 0.0782, 0.0782, 0.0782, 0.0782],\n",
       "        [0.0782, 0.0782, 0.0782, 0.0782, 0.0782, 0.0782, 0.0782, 0.0782, 0.0782,\n",
       "         0.0782, 0.0782, 0.0782, 0.0782, 0.0782, 0.0782, 0.0782, 0.0782, 0.0782,\n",
       "         0.0782, 0.0782, 0.0782, 0.0782, 0.0782, 0.0782, 0.0782, 0.0782, 0.0782,\n",
       "         0.0782, 0.0782, 0.0782, 0.0782, 0.0782],\n",
       "        [0.0782, 0.0782, 0.0782, 0.0782, 0.0782, 0.0782, 0.0782, 0.0782, 0.0782,\n",
       "         0.0782, 0.0782, 0.0782, 0.0782, 0.0782, 0.0782, 0.0782, 0.0782, 0.0782,\n",
       "         0.0782, 0.0782, 0.0782, 0.0782, 0.0782, 0.0782, 0.0782, 0.0782, 0.0782,\n",
       "         0.0782, 0.0782, 0.0782, 0.0782, 0.0782],\n",
       "        [0.0782, 0.0782, 0.0782, 0.0782, 0.0782, 0.0782, 0.0782, 0.0782, 0.0782,\n",
       "         0.0782, 0.0782, 0.0782, 0.0782, 0.0782, 0.0782, 0.0782, 0.0782, 0.0782,\n",
       "         0.0782, 0.0782, 0.0782, 0.0782, 0.0782, 0.0782, 0.0782, 0.0782, 0.0782,\n",
       "         0.0782, 0.0782, 0.0782, 0.0782, 0.0782]])"
      ]
     },
     "execution_count": 32,
     "metadata": {},
     "output_type": "execute_result"
    }
   ],
   "source": [
    "bb[0].values"
   ]
  },
  {
   "cell_type": "code",
   "execution_count": 33,
   "id": "5227ab5c-edb2-430e-b825-c2e2a83795bd",
   "metadata": {},
   "outputs": [
    {
     "data": {
      "text/plain": [
       "tensor([[0.0782, 0.0782],\n",
       "        [0.0782, 0.0782],\n",
       "        [0.0782, 0.0782],\n",
       "        [0.0782, 0.0782],\n",
       "        [0.0782, 0.0782],\n",
       "        [0.0782, 0.0782],\n",
       "        [0.0782, 0.0782],\n",
       "        [0.0782, 0.0782],\n",
       "        [0.0782, 0.0782],\n",
       "        [0.0782, 0.0782],\n",
       "        [0.0782, 0.0782],\n",
       "        [0.0782, 0.0782],\n",
       "        [0.0782, 0.0782],\n",
       "        [0.0782, 0.0782],\n",
       "        [0.0782, 0.0782],\n",
       "        [0.0782, 0.0782]])"
      ]
     },
     "execution_count": 33,
     "metadata": {},
     "output_type": "execute_result"
    }
   ],
   "source": [
    "bb[1].values"
   ]
  },
  {
   "cell_type": "code",
   "execution_count": 34,
   "id": "4fce3b8a-a805-4ce5-99d3-fe664216d1d2",
   "metadata": {},
   "outputs": [
    {
     "data": {
      "text/plain": [
       "tensor([[-0.0782, -0.0782, -0.0782, -0.0782, -0.0782, -0.0782, -0.0782, -0.0782,\n",
       "         -0.0782, -0.0782, -0.0782, -0.0782, -0.0782, -0.0782, -0.0782, -0.0782,\n",
       "         -0.0782, -0.0782, -0.0782, -0.0782, -0.0782, -0.0782, -0.0782, -0.0782,\n",
       "         -0.0782, -0.0782, -0.0782, -0.0782, -0.0782, -0.0782, -0.0782],\n",
       "        [ 0.8445,  0.8539,  0.8633,  0.8728,  0.8824,  0.8921,  0.9019,  0.9118,\n",
       "          0.9218, -0.0782, -0.0782, -0.0782, -0.0782, -0.0782, -0.0782, -0.0782,\n",
       "         -0.0782, -0.0782, -0.0782, -0.0782, -0.0782, -0.0782, -0.0782, -0.0782,\n",
       "         -0.0782, -0.0782, -0.0782, -0.0782, -0.0782, -0.0782, -0.0782],\n",
       "        [-0.0782, -0.0782, -0.0782, -0.0782, -0.0782, -0.0782, -0.0782, -0.0782,\n",
       "         -0.0782, -0.0782, -0.0782, -0.0782, -0.0782, -0.0782, -0.0782, -0.0782,\n",
       "         -0.0782, -0.0782, -0.0782, -0.0782, -0.0782, -0.0782, -0.0782, -0.0782,\n",
       "         -0.0782, -0.0782, -0.0782, -0.0782, -0.0782, -0.0782, -0.0782],\n",
       "        [-0.0782, -0.0782, -0.0782, -0.0782, -0.0782, -0.0782, -0.0782, -0.0782,\n",
       "         -0.0782, -0.0782, -0.0782, -0.0782, -0.0782, -0.0782, -0.0782, -0.0782,\n",
       "         -0.0782, -0.0782, -0.0782, -0.0782, -0.0782, -0.0782, -0.0782, -0.0782,\n",
       "         -0.0782, -0.0782, -0.0782, -0.0782, -0.0782, -0.0782, -0.0782],\n",
       "        [ 0.7480,  0.7563,  0.7647,  0.7733,  0.7819,  0.7905,  0.7993,  0.8082,\n",
       "          0.8171,  0.8262,  0.8353,  0.8445,  0.8539,  0.8633,  0.8728,  0.8824,\n",
       "          0.8921,  0.9019,  0.9118,  0.9218, -0.0782, -0.0782, -0.0782, -0.0782,\n",
       "         -0.0782, -0.0782, -0.0782, -0.0782, -0.0782, -0.0782, -0.0782],\n",
       "        [ 0.7154,  0.7234,  0.7315,  0.7397,  0.7480,  0.7563,  0.7647,  0.7733,\n",
       "          0.7819,  0.7905,  0.7993,  0.8082,  0.8171,  0.8262,  0.8353,  0.8445,\n",
       "          0.8539,  0.8633,  0.8728,  0.8824,  0.8921,  0.9019,  0.9118,  0.9218,\n",
       "         -0.0782, -0.0782, -0.0782, -0.0782, -0.0782, -0.0782, -0.0782],\n",
       "        [ 0.7905,  0.7993,  0.8082,  0.8171,  0.8262,  0.8353,  0.8445,  0.8539,\n",
       "          0.8633,  0.8728,  0.8824,  0.8921,  0.9019,  0.9118,  0.9218, -0.0782,\n",
       "         -0.0782, -0.0782, -0.0782, -0.0782, -0.0782, -0.0782, -0.0782, -0.0782,\n",
       "         -0.0782, -0.0782, -0.0782, -0.0782, -0.0782, -0.0782, -0.0782],\n",
       "        [ 0.8171,  0.8262,  0.8353,  0.8445,  0.8539,  0.8633,  0.8728,  0.8824,\n",
       "          0.8921,  0.9019,  0.9118,  0.9218, -0.0782, -0.0782, -0.0782, -0.0782,\n",
       "         -0.0782, -0.0782, -0.0782, -0.0782, -0.0782, -0.0782, -0.0782, -0.0782,\n",
       "         -0.0782, -0.0782, -0.0782, -0.0782, -0.0782, -0.0782, -0.0782],\n",
       "        [ 0.7819,  0.7905,  0.7993,  0.8082,  0.8171,  0.8262,  0.8353,  0.8445,\n",
       "          0.8539,  0.8633,  0.8728,  0.8824,  0.8921,  0.9019,  0.9118,  0.9218,\n",
       "         -0.0782, -0.0782, -0.0782, -0.0782, -0.0782, -0.0782, -0.0782, -0.0782,\n",
       "         -0.0782, -0.0782, -0.0782, -0.0782, -0.0782, -0.0782, -0.0782],\n",
       "        [ 0.7647,  0.7733,  0.7819,  0.7905,  0.7993,  0.8082,  0.8171,  0.8262,\n",
       "          0.8353,  0.8445,  0.8539,  0.8633,  0.8728,  0.8824,  0.8921,  0.9019,\n",
       "          0.9118,  0.9218, -0.0782, -0.0782, -0.0782, -0.0782, -0.0782, -0.0782,\n",
       "         -0.0782, -0.0782, -0.0782, -0.0782, -0.0782, -0.0782, -0.0782],\n",
       "        [ 0.7905,  0.7993,  0.8082,  0.8171,  0.8262,  0.8353,  0.8445,  0.8539,\n",
       "          0.8633,  0.8728,  0.8824,  0.8921,  0.9019,  0.9118,  0.9218, -0.0782,\n",
       "         -0.0782, -0.0782, -0.0782, -0.0782, -0.0782, -0.0782, -0.0782, -0.0782,\n",
       "         -0.0782, -0.0782, -0.0782, -0.0782, -0.0782, -0.0782, -0.0782],\n",
       "        [ 0.7647,  0.7733,  0.7819,  0.7905,  0.7993,  0.8082,  0.8171,  0.8262,\n",
       "          0.8353,  0.8445,  0.8539,  0.8633,  0.8728,  0.8824,  0.8921,  0.9019,\n",
       "          0.9118,  0.9218, -0.0782, -0.0782, -0.0782, -0.0782, -0.0782, -0.0782,\n",
       "         -0.0782, -0.0782, -0.0782, -0.0782, -0.0782, -0.0782, -0.0782],\n",
       "        [ 0.7315,  0.7397,  0.7480,  0.7563,  0.7647,  0.7733,  0.7819,  0.7905,\n",
       "          0.7993,  0.8082,  0.8171,  0.8262,  0.8353,  0.8445,  0.8539,  0.8633,\n",
       "          0.8728,  0.8824,  0.8921,  0.9019,  0.9118,  0.9218, -0.0782, -0.0782,\n",
       "         -0.0782, -0.0782, -0.0782, -0.0782, -0.0782, -0.0782, -0.0782],\n",
       "        [ 0.6841,  0.6918,  0.6996,  0.7075,  0.7154,  0.7234,  0.7315,  0.7397,\n",
       "          0.7480,  0.7563,  0.7647,  0.7733,  0.7819,  0.7905,  0.7993,  0.8082,\n",
       "          0.8171,  0.8262,  0.8353,  0.8445,  0.8539,  0.8633,  0.8728,  0.8824,\n",
       "          0.8921,  0.9019,  0.9118,  0.9218, -0.0782, -0.0782, -0.0782],\n",
       "        [ 0.7397,  0.7480,  0.7563,  0.7647,  0.7733,  0.7819,  0.7905,  0.7993,\n",
       "          0.8082,  0.8171,  0.8262,  0.8353,  0.8445,  0.8539,  0.8633,  0.8728,\n",
       "          0.8824,  0.8921,  0.9019,  0.9118,  0.9218, -0.0782, -0.0782, -0.0782,\n",
       "         -0.0782, -0.0782, -0.0782, -0.0782, -0.0782, -0.0782, -0.0782],\n",
       "        [-0.0782, -0.0782, -0.0782, -0.0782, -0.0782, -0.0782, -0.0782, -0.0782,\n",
       "         -0.0782, -0.0782, -0.0782, -0.0782, -0.0782, -0.0782, -0.0782, -0.0782,\n",
       "         -0.0782, -0.0782, -0.0782, -0.0782, -0.0782, -0.0782, -0.0782, -0.0782,\n",
       "         -0.0782, -0.0782, -0.0782, -0.0782, -0.0782, -0.0782, -0.0782]])"
      ]
     },
     "execution_count": 34,
     "metadata": {},
     "output_type": "execute_result"
    }
   ],
   "source": [
    "bb[0].gaes"
   ]
  },
  {
   "cell_type": "code",
   "execution_count": 35,
   "id": "3417460a-caaf-49e0-a0d9-49ca59784515",
   "metadata": {},
   "outputs": [
    {
     "data": {
      "text/plain": [
       "tensor([[-0.0782],\n",
       "        [-0.0782],\n",
       "        [-0.0782],\n",
       "        [-0.0782],\n",
       "        [-0.0782],\n",
       "        [-0.0782],\n",
       "        [-0.0782],\n",
       "        [-0.0782],\n",
       "        [-0.0782],\n",
       "        [-0.0782],\n",
       "        [-0.0782],\n",
       "        [-0.0782],\n",
       "        [-0.0782],\n",
       "        [-0.0782],\n",
       "        [-0.0782],\n",
       "        [-0.0782]])"
      ]
     },
     "execution_count": 35,
     "metadata": {},
     "output_type": "execute_result"
    }
   ],
   "source": [
    "bb[1].gaes"
   ]
  },
  {
   "cell_type": "code",
   "execution_count": 36,
   "id": "632077a7-561a-43da-b842-512b80b3c0d8",
   "metadata": {},
   "outputs": [],
   "source": [
    "mse_loss = nn.MSELoss()"
   ]
  },
  {
   "cell_type": "code",
   "execution_count": 37,
   "id": "10730d5b-da7a-4fb4-a79a-337300246b2a",
   "metadata": {},
   "outputs": [],
   "source": [
    "policy_optimizer = optim.Adam(list(brain.text_enc.parameters()) + list(brain.text_dec.parameters()), lr=0.00001, eps=1e-9)\n",
    "policy_epochs = 4\n",
    "epochs = policy_epochs"
   ]
  },
  {
   "cell_type": "code",
   "execution_count": 38,
   "id": "af881434-23bd-4288-a7a5-9f4327e6b35c",
   "metadata": {},
   "outputs": [],
   "source": [
    "# guide firset\n",
    "buffer = bb[0]"
   ]
  },
  {
   "cell_type": "code",
   "execution_count": 39,
   "id": "7b1ef4af-ae48-44b3-96a2-4068df568a08",
   "metadata": {},
   "outputs": [
    {
     "data": {
      "text/plain": [
       "<RL_helper.GameOutputBuffer at 0x7f79c59ee090>"
      ]
     },
     "execution_count": 39,
     "metadata": {},
     "output_type": "execute_result"
    }
   ],
   "source": [
    "buffer.to(device)"
   ]
  },
  {
   "cell_type": "code",
   "execution_count": 40,
   "id": "008ccf40-818a-49bf-882f-a81c376340d3",
   "metadata": {},
   "outputs": [],
   "source": [
    "policy_optimizer.zero_grad()"
   ]
  },
  {
   "cell_type": "code",
   "execution_count": 41,
   "id": "b497af7c-2a24-4cb2-b44e-ce3c887020a1",
   "metadata": {},
   "outputs": [],
   "source": [
    "logpas, entropies = buffer.get_probabilities_and_entropies(evaluation=False)"
   ]
  },
  {
   "cell_type": "code",
   "execution_count": 42,
   "id": "2ff5ccda-4885-47bc-949b-3e1dc7a5d2f7",
   "metadata": {},
   "outputs": [
    {
     "data": {
      "text/plain": [
       "tensor([[-5.7624e+00, -6.9761e-03, -3.3646e-03, -2.8067e-03, -2.6436e-03,\n",
       "         -2.5978e-03, -2.5830e-03, -2.5897e-03, -2.5945e-03, -2.6040e-03,\n",
       "         -2.6317e-03, -2.6612e-03, -2.6951e-03, -2.7390e-03, -2.7966e-03,\n",
       "         -2.8458e-03, -2.8858e-03, -2.8920e-03, -2.9044e-03, -2.9387e-03,\n",
       "         -2.9745e-03, -3.0394e-03, -3.1052e-03, -3.1438e-03, -3.1433e-03,\n",
       "         -3.1099e-03, -3.1095e-03, -3.1347e-03, -3.1748e-03, -6.8405e+00,\n",
       "         -6.7393e+00],\n",
       "        [-6.4099e+00, -2.3417e-02, -4.1318e+00, -6.6566e-03, -5.8780e-03,\n",
       "         -6.1440e-03, -6.5465e-03, -7.0376e-03, -5.7850e+00, -0.0000e+00,\n",
       "         -0.0000e+00, -0.0000e+00, -0.0000e+00, -0.0000e+00, -0.0000e+00,\n",
       "         -0.0000e+00, -0.0000e+00, -0.0000e+00, -0.0000e+00, -0.0000e+00,\n",
       "         -0.0000e+00, -0.0000e+00, -0.0000e+00, -0.0000e+00, -0.0000e+00,\n",
       "         -0.0000e+00, -0.0000e+00, -0.0000e+00, -0.0000e+00, -0.0000e+00,\n",
       "         -0.0000e+00],\n",
       "        [-6.1869e+00, -2.4431e-02, -2.1096e-02, -2.2555e-02, -2.4322e-02,\n",
       "         -2.6093e-02, -2.7672e-02, -2.9253e-02, -3.0774e-02, -3.2006e-02,\n",
       "         -3.3266e-02, -3.4486e-02, -3.5531e-02, -3.6397e-02, -3.7352e-02,\n",
       "         -3.8745e-02, -4.0602e-02, -4.1917e-02, -4.2859e-02, -4.3584e-02,\n",
       "         -4.4066e-02, -4.4976e-02, -4.6121e-02, -4.7042e-02, -4.7299e-02,\n",
       "         -4.7471e-02, -3.1544e+00, -1.6640e+00, -7.2292e-01, -3.2274e-01,\n",
       "         -5.1543e+00],\n",
       "        [-5.6214e+00, -6.1235e-03, -2.9798e-03, -2.4967e-03, -2.3708e-03,\n",
       "         -2.3293e-03, -2.3365e-03, -2.3432e-03, -2.3456e-03, -2.3565e-03,\n",
       "         -2.3885e-03, -2.4042e-03, -2.4648e-03, -2.5105e-03, -2.5811e-03,\n",
       "         -2.6393e-03, -2.6650e-03, -2.6784e-03, -2.6965e-03, -2.7218e-03,\n",
       "         -2.7514e-03, -2.7924e-03, -6.9529e+00, -3.0296e-01, -1.3328e-02,\n",
       "         -6.8431e-03, -5.4536e-03, -5.1827e-03, -5.0912e-03, -5.0879e-03,\n",
       "         -6.8021e+00],\n",
       "        [-6.3298e+00, -2.2120e-02, -1.9074e-02, -2.0231e-02, -2.1866e-02,\n",
       "         -2.3249e-02, -2.4575e-02, -2.6051e-02, -2.7398e-02, -2.8483e-02,\n",
       "         -2.9515e-02, -3.0487e-02, -3.1213e-02, -3.2275e-02, -3.5336e+00,\n",
       "         -6.3220e-01, -1.0758e-01, -4.3054e-02, -2.6240e-02, -5.7412e+00,\n",
       "         -0.0000e+00, -0.0000e+00, -0.0000e+00, -0.0000e+00, -0.0000e+00,\n",
       "         -0.0000e+00, -0.0000e+00, -0.0000e+00, -0.0000e+00, -0.0000e+00,\n",
       "         -0.0000e+00],\n",
       "        [-6.3326e+00, -2.2509e-02, -1.8874e-02, -1.9986e-02, -2.1354e-02,\n",
       "         -2.2548e-02, -2.3870e-02, -2.5069e-02, -2.6297e-02, -2.7401e-02,\n",
       "         -2.8180e-02, -2.9216e-02, -3.0062e-02, -3.1016e-02, -3.2046e-02,\n",
       "         -3.3328e-02, -3.4473e-02, -3.5574e-02, -3.4245e+00, -1.2410e+00,\n",
       "         -3.0744e-01, -1.2015e-01, -6.5012e-02, -5.4486e+00, -0.0000e+00,\n",
       "         -0.0000e+00, -0.0000e+00, -0.0000e+00, -0.0000e+00, -0.0000e+00,\n",
       "         -0.0000e+00],\n",
       "        [-6.2146e+00, -2.2195e-02, -1.9153e-02, -2.0478e-02, -2.2062e-02,\n",
       "         -2.3592e-02, -2.4963e-02, -2.6364e-02, -2.7707e-02, -2.8861e-02,\n",
       "         -3.6408e+00, -1.1904e-01, -3.0972e-02, -1.8344e-02, -5.8930e+00,\n",
       "         -0.0000e+00, -0.0000e+00, -0.0000e+00, -0.0000e+00, -0.0000e+00,\n",
       "         -0.0000e+00, -0.0000e+00, -0.0000e+00, -0.0000e+00, -0.0000e+00,\n",
       "         -0.0000e+00, -0.0000e+00, -0.0000e+00, -0.0000e+00, -0.0000e+00,\n",
       "         -0.0000e+00],\n",
       "        [-5.5413e+00, -5.3363e-03, -2.8191e-03, -2.4185e-03, -2.3146e-03,\n",
       "         -2.2645e-03, -2.2554e-03, -2.2669e-03, -2.2750e-03, -7.4098e+00,\n",
       "         -6.5603e-03, -6.9006e+00, -0.0000e+00, -0.0000e+00, -0.0000e+00,\n",
       "         -0.0000e+00, -0.0000e+00, -0.0000e+00, -0.0000e+00, -0.0000e+00,\n",
       "         -0.0000e+00, -0.0000e+00, -0.0000e+00, -0.0000e+00, -0.0000e+00,\n",
       "         -0.0000e+00, -0.0000e+00, -0.0000e+00, -0.0000e+00, -0.0000e+00,\n",
       "         -0.0000e+00],\n",
       "        [-5.6460e+00, -6.3810e-03, -3.0532e-03, -2.5492e-03, -2.3918e-03,\n",
       "         -2.3603e-03, -2.3394e-03, -2.3332e-03, -7.2550e+00, -5.2691e-03,\n",
       "         -4.3125e-03, -4.0865e-03, -4.1442e-03, -4.4503e-03, -4.7512e-03,\n",
       "         -6.4956e+00, -0.0000e+00, -0.0000e+00, -0.0000e+00, -0.0000e+00,\n",
       "         -0.0000e+00, -0.0000e+00, -0.0000e+00, -0.0000e+00, -0.0000e+00,\n",
       "         -0.0000e+00, -0.0000e+00, -0.0000e+00, -0.0000e+00, -0.0000e+00,\n",
       "         -0.0000e+00],\n",
       "        [-6.2271e+00, -2.4000e-02, -2.0151e-02, -2.1620e-02, -2.3396e-02,\n",
       "         -2.5059e-02, -2.6303e-02, -2.8003e-02, -2.9461e-02, -3.6119e+00,\n",
       "         -6.8200e-02, -2.1170e-02, -1.3105e-02, -1.0388e-02, -8.9283e-03,\n",
       "         -8.1148e-03, -7.6747e-03, -6.0371e+00, -0.0000e+00, -0.0000e+00,\n",
       "         -0.0000e+00, -0.0000e+00, -0.0000e+00, -0.0000e+00, -0.0000e+00,\n",
       "         -0.0000e+00, -0.0000e+00, -0.0000e+00, -0.0000e+00, -0.0000e+00,\n",
       "         -0.0000e+00],\n",
       "        [-6.3065e+00, -2.2527e-02, -1.9470e-02, -2.0850e-02, -2.2571e-02,\n",
       "         -2.4170e-02, -2.5555e-02, -2.6835e-02, -2.8236e-02, -2.9681e-02,\n",
       "         -3.6125e+00, -1.1347e-01, -3.0022e-02, -1.7104e-02, -5.9286e+00,\n",
       "         -0.0000e+00, -0.0000e+00, -0.0000e+00, -0.0000e+00, -0.0000e+00,\n",
       "         -0.0000e+00, -0.0000e+00, -0.0000e+00, -0.0000e+00, -0.0000e+00,\n",
       "         -0.0000e+00, -0.0000e+00, -0.0000e+00, -0.0000e+00, -0.0000e+00,\n",
       "         -0.0000e+00],\n",
       "        [-6.2025e+00, -2.5809e-02, -2.3252e-02, -2.5259e-02, -2.7508e-02,\n",
       "         -2.9506e-02, -3.1109e-02, -3.2854e-02, -3.4725e-02, -3.6050e-02,\n",
       "         -3.7498e-02, -3.3786e+00, -1.5394e-01, -3.6170e-02, -1.9573e-02,\n",
       "         -1.4163e-02, -1.1752e-02, -5.9987e+00, -0.0000e+00, -0.0000e+00,\n",
       "         -0.0000e+00, -0.0000e+00, -0.0000e+00, -0.0000e+00, -0.0000e+00,\n",
       "         -0.0000e+00, -0.0000e+00, -0.0000e+00, -0.0000e+00, -0.0000e+00,\n",
       "         -0.0000e+00],\n",
       "        [-5.5917e+00, -5.3978e-03, -2.9168e-03, -2.5139e-03, -2.4271e-03,\n",
       "         -2.4309e-03, -2.4328e-03, -2.4457e-03, -2.4734e-03, -2.5067e-03,\n",
       "         -2.5463e-03, -2.5778e-03, -2.5902e-03, -2.6369e-03, -2.6875e-03,\n",
       "         -2.7432e-03, -2.7962e-03, -2.8396e-03, -7.0781e+00, -2.5974e-02,\n",
       "         -7.4191e-03, -6.9228e+00, -0.0000e+00, -0.0000e+00, -0.0000e+00,\n",
       "         -0.0000e+00, -0.0000e+00, -0.0000e+00, -0.0000e+00, -0.0000e+00,\n",
       "         -0.0000e+00],\n",
       "        [-5.6890e+00, -6.2923e-03, -3.0909e-03, -2.5864e-03, -2.4519e-03,\n",
       "         -2.4171e-03, -2.3661e-03, -2.3603e-03, -2.3751e-03, -2.3637e-03,\n",
       "         -2.3990e-03, -2.4261e-03, -2.4610e-03, -2.4986e-03, -2.5477e-03,\n",
       "         -2.5992e-03, -2.6293e-03, -2.6445e-03, -2.6755e-03, -2.6717e-03,\n",
       "         -7.0427e+00, -4.6537e-02, -8.7643e-03, -5.9590e-03, -5.1122e-03,\n",
       "         -4.9319e-03, -4.8470e-03, -6.8301e+00, -0.0000e+00, -0.0000e+00,\n",
       "         -0.0000e+00],\n",
       "        [-5.7662e+00, -7.0481e-03, -3.4728e-03, -2.9144e-03, -2.7633e-03,\n",
       "         -2.7275e-03, -2.7575e-03, -2.7766e-03, -2.7881e-03, -2.8033e-03,\n",
       "         -2.8372e-03, -2.8572e-03, -2.8887e-03, -2.9421e-03, -3.0069e-03,\n",
       "         -3.0627e-03, -7.0034e+00, -1.5128e-02, -5.7516e-03, -4.8361e-03,\n",
       "         -6.8896e+00, -0.0000e+00, -0.0000e+00, -0.0000e+00, -0.0000e+00,\n",
       "         -0.0000e+00, -0.0000e+00, -0.0000e+00, -0.0000e+00, -0.0000e+00,\n",
       "         -0.0000e+00],\n",
       "        [-5.6294e+00, -6.3581e-03, -3.4022e-03, -2.9287e-03, -7.2118e+00,\n",
       "         -5.0240e-03, -4.6778e-03, -4.8800e-03, -5.1603e-03, -5.4398e-03,\n",
       "         -5.7344e-03, -6.0315e-03, -6.2966e-03, -6.5217e-03, -6.7215e-03,\n",
       "         -6.9289e-03, -7.1630e-03, -7.3953e-03, -7.5951e-03, -7.7529e-03,\n",
       "         -7.8630e-03, -7.9451e-03, -8.0338e-03, -8.1415e-03, -8.2736e-03,\n",
       "         -8.4114e-03, -8.5402e-03, -8.6517e-03, -8.7543e-03, -8.8620e-03,\n",
       "         -5.7675e+00]], device='cuda:1', grad_fn=<CopySlices>)"
      ]
     },
     "execution_count": 42,
     "metadata": {},
     "output_type": "execute_result"
    }
   ],
   "source": [
    "logpas"
   ]
  },
  {
   "cell_type": "code",
   "execution_count": 43,
   "id": "f93f8ff7-9f85-4a96-8ccc-1938fc6521c3",
   "metadata": {},
   "outputs": [],
   "source": [
    "#settings = [S[0] for S in buffer.settings_buffer]"
   ]
  },
  {
   "cell_type": "code",
   "execution_count": 44,
   "id": "f76ff507-097a-4524-a425-31284d1e8bdb",
   "metadata": {},
   "outputs": [],
   "source": [
    "#imgs = get_images_settings(settings, device=device)"
   ]
  },
  {
   "cell_type": "code",
   "execution_count": 45,
   "id": "1a1d2482-5449-4d18-b0f4-e50efb2e2334",
   "metadata": {},
   "outputs": [],
   "source": [
    "#with torch.no_grad():\n",
    "#    context = brain.img_enc(imgs)"
   ]
  },
  {
   "cell_type": "code",
   "execution_count": null,
   "id": "f9519f41-8494-4bff-bcdf-6776e6d8b3e6",
   "metadata": {},
   "outputs": [],
   "source": []
  },
  {
   "cell_type": "code",
   "execution_count": null,
   "id": "69a6fbaf-c5e0-4933-85ce-94b873d7fd72",
   "metadata": {},
   "outputs": [],
   "source": []
  },
  {
   "cell_type": "code",
   "execution_count": 46,
   "id": "ac66f5c1-a0fa-436d-b328-6340c70f54bb",
   "metadata": {},
   "outputs": [
    {
     "data": {
      "text/plain": [
       "tensor([[0., 0., 0., 0., 0., 0., 0., 0., 0., 0., 0., 0., 0., 0., 0., 0., 0., 0., 0., 0., 0., 0., 0., 0.,\n",
       "         0., 0., 0., 0., 0., 0., 0.],\n",
       "        [0., 0., 0., 0., 0., 0., 0., 0., 0., 0., 0., 0., 0., 0., 0., 0., 0., 0., 0., 0., 0., 0., 0., 0.,\n",
       "         0., 0., 0., 0., 0., 0., 0.],\n",
       "        [0., 0., 0., 0., 0., 0., 0., 0., 0., 0., 0., 0., 0., 0., 0., 0., 0., 0., 0., 0., 0., 0., 0., 0.,\n",
       "         0., 0., 0., 0., 0., 0., 0.],\n",
       "        [0., 0., 0., 0., 0., 0., 0., 0., 0., 0., 0., 0., 0., 0., 0., 0., 0., 0., 0., 0., 0., 0., 0., 0.,\n",
       "         0., 0., 0., 0., 0., 0., 0.],\n",
       "        [0., 0., 0., 0., 0., 0., 0., 0., 0., 0., 0., 0., 0., 0., 0., 0., 0., 0., 0., 0., 0., 0., 0., 0.,\n",
       "         0., 0., 0., 0., 0., 0., 0.],\n",
       "        [0., 0., 0., 0., 0., 0., 0., 0., 0., 0., 0., 0., 0., 0., 0., 0., 0., 0., 0., 0., 0., 0., 0., 0.,\n",
       "         0., 0., 0., 0., 0., 0., 0.],\n",
       "        [0., 0., 0., 0., 0., 0., 0., 0., 0., 0., 0., 0., 0., 0., 0., 0., 0., 0., 0., 0., 0., 0., 0., 0.,\n",
       "         0., 0., 0., 0., 0., 0., 0.],\n",
       "        [0., 0., 0., 0., 0., 0., 0., 0., 0., 0., 0., 0., 0., 0., 0., 0., 0., 0., 0., 0., 0., 0., 0., 0.,\n",
       "         0., 0., 0., 0., 0., 0., 0.],\n",
       "        [0., 0., 0., 0., 0., 0., 0., 0., 0., 0., 0., 0., 0., 0., 0., 0., 0., 0., 0., 0., 0., 0., 0., 0.,\n",
       "         0., 0., 0., 0., 0., 0., 0.],\n",
       "        [0., 0., 0., 0., 0., 0., 0., 0., 0., 0., 0., 0., 0., 0., 0., 0., 0., 0., 0., 0., 0., 0., 0., 0.,\n",
       "         0., 0., 0., 0., 0., 0., 0.],\n",
       "        [0., 0., 0., 0., 0., 0., 0., 0., 0., 0., 0., 0., 0., 0., 0., 0., 0., 0., 0., 0., 0., 0., 0., 0.,\n",
       "         0., 0., 0., 0., 0., 0., 0.],\n",
       "        [0., 0., 0., 0., 0., 0., 0., 0., 0., 0., 0., 0., 0., 0., 0., 0., 0., 0., 0., 0., 0., 0., 0., 0.,\n",
       "         0., 0., 0., 0., 0., 0., 0.],\n",
       "        [0., 0., 0., 0., 0., 0., 0., 0., 0., 0., 0., 0., 0., 0., 0., 0., 0., 0., 0., 0., 0., 0., 0., 0.,\n",
       "         0., 0., 0., 0., 0., 0., 0.],\n",
       "        [0., 0., 0., 0., 0., 0., 0., 0., 0., 0., 0., 0., 0., 0., 0., 0., 0., 0., 0., 0., 0., 0., 0., 0.,\n",
       "         0., 0., 0., 0., 0., 0., 0.],\n",
       "        [0., 0., 0., 0., 0., 0., 0., 0., 0., 0., 0., 0., 0., 0., 0., 0., 0., 0., 0., 0., 0., 0., 0., 0.,\n",
       "         0., 0., 0., 0., 0., 0., 0.],\n",
       "        [0., 0., 0., 0., 0., 0., 0., 0., 0., 0., 0., 0., 0., 0., 0., 0., 0., 0., 0., 0., 0., 0., 0., 0.,\n",
       "         0., 0., 0., 0., 0., 0., 0.]], device='cuda:1')"
      ]
     },
     "execution_count": 46,
     "metadata": {},
     "output_type": "execute_result"
    }
   ],
   "source": [
    "buffer.logpas"
   ]
  },
  {
   "cell_type": "code",
   "execution_count": 47,
   "id": "1ab58cf5-a4ae-4e3c-8488-334fb9c9c815",
   "metadata": {},
   "outputs": [
    {
     "data": {
      "text/plain": [
       "tensor([[3.1435e-03, 9.9305e-01, 9.9664e-01, 9.9720e-01, 9.9736e-01, 9.9741e-01,\n",
       "         9.9742e-01, 9.9741e-01, 9.9741e-01, 9.9740e-01, 9.9737e-01, 9.9734e-01,\n",
       "         9.9731e-01, 9.9726e-01, 9.9721e-01, 9.9716e-01, 9.9712e-01, 9.9711e-01,\n",
       "         9.9710e-01, 9.9707e-01, 9.9703e-01, 9.9697e-01, 9.9690e-01, 9.9686e-01,\n",
       "         9.9686e-01, 9.9689e-01, 9.9690e-01, 9.9687e-01, 9.9683e-01, 1.0696e-03,\n",
       "         1.1835e-03],\n",
       "        [1.6451e-03, 9.7686e-01, 1.6053e-02, 9.9337e-01, 9.9414e-01, 9.9387e-01,\n",
       "         9.9347e-01, 9.9299e-01, 3.0734e-03, 1.0000e+00, 1.0000e+00, 1.0000e+00,\n",
       "         1.0000e+00, 1.0000e+00, 1.0000e+00, 1.0000e+00, 1.0000e+00, 1.0000e+00,\n",
       "         1.0000e+00, 1.0000e+00, 1.0000e+00, 1.0000e+00, 1.0000e+00, 1.0000e+00,\n",
       "         1.0000e+00, 1.0000e+00, 1.0000e+00, 1.0000e+00, 1.0000e+00, 1.0000e+00,\n",
       "         1.0000e+00],\n",
       "        [2.0562e-03, 9.7586e-01, 9.7913e-01, 9.7770e-01, 9.7597e-01, 9.7424e-01,\n",
       "         9.7271e-01, 9.7117e-01, 9.6969e-01, 9.6850e-01, 9.6728e-01, 9.6610e-01,\n",
       "         9.6509e-01, 9.6426e-01, 9.6334e-01, 9.6200e-01, 9.6021e-01, 9.5895e-01,\n",
       "         9.5805e-01, 9.5735e-01, 9.5689e-01, 9.5602e-01, 9.5493e-01, 9.5405e-01,\n",
       "         9.5380e-01, 9.5364e-01, 4.2662e-02, 1.8939e-01, 4.8533e-01, 7.2416e-01,\n",
       "         5.7747e-03],\n",
       "        [3.6197e-03, 9.9390e-01, 9.9702e-01, 9.9751e-01, 9.9763e-01, 9.9767e-01,\n",
       "         9.9767e-01, 9.9766e-01, 9.9766e-01, 9.9765e-01, 9.9761e-01, 9.9760e-01,\n",
       "         9.9754e-01, 9.9749e-01, 9.9742e-01, 9.9736e-01, 9.9734e-01, 9.9733e-01,\n",
       "         9.9731e-01, 9.9728e-01, 9.9725e-01, 9.9721e-01, 9.5585e-04, 7.3863e-01,\n",
       "         9.8676e-01, 9.9318e-01, 9.9456e-01, 9.9483e-01, 9.9492e-01, 9.9493e-01,\n",
       "         1.1115e-03],\n",
       "        [1.7825e-03, 9.7812e-01, 9.8111e-01, 9.7997e-01, 9.7837e-01, 9.7702e-01,\n",
       "         9.7572e-01, 9.7429e-01, 9.7297e-01, 9.7192e-01, 9.7092e-01, 9.6997e-01,\n",
       "         9.6927e-01, 9.6824e-01, 2.9200e-02, 5.3142e-01, 8.9801e-01, 9.5786e-01,\n",
       "         9.7410e-01, 3.2110e-03, 1.0000e+00, 1.0000e+00, 1.0000e+00, 1.0000e+00,\n",
       "         1.0000e+00, 1.0000e+00, 1.0000e+00, 1.0000e+00, 1.0000e+00, 1.0000e+00,\n",
       "         1.0000e+00],\n",
       "        [1.7773e-03, 9.7774e-01, 9.8130e-01, 9.8021e-01, 9.7887e-01, 9.7770e-01,\n",
       "         9.7641e-01, 9.7524e-01, 9.7405e-01, 9.7297e-01, 9.7221e-01, 9.7121e-01,\n",
       "         9.7039e-01, 9.6946e-01, 9.6846e-01, 9.6722e-01, 9.6611e-01, 9.6505e-01,\n",
       "         3.2567e-02, 2.8908e-01, 7.3533e-01, 8.8679e-01, 9.3706e-01, 4.3025e-03,\n",
       "         1.0000e+00, 1.0000e+00, 1.0000e+00, 1.0000e+00, 1.0000e+00, 1.0000e+00,\n",
       "         1.0000e+00],\n",
       "        [2.0000e-03, 9.7805e-01, 9.8103e-01, 9.7973e-01, 9.7818e-01, 9.7668e-01,\n",
       "         9.7535e-01, 9.7398e-01, 9.7267e-01, 9.7155e-01, 2.6232e-02, 8.8777e-01,\n",
       "         9.6950e-01, 9.8182e-01, 2.7588e-03, 1.0000e+00, 1.0000e+00, 1.0000e+00,\n",
       "         1.0000e+00, 1.0000e+00, 1.0000e+00, 1.0000e+00, 1.0000e+00, 1.0000e+00,\n",
       "         1.0000e+00, 1.0000e+00, 1.0000e+00, 1.0000e+00, 1.0000e+00, 1.0000e+00,\n",
       "         1.0000e+00],\n",
       "        [3.9216e-03, 9.9468e-01, 9.9718e-01, 9.9758e-01, 9.9769e-01, 9.9774e-01,\n",
       "         9.9775e-01, 9.9774e-01, 9.9773e-01, 6.0529e-04, 9.9346e-01, 1.0072e-03,\n",
       "         1.0000e+00, 1.0000e+00, 1.0000e+00, 1.0000e+00, 1.0000e+00, 1.0000e+00,\n",
       "         1.0000e+00, 1.0000e+00, 1.0000e+00, 1.0000e+00, 1.0000e+00, 1.0000e+00,\n",
       "         1.0000e+00, 1.0000e+00, 1.0000e+00, 1.0000e+00, 1.0000e+00, 1.0000e+00,\n",
       "         1.0000e+00],\n",
       "        [3.5315e-03, 9.9364e-01, 9.9695e-01, 9.9745e-01, 9.9761e-01, 9.9764e-01,\n",
       "         9.9766e-01, 9.9767e-01, 7.0666e-04, 9.9474e-01, 9.9570e-01, 9.9592e-01,\n",
       "         9.9586e-01, 9.9556e-01, 9.9526e-01, 1.5101e-03, 1.0000e+00, 1.0000e+00,\n",
       "         1.0000e+00, 1.0000e+00, 1.0000e+00, 1.0000e+00, 1.0000e+00, 1.0000e+00,\n",
       "         1.0000e+00, 1.0000e+00, 1.0000e+00, 1.0000e+00, 1.0000e+00, 1.0000e+00,\n",
       "         1.0000e+00],\n",
       "        [1.9752e-03, 9.7629e-01, 9.8005e-01, 9.7861e-01, 9.7688e-01, 9.7525e-01,\n",
       "         9.7404e-01, 9.7239e-01, 9.7097e-01, 2.7000e-02, 9.3407e-01, 9.7905e-01,\n",
       "         9.8698e-01, 9.8967e-01, 9.9111e-01, 9.9192e-01, 9.9235e-01, 2.3885e-03,\n",
       "         1.0000e+00, 1.0000e+00, 1.0000e+00, 1.0000e+00, 1.0000e+00, 1.0000e+00,\n",
       "         1.0000e+00, 1.0000e+00, 1.0000e+00, 1.0000e+00, 1.0000e+00, 1.0000e+00,\n",
       "         1.0000e+00],\n",
       "        [1.8244e-03, 9.7772e-01, 9.8072e-01, 9.7937e-01, 9.7768e-01, 9.7612e-01,\n",
       "         9.7477e-01, 9.7352e-01, 9.7216e-01, 9.7076e-01, 2.6984e-02, 8.9273e-01,\n",
       "         9.7042e-01, 9.8304e-01, 2.6622e-03, 1.0000e+00, 1.0000e+00, 1.0000e+00,\n",
       "         1.0000e+00, 1.0000e+00, 1.0000e+00, 1.0000e+00, 1.0000e+00, 1.0000e+00,\n",
       "         1.0000e+00, 1.0000e+00, 1.0000e+00, 1.0000e+00, 1.0000e+00, 1.0000e+00,\n",
       "         1.0000e+00],\n",
       "        [2.0243e-03, 9.7452e-01, 9.7702e-01, 9.7506e-01, 9.7287e-01, 9.7093e-01,\n",
       "         9.6937e-01, 9.6768e-01, 9.6587e-01, 9.6459e-01, 9.6320e-01, 3.4094e-02,\n",
       "         8.5732e-01, 9.6448e-01, 9.8062e-01, 9.8594e-01, 9.8832e-01, 2.4821e-03,\n",
       "         1.0000e+00, 1.0000e+00, 1.0000e+00, 1.0000e+00, 1.0000e+00, 1.0000e+00,\n",
       "         1.0000e+00, 1.0000e+00, 1.0000e+00, 1.0000e+00, 1.0000e+00, 1.0000e+00,\n",
       "         1.0000e+00],\n",
       "        [3.7285e-03, 9.9462e-01, 9.9709e-01, 9.9749e-01, 9.9758e-01, 9.9757e-01,\n",
       "         9.9757e-01, 9.9756e-01, 9.9753e-01, 9.9750e-01, 9.9746e-01, 9.9743e-01,\n",
       "         9.9741e-01, 9.9737e-01, 9.9732e-01, 9.9726e-01, 9.9721e-01, 9.9716e-01,\n",
       "         8.4335e-04, 9.7436e-01, 9.9261e-01, 9.8503e-04, 1.0000e+00, 1.0000e+00,\n",
       "         1.0000e+00, 1.0000e+00, 1.0000e+00, 1.0000e+00, 1.0000e+00, 1.0000e+00,\n",
       "         1.0000e+00],\n",
       "        [3.3831e-03, 9.9373e-01, 9.9691e-01, 9.9742e-01, 9.9755e-01, 9.9759e-01,\n",
       "         9.9764e-01, 9.9764e-01, 9.9763e-01, 9.9764e-01, 9.9760e-01, 9.9758e-01,\n",
       "         9.9754e-01, 9.9750e-01, 9.9746e-01, 9.9740e-01, 9.9737e-01, 9.9736e-01,\n",
       "         9.9733e-01, 9.9733e-01, 8.7380e-04, 9.5453e-01, 9.9127e-01, 9.9406e-01,\n",
       "         9.9490e-01, 9.9508e-01, 9.9516e-01, 1.0807e-03, 1.0000e+00, 1.0000e+00,\n",
       "         1.0000e+00],\n",
       "        [3.1318e-03, 9.9298e-01, 9.9653e-01, 9.9709e-01, 9.9724e-01, 9.9728e-01,\n",
       "         9.9725e-01, 9.9723e-01, 9.9722e-01, 9.9720e-01, 9.9717e-01, 9.9715e-01,\n",
       "         9.9712e-01, 9.9706e-01, 9.9700e-01, 9.9694e-01, 9.0880e-04, 9.8499e-01,\n",
       "         9.9426e-01, 9.9518e-01, 1.0183e-03, 1.0000e+00, 1.0000e+00, 1.0000e+00,\n",
       "         1.0000e+00, 1.0000e+00, 1.0000e+00, 1.0000e+00, 1.0000e+00, 1.0000e+00,\n",
       "         1.0000e+00],\n",
       "        [3.5908e-03, 9.9366e-01, 9.9660e-01, 9.9708e-01, 7.3784e-04, 9.9499e-01,\n",
       "         9.9533e-01, 9.9513e-01, 9.9485e-01, 9.9458e-01, 9.9428e-01, 9.9399e-01,\n",
       "         9.9372e-01, 9.9350e-01, 9.9330e-01, 9.9310e-01, 9.9286e-01, 9.9263e-01,\n",
       "         9.9243e-01, 9.9228e-01, 9.9217e-01, 9.9209e-01, 9.9200e-01, 9.9189e-01,\n",
       "         9.9176e-01, 9.9162e-01, 9.9150e-01, 9.9139e-01, 9.9128e-01, 9.9118e-01,\n",
       "         3.1274e-03]], device='cuda:1', grad_fn=<ExpBackward0>)"
      ]
     },
     "execution_count": 47,
     "metadata": {},
     "output_type": "execute_result"
    }
   ],
   "source": [
    "ratios = (logpas - buffer.logpas).exp()\n",
    "ratios"
   ]
  },
  {
   "cell_type": "code",
   "execution_count": 48,
   "id": "c2a993f5-752b-4aa7-92b2-88cb9f9a8df7",
   "metadata": {},
   "outputs": [],
   "source": [
    "# Ok, I do not trust these probabilities at all, based on how the brain performs outside the 'guided' framework\n",
    "# I think that something is wrong with brain.compute_probabilities\n",
    "# -- update: fixed (trace indices in input were incorrect)"
   ]
  },
  {
   "cell_type": "code",
   "execution_count": 49,
   "id": "0e319e45-d08c-4e2f-8e3a-27cd89f20ed1",
   "metadata": {},
   "outputs": [
    {
     "data": {
      "text/plain": [
       "tensor([0, 4, 4, 4, 4, 4, 4, 4, 4, 4, 4, 4, 4, 4, 4, 4, 4, 4, 4, 4, 4, 4, 4, 4,\n",
       "        4, 4, 4, 4, 4, 4, 1, 2], device='cuda:1')"
      ]
     },
     "execution_count": 49,
     "metadata": {},
     "output_type": "execute_result"
    }
   ],
   "source": [
    "buffer.traces[0]"
   ]
  },
  {
   "cell_type": "code",
   "execution_count": 50,
   "id": "094a83ef-eeca-4149-a3ac-3d82b178706d",
   "metadata": {},
   "outputs": [
    {
     "data": {
      "text/plain": [
       "<matplotlib.image.AxesImage at 0x7f7979ceaf90>"
      ]
     },
     "execution_count": 50,
     "metadata": {},
     "output_type": "execute_result"
    },
    {
     "data": {
      "image/png": "[encoded data removed]",
      "text/plain": [
       "<Figure size 640x480 with 1 Axes>"
      ]
     },
     "metadata": {},
     "output_type": "display_data"
    }
   ],
   "source": [
    "game_trace = buffer.settings_buffer[4]\n",
    "plt.imshow(discreteGame(game_trace[0]).getData())"
   ]
  },
  {
   "cell_type": "code",
   "execution_count": 51,
   "id": "15c6caee-4a2a-416e-9bfd-be4c0812a7cb",
   "metadata": {},
   "outputs": [
    {
     "data": {
      "text/plain": [
       "tensor([-6.3298, -0.0221, -0.0191, -0.0202, -0.0219, -0.0232, -0.0246, -0.0261,\n",
       "        -0.0274, -0.0285, -0.0295, -0.0305, -0.0312, -0.0323, -3.5336, -0.6322,\n",
       "        -0.1076, -0.0431, -0.0262, -5.7412, -0.0000, -0.0000, -0.0000, -0.0000,\n",
       "        -0.0000, -0.0000, -0.0000, -0.0000, -0.0000, -0.0000, -0.0000],\n",
       "       device='cuda:1', grad_fn=<SelectBackward0>)"
      ]
     },
     "execution_count": 51,
     "metadata": {},
     "output_type": "execute_result"
    }
   ],
   "source": [
    "logpas[4]"
   ]
  },
  {
   "cell_type": "code",
   "execution_count": 52,
   "id": "da00e632-d806-467b-940a-3168f3736048",
   "metadata": {},
   "outputs": [],
   "source": [
    "imgs = get_images_settings([game_trace[0]], device=device)"
   ]
  },
  {
   "cell_type": "code",
   "execution_count": 53,
   "id": "30a2505d-a34d-47c4-a26f-58d3e0cd538d",
   "metadata": {},
   "outputs": [
    {
     "data": {
      "text/plain": [
       "torch.Size([1, 3, 224, 224])"
      ]
     },
     "execution_count": 53,
     "metadata": {},
     "output_type": "execute_result"
    }
   ],
   "source": [
    "imgs.size()"
   ]
  },
  {
   "cell_type": "code",
   "execution_count": 54,
   "id": "e26546c6-00ca-4094-9e39-35f0b8b1f966",
   "metadata": {},
   "outputs": [
    {
     "data": {
      "image/png": "[encoded data removed]",
      "text/plain": [
       "<Figure size 640x480 with 1 Axes>"
      ]
     },
     "metadata": {},
     "output_type": "display_data"
    }
   ],
   "source": [
    "quick_display(imgs[0])"
   ]
  },
  {
   "cell_type": "code",
   "execution_count": 55,
   "id": "f9bc953d-09ed-47b6-9495-3a658a046e06",
   "metadata": {},
   "outputs": [],
   "source": [
    "with torch.no_grad():\n",
    "    context = brain.img_enc(imgs)"
   ]
  },
  {
   "cell_type": "code",
   "execution_count": 56,
   "id": "f20df549-6269-4092-af7f-2faff74e77c9",
   "metadata": {},
   "outputs": [
    {
     "data": {
      "text/plain": [
       "tensor([[[-1.2476e+00, -5.5677e-01, -7.4340e-01,  ...,  4.5025e-01,\n",
       "          -2.4911e-03, -1.8403e-01],\n",
       "         [-1.2460e+00, -5.5730e-01, -7.4189e-01,  ...,  4.5008e-01,\n",
       "          -2.6106e-03, -1.8303e-01],\n",
       "         [-1.2427e+00, -5.5620e-01, -7.4155e-01,  ...,  4.5243e-01,\n",
       "          -5.5726e-06, -1.7954e-01],\n",
       "         ...,\n",
       "         [-1.2675e+00, -5.6382e-01, -7.5288e-01,  ...,  4.6333e-01,\n",
       "           6.0835e-03, -1.6132e-01],\n",
       "         [-1.2694e+00, -5.6424e-01, -7.5460e-01,  ...,  4.6153e-01,\n",
       "           6.0948e-03, -1.6063e-01],\n",
       "         [-1.2695e+00, -5.6452e-01, -7.5563e-01,  ...,  4.6195e-01,\n",
       "           7.5296e-03, -1.5872e-01]]], device='cuda:1')"
      ]
     },
     "execution_count": 56,
     "metadata": {},
     "output_type": "execute_result"
    }
   ],
   "source": [
    "context"
   ]
  },
  {
   "cell_type": "code",
   "execution_count": 57,
   "id": "eb96eb33-9fc6-4387-822d-661369289b98",
   "metadata": {},
   "outputs": [
    {
     "data": {
      "text/plain": [
       "torch.Size([1, 256, 768])"
      ]
     },
     "execution_count": 57,
     "metadata": {},
     "output_type": "execute_result"
    }
   ],
   "source": [
    "context.size()"
   ]
  },
  {
   "cell_type": "code",
   "execution_count": 58,
   "id": "d147e3d9-5744-4376-9819-9f1730d9b34b",
   "metadata": {},
   "outputs": [
    {
     "data": {
      "text/plain": [
       "1"
      ]
     },
     "execution_count": 58,
     "metadata": {},
     "output_type": "execute_result"
    }
   ],
   "source": [
    "buffer.seed_offset"
   ]
  },
  {
   "cell_type": "code",
   "execution_count": 59,
   "id": "8c6e6b66-6f38-45f6-9b7b-b846dbc3d63e",
   "metadata": {},
   "outputs": [],
   "source": [
    "traces = buffer.traces[0:1, 0:4]"
   ]
  },
  {
   "cell_type": "code",
   "execution_count": 60,
   "id": "3d7f179e-71c6-4e9e-809f-23ff2f88035b",
   "metadata": {},
   "outputs": [
    {
     "data": {
      "text/plain": [
       "torch.Size([1, 4])"
      ]
     },
     "execution_count": 60,
     "metadata": {},
     "output_type": "execute_result"
    }
   ],
   "source": [
    "traces.size()"
   ]
  },
  {
   "cell_type": "code",
   "execution_count": 61,
   "id": "1e3b0b5e-3f17-4e2b-8dcc-48cedf32008d",
   "metadata": {},
   "outputs": [
    {
     "data": {
      "text/plain": [
       "tensor([[0, 4, 4, 4]], device='cuda:1')"
      ]
     },
     "execution_count": 61,
     "metadata": {},
     "output_type": "execute_result"
    }
   ],
   "source": [
    "traces"
   ]
  },
  {
   "cell_type": "code",
   "execution_count": 62,
   "id": "b1f090de-d9ee-4c39-a792-9a21f702db0b",
   "metadata": {},
   "outputs": [],
   "source": [
    "new_logpas, new_ents = brain.compute_probabilities(traces, single=True, context=context)"
   ]
  },
  {
   "cell_type": "code",
   "execution_count": 63,
   "id": "f85b1b4f-bc3b-491b-9ce5-4cddf94b2625",
   "metadata": {},
   "outputs": [
    {
     "data": {
      "text/plain": [
       "tensor([-0.0029], device='cuda:1', grad_fn=<SqueezeBackward1>)"
      ]
     },
     "execution_count": 63,
     "metadata": {},
     "output_type": "execute_result"
    }
   ],
   "source": [
    "new_logpas"
   ]
  },
  {
   "cell_type": "code",
   "execution_count": 64,
   "id": "451a7b89-203b-48cd-81a1-cb327095510f",
   "metadata": {},
   "outputs": [],
   "source": [
    "# ok, now that is very different from what was stored before.\n",
    "# Cute. So the 'brain' did learn how to simply copy the previous instruction."
   ]
  },
  {
   "cell_type": "code",
   "execution_count": 65,
   "id": "f7197c17-cc3f-482d-9e16-48a200fd18aa",
   "metadata": {},
   "outputs": [],
   "source": [
    "# Ok. I think htere was an extra 'plus one' which did not take into account the seed_offset.\n",
    "# I want every trace element *before* ind, but not any more.\n",
    "# Let's recompute these."
   ]
  },
  {
   "cell_type": "code",
   "execution_count": 66,
   "id": "eb07d064-d2c4-4a99-8ef7-322339836cfc",
   "metadata": {},
   "outputs": [],
   "source": [
    "# Ok, what else\n"
   ]
  },
  {
   "cell_type": "code",
   "execution_count": 67,
   "id": "36a3de1f-1c09-4b64-a9e6-c6353871fe60",
   "metadata": {},
   "outputs": [
    {
     "data": {
      "text/plain": [
       "tensor([[-5.7624e+00, -6.9761e-03, -3.3646e-03, -2.8067e-03, -2.6436e-03,\n",
       "         -2.5978e-03, -2.5830e-03, -2.5897e-03, -2.5945e-03, -2.6040e-03,\n",
       "         -2.6317e-03, -2.6612e-03, -2.6951e-03, -2.7390e-03, -2.7966e-03,\n",
       "         -2.8458e-03, -2.8858e-03, -2.8920e-03, -2.9044e-03, -2.9387e-03,\n",
       "         -2.9745e-03, -3.0394e-03, -3.1052e-03, -3.1438e-03, -3.1433e-03,\n",
       "         -3.1099e-03, -3.1095e-03, -3.1347e-03, -3.1748e-03, -6.8405e+00,\n",
       "         -6.7393e+00],\n",
       "        [-6.4099e+00, -2.3417e-02, -4.1318e+00, -6.6566e-03, -5.8780e-03,\n",
       "         -6.1440e-03, -6.5465e-03, -7.0376e-03, -5.7850e+00, -0.0000e+00,\n",
       "         -0.0000e+00, -0.0000e+00, -0.0000e+00, -0.0000e+00, -0.0000e+00,\n",
       "         -0.0000e+00, -0.0000e+00, -0.0000e+00, -0.0000e+00, -0.0000e+00,\n",
       "         -0.0000e+00, -0.0000e+00, -0.0000e+00, -0.0000e+00, -0.0000e+00,\n",
       "         -0.0000e+00, -0.0000e+00, -0.0000e+00, -0.0000e+00, -0.0000e+00,\n",
       "         -0.0000e+00],\n",
       "        [-6.1869e+00, -2.4431e-02, -2.1096e-02, -2.2555e-02, -2.4322e-02,\n",
       "         -2.6093e-02, -2.7672e-02, -2.9253e-02, -3.0774e-02, -3.2006e-02,\n",
       "         -3.3266e-02, -3.4486e-02, -3.5531e-02, -3.6397e-02, -3.7352e-02,\n",
       "         -3.8745e-02, -4.0602e-02, -4.1917e-02, -4.2859e-02, -4.3584e-02,\n",
       "         -4.4066e-02, -4.4976e-02, -4.6121e-02, -4.7042e-02, -4.7299e-02,\n",
       "         -4.7471e-02, -3.1544e+00, -1.6640e+00, -7.2292e-01, -3.2274e-01,\n",
       "         -5.1543e+00],\n",
       "        [-5.6214e+00, -6.1235e-03, -2.9798e-03, -2.4967e-03, -2.3708e-03,\n",
       "         -2.3293e-03, -2.3365e-03, -2.3432e-03, -2.3456e-03, -2.3565e-03,\n",
       "         -2.3885e-03, -2.4042e-03, -2.4648e-03, -2.5105e-03, -2.5811e-03,\n",
       "         -2.6393e-03, -2.6650e-03, -2.6784e-03, -2.6965e-03, -2.7218e-03,\n",
       "         -2.7514e-03, -2.7924e-03, -6.9529e+00, -3.0296e-01, -1.3328e-02,\n",
       "         -6.8431e-03, -5.4536e-03, -5.1827e-03, -5.0912e-03, -5.0879e-03,\n",
       "         -6.8021e+00],\n",
       "        [-6.3298e+00, -2.2120e-02, -1.9074e-02, -2.0231e-02, -2.1866e-02,\n",
       "         -2.3249e-02, -2.4575e-02, -2.6051e-02, -2.7398e-02, -2.8483e-02,\n",
       "         -2.9515e-02, -3.0487e-02, -3.1213e-02, -3.2275e-02, -3.5336e+00,\n",
       "         -6.3220e-01, -1.0758e-01, -4.3054e-02, -2.6240e-02, -5.7412e+00,\n",
       "         -0.0000e+00, -0.0000e+00, -0.0000e+00, -0.0000e+00, -0.0000e+00,\n",
       "         -0.0000e+00, -0.0000e+00, -0.0000e+00, -0.0000e+00, -0.0000e+00,\n",
       "         -0.0000e+00],\n",
       "        [-6.3326e+00, -2.2509e-02, -1.8874e-02, -1.9986e-02, -2.1354e-02,\n",
       "         -2.2548e-02, -2.3870e-02, -2.5069e-02, -2.6297e-02, -2.7401e-02,\n",
       "         -2.8180e-02, -2.9216e-02, -3.0062e-02, -3.1016e-02, -3.2046e-02,\n",
       "         -3.3328e-02, -3.4473e-02, -3.5574e-02, -3.4245e+00, -1.2410e+00,\n",
       "         -3.0744e-01, -1.2015e-01, -6.5012e-02, -5.4486e+00, -0.0000e+00,\n",
       "         -0.0000e+00, -0.0000e+00, -0.0000e+00, -0.0000e+00, -0.0000e+00,\n",
       "         -0.0000e+00],\n",
       "        [-6.2146e+00, -2.2195e-02, -1.9153e-02, -2.0478e-02, -2.2062e-02,\n",
       "         -2.3592e-02, -2.4963e-02, -2.6364e-02, -2.7707e-02, -2.8861e-02,\n",
       "         -3.6408e+00, -1.1904e-01, -3.0972e-02, -1.8344e-02, -5.8930e+00,\n",
       "         -0.0000e+00, -0.0000e+00, -0.0000e+00, -0.0000e+00, -0.0000e+00,\n",
       "         -0.0000e+00, -0.0000e+00, -0.0000e+00, -0.0000e+00, -0.0000e+00,\n",
       "         -0.0000e+00, -0.0000e+00, -0.0000e+00, -0.0000e+00, -0.0000e+00,\n",
       "         -0.0000e+00],\n",
       "        [-5.5413e+00, -5.3363e-03, -2.8191e-03, -2.4185e-03, -2.3146e-03,\n",
       "         -2.2645e-03, -2.2554e-03, -2.2669e-03, -2.2750e-03, -7.4098e+00,\n",
       "         -6.5603e-03, -6.9006e+00, -0.0000e+00, -0.0000e+00, -0.0000e+00,\n",
       "         -0.0000e+00, -0.0000e+00, -0.0000e+00, -0.0000e+00, -0.0000e+00,\n",
       "         -0.0000e+00, -0.0000e+00, -0.0000e+00, -0.0000e+00, -0.0000e+00,\n",
       "         -0.0000e+00, -0.0000e+00, -0.0000e+00, -0.0000e+00, -0.0000e+00,\n",
       "         -0.0000e+00],\n",
       "        [-5.6460e+00, -6.3810e-03, -3.0532e-03, -2.5492e-03, -2.3918e-03,\n",
       "         -2.3603e-03, -2.3394e-03, -2.3332e-03, -7.2550e+00, -5.2691e-03,\n",
       "         -4.3125e-03, -4.0865e-03, -4.1442e-03, -4.4503e-03, -4.7512e-03,\n",
       "         -6.4956e+00, -0.0000e+00, -0.0000e+00, -0.0000e+00, -0.0000e+00,\n",
       "         -0.0000e+00, -0.0000e+00, -0.0000e+00, -0.0000e+00, -0.0000e+00,\n",
       "         -0.0000e+00, -0.0000e+00, -0.0000e+00, -0.0000e+00, -0.0000e+00,\n",
       "         -0.0000e+00],\n",
       "        [-6.2271e+00, -2.4000e-02, -2.0151e-02, -2.1620e-02, -2.3396e-02,\n",
       "         -2.5059e-02, -2.6303e-02, -2.8003e-02, -2.9461e-02, -3.6119e+00,\n",
       "         -6.8200e-02, -2.1170e-02, -1.3105e-02, -1.0388e-02, -8.9283e-03,\n",
       "         -8.1148e-03, -7.6747e-03, -6.0371e+00, -0.0000e+00, -0.0000e+00,\n",
       "         -0.0000e+00, -0.0000e+00, -0.0000e+00, -0.0000e+00, -0.0000e+00,\n",
       "         -0.0000e+00, -0.0000e+00, -0.0000e+00, -0.0000e+00, -0.0000e+00,\n",
       "         -0.0000e+00],\n",
       "        [-6.3065e+00, -2.2527e-02, -1.9470e-02, -2.0850e-02, -2.2571e-02,\n",
       "         -2.4170e-02, -2.5555e-02, -2.6835e-02, -2.8236e-02, -2.9681e-02,\n",
       "         -3.6125e+00, -1.1347e-01, -3.0022e-02, -1.7104e-02, -5.9286e+00,\n",
       "         -0.0000e+00, -0.0000e+00, -0.0000e+00, -0.0000e+00, -0.0000e+00,\n",
       "         -0.0000e+00, -0.0000e+00, -0.0000e+00, -0.0000e+00, -0.0000e+00,\n",
       "         -0.0000e+00, -0.0000e+00, -0.0000e+00, -0.0000e+00, -0.0000e+00,\n",
       "         -0.0000e+00],\n",
       "        [-6.2025e+00, -2.5809e-02, -2.3252e-02, -2.5259e-02, -2.7508e-02,\n",
       "         -2.9506e-02, -3.1109e-02, -3.2854e-02, -3.4725e-02, -3.6050e-02,\n",
       "         -3.7498e-02, -3.3786e+00, -1.5394e-01, -3.6170e-02, -1.9573e-02,\n",
       "         -1.4163e-02, -1.1752e-02, -5.9987e+00, -0.0000e+00, -0.0000e+00,\n",
       "         -0.0000e+00, -0.0000e+00, -0.0000e+00, -0.0000e+00, -0.0000e+00,\n",
       "         -0.0000e+00, -0.0000e+00, -0.0000e+00, -0.0000e+00, -0.0000e+00,\n",
       "         -0.0000e+00],\n",
       "        [-5.5917e+00, -5.3978e-03, -2.9168e-03, -2.5139e-03, -2.4271e-03,\n",
       "         -2.4309e-03, -2.4328e-03, -2.4457e-03, -2.4734e-03, -2.5067e-03,\n",
       "         -2.5463e-03, -2.5778e-03, -2.5902e-03, -2.6369e-03, -2.6875e-03,\n",
       "         -2.7432e-03, -2.7962e-03, -2.8396e-03, -7.0781e+00, -2.5974e-02,\n",
       "         -7.4191e-03, -6.9228e+00, -0.0000e+00, -0.0000e+00, -0.0000e+00,\n",
       "         -0.0000e+00, -0.0000e+00, -0.0000e+00, -0.0000e+00, -0.0000e+00,\n",
       "         -0.0000e+00],\n",
       "        [-5.6890e+00, -6.2923e-03, -3.0909e-03, -2.5864e-03, -2.4519e-03,\n",
       "         -2.4171e-03, -2.3661e-03, -2.3603e-03, -2.3751e-03, -2.3637e-03,\n",
       "         -2.3990e-03, -2.4261e-03, -2.4610e-03, -2.4986e-03, -2.5477e-03,\n",
       "         -2.5992e-03, -2.6293e-03, -2.6445e-03, -2.6755e-03, -2.6717e-03,\n",
       "         -7.0427e+00, -4.6537e-02, -8.7643e-03, -5.9590e-03, -5.1122e-03,\n",
       "         -4.9319e-03, -4.8470e-03, -6.8301e+00, -0.0000e+00, -0.0000e+00,\n",
       "         -0.0000e+00],\n",
       "        [-5.7662e+00, -7.0481e-03, -3.4728e-03, -2.9144e-03, -2.7633e-03,\n",
       "         -2.7275e-03, -2.7575e-03, -2.7766e-03, -2.7881e-03, -2.8033e-03,\n",
       "         -2.8372e-03, -2.8572e-03, -2.8887e-03, -2.9421e-03, -3.0069e-03,\n",
       "         -3.0627e-03, -7.0034e+00, -1.5128e-02, -5.7516e-03, -4.8361e-03,\n",
       "         -6.8896e+00, -0.0000e+00, -0.0000e+00, -0.0000e+00, -0.0000e+00,\n",
       "         -0.0000e+00, -0.0000e+00, -0.0000e+00, -0.0000e+00, -0.0000e+00,\n",
       "         -0.0000e+00],\n",
       "        [-5.6294e+00, -6.3581e-03, -3.4022e-03, -2.9287e-03, -7.2118e+00,\n",
       "         -5.0240e-03, -4.6778e-03, -4.8800e-03, -5.1603e-03, -5.4398e-03,\n",
       "         -5.7344e-03, -6.0315e-03, -6.2966e-03, -6.5217e-03, -6.7215e-03,\n",
       "         -6.9289e-03, -7.1630e-03, -7.3953e-03, -7.5951e-03, -7.7529e-03,\n",
       "         -7.8630e-03, -7.9451e-03, -8.0338e-03, -8.1415e-03, -8.2736e-03,\n",
       "         -8.4114e-03, -8.5402e-03, -8.6517e-03, -8.7543e-03, -8.8620e-03,\n",
       "         -5.7675e+00]], device='cuda:1', grad_fn=<CopySlices>)"
      ]
     },
     "execution_count": 67,
     "metadata": {},
     "output_type": "execute_result"
    }
   ],
   "source": [
    "logpas"
   ]
  },
  {
   "cell_type": "code",
   "execution_count": 68,
   "id": "04b61950-7785-4f60-a6d7-88f51e18acae",
   "metadata": {},
   "outputs": [
    {
     "data": {
      "text/plain": [
       "tensor([[3.1435e-03, 9.9305e-01, 9.9664e-01, 9.9720e-01, 9.9736e-01, 9.9741e-01,\n",
       "         9.9742e-01, 9.9741e-01, 9.9741e-01, 9.9740e-01, 9.9737e-01, 9.9734e-01,\n",
       "         9.9731e-01, 9.9726e-01, 9.9721e-01, 9.9716e-01, 9.9712e-01, 9.9711e-01,\n",
       "         9.9710e-01, 9.9707e-01, 9.9703e-01, 9.9697e-01, 9.9690e-01, 9.9686e-01,\n",
       "         9.9686e-01, 9.9689e-01, 9.9690e-01, 9.9687e-01, 9.9683e-01, 1.0696e-03,\n",
       "         1.1835e-03],\n",
       "        [1.6451e-03, 9.7686e-01, 1.6053e-02, 9.9337e-01, 9.9414e-01, 9.9387e-01,\n",
       "         9.9347e-01, 9.9299e-01, 3.0734e-03, 1.0000e+00, 1.0000e+00, 1.0000e+00,\n",
       "         1.0000e+00, 1.0000e+00, 1.0000e+00, 1.0000e+00, 1.0000e+00, 1.0000e+00,\n",
       "         1.0000e+00, 1.0000e+00, 1.0000e+00, 1.0000e+00, 1.0000e+00, 1.0000e+00,\n",
       "         1.0000e+00, 1.0000e+00, 1.0000e+00, 1.0000e+00, 1.0000e+00, 1.0000e+00,\n",
       "         1.0000e+00],\n",
       "        [2.0562e-03, 9.7586e-01, 9.7913e-01, 9.7770e-01, 9.7597e-01, 9.7424e-01,\n",
       "         9.7271e-01, 9.7117e-01, 9.6969e-01, 9.6850e-01, 9.6728e-01, 9.6610e-01,\n",
       "         9.6509e-01, 9.6426e-01, 9.6334e-01, 9.6200e-01, 9.6021e-01, 9.5895e-01,\n",
       "         9.5805e-01, 9.5735e-01, 9.5689e-01, 9.5602e-01, 9.5493e-01, 9.5405e-01,\n",
       "         9.5380e-01, 9.5364e-01, 4.2662e-02, 1.8939e-01, 4.8533e-01, 7.2416e-01,\n",
       "         5.7747e-03],\n",
       "        [3.6197e-03, 9.9390e-01, 9.9702e-01, 9.9751e-01, 9.9763e-01, 9.9767e-01,\n",
       "         9.9767e-01, 9.9766e-01, 9.9766e-01, 9.9765e-01, 9.9761e-01, 9.9760e-01,\n",
       "         9.9754e-01, 9.9749e-01, 9.9742e-01, 9.9736e-01, 9.9734e-01, 9.9733e-01,\n",
       "         9.9731e-01, 9.9728e-01, 9.9725e-01, 9.9721e-01, 9.5585e-04, 7.3863e-01,\n",
       "         9.8676e-01, 9.9318e-01, 9.9456e-01, 9.9483e-01, 9.9492e-01, 9.9493e-01,\n",
       "         1.1115e-03],\n",
       "        [1.7825e-03, 9.7812e-01, 9.8111e-01, 9.7997e-01, 9.7837e-01, 9.7702e-01,\n",
       "         9.7572e-01, 9.7429e-01, 9.7297e-01, 9.7192e-01, 9.7092e-01, 9.6997e-01,\n",
       "         9.6927e-01, 9.6824e-01, 2.9200e-02, 5.3142e-01, 8.9801e-01, 9.5786e-01,\n",
       "         9.7410e-01, 3.2110e-03, 1.0000e+00, 1.0000e+00, 1.0000e+00, 1.0000e+00,\n",
       "         1.0000e+00, 1.0000e+00, 1.0000e+00, 1.0000e+00, 1.0000e+00, 1.0000e+00,\n",
       "         1.0000e+00],\n",
       "        [1.7773e-03, 9.7774e-01, 9.8130e-01, 9.8021e-01, 9.7887e-01, 9.7770e-01,\n",
       "         9.7641e-01, 9.7524e-01, 9.7405e-01, 9.7297e-01, 9.7221e-01, 9.7121e-01,\n",
       "         9.7039e-01, 9.6946e-01, 9.6846e-01, 9.6722e-01, 9.6611e-01, 9.6505e-01,\n",
       "         3.2567e-02, 2.8908e-01, 7.3533e-01, 8.8679e-01, 9.3706e-01, 4.3025e-03,\n",
       "         1.0000e+00, 1.0000e+00, 1.0000e+00, 1.0000e+00, 1.0000e+00, 1.0000e+00,\n",
       "         1.0000e+00],\n",
       "        [2.0000e-03, 9.7805e-01, 9.8103e-01, 9.7973e-01, 9.7818e-01, 9.7668e-01,\n",
       "         9.7535e-01, 9.7398e-01, 9.7267e-01, 9.7155e-01, 2.6232e-02, 8.8777e-01,\n",
       "         9.6950e-01, 9.8182e-01, 2.7588e-03, 1.0000e+00, 1.0000e+00, 1.0000e+00,\n",
       "         1.0000e+00, 1.0000e+00, 1.0000e+00, 1.0000e+00, 1.0000e+00, 1.0000e+00,\n",
       "         1.0000e+00, 1.0000e+00, 1.0000e+00, 1.0000e+00, 1.0000e+00, 1.0000e+00,\n",
       "         1.0000e+00],\n",
       "        [3.9216e-03, 9.9468e-01, 9.9718e-01, 9.9758e-01, 9.9769e-01, 9.9774e-01,\n",
       "         9.9775e-01, 9.9774e-01, 9.9773e-01, 6.0529e-04, 9.9346e-01, 1.0072e-03,\n",
       "         1.0000e+00, 1.0000e+00, 1.0000e+00, 1.0000e+00, 1.0000e+00, 1.0000e+00,\n",
       "         1.0000e+00, 1.0000e+00, 1.0000e+00, 1.0000e+00, 1.0000e+00, 1.0000e+00,\n",
       "         1.0000e+00, 1.0000e+00, 1.0000e+00, 1.0000e+00, 1.0000e+00, 1.0000e+00,\n",
       "         1.0000e+00],\n",
       "        [3.5315e-03, 9.9364e-01, 9.9695e-01, 9.9745e-01, 9.9761e-01, 9.9764e-01,\n",
       "         9.9766e-01, 9.9767e-01, 7.0666e-04, 9.9474e-01, 9.9570e-01, 9.9592e-01,\n",
       "         9.9586e-01, 9.9556e-01, 9.9526e-01, 1.5101e-03, 1.0000e+00, 1.0000e+00,\n",
       "         1.0000e+00, 1.0000e+00, 1.0000e+00, 1.0000e+00, 1.0000e+00, 1.0000e+00,\n",
       "         1.0000e+00, 1.0000e+00, 1.0000e+00, 1.0000e+00, 1.0000e+00, 1.0000e+00,\n",
       "         1.0000e+00],\n",
       "        [1.9752e-03, 9.7629e-01, 9.8005e-01, 9.7861e-01, 9.7688e-01, 9.7525e-01,\n",
       "         9.7404e-01, 9.7239e-01, 9.7097e-01, 2.7000e-02, 9.3407e-01, 9.7905e-01,\n",
       "         9.8698e-01, 9.8967e-01, 9.9111e-01, 9.9192e-01, 9.9235e-01, 2.3885e-03,\n",
       "         1.0000e+00, 1.0000e+00, 1.0000e+00, 1.0000e+00, 1.0000e+00, 1.0000e+00,\n",
       "         1.0000e+00, 1.0000e+00, 1.0000e+00, 1.0000e+00, 1.0000e+00, 1.0000e+00,\n",
       "         1.0000e+00],\n",
       "        [1.8244e-03, 9.7772e-01, 9.8072e-01, 9.7937e-01, 9.7768e-01, 9.7612e-01,\n",
       "         9.7477e-01, 9.7352e-01, 9.7216e-01, 9.7076e-01, 2.6984e-02, 8.9273e-01,\n",
       "         9.7042e-01, 9.8304e-01, 2.6622e-03, 1.0000e+00, 1.0000e+00, 1.0000e+00,\n",
       "         1.0000e+00, 1.0000e+00, 1.0000e+00, 1.0000e+00, 1.0000e+00, 1.0000e+00,\n",
       "         1.0000e+00, 1.0000e+00, 1.0000e+00, 1.0000e+00, 1.0000e+00, 1.0000e+00,\n",
       "         1.0000e+00],\n",
       "        [2.0243e-03, 9.7452e-01, 9.7702e-01, 9.7506e-01, 9.7287e-01, 9.7093e-01,\n",
       "         9.6937e-01, 9.6768e-01, 9.6587e-01, 9.6459e-01, 9.6320e-01, 3.4094e-02,\n",
       "         8.5732e-01, 9.6448e-01, 9.8062e-01, 9.8594e-01, 9.8832e-01, 2.4821e-03,\n",
       "         1.0000e+00, 1.0000e+00, 1.0000e+00, 1.0000e+00, 1.0000e+00, 1.0000e+00,\n",
       "         1.0000e+00, 1.0000e+00, 1.0000e+00, 1.0000e+00, 1.0000e+00, 1.0000e+00,\n",
       "         1.0000e+00],\n",
       "        [3.7285e-03, 9.9462e-01, 9.9709e-01, 9.9749e-01, 9.9758e-01, 9.9757e-01,\n",
       "         9.9757e-01, 9.9756e-01, 9.9753e-01, 9.9750e-01, 9.9746e-01, 9.9743e-01,\n",
       "         9.9741e-01, 9.9737e-01, 9.9732e-01, 9.9726e-01, 9.9721e-01, 9.9716e-01,\n",
       "         8.4335e-04, 9.7436e-01, 9.9261e-01, 9.8503e-04, 1.0000e+00, 1.0000e+00,\n",
       "         1.0000e+00, 1.0000e+00, 1.0000e+00, 1.0000e+00, 1.0000e+00, 1.0000e+00,\n",
       "         1.0000e+00],\n",
       "        [3.3831e-03, 9.9373e-01, 9.9691e-01, 9.9742e-01, 9.9755e-01, 9.9759e-01,\n",
       "         9.9764e-01, 9.9764e-01, 9.9763e-01, 9.9764e-01, 9.9760e-01, 9.9758e-01,\n",
       "         9.9754e-01, 9.9750e-01, 9.9746e-01, 9.9740e-01, 9.9737e-01, 9.9736e-01,\n",
       "         9.9733e-01, 9.9733e-01, 8.7380e-04, 9.5453e-01, 9.9127e-01, 9.9406e-01,\n",
       "         9.9490e-01, 9.9508e-01, 9.9516e-01, 1.0807e-03, 1.0000e+00, 1.0000e+00,\n",
       "         1.0000e+00],\n",
       "        [3.1318e-03, 9.9298e-01, 9.9653e-01, 9.9709e-01, 9.9724e-01, 9.9728e-01,\n",
       "         9.9725e-01, 9.9723e-01, 9.9722e-01, 9.9720e-01, 9.9717e-01, 9.9715e-01,\n",
       "         9.9712e-01, 9.9706e-01, 9.9700e-01, 9.9694e-01, 9.0880e-04, 9.8499e-01,\n",
       "         9.9426e-01, 9.9518e-01, 1.0183e-03, 1.0000e+00, 1.0000e+00, 1.0000e+00,\n",
       "         1.0000e+00, 1.0000e+00, 1.0000e+00, 1.0000e+00, 1.0000e+00, 1.0000e+00,\n",
       "         1.0000e+00],\n",
       "        [3.5908e-03, 9.9366e-01, 9.9660e-01, 9.9708e-01, 7.3784e-04, 9.9499e-01,\n",
       "         9.9533e-01, 9.9513e-01, 9.9485e-01, 9.9458e-01, 9.9428e-01, 9.9399e-01,\n",
       "         9.9372e-01, 9.9350e-01, 9.9330e-01, 9.9310e-01, 9.9286e-01, 9.9263e-01,\n",
       "         9.9243e-01, 9.9228e-01, 9.9217e-01, 9.9209e-01, 9.9200e-01, 9.9189e-01,\n",
       "         9.9176e-01, 9.9162e-01, 9.9150e-01, 9.9139e-01, 9.9128e-01, 9.9118e-01,\n",
       "         3.1274e-03]], device='cuda:1', grad_fn=<ExpBackward0>)"
      ]
     },
     "execution_count": 68,
     "metadata": {},
     "output_type": "execute_result"
    }
   ],
   "source": [
    "ratios = (logpas - buffer.logpas).exp()\n",
    "ratios"
   ]
  },
  {
   "cell_type": "code",
   "execution_count": 69,
   "id": "06aa1bb8-bd07-4317-a8a2-2d9c357f6a5b",
   "metadata": {},
   "outputs": [
    {
     "data": {
      "text/plain": [
       "tensor([[-0.0782, -0.0782, -0.0782, -0.0782, -0.0782, -0.0782, -0.0782, -0.0782,\n",
       "         -0.0782, -0.0782, -0.0782, -0.0782, -0.0782, -0.0782, -0.0782, -0.0782,\n",
       "         -0.0782, -0.0782, -0.0782, -0.0782, -0.0782, -0.0782, -0.0782, -0.0782,\n",
       "         -0.0782, -0.0782, -0.0782, -0.0782, -0.0782, -0.0782, -0.0782],\n",
       "        [ 0.8445,  0.8539,  0.8633,  0.8728,  0.8824,  0.8921,  0.9019,  0.9118,\n",
       "          0.9218, -0.0782, -0.0782, -0.0782, -0.0782, -0.0782, -0.0782, -0.0782,\n",
       "         -0.0782, -0.0782, -0.0782, -0.0782, -0.0782, -0.0782, -0.0782, -0.0782,\n",
       "         -0.0782, -0.0782, -0.0782, -0.0782, -0.0782, -0.0782, -0.0782],\n",
       "        [-0.0782, -0.0782, -0.0782, -0.0782, -0.0782, -0.0782, -0.0782, -0.0782,\n",
       "         -0.0782, -0.0782, -0.0782, -0.0782, -0.0782, -0.0782, -0.0782, -0.0782,\n",
       "         -0.0782, -0.0782, -0.0782, -0.0782, -0.0782, -0.0782, -0.0782, -0.0782,\n",
       "         -0.0782, -0.0782, -0.0782, -0.0782, -0.0782, -0.0782, -0.0782],\n",
       "        [-0.0782, -0.0782, -0.0782, -0.0782, -0.0782, -0.0782, -0.0782, -0.0782,\n",
       "         -0.0782, -0.0782, -0.0782, -0.0782, -0.0782, -0.0782, -0.0782, -0.0782,\n",
       "         -0.0782, -0.0782, -0.0782, -0.0782, -0.0782, -0.0782, -0.0782, -0.0782,\n",
       "         -0.0782, -0.0782, -0.0782, -0.0782, -0.0782, -0.0782, -0.0782],\n",
       "        [ 0.7480,  0.7563,  0.7647,  0.7733,  0.7819,  0.7905,  0.7993,  0.8082,\n",
       "          0.8171,  0.8262,  0.8353,  0.8445,  0.8539,  0.8633,  0.8728,  0.8824,\n",
       "          0.8921,  0.9019,  0.9118,  0.9218, -0.0782, -0.0782, -0.0782, -0.0782,\n",
       "         -0.0782, -0.0782, -0.0782, -0.0782, -0.0782, -0.0782, -0.0782],\n",
       "        [ 0.7154,  0.7234,  0.7315,  0.7397,  0.7480,  0.7563,  0.7647,  0.7733,\n",
       "          0.7819,  0.7905,  0.7993,  0.8082,  0.8171,  0.8262,  0.8353,  0.8445,\n",
       "          0.8539,  0.8633,  0.8728,  0.8824,  0.8921,  0.9019,  0.9118,  0.9218,\n",
       "         -0.0782, -0.0782, -0.0782, -0.0782, -0.0782, -0.0782, -0.0782],\n",
       "        [ 0.7905,  0.7993,  0.8082,  0.8171,  0.8262,  0.8353,  0.8445,  0.8539,\n",
       "          0.8633,  0.8728,  0.8824,  0.8921,  0.9019,  0.9118,  0.9218, -0.0782,\n",
       "         -0.0782, -0.0782, -0.0782, -0.0782, -0.0782, -0.0782, -0.0782, -0.0782,\n",
       "         -0.0782, -0.0782, -0.0782, -0.0782, -0.0782, -0.0782, -0.0782],\n",
       "        [ 0.8171,  0.8262,  0.8353,  0.8445,  0.8539,  0.8633,  0.8728,  0.8824,\n",
       "          0.8921,  0.9019,  0.9118,  0.9218, -0.0782, -0.0782, -0.0782, -0.0782,\n",
       "         -0.0782, -0.0782, -0.0782, -0.0782, -0.0782, -0.0782, -0.0782, -0.0782,\n",
       "         -0.0782, -0.0782, -0.0782, -0.0782, -0.0782, -0.0782, -0.0782],\n",
       "        [ 0.7819,  0.7905,  0.7993,  0.8082,  0.8171,  0.8262,  0.8353,  0.8445,\n",
       "          0.8539,  0.8633,  0.8728,  0.8824,  0.8921,  0.9019,  0.9118,  0.9218,\n",
       "         -0.0782, -0.0782, -0.0782, -0.0782, -0.0782, -0.0782, -0.0782, -0.0782,\n",
       "         -0.0782, -0.0782, -0.0782, -0.0782, -0.0782, -0.0782, -0.0782],\n",
       "        [ 0.7647,  0.7733,  0.7819,  0.7905,  0.7993,  0.8082,  0.8171,  0.8262,\n",
       "          0.8353,  0.8445,  0.8539,  0.8633,  0.8728,  0.8824,  0.8921,  0.9019,\n",
       "          0.9118,  0.9218, -0.0782, -0.0782, -0.0782, -0.0782, -0.0782, -0.0782,\n",
       "         -0.0782, -0.0782, -0.0782, -0.0782, -0.0782, -0.0782, -0.0782],\n",
       "        [ 0.7905,  0.7993,  0.8082,  0.8171,  0.8262,  0.8353,  0.8445,  0.8539,\n",
       "          0.8633,  0.8728,  0.8824,  0.8921,  0.9019,  0.9118,  0.9218, -0.0782,\n",
       "         -0.0782, -0.0782, -0.0782, -0.0782, -0.0782, -0.0782, -0.0782, -0.0782,\n",
       "         -0.0782, -0.0782, -0.0782, -0.0782, -0.0782, -0.0782, -0.0782],\n",
       "        [ 0.7647,  0.7733,  0.7819,  0.7905,  0.7993,  0.8082,  0.8171,  0.8262,\n",
       "          0.8353,  0.8445,  0.8539,  0.8633,  0.8728,  0.8824,  0.8921,  0.9019,\n",
       "          0.9118,  0.9218, -0.0782, -0.0782, -0.0782, -0.0782, -0.0782, -0.0782,\n",
       "         -0.0782, -0.0782, -0.0782, -0.0782, -0.0782, -0.0782, -0.0782],\n",
       "        [ 0.7315,  0.7397,  0.7480,  0.7563,  0.7647,  0.7733,  0.7819,  0.7905,\n",
       "          0.7993,  0.8082,  0.8171,  0.8262,  0.8353,  0.8445,  0.8539,  0.8633,\n",
       "          0.8728,  0.8824,  0.8921,  0.9019,  0.9118,  0.9218, -0.0782, -0.0782,\n",
       "         -0.0782, -0.0782, -0.0782, -0.0782, -0.0782, -0.0782, -0.0782],\n",
       "        [ 0.6841,  0.6918,  0.6996,  0.7075,  0.7154,  0.7234,  0.7315,  0.7397,\n",
       "          0.7480,  0.7563,  0.7647,  0.7733,  0.7819,  0.7905,  0.7993,  0.8082,\n",
       "          0.8171,  0.8262,  0.8353,  0.8445,  0.8539,  0.8633,  0.8728,  0.8824,\n",
       "          0.8921,  0.9019,  0.9118,  0.9218, -0.0782, -0.0782, -0.0782],\n",
       "        [ 0.7397,  0.7480,  0.7563,  0.7647,  0.7733,  0.7819,  0.7905,  0.7993,\n",
       "          0.8082,  0.8171,  0.8262,  0.8353,  0.8445,  0.8539,  0.8633,  0.8728,\n",
       "          0.8824,  0.8921,  0.9019,  0.9118,  0.9218, -0.0782, -0.0782, -0.0782,\n",
       "         -0.0782, -0.0782, -0.0782, -0.0782, -0.0782, -0.0782, -0.0782],\n",
       "        [-0.0782, -0.0782, -0.0782, -0.0782, -0.0782, -0.0782, -0.0782, -0.0782,\n",
       "         -0.0782, -0.0782, -0.0782, -0.0782, -0.0782, -0.0782, -0.0782, -0.0782,\n",
       "         -0.0782, -0.0782, -0.0782, -0.0782, -0.0782, -0.0782, -0.0782, -0.0782,\n",
       "         -0.0782, -0.0782, -0.0782, -0.0782, -0.0782, -0.0782, -0.0782]],\n",
       "       device='cuda:1')"
      ]
     },
     "execution_count": 69,
     "metadata": {},
     "output_type": "execute_result"
    }
   ],
   "source": [
    "buffer.gaes"
   ]
  },
  {
   "cell_type": "code",
   "execution_count": 70,
   "id": "baa9c224-f027-44a1-8185-463f6bd85623",
   "metadata": {},
   "outputs": [
    {
     "data": {
      "text/plain": [
       "tensor([[-2.4584e-04, -7.7661e-02, -7.7942e-02, -7.7985e-02, -7.7998e-02,\n",
       "         -7.8002e-02, -7.8003e-02, -7.8002e-02, -7.8002e-02, -7.8001e-02,\n",
       "         -7.7999e-02, -7.7997e-02, -7.7994e-02, -7.7991e-02, -7.7986e-02,\n",
       "         -7.7982e-02, -7.7979e-02, -7.7979e-02, -7.7978e-02, -7.7975e-02,\n",
       "         -7.7972e-02, -7.7967e-02, -7.7962e-02, -7.7959e-02, -7.7959e-02,\n",
       "         -7.7962e-02, -7.7962e-02, -7.7960e-02, -7.7957e-02, -8.3645e-05,\n",
       "         -9.2555e-05],\n",
       "        [ 1.3894e-03,  8.3410e-01,  1.3859e-02,  8.6700e-01,  8.7722e-01,\n",
       "          8.8663e-01,  8.9601e-01,  9.0540e-01,  2.8331e-03, -7.8204e-02,\n",
       "         -7.8204e-02, -7.8204e-02, -7.8204e-02, -7.8204e-02, -7.8204e-02,\n",
       "         -7.8204e-02, -7.8204e-02, -7.8204e-02, -7.8204e-02, -7.8204e-02,\n",
       "         -7.8204e-02, -7.8204e-02, -7.8204e-02, -7.8204e-02, -7.8204e-02,\n",
       "         -7.8204e-02, -7.8204e-02, -7.8204e-02, -7.8204e-02, -7.8204e-02,\n",
       "         -7.8204e-02],\n",
       "        [-1.6080e-04, -7.6317e-02, -7.6572e-02, -7.6460e-02, -7.6325e-02,\n",
       "         -7.6190e-02, -7.6070e-02, -7.5950e-02, -7.5834e-02, -7.5741e-02,\n",
       "         -7.5646e-02, -7.5553e-02, -7.5475e-02, -7.5409e-02, -7.5337e-02,\n",
       "         -7.5232e-02, -7.5093e-02, -7.4994e-02, -7.4923e-02, -7.4869e-02,\n",
       "         -7.4833e-02, -7.4765e-02, -7.4679e-02, -7.4611e-02, -7.4592e-02,\n",
       "         -7.4579e-02, -3.3364e-03, -1.4811e-02, -3.7955e-02, -5.6632e-02,\n",
       "         -4.5161e-04],\n",
       "        [-2.8308e-04, -7.7727e-02, -7.7972e-02, -7.8009e-02, -7.8019e-02,\n",
       "         -7.8022e-02, -7.8022e-02, -7.8021e-02, -7.8021e-02, -7.8020e-02,\n",
       "         -7.8018e-02, -7.8017e-02, -7.8012e-02, -7.8008e-02, -7.8003e-02,\n",
       "         -7.7998e-02, -7.7996e-02, -7.7995e-02, -7.7994e-02, -7.7992e-02,\n",
       "         -7.7990e-02, -7.7986e-02, -7.4752e-05, -5.7764e-02, -7.7169e-02,\n",
       "         -7.7671e-02, -7.7779e-02, -7.7800e-02, -7.7807e-02, -7.7808e-02,\n",
       "         -8.6923e-05],\n",
       "        [ 1.3332e-03,  7.3976e-01,  7.5029e-01,  7.5777e-01,  7.6494e-01,\n",
       "          7.7237e-01,  7.7991e-01,  7.8740e-01,  7.9505e-01,  8.0298e-01,\n",
       "          8.1102e-01,  8.1918e-01,  8.2762e-01,  8.3586e-01,  2.5486e-02,\n",
       "          4.6892e-01,  8.0111e-01,  8.6389e-01,  8.8818e-01,  2.9599e-03,\n",
       "         -7.8204e-02, -7.8204e-02, -7.8204e-02, -7.8204e-02, -7.8204e-02,\n",
       "         -7.8204e-02, -7.8204e-02, -7.8204e-02, -7.8204e-02, -7.8204e-02,\n",
       "         -7.8204e-02],\n",
       "        [ 1.2715e-03,  7.0732e-01,  7.1785e-01,  7.2507e-01,  7.3216e-01,\n",
       "          7.3945e-01,  7.4670e-01,  7.5411e-01,  7.6156e-01,  7.6917e-01,\n",
       "          7.7711e-01,  7.8491e-01,  7.9293e-01,  8.0095e-01,  8.0897e-01,\n",
       "          8.1686e-01,  8.2493e-01,  8.3311e-01,  2.8424e-02,  2.5508e-01,\n",
       "          6.5598e-01,  7.9979e-01,  8.5440e-01,  3.9660e-03, -7.8204e-02,\n",
       "         -7.8204e-02, -7.8204e-02, -7.8204e-02, -7.8204e-02, -7.8204e-02,\n",
       "         -7.8204e-02],\n",
       "        [ 1.5811e-03,  7.8177e-01,  7.9285e-01,  8.0057e-01,  8.0815e-01,\n",
       "          8.1584e-01,  8.2372e-01,  8.3164e-01,  8.3969e-01,  8.4796e-01,\n",
       "          2.3147e-02,  7.9198e-01,  8.7439e-01,  8.9522e-01,  2.5430e-03,\n",
       "         -7.8204e-02, -7.8204e-02, -7.8204e-02, -7.8204e-02, -7.8204e-02,\n",
       "         -7.8204e-02, -7.8204e-02, -7.8204e-02, -7.8204e-02, -7.8204e-02,\n",
       "         -7.8204e-02, -7.8204e-02, -7.8204e-02, -7.8204e-02, -7.8204e-02,\n",
       "         -7.8204e-02],\n",
       "        [ 3.2044e-03,  8.2178e-01,  8.3296e-01,  8.4250e-01,  8.5189e-01,\n",
       "          8.6132e-01,  8.7082e-01,  8.8039e-01,  8.9007e-01,  5.4591e-04,\n",
       "          9.0583e-01,  9.2844e-04, -7.8204e-02, -7.8204e-02, -7.8204e-02,\n",
       "         -7.8204e-02, -7.8204e-02, -7.8204e-02, -7.8204e-02, -7.8204e-02,\n",
       "         -7.8204e-02, -7.8204e-02, -7.8204e-02, -7.8204e-02, -7.8204e-02,\n",
       "         -7.8204e-02, -7.8204e-02, -7.8204e-02, -7.8204e-02, -7.8204e-02,\n",
       "         -7.8204e-02],\n",
       "        [ 2.7611e-03,  7.8551e-01,  7.9688e-01,  8.0612e-01,  8.1518e-01,\n",
       "          8.2423e-01,  8.3336e-01,  8.4257e-01,  6.0339e-04,  8.5874e-01,\n",
       "          8.6903e-01,  8.7879e-01,  8.8841e-01,  8.9789e-01,  9.0747e-01,\n",
       "          1.3920e-03, -7.8204e-02, -7.8204e-02, -7.8204e-02, -7.8204e-02,\n",
       "         -7.8204e-02, -7.8204e-02, -7.8204e-02, -7.8204e-02, -7.8204e-02,\n",
       "         -7.8204e-02, -7.8204e-02, -7.8204e-02, -7.8204e-02, -7.8204e-02,\n",
       "         -7.8204e-02],\n",
       "        [ 1.5105e-03,  7.5492e-01,  7.6626e-01,  7.7363e-01,  7.8083e-01,\n",
       "          7.8818e-01,  7.9592e-01,  8.0336e-01,  8.1106e-01,  2.2802e-02,\n",
       "          7.9757e-01,  8.4519e-01,  8.6142e-01,  8.7327e-01,  8.8417e-01,\n",
       "          8.9461e-01,  9.0482e-01,  2.2017e-03, -7.8204e-02, -7.8204e-02,\n",
       "         -7.8204e-02, -7.8204e-02, -7.8204e-02, -7.8204e-02, -7.8204e-02,\n",
       "         -7.8204e-02, -7.8204e-02, -7.8204e-02, -7.8204e-02, -7.8204e-02,\n",
       "         -7.8204e-02],\n",
       "        [ 1.4423e-03,  7.8151e-01,  7.9260e-01,  8.0027e-01,  8.0774e-01,\n",
       "          8.1537e-01,  8.2323e-01,  8.3125e-01,  8.3924e-01,  8.4726e-01,\n",
       "          2.3811e-02,  7.9640e-01,  8.7522e-01,  8.9633e-01,  2.4540e-03,\n",
       "         -7.8204e-02, -7.8204e-02, -7.8204e-02, -7.8204e-02, -7.8204e-02,\n",
       "         -7.8204e-02, -7.8204e-02, -7.8204e-02, -7.8204e-02, -7.8204e-02,\n",
       "         -7.8204e-02, -7.8204e-02, -7.8204e-02, -7.8204e-02, -7.8204e-02,\n",
       "         -7.8204e-02],\n",
       "        [ 1.5480e-03,  7.5355e-01,  7.6388e-01,  7.7082e-01,  7.7763e-01,\n",
       "          7.8468e-01,  7.9211e-01,  7.9948e-01,  8.0680e-01,  8.1464e-01,\n",
       "          8.2244e-01,  2.9433e-02,  7.4826e-01,  8.5105e-01,  8.7480e-01,\n",
       "          8.8921e-01,  9.0114e-01,  2.2879e-03, -7.8204e-02, -7.8204e-02,\n",
       "         -7.8204e-02, -7.8204e-02, -7.8204e-02, -7.8204e-02, -7.8204e-02,\n",
       "         -7.8204e-02, -7.8204e-02, -7.8204e-02, -7.8204e-02, -7.8204e-02,\n",
       "         -7.8204e-02],\n",
       "        [ 2.7275e-03,  7.3572e-01,  7.4579e-01,  7.5441e-01,  7.6288e-01,\n",
       "          7.7138e-01,  7.7995e-01,  7.8861e-01,  7.9734e-01,  8.0616e-01,\n",
       "          8.1506e-01,  8.2405e-01,  8.3315e-01,  8.4232e-01,  8.5157e-01,\n",
       "          8.6091e-01,  8.7035e-01,  8.7989e-01,  7.5235e-04,  8.7877e-01,\n",
       "          9.0506e-01,  9.0800e-04, -7.8204e-02, -7.8204e-02, -7.8204e-02,\n",
       "         -7.8204e-02, -7.8204e-02, -7.8204e-02, -7.8204e-02, -7.8204e-02,\n",
       "         -7.8204e-02],\n",
       "        [ 2.3145e-03,  6.8750e-01,  6.9746e-01,  7.0565e-01,  7.1366e-01,\n",
       "          7.2168e-01,  7.2979e-01,  7.3796e-01,  7.4619e-01,  7.5452e-01,\n",
       "          7.6291e-01,  7.7138e-01,  7.7993e-01,  7.8857e-01,  7.9728e-01,\n",
       "          8.0608e-01,  8.1499e-01,  8.2400e-01,  8.3308e-01,  8.4229e-01,\n",
       "          7.4611e-04,  8.2402e-01,  8.6517e-01,  8.7715e-01,  8.8755e-01,\n",
       "          8.9746e-01,  9.0739e-01,  9.9618e-04, -7.8204e-02, -7.8204e-02,\n",
       "         -7.8204e-02],\n",
       "        [ 2.3166e-03,  7.4271e-01,  7.5369e-01,  7.6251e-01,  7.7112e-01,\n",
       "          7.7972e-01,  7.8836e-01,  7.9710e-01,  8.0593e-01,  8.1485e-01,\n",
       "          8.2384e-01,  8.3293e-01,  8.4210e-01,  8.5135e-01,  8.6068e-01,\n",
       "          8.7012e-01,  8.0191e-04,  8.7870e-01,  8.9672e-01,  9.0740e-01,\n",
       "          9.3868e-04, -7.8204e-02, -7.8204e-02, -7.8204e-02, -7.8204e-02,\n",
       "         -7.8204e-02, -7.8204e-02, -7.8204e-02, -7.8204e-02, -7.8204e-02,\n",
       "         -7.8204e-02],\n",
       "        [-2.8082e-04, -7.7709e-02, -7.7939e-02, -7.7976e-02, -5.7702e-05,\n",
       "         -7.7813e-02, -7.7839e-02, -7.7824e-02, -7.7802e-02, -7.7780e-02,\n",
       "         -7.7757e-02, -7.7734e-02, -7.7714e-02, -7.7696e-02, -7.7681e-02,\n",
       "         -7.7664e-02, -7.7646e-02, -7.7628e-02, -7.7613e-02, -7.7600e-02,\n",
       "         -7.7592e-02, -7.7586e-02, -7.7579e-02, -7.7570e-02, -7.7560e-02,\n",
       "         -7.7549e-02, -7.7539e-02, -7.7531e-02, -7.7523e-02, -7.7514e-02,\n",
       "         -2.4458e-04]], device='cuda:1', grad_fn=<MulBackward0>)"
      ]
     },
     "execution_count": 70,
     "metadata": {},
     "output_type": "execute_result"
    }
   ],
   "source": [
    "pi_obj = buffer.gaes * ratios\n",
    "pi_obj"
   ]
  },
  {
   "cell_type": "code",
   "execution_count": 71,
   "id": "22c94d3b-0413-4d62-9196-61fce42248fe",
   "metadata": {},
   "outputs": [
    {
     "data": {
      "text/plain": [
       "tensor([[-0.0704, -0.0777, -0.0779, -0.0780, -0.0780, -0.0780, -0.0780, -0.0780,\n",
       "         -0.0780, -0.0780, -0.0780, -0.0780, -0.0780, -0.0780, -0.0780, -0.0780,\n",
       "         -0.0780, -0.0780, -0.0780, -0.0780, -0.0780, -0.0780, -0.0780, -0.0780,\n",
       "         -0.0780, -0.0780, -0.0780, -0.0780, -0.0780, -0.0704, -0.0704],\n",
       "        [ 0.7601,  0.8341,  0.7769,  0.8670,  0.8772,  0.8866,  0.8960,  0.9054,\n",
       "          0.8296, -0.0782, -0.0782, -0.0782, -0.0782, -0.0782, -0.0782, -0.0782,\n",
       "         -0.0782, -0.0782, -0.0782, -0.0782, -0.0782, -0.0782, -0.0782, -0.0782,\n",
       "         -0.0782, -0.0782, -0.0782, -0.0782, -0.0782, -0.0782, -0.0782],\n",
       "        [-0.0704, -0.0763, -0.0766, -0.0765, -0.0763, -0.0762, -0.0761, -0.0759,\n",
       "         -0.0758, -0.0757, -0.0756, -0.0756, -0.0755, -0.0754, -0.0753, -0.0752,\n",
       "         -0.0751, -0.0750, -0.0749, -0.0749, -0.0748, -0.0748, -0.0747, -0.0746,\n",
       "         -0.0746, -0.0746, -0.0704, -0.0704, -0.0704, -0.0704, -0.0704],\n",
       "        [-0.0704, -0.0777, -0.0780, -0.0780, -0.0780, -0.0780, -0.0780, -0.0780,\n",
       "         -0.0780, -0.0780, -0.0780, -0.0780, -0.0780, -0.0780, -0.0780, -0.0780,\n",
       "         -0.0780, -0.0780, -0.0780, -0.0780, -0.0780, -0.0780, -0.0704, -0.0704,\n",
       "         -0.0772, -0.0777, -0.0778, -0.0778, -0.0778, -0.0778, -0.0704],\n",
       "        [ 0.6732,  0.7398,  0.7503,  0.7578,  0.7649,  0.7724,  0.7799,  0.7874,\n",
       "          0.7950,  0.8030,  0.8110,  0.8192,  0.8276,  0.8359,  0.7855,  0.7942,\n",
       "          0.8029,  0.8639,  0.8882,  0.8296, -0.0782, -0.0782, -0.0782, -0.0782,\n",
       "         -0.0782, -0.0782, -0.0782, -0.0782, -0.0782, -0.0782, -0.0782],\n",
       "        [ 0.6439,  0.7073,  0.7178,  0.7251,  0.7322,  0.7394,  0.7467,  0.7541,\n",
       "          0.7616,  0.7692,  0.7771,  0.7849,  0.7929,  0.8009,  0.8090,  0.8169,\n",
       "          0.8249,  0.8331,  0.7855,  0.7942,  0.8029,  0.8117,  0.8544,  0.8296,\n",
       "         -0.0782, -0.0782, -0.0782, -0.0782, -0.0782, -0.0782, -0.0782],\n",
       "        [ 0.7115,  0.7818,  0.7928,  0.8006,  0.8082,  0.8158,  0.8237,  0.8316,\n",
       "          0.8397,  0.8480,  0.7942,  0.8029,  0.8744,  0.8952,  0.8296, -0.0782,\n",
       "         -0.0782, -0.0782, -0.0782, -0.0782, -0.0782, -0.0782, -0.0782, -0.0782,\n",
       "         -0.0782, -0.0782, -0.0782, -0.0782, -0.0782, -0.0782, -0.0782],\n",
       "        [ 0.7354,  0.8218,  0.8330,  0.8425,  0.8519,  0.8613,  0.8708,  0.8804,\n",
       "          0.8901,  0.8117,  0.9058,  0.8296, -0.0782, -0.0782, -0.0782, -0.0782,\n",
       "         -0.0782, -0.0782, -0.0782, -0.0782, -0.0782, -0.0782, -0.0782, -0.0782,\n",
       "         -0.0782, -0.0782, -0.0782, -0.0782, -0.0782, -0.0782, -0.0782],\n",
       "        [ 0.7037,  0.7855,  0.7969,  0.8061,  0.8152,  0.8242,  0.8334,  0.8426,\n",
       "          0.7685,  0.8587,  0.8690,  0.8788,  0.8884,  0.8979,  0.9075,  0.8296,\n",
       "         -0.0782, -0.0782, -0.0782, -0.0782, -0.0782, -0.0782, -0.0782, -0.0782,\n",
       "         -0.0782, -0.0782, -0.0782, -0.0782, -0.0782, -0.0782, -0.0782],\n",
       "        [ 0.6883,  0.7549,  0.7663,  0.7736,  0.7808,  0.7882,  0.7959,  0.8034,\n",
       "          0.8111,  0.7601,  0.7976,  0.8452,  0.8614,  0.8733,  0.8842,  0.8946,\n",
       "          0.9048,  0.8296, -0.0782, -0.0782, -0.0782, -0.0782, -0.0782, -0.0782,\n",
       "         -0.0782, -0.0782, -0.0782, -0.0782, -0.0782, -0.0782, -0.0782],\n",
       "        [ 0.7115,  0.7815,  0.7926,  0.8003,  0.8077,  0.8154,  0.8232,  0.8313,\n",
       "          0.8392,  0.8473,  0.7942,  0.8029,  0.8752,  0.8963,  0.8296, -0.0782,\n",
       "         -0.0782, -0.0782, -0.0782, -0.0782, -0.0782, -0.0782, -0.0782, -0.0782,\n",
       "         -0.0782, -0.0782, -0.0782, -0.0782, -0.0782, -0.0782, -0.0782],\n",
       "        [ 0.6883,  0.7536,  0.7639,  0.7708,  0.7776,  0.7847,  0.7921,  0.7995,\n",
       "          0.8068,  0.8146,  0.8224,  0.7769,  0.7855,  0.8510,  0.8748,  0.8892,\n",
       "          0.9011,  0.8296, -0.0782, -0.0782, -0.0782, -0.0782, -0.0782, -0.0782,\n",
       "         -0.0782, -0.0782, -0.0782, -0.0782, -0.0782, -0.0782, -0.0782],\n",
       "        [ 0.6584,  0.7357,  0.7458,  0.7544,  0.7629,  0.7714,  0.7800,  0.7886,\n",
       "          0.7973,  0.8062,  0.8151,  0.8241,  0.8332,  0.8423,  0.8516,  0.8609,\n",
       "          0.8703,  0.8799,  0.8029,  0.8788,  0.9051,  0.8296, -0.0782, -0.0782,\n",
       "         -0.0782, -0.0782, -0.0782, -0.0782, -0.0782, -0.0782, -0.0782],\n",
       "        [ 0.6157,  0.6875,  0.6975,  0.7056,  0.7137,  0.7217,  0.7298,  0.7380,\n",
       "          0.7462,  0.7545,  0.7629,  0.7714,  0.7799,  0.7886,  0.7973,  0.8061,\n",
       "          0.8150,  0.8240,  0.8331,  0.8423,  0.7685,  0.8240,  0.8652,  0.8771,\n",
       "          0.8875,  0.8975,  0.9074,  0.8296, -0.0782, -0.0782, -0.0782],\n",
       "        [ 0.6657,  0.7427,  0.7537,  0.7625,  0.7711,  0.7797,  0.7884,  0.7971,\n",
       "          0.8059,  0.8148,  0.8238,  0.8329,  0.8421,  0.8514,  0.8607,  0.8701,\n",
       "          0.7942,  0.8787,  0.8967,  0.9074,  0.8296, -0.0782, -0.0782, -0.0782,\n",
       "         -0.0782, -0.0782, -0.0782, -0.0782, -0.0782, -0.0782, -0.0782],\n",
       "        [-0.0704, -0.0777, -0.0779, -0.0780, -0.0704, -0.0778, -0.0778, -0.0778,\n",
       "         -0.0778, -0.0778, -0.0778, -0.0777, -0.0777, -0.0777, -0.0777, -0.0777,\n",
       "         -0.0776, -0.0776, -0.0776, -0.0776, -0.0776, -0.0776, -0.0776, -0.0776,\n",
       "         -0.0776, -0.0775, -0.0775, -0.0775, -0.0775, -0.0775, -0.0704]],\n",
       "       device='cuda:1', grad_fn=<MulBackward0>)"
      ]
     },
     "execution_count": 71,
     "metadata": {},
     "output_type": "execute_result"
    }
   ],
   "source": [
    "policy_clip_range = 0.1\n",
    "pi_obj_clipped = buffer.gaes * ratios.clamp(1.0 - policy_clip_range,\n",
    "                                                       1.0 + policy_clip_range)\n",
    "pi_obj_clipped"
   ]
  },
  {
   "cell_type": "code",
   "execution_count": 72,
   "id": "eae0848f-19e7-4fbe-8131-6e0434faba18",
   "metadata": {},
   "outputs": [],
   "source": [
    "# I don't like the implications of pi_obj_clipped.\n",
    "# I don't like the fact that the gradient will likely not transfer\n",
    "# I will make pi objective clipping optional and turn it off next round\n",
    "#  -- never mind. The 'min' removes this problem"
   ]
  },
  {
   "cell_type": "code",
   "execution_count": 73,
   "id": "e8f75f08-dc24-4eb0-91d5-ddf3c6872801",
   "metadata": {},
   "outputs": [
    {
     "data": {
      "text/plain": [
       "tensor([[-7.0384e-02, -7.7661e-02, -7.7942e-02, -7.7985e-02, -7.7998e-02,\n",
       "         -7.8002e-02, -7.8003e-02, -7.8002e-02, -7.8002e-02, -7.8001e-02,\n",
       "         -7.7999e-02, -7.7997e-02, -7.7994e-02, -7.7991e-02, -7.7986e-02,\n",
       "         -7.7982e-02, -7.7979e-02, -7.7979e-02, -7.7978e-02, -7.7975e-02,\n",
       "         -7.7972e-02, -7.7967e-02, -7.7962e-02, -7.7959e-02, -7.7959e-02,\n",
       "         -7.7962e-02, -7.7962e-02, -7.7960e-02, -7.7957e-02, -7.0384e-02,\n",
       "         -7.0384e-02],\n",
       "        [ 1.3894e-03,  8.3410e-01,  1.3859e-02,  8.6700e-01,  8.7722e-01,\n",
       "          8.8663e-01,  8.9601e-01,  9.0540e-01,  2.8331e-03, -7.8204e-02,\n",
       "         -7.8204e-02, -7.8204e-02, -7.8204e-02, -7.8204e-02, -7.8204e-02,\n",
       "         -7.8204e-02, -7.8204e-02, -7.8204e-02, -7.8204e-02, -7.8204e-02,\n",
       "         -7.8204e-02, -7.8204e-02, -7.8204e-02, -7.8204e-02, -7.8204e-02,\n",
       "         -7.8204e-02, -7.8204e-02, -7.8204e-02, -7.8204e-02, -7.8204e-02,\n",
       "         -7.8204e-02],\n",
       "        [-7.0384e-02, -7.6317e-02, -7.6572e-02, -7.6460e-02, -7.6325e-02,\n",
       "         -7.6190e-02, -7.6070e-02, -7.5950e-02, -7.5834e-02, -7.5741e-02,\n",
       "         -7.5646e-02, -7.5553e-02, -7.5475e-02, -7.5409e-02, -7.5337e-02,\n",
       "         -7.5232e-02, -7.5093e-02, -7.4994e-02, -7.4923e-02, -7.4869e-02,\n",
       "         -7.4833e-02, -7.4765e-02, -7.4679e-02, -7.4611e-02, -7.4592e-02,\n",
       "         -7.4579e-02, -7.0384e-02, -7.0384e-02, -7.0384e-02, -7.0384e-02,\n",
       "         -7.0384e-02],\n",
       "        [-7.0384e-02, -7.7727e-02, -7.7972e-02, -7.8009e-02, -7.8019e-02,\n",
       "         -7.8022e-02, -7.8022e-02, -7.8021e-02, -7.8021e-02, -7.8020e-02,\n",
       "         -7.8018e-02, -7.8017e-02, -7.8012e-02, -7.8008e-02, -7.8003e-02,\n",
       "         -7.7998e-02, -7.7996e-02, -7.7995e-02, -7.7994e-02, -7.7992e-02,\n",
       "         -7.7990e-02, -7.7986e-02, -7.0384e-02, -7.0384e-02, -7.7169e-02,\n",
       "         -7.7671e-02, -7.7779e-02, -7.7800e-02, -7.7807e-02, -7.7808e-02,\n",
       "         -7.0384e-02],\n",
       "        [ 1.3332e-03,  7.3976e-01,  7.5029e-01,  7.5777e-01,  7.6494e-01,\n",
       "          7.7237e-01,  7.7991e-01,  7.8740e-01,  7.9505e-01,  8.0298e-01,\n",
       "          8.1102e-01,  8.1918e-01,  8.2762e-01,  8.3586e-01,  2.5486e-02,\n",
       "          4.6892e-01,  8.0111e-01,  8.6389e-01,  8.8818e-01,  2.9599e-03,\n",
       "         -7.8204e-02, -7.8204e-02, -7.8204e-02, -7.8204e-02, -7.8204e-02,\n",
       "         -7.8204e-02, -7.8204e-02, -7.8204e-02, -7.8204e-02, -7.8204e-02,\n",
       "         -7.8204e-02],\n",
       "        [ 1.2715e-03,  7.0732e-01,  7.1785e-01,  7.2507e-01,  7.3216e-01,\n",
       "          7.3945e-01,  7.4670e-01,  7.5411e-01,  7.6156e-01,  7.6917e-01,\n",
       "          7.7711e-01,  7.8491e-01,  7.9293e-01,  8.0095e-01,  8.0897e-01,\n",
       "          8.1686e-01,  8.2493e-01,  8.3311e-01,  2.8424e-02,  2.5508e-01,\n",
       "          6.5598e-01,  7.9979e-01,  8.5440e-01,  3.9660e-03, -7.8204e-02,\n",
       "         -7.8204e-02, -7.8204e-02, -7.8204e-02, -7.8204e-02, -7.8204e-02,\n",
       "         -7.8204e-02],\n",
       "        [ 1.5811e-03,  7.8177e-01,  7.9285e-01,  8.0057e-01,  8.0815e-01,\n",
       "          8.1584e-01,  8.2372e-01,  8.3164e-01,  8.3969e-01,  8.4796e-01,\n",
       "          2.3147e-02,  7.9198e-01,  8.7439e-01,  8.9522e-01,  2.5430e-03,\n",
       "         -7.8204e-02, -7.8204e-02, -7.8204e-02, -7.8204e-02, -7.8204e-02,\n",
       "         -7.8204e-02, -7.8204e-02, -7.8204e-02, -7.8204e-02, -7.8204e-02,\n",
       "         -7.8204e-02, -7.8204e-02, -7.8204e-02, -7.8204e-02, -7.8204e-02,\n",
       "         -7.8204e-02],\n",
       "        [ 3.2044e-03,  8.2178e-01,  8.3296e-01,  8.4250e-01,  8.5189e-01,\n",
       "          8.6132e-01,  8.7082e-01,  8.8039e-01,  8.9007e-01,  5.4591e-04,\n",
       "          9.0583e-01,  9.2844e-04, -7.8204e-02, -7.8204e-02, -7.8204e-02,\n",
       "         -7.8204e-02, -7.8204e-02, -7.8204e-02, -7.8204e-02, -7.8204e-02,\n",
       "         -7.8204e-02, -7.8204e-02, -7.8204e-02, -7.8204e-02, -7.8204e-02,\n",
       "         -7.8204e-02, -7.8204e-02, -7.8204e-02, -7.8204e-02, -7.8204e-02,\n",
       "         -7.8204e-02],\n",
       "        [ 2.7611e-03,  7.8551e-01,  7.9688e-01,  8.0612e-01,  8.1518e-01,\n",
       "          8.2423e-01,  8.3336e-01,  8.4257e-01,  6.0339e-04,  8.5874e-01,\n",
       "          8.6903e-01,  8.7879e-01,  8.8841e-01,  8.9789e-01,  9.0747e-01,\n",
       "          1.3920e-03, -7.8204e-02, -7.8204e-02, -7.8204e-02, -7.8204e-02,\n",
       "         -7.8204e-02, -7.8204e-02, -7.8204e-02, -7.8204e-02, -7.8204e-02,\n",
       "         -7.8204e-02, -7.8204e-02, -7.8204e-02, -7.8204e-02, -7.8204e-02,\n",
       "         -7.8204e-02],\n",
       "        [ 1.5105e-03,  7.5492e-01,  7.6626e-01,  7.7363e-01,  7.8083e-01,\n",
       "          7.8818e-01,  7.9592e-01,  8.0336e-01,  8.1106e-01,  2.2802e-02,\n",
       "          7.9757e-01,  8.4519e-01,  8.6142e-01,  8.7327e-01,  8.8417e-01,\n",
       "          8.9461e-01,  9.0482e-01,  2.2017e-03, -7.8204e-02, -7.8204e-02,\n",
       "         -7.8204e-02, -7.8204e-02, -7.8204e-02, -7.8204e-02, -7.8204e-02,\n",
       "         -7.8204e-02, -7.8204e-02, -7.8204e-02, -7.8204e-02, -7.8204e-02,\n",
       "         -7.8204e-02],\n",
       "        [ 1.4423e-03,  7.8151e-01,  7.9260e-01,  8.0027e-01,  8.0774e-01,\n",
       "          8.1537e-01,  8.2323e-01,  8.3125e-01,  8.3924e-01,  8.4726e-01,\n",
       "          2.3811e-02,  7.9640e-01,  8.7522e-01,  8.9633e-01,  2.4540e-03,\n",
       "         -7.8204e-02, -7.8204e-02, -7.8204e-02, -7.8204e-02, -7.8204e-02,\n",
       "         -7.8204e-02, -7.8204e-02, -7.8204e-02, -7.8204e-02, -7.8204e-02,\n",
       "         -7.8204e-02, -7.8204e-02, -7.8204e-02, -7.8204e-02, -7.8204e-02,\n",
       "         -7.8204e-02],\n",
       "        [ 1.5480e-03,  7.5355e-01,  7.6388e-01,  7.7082e-01,  7.7763e-01,\n",
       "          7.8468e-01,  7.9211e-01,  7.9948e-01,  8.0680e-01,  8.1464e-01,\n",
       "          8.2244e-01,  2.9433e-02,  7.4826e-01,  8.5105e-01,  8.7480e-01,\n",
       "          8.8921e-01,  9.0114e-01,  2.2879e-03, -7.8204e-02, -7.8204e-02,\n",
       "         -7.8204e-02, -7.8204e-02, -7.8204e-02, -7.8204e-02, -7.8204e-02,\n",
       "         -7.8204e-02, -7.8204e-02, -7.8204e-02, -7.8204e-02, -7.8204e-02,\n",
       "         -7.8204e-02],\n",
       "        [ 2.7275e-03,  7.3572e-01,  7.4579e-01,  7.5441e-01,  7.6288e-01,\n",
       "          7.7138e-01,  7.7995e-01,  7.8861e-01,  7.9734e-01,  8.0616e-01,\n",
       "          8.1506e-01,  8.2405e-01,  8.3315e-01,  8.4232e-01,  8.5157e-01,\n",
       "          8.6091e-01,  8.7035e-01,  8.7989e-01,  7.5235e-04,  8.7877e-01,\n",
       "          9.0506e-01,  9.0800e-04, -7.8204e-02, -7.8204e-02, -7.8204e-02,\n",
       "         -7.8204e-02, -7.8204e-02, -7.8204e-02, -7.8204e-02, -7.8204e-02,\n",
       "         -7.8204e-02],\n",
       "        [ 2.3145e-03,  6.8750e-01,  6.9746e-01,  7.0565e-01,  7.1366e-01,\n",
       "          7.2168e-01,  7.2979e-01,  7.3796e-01,  7.4619e-01,  7.5452e-01,\n",
       "          7.6291e-01,  7.7138e-01,  7.7993e-01,  7.8857e-01,  7.9728e-01,\n",
       "          8.0608e-01,  8.1499e-01,  8.2400e-01,  8.3308e-01,  8.4229e-01,\n",
       "          7.4611e-04,  8.2402e-01,  8.6517e-01,  8.7715e-01,  8.8755e-01,\n",
       "          8.9746e-01,  9.0739e-01,  9.9618e-04, -7.8204e-02, -7.8204e-02,\n",
       "         -7.8204e-02],\n",
       "        [ 2.3166e-03,  7.4271e-01,  7.5369e-01,  7.6251e-01,  7.7112e-01,\n",
       "          7.7972e-01,  7.8836e-01,  7.9710e-01,  8.0593e-01,  8.1485e-01,\n",
       "          8.2384e-01,  8.3293e-01,  8.4210e-01,  8.5135e-01,  8.6068e-01,\n",
       "          8.7012e-01,  8.0191e-04,  8.7870e-01,  8.9672e-01,  9.0740e-01,\n",
       "          9.3868e-04, -7.8204e-02, -7.8204e-02, -7.8204e-02, -7.8204e-02,\n",
       "         -7.8204e-02, -7.8204e-02, -7.8204e-02, -7.8204e-02, -7.8204e-02,\n",
       "         -7.8204e-02],\n",
       "        [-7.0384e-02, -7.7709e-02, -7.7939e-02, -7.7976e-02, -7.0384e-02,\n",
       "         -7.7813e-02, -7.7839e-02, -7.7824e-02, -7.7802e-02, -7.7780e-02,\n",
       "         -7.7757e-02, -7.7734e-02, -7.7714e-02, -7.7696e-02, -7.7681e-02,\n",
       "         -7.7664e-02, -7.7646e-02, -7.7628e-02, -7.7613e-02, -7.7600e-02,\n",
       "         -7.7592e-02, -7.7586e-02, -7.7579e-02, -7.7570e-02, -7.7560e-02,\n",
       "         -7.7549e-02, -7.7539e-02, -7.7531e-02, -7.7523e-02, -7.7514e-02,\n",
       "         -7.0384e-02]], device='cuda:1', grad_fn=<MinimumBackward0>)"
      ]
     },
     "execution_count": 73,
     "metadata": {},
     "output_type": "execute_result"
    }
   ],
   "source": [
    "torch.min(pi_obj, pi_obj_clipped)"
   ]
  },
  {
   "cell_type": "code",
   "execution_count": 74,
   "id": "0a32f18b-c766-4b71-9edb-a3331ec54f84",
   "metadata": {},
   "outputs": [
    {
     "data": {
      "text/plain": [
       "tensor(-0.2540, device='cuda:1', grad_fn=<NegBackward0>)"
      ]
     },
     "execution_count": 74,
     "metadata": {},
     "output_type": "execute_result"
    }
   ],
   "source": [
    "policy_loss = -torch.min(pi_obj, pi_obj_clipped).mean()\n",
    "policy_loss"
   ]
  },
  {
   "cell_type": "code",
   "execution_count": 75,
   "id": "183be361-b301-405f-9969-0776675332d9",
   "metadata": {},
   "outputs": [],
   "source": [
    "# negative because this is 'better than expected'. Because this is the guide"
   ]
  },
  {
   "cell_type": "code",
   "execution_count": 76,
   "id": "d87e1536-fb86-46f4-a293-c83c46ca0353",
   "metadata": {},
   "outputs": [],
   "source": [
    "entropy_loss_weight = 0.01"
   ]
  },
  {
   "cell_type": "code",
   "execution_count": 77,
   "id": "bc25b380-53a1-4344-b620-461ba85c3a17",
   "metadata": {},
   "outputs": [
    {
     "data": {
      "text/plain": [
       "tensor([[0.0722, 0.0490, 0.0266, 0.0227, 0.0216, 0.0212, 0.0211, 0.0212, 0.0212,\n",
       "         0.0212, 0.0214, 0.0216, 0.0219, 0.0222, 0.0226, 0.0229, 0.0232, 0.0232,\n",
       "         0.0233, 0.0235, 0.0238, 0.0242, 0.0247, 0.0249, 0.0249, 0.0247, 0.0247,\n",
       "         0.0249, 0.0251, 0.0258, 0.1483],\n",
       "        [0.0691, 0.1284, 0.1085, 0.0478, 0.0433, 0.0451, 0.0477, 0.0509, 0.0534,\n",
       "         0.0000, 0.0000, 0.0000, 0.0000, 0.0000, 0.0000, 0.0000, 0.0000, 0.0000,\n",
       "         0.0000, 0.0000, 0.0000, 0.0000, 0.0000, 0.0000, 0.0000, 0.0000, 0.0000,\n",
       "         0.0000, 0.0000, 0.0000, 0.0000],\n",
       "        [0.0769, 0.1318, 0.1139, 0.1192, 0.1260, 0.1327, 0.1386, 0.1444, 0.1499,\n",
       "         0.1542, 0.1586, 0.1629, 0.1666, 0.1696, 0.1729, 0.1776, 0.1838, 0.1881,\n",
       "         0.1912, 0.1935, 0.1949, 0.1979, 0.2016, 0.2046, 0.2054, 0.2060, 0.2075,\n",
       "         0.5382, 0.7588, 0.6496, 0.4906],\n",
       "        [0.0710, 0.0438, 0.0240, 0.0206, 0.0197, 0.0194, 0.0194, 0.0194, 0.0195,\n",
       "         0.0195, 0.0197, 0.0199, 0.0203, 0.0206, 0.0211, 0.0215, 0.0217, 0.0218,\n",
       "         0.0219, 0.0221, 0.0223, 0.0226, 0.0229, 0.6338, 0.0819, 0.0483, 0.0402,\n",
       "         0.0387, 0.0382, 0.0382, 0.0404],\n",
       "        [0.0684, 0.1227, 0.1058, 0.1099, 0.1164, 0.1218, 0.1269, 0.1325, 0.1375,\n",
       "         0.1415, 0.1453, 0.1488, 0.1515, 0.1553, 0.1587, 0.7539, 0.3691, 0.2005,\n",
       "         0.1399, 0.1105, 0.0000, 0.0000, 0.0000, 0.0000, 0.0000, 0.0000, 0.0000,\n",
       "         0.0000, 0.0000, 0.0000, 0.0000],\n",
       "        [0.0704, 0.1242, 0.1050, 0.1090, 0.1144, 0.1191, 0.1242, 0.1288, 0.1334,\n",
       "         0.1376, 0.1404, 0.1442, 0.1473, 0.1508, 0.1546, 0.1592, 0.1631, 0.1670,\n",
       "         0.1716, 0.6597, 0.6362, 0.3961, 0.2682, 0.2033, 0.0000, 0.0000, 0.0000,\n",
       "         0.0000, 0.0000, 0.0000, 0.0000],\n",
       "        [0.0693, 0.1229, 0.1060, 0.1109, 0.1170, 0.1229, 0.1282, 0.1335, 0.1385,\n",
       "         0.1427, 0.1464, 0.3911, 0.1574, 0.1065, 0.0852, 0.0000, 0.0000, 0.0000,\n",
       "         0.0000, 0.0000, 0.0000, 0.0000, 0.0000, 0.0000, 0.0000, 0.0000, 0.0000,\n",
       "         0.0000, 0.0000, 0.0000, 0.0000],\n",
       "        [0.0756, 0.0391, 0.0228, 0.0200, 0.0192, 0.0188, 0.0187, 0.0188, 0.0189,\n",
       "         0.0189, 0.0465, 0.0376, 0.0000, 0.0000, 0.0000, 0.0000, 0.0000, 0.0000,\n",
       "         0.0000, 0.0000, 0.0000, 0.0000, 0.0000, 0.0000, 0.0000, 0.0000, 0.0000,\n",
       "         0.0000, 0.0000, 0.0000, 0.0000],\n",
       "        [0.0693, 0.0453, 0.0244, 0.0209, 0.0198, 0.0196, 0.0194, 0.0194, 0.0194,\n",
       "         0.0389, 0.0330, 0.0316, 0.0321, 0.0342, 0.0362, 0.0371, 0.0000, 0.0000,\n",
       "         0.0000, 0.0000, 0.0000, 0.0000, 0.0000, 0.0000, 0.0000, 0.0000, 0.0000,\n",
       "         0.0000, 0.0000, 0.0000, 0.0000],\n",
       "        [0.0739, 0.1305, 0.1101, 0.1154, 0.1224, 0.1288, 0.1334, 0.1398, 0.1451,\n",
       "         0.1499, 0.2741, 0.1187, 0.0823, 0.0687, 0.0610, 0.0567, 0.0543, 0.0547,\n",
       "         0.0000, 0.0000, 0.0000, 0.0000, 0.0000, 0.0000, 0.0000, 0.0000, 0.0000,\n",
       "         0.0000, 0.0000, 0.0000, 0.0000],\n",
       "        [0.0715, 0.1242, 0.1073, 0.1124, 0.1191, 0.1253, 0.1306, 0.1354, 0.1406,\n",
       "         0.1459, 0.1499, 0.3807, 0.1543, 0.1013, 0.0811, 0.0000, 0.0000, 0.0000,\n",
       "         0.0000, 0.0000, 0.0000, 0.0000, 0.0000, 0.0000, 0.0000, 0.0000, 0.0000,\n",
       "         0.0000, 0.0000, 0.0000, 0.0000],\n",
       "        [0.0741, 0.1378, 0.1231, 0.1303, 0.1386, 0.1460, 0.1517, 0.1579, 0.1644,\n",
       "         0.1689, 0.1739, 0.1778, 0.4532, 0.1758, 0.1116, 0.0873, 0.0757, 0.0688,\n",
       "         0.0000, 0.0000, 0.0000, 0.0000, 0.0000, 0.0000, 0.0000, 0.0000, 0.0000,\n",
       "         0.0000, 0.0000, 0.0000, 0.0000],\n",
       "        [0.0768, 0.0396, 0.0235, 0.0206, 0.0200, 0.0200, 0.0200, 0.0201, 0.0203,\n",
       "         0.0205, 0.0208, 0.0210, 0.0211, 0.0214, 0.0217, 0.0221, 0.0225, 0.0228,\n",
       "         0.0229, 0.1358, 0.0517, 0.0449, 0.0000, 0.0000, 0.0000, 0.0000, 0.0000,\n",
       "         0.0000, 0.0000, 0.0000, 0.0000],\n",
       "        [0.0695, 0.0449, 0.0247, 0.0212, 0.0202, 0.0200, 0.0196, 0.0195, 0.0196,\n",
       "         0.0195, 0.0198, 0.0200, 0.0202, 0.0205, 0.0208, 0.0212, 0.0214, 0.0215,\n",
       "         0.0217, 0.0217, 0.0221, 0.2087, 0.0590, 0.0433, 0.0382, 0.0372, 0.0367,\n",
       "         0.0364, 0.0000, 0.0000, 0.0000],\n",
       "        [0.0721, 0.0494, 0.0273, 0.0235, 0.0224, 0.0221, 0.0223, 0.0224, 0.0225,\n",
       "         0.0226, 0.0228, 0.0230, 0.0232, 0.0236, 0.0240, 0.0244, 0.0246, 0.0909,\n",
       "         0.0422, 0.0367, 0.0374, 0.0000, 0.0000, 0.0000, 0.0000, 0.0000, 0.0000,\n",
       "         0.0000, 0.0000, 0.0000, 0.0000],\n",
       "        [0.0797, 0.0456, 0.0268, 0.0236, 0.0226, 0.0376, 0.0355, 0.0369, 0.0388,\n",
       "         0.0406, 0.0425, 0.0444, 0.0461, 0.0475, 0.0488, 0.0500, 0.0515, 0.0529,\n",
       "         0.0541, 0.0551, 0.0558, 0.0563, 0.0568, 0.0574, 0.0582, 0.0591, 0.0598,\n",
       "         0.0605, 0.0611, 0.0618, 0.0625]], device='cuda:1',\n",
       "       grad_fn=<CopySlices>)"
      ]
     },
     "execution_count": 77,
     "metadata": {},
     "output_type": "execute_result"
    }
   ],
   "source": [
    "entropies"
   ]
  },
  {
   "cell_type": "code",
   "execution_count": 78,
   "id": "857ea22c-d6c1-4095-8b65-d4510f7a85ab",
   "metadata": {},
   "outputs": [],
   "source": [
    "entropy_loss = -entropies.mean() * entropy_loss_weight"
   ]
  },
  {
   "cell_type": "code",
   "execution_count": 79,
   "id": "782e05a7-e044-45c1-b59a-042aa78335b5",
   "metadata": {},
   "outputs": [
    {
     "data": {
      "text/plain": [
       "tensor(-0.0006, device='cuda:1', grad_fn=<MulBackward0>)"
      ]
     },
     "execution_count": 79,
     "metadata": {},
     "output_type": "execute_result"
    }
   ],
   "source": [
    "entropy_loss"
   ]
  },
  {
   "cell_type": "code",
   "execution_count": 80,
   "id": "3f53e92f-1bfc-46d6-a4c4-d4be1ed94875",
   "metadata": {},
   "outputs": [],
   "source": [
    "loss = policy_loss + entropy_loss"
   ]
  },
  {
   "cell_type": "code",
   "execution_count": 81,
   "id": "c1ba422c-71ce-4b80-8174-d73bbc5ed750",
   "metadata": {},
   "outputs": [],
   "source": [
    "loss.backward()"
   ]
  },
  {
   "cell_type": "code",
   "execution_count": 82,
   "id": "30df03c7-4f0a-4950-a29e-a7089f943c47",
   "metadata": {},
   "outputs": [
    {
     "name": "stderr",
     "output_type": "stream",
     "text": [
      "/tmp/ipykernel_2517064/3563831637.py:1: UserWarning: The .grad attribute of a Tensor that is not a leaf Tensor is being accessed. Its .grad attribute won't be populated during autograd.backward(). If you indeed want the .grad field to be populated for a non-leaf Tensor, use .retain_grad() on the non-leaf Tensor. If you access the non-leaf Tensor by mistake, make sure you access the leaf Tensor instead. See github.com/pytorch/pytorch/pull/30531 for more informations. (Triggered internally at aten/src/ATen/core/TensorBody.h:489.)\n",
      "  pi_obj.grad\n"
     ]
    }
   ],
   "source": [
    "pi_obj.grad"
   ]
  },
  {
   "cell_type": "code",
   "execution_count": 83,
   "id": "63cb2dbf-3404-4b14-a329-b7ddbe09c875",
   "metadata": {},
   "outputs": [],
   "source": [
    "# oh well, I wanted some more careful debugging\n",
    "# but this is good. I don't need 'retain grad'"
   ]
  },
  {
   "cell_type": "code",
   "execution_count": 84,
   "id": "761bd9ea-b387-4937-896a-6af4fecd1734",
   "metadata": {},
   "outputs": [],
   "source": [
    "# ok, I've debugged every step. I have figured out 2 major errors (images not stored and wrong trace inputs)\n",
    "# I am almost ready to rerun trainin script\n",
    "# Next step: rerun this for the second (computed) buffer and make sure the gradients point in teh right direction."
   ]
  },
  {
   "cell_type": "code",
   "execution_count": 85,
   "id": "479541c7-53a2-4507-8969-028a89cce145",
   "metadata": {},
   "outputs": [
    {
     "data": {
      "text/plain": [
       "<RL_helper.GameOutputBuffer at 0x7f79bdbf4c80>"
      ]
     },
     "execution_count": 85,
     "metadata": {},
     "output_type": "execute_result"
    }
   ],
   "source": [
    "buffer = bb[1]\n",
    "buffer.to(device)"
   ]
  },
  {
   "cell_type": "code",
   "execution_count": 86,
   "id": "d446f2b3-309c-401c-9ea6-bbaea7f62814",
   "metadata": {},
   "outputs": [],
   "source": [
    "game_trace = buffer.settings_buffer[0]\n",
    "imgs = get_images_settings([S[0] for S in buffer.settings_buffer], device=device)"
   ]
  },
  {
   "cell_type": "code",
   "execution_count": 87,
   "id": "e3146912-a7d9-47f5-b9a7-3664d6f79b70",
   "metadata": {},
   "outputs": [
    {
     "data": {
      "image/png": "[encoded data removed]",
      "text/plain": [
       "<Figure size 640x480 with 1 Axes>"
      ]
     },
     "metadata": {},
     "output_type": "display_data"
    }
   ],
   "source": [
    "quick_display(imgs[0])"
   ]
  },
  {
   "cell_type": "code",
   "execution_count": 88,
   "id": "4cae9121-7943-48ed-9bc1-8f3616419095",
   "metadata": {},
   "outputs": [],
   "source": [
    "with torch.no_grad():\n",
    "    context = brain.img_enc(imgs)"
   ]
  },
  {
   "cell_type": "code",
   "execution_count": 89,
   "id": "3835fb3b-24c6-40b5-b8c3-7ffc7d786c99",
   "metadata": {},
   "outputs": [],
   "source": [
    "logpas, entropies = buffer.get_probabilities_and_entropies(evaluation=False)"
   ]
  },
  {
   "cell_type": "code",
   "execution_count": 90,
   "id": "148ae6f0-ce48-4060-8bdf-0be505f23b13",
   "metadata": {},
   "outputs": [
    {
     "data": {
      "text/plain": [
       "<RL_helper.GameOutputBuffer at 0x7f79bdbf4c80>"
      ]
     },
     "execution_count": 90,
     "metadata": {},
     "output_type": "execute_result"
    }
   ],
   "source": [
    "buffer"
   ]
  },
  {
   "cell_type": "code",
   "execution_count": 91,
   "id": "30763c10-ef80-4ed6-943b-4f12c76f8b39",
   "metadata": {},
   "outputs": [
    {
     "data": {
      "text/plain": [
       "tensor([[0, 2],\n",
       "        [0, 2],\n",
       "        [0, 2],\n",
       "        [0, 2],\n",
       "        [0, 2],\n",
       "        [0, 2],\n",
       "        [0, 2],\n",
       "        [0, 2],\n",
       "        [0, 2],\n",
       "        [0, 2],\n",
       "        [0, 2],\n",
       "        [0, 2],\n",
       "        [0, 2],\n",
       "        [0, 2],\n",
       "        [0, 2],\n",
       "        [0, 2]], device='cuda:1')"
      ]
     },
     "execution_count": 91,
     "metadata": {},
     "output_type": "execute_result"
    }
   ],
   "source": [
    "buffer.traces"
   ]
  },
  {
   "cell_type": "code",
   "execution_count": 92,
   "id": "4c0d3d25-95a7-402e-a4bd-4457d4886bd9",
   "metadata": {},
   "outputs": [
    {
     "data": {
      "text/plain": [
       "tensor([[-0.0109],\n",
       "        [-0.0119],\n",
       "        [-0.0108],\n",
       "        [-0.0110],\n",
       "        [-0.0108],\n",
       "        [-0.0111],\n",
       "        [-0.0110],\n",
       "        [-0.0112],\n",
       "        [-0.0117],\n",
       "        [-0.0110],\n",
       "        [-0.0118],\n",
       "        [-0.0108],\n",
       "        [-0.0108],\n",
       "        [-0.0103],\n",
       "        [-0.0105],\n",
       "        [-0.0108]], device='cuda:1', grad_fn=<CopySlices>)"
      ]
     },
     "execution_count": 92,
     "metadata": {},
     "output_type": "execute_result"
    }
   ],
   "source": [
    "logpas # yes, this seems actually correct: something close to 0, for a prob close to 1.0"
   ]
  },
  {
   "cell_type": "code",
   "execution_count": 99,
   "id": "a436dcd7-b947-4748-8475-0db364d5c07b",
   "metadata": {},
   "outputs": [
    {
     "data": {
      "text/plain": [
       "tensor([[-0.0108],\n",
       "        [-0.0119],\n",
       "        [-0.0108],\n",
       "        [-0.0110],\n",
       "        [-0.0109],\n",
       "        [-0.0110],\n",
       "        [-0.0110],\n",
       "        [-0.0112],\n",
       "        [-0.0118],\n",
       "        [-0.0110],\n",
       "        [-0.0119],\n",
       "        [-0.0108],\n",
       "        [-0.0108],\n",
       "        [-0.0103],\n",
       "        [-0.0105],\n",
       "        [-0.0108]], device='cuda:1')"
      ]
     },
     "execution_count": 99,
     "metadata": {},
     "output_type": "execute_result"
    }
   ],
   "source": [
    "buffer.logpas"
   ]
  },
  {
   "cell_type": "code",
   "execution_count": 101,
   "id": "efbc6c5a-01cb-4dd3-9a3b-64428351ee6e",
   "metadata": {},
   "outputs": [
    {
     "data": {
      "text/plain": [
       "tensor([[1.0000],\n",
       "        [1.0000],\n",
       "        [1.0000],\n",
       "        [1.0001],\n",
       "        [1.0000],\n",
       "        [1.0000],\n",
       "        [1.0000],\n",
       "        [1.0000],\n",
       "        [1.0001],\n",
       "        [1.0000],\n",
       "        [1.0000],\n",
       "        [1.0000],\n",
       "        [1.0001],\n",
       "        [1.0000],\n",
       "        [1.0000],\n",
       "        [1.0000]], device='cuda:1', grad_fn=<ExpBackward0>)"
      ]
     },
     "execution_count": 101,
     "metadata": {},
     "output_type": "execute_result"
    }
   ],
   "source": [
    "ratios = (logpas - buffer.logpas).exp()\n",
    "ratios"
   ]
  },
  {
   "cell_type": "code",
   "execution_count": 102,
   "id": "733c4a05-cb71-4a8b-bc7f-5159510b1012",
   "metadata": {},
   "outputs": [
    {
     "data": {
      "text/plain": [
       "tensor([[-0.0782],\n",
       "        [-0.0782],\n",
       "        [-0.0782],\n",
       "        [-0.0782],\n",
       "        [-0.0782],\n",
       "        [-0.0782],\n",
       "        [-0.0782],\n",
       "        [-0.0782],\n",
       "        [-0.0782],\n",
       "        [-0.0782],\n",
       "        [-0.0782],\n",
       "        [-0.0782],\n",
       "        [-0.0782],\n",
       "        [-0.0782],\n",
       "        [-0.0782],\n",
       "        [-0.0782]], device='cuda:1')"
      ]
     },
     "execution_count": 102,
     "metadata": {},
     "output_type": "execute_result"
    }
   ],
   "source": [
    "buffer.gaes"
   ]
  },
  {
   "cell_type": "code",
   "execution_count": 104,
   "id": "94d50222-d885-4818-afff-0c7021d270b0",
   "metadata": {},
   "outputs": [
    {
     "data": {
      "text/plain": [
       "tensor([[-0.0782],\n",
       "        [-0.0782],\n",
       "        [-0.0782],\n",
       "        [-0.0782],\n",
       "        [-0.0782],\n",
       "        [-0.0782],\n",
       "        [-0.0782],\n",
       "        [-0.0782],\n",
       "        [-0.0782],\n",
       "        [-0.0782],\n",
       "        [-0.0782],\n",
       "        [-0.0782],\n",
       "        [-0.0782],\n",
       "        [-0.0782],\n",
       "        [-0.0782],\n",
       "        [-0.0782]], device='cuda:1', grad_fn=<MulBackward0>)"
      ]
     },
     "execution_count": 104,
     "metadata": {},
     "output_type": "execute_result"
    }
   ],
   "source": [
    "pi_obj = buffer.gaes * ratios\n",
    "pi_obj"
   ]
  },
  {
   "cell_type": "code",
   "execution_count": 105,
   "id": "acf9d73a-0c68-4d9a-85a6-2ba1a14ed30a",
   "metadata": {},
   "outputs": [
    {
     "data": {
      "text/plain": [
       "tensor([[-0.0782],\n",
       "        [-0.0782],\n",
       "        [-0.0782],\n",
       "        [-0.0782],\n",
       "        [-0.0782],\n",
       "        [-0.0782],\n",
       "        [-0.0782],\n",
       "        [-0.0782],\n",
       "        [-0.0782],\n",
       "        [-0.0782],\n",
       "        [-0.0782],\n",
       "        [-0.0782],\n",
       "        [-0.0782],\n",
       "        [-0.0782],\n",
       "        [-0.0782],\n",
       "        [-0.0782]], device='cuda:1', grad_fn=<MulBackward0>)"
      ]
     },
     "execution_count": 105,
     "metadata": {},
     "output_type": "execute_result"
    }
   ],
   "source": [
    "pi_obj_clipped = buffer.gaes * ratios.clamp(1.0 - policy_clip_range,\n",
    "                                                       1.0 + policy_clip_range)\n",
    "pi_obj_clipped"
   ]
  },
  {
   "cell_type": "code",
   "execution_count": 106,
   "id": "7333c208-105b-4a3f-a1bc-bbef453cbd76",
   "metadata": {},
   "outputs": [
    {
     "data": {
      "text/plain": [
       "tensor(0.0782, device='cuda:1', grad_fn=<NegBackward0>)"
      ]
     },
     "execution_count": 106,
     "metadata": {},
     "output_type": "execute_result"
    }
   ],
   "source": [
    "policy_loss = -torch.min(pi_obj, pi_obj_clipped).mean()\n",
    "policy_loss"
   ]
  },
  {
   "cell_type": "code",
   "execution_count": 108,
   "id": "d3af0995-034a-41e3-9579-e5ba822934b4",
   "metadata": {},
   "outputs": [
    {
     "data": {
      "text/plain": [
       "tensor(-0.0007, device='cuda:1', grad_fn=<MulBackward0>)"
      ]
     },
     "execution_count": 108,
     "metadata": {},
     "output_type": "execute_result"
    }
   ],
   "source": [
    "entropy_loss = -entropies.mean() * entropy_loss_weight\n",
    "entropy_loss"
   ]
  },
  {
   "cell_type": "code",
   "execution_count": 109,
   "id": "1950c7ce-cc40-4106-9ea8-2a5ce3119e91",
   "metadata": {},
   "outputs": [
    {
     "data": {
      "text/plain": [
       "tensor(0.0775, device='cuda:1', grad_fn=<AddBackward0>)"
      ]
     },
     "execution_count": 109,
     "metadata": {},
     "output_type": "execute_result"
    }
   ],
   "source": [
    "loss = policy_loss + entropy_loss\n",
    "loss"
   ]
  },
  {
   "cell_type": "code",
   "execution_count": 110,
   "id": "fa5dd714-5894-4a14-8b8d-61032a52da03",
   "metadata": {},
   "outputs": [],
   "source": [
    "# ok, I finally think this is getting computed the right way, now\n",
    "# It didn't used to get computed the right way (indeces wrong and all over the place)\n",
    "# I haven't really checked how past_terminated is used, either. I will check there if it fails to train tonight."
   ]
  },
  {
   "cell_type": "code",
   "execution_count": null,
   "id": "d2a1a4f2-a58a-41bc-a00d-1dfdbcbe2263",
   "metadata": {},
   "outputs": [],
   "source": []
  },
  {
   "cell_type": "code",
   "execution_count": 93,
   "id": "b78de939-a3a8-4a01-90e9-62fa54c33a58",
   "metadata": {},
   "outputs": [],
   "source": [
    "# huh.\n",
    "# Odd. \n",
    "# It can't be this low. Not possible\n",
    "# I think it's still computing logpas incorrectly"
   ]
  },
  {
   "cell_type": "code",
   "execution_count": 94,
   "id": "32cc601e-5d0c-4afe-934e-f1c0aec4d683",
   "metadata": {},
   "outputs": [
    {
     "data": {
      "text/plain": [
       "tensor([[ 0.5089,  0.1637,  0.0397,  0.1482, -0.2933],\n",
       "        [ 0.4546,  0.1819,  0.0443,  0.1562, -0.2144],\n",
       "        [ 0.5553,  0.1314, -0.0528,  0.0365, -0.3033],\n",
       "        [ 0.5195,  0.2521, -0.0069,  0.0471, -0.2732],\n",
       "        [ 0.5226,  0.2174,  0.0344,  0.0395, -0.2937],\n",
       "        [ 0.4834,  0.2502,  0.0835,  0.1211, -0.2854],\n",
       "        [ 0.4988,  0.1898,  0.0669,  0.1476, -0.2746],\n",
       "        [ 0.5234,  0.1289, -0.0268,  0.0518, -0.2111],\n",
       "        [ 0.5236,  0.1909, -0.0434,  0.0188, -0.1712],\n",
       "        [ 0.5674,  0.1845, -0.0395,  0.0469, -0.2544],\n",
       "        [ 0.4896,  0.1885, -0.0747,  0.0400, -0.2445],\n",
       "        [ 0.4667,  0.2072, -0.0150, -0.0386, -0.3373],\n",
       "        [ 0.5312,  0.2471,  0.0773,  0.0578, -0.3124],\n",
       "        [ 0.5761,  0.1311, -0.0025,  0.0604, -0.2620],\n",
       "        [ 0.4970,  0.2066, -0.0205,  0.0773, -0.2401],\n",
       "        [ 0.5207,  0.2181, -0.0215,  0.0259, -0.2712]], device='cuda:1',\n",
       "       grad_fn=<AddmmBackward0>)"
      ]
     },
     "execution_count": 94,
     "metadata": {},
     "output_type": "execute_result"
    }
   ],
   "source": [
    "logits = brain.sentence_autoencoder(buffer.traces, context=context, use_masks=True, return_full=False)\n",
    "logits"
   ]
  },
  {
   "cell_type": "code",
   "execution_count": 95,
   "id": "447569bc-5cb1-40bf-8556-c9fb5dcd7832",
   "metadata": {},
   "outputs": [],
   "source": [
    "dist = Categorical(logits = logits / 1.0)"
   ]
  },
  {
   "cell_type": "code",
   "execution_count": 96,
   "id": "21eec74e-f0bf-45b4-b834-5cf96511c57e",
   "metadata": {},
   "outputs": [
    {
     "data": {
      "text/plain": [
       "tensor([2, 2, 2, 2, 2, 2, 2, 2, 2, 2, 2, 2, 2, 2, 2, 2], device='cuda:1')"
      ]
     },
     "execution_count": 96,
     "metadata": {},
     "output_type": "execute_result"
    }
   ],
   "source": [
    "inds = buffer.traces[:, -1]\n",
    "inds"
   ]
  },
  {
   "cell_type": "code",
   "execution_count": 97,
   "id": "6ad7dddc-acf9-4190-b628-67b24d80da74",
   "metadata": {},
   "outputs": [
    {
     "data": {
      "text/plain": [
       "tensor([-1.7159, -1.7130, -1.7768, -1.7596, -1.7148, -1.6869, -1.6985, -1.7605,\n",
       "        -1.7869, -1.7889, -1.7959, -1.7172, -1.6897, -1.7515, -1.7645, -1.7610],\n",
       "       device='cuda:1', grad_fn=<SqueezeBackward1>)"
      ]
     },
     "execution_count": 97,
     "metadata": {},
     "output_type": "execute_result"
    }
   ],
   "source": [
    "dist.log_prob(inds)"
   ]
  },
  {
   "cell_type": "code",
   "execution_count": 98,
   "id": "e9248292-650b-475e-aaf9-c68472424681",
   "metadata": {},
   "outputs": [],
   "source": [
    "# ok. THis is what it's supposed to be.\n",
    "#"
   ]
  }
 ],
 "metadata": {
  "kernelspec": {
   "display_name": "Python 3 (ipykernel)",
   "language": "python",
   "name": "python3"
  },
  "language_info": {
   "codemirror_mode": {
    "name": "ipython",
    "version": 3
   },
   "file_extension": ".py",
   "mimetype": "text/x-python",
   "name": "python",
   "nbconvert_exporter": "python",
   "pygments_lexer": "ipython3",
   "version": "3.12.8"
  }
 },
 "nbformat": 4,
 "nbformat_minor": 5
}
