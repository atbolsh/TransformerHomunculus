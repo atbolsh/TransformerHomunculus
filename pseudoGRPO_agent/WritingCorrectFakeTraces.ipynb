{
 "cells": [
  {
   "cell_type": "code",
   "execution_count": 1,
   "id": "ffde88ba-f68d-4f49-88fb-ce256f0c2590",
   "metadata": {},
   "outputs": [
    {
     "name": "stdout",
     "output_type": "stream",
     "text": [
      "pygame 2.6.1 (SDL 2.28.4, Python 3.12.8)\n",
      "Hello from the pygame community. https://www.pygame.org/contribute.html\n"
     ]
    }
   ],
   "source": [
    "from game import *\n",
    "\n",
    "game_settings = BIG_tool_use_advanced_2_5\n",
    "game_settings.gameSize = 224 # for compatibility with brain's expected size\n",
    "G = discreteGame(game_settings) # kind of a waste; will only call this object to generate random versions of itself\n",
    "\n",
    "from RL_helper import *\n",
    "\n",
    "from visual_transformer import *\n",
    "device = torch.device('cuda:1') # doing this on the P40\n",
    "\n",
    "symbol_action_map = {1: 1, 2: 2, 3: 3, 4: 4} # changing this to the 5-output version\n",
    "\n",
    "# Next, I need to set up the brain itself\n",
    "old_brain = DefaultAgentBrain()\n",
    "old_brain.load_state_dict(torch.load('brain_checkpoints/brain_weights_tutorial1_v3_batch95000.pth', weights_only=True, map_location='cpu'))\n",
    "\n",
    "brain = DefaultAgentBrain(5)\n",
    "brain.img_enc = old_brain.img_enc\n",
    "brain.img_dec = old_brain.img_dec\n",
    "brain = brain.to(device)\n",
    "\n",
    "from RL_logic_solver import * # convenient way to get fake, logical traces\n",
    "\n",
    "def average_return(bb):\n",
    "    \"\"\"The average return (at the end of the seeds alone) from a buffer-buffer\"\"\"\n",
    "    s = torch.zeros(bb[0].returns[:, 0].size(), device = bb[0].returns[:, 0].device)\n",
    "    for b in bb: \n",
    "        #s += bb[0].returns[:, 0]\n",
    "        s += b.returns[:, 0]\n",
    "    return torch.sum(s).item()/(len(bb) * bb[0].returns.size()[0])\n"
   ]
  },
  {
   "cell_type": "code",
   "execution_count": 2,
   "id": "ca646917-668f-4fff-a867-88f5eaa25b01",
   "metadata": {},
   "outputs": [
    {
     "data": {
      "text/plain": [
       "<matplotlib.image.AxesImage at 0x7f327e045700>"
      ]
     },
     "execution_count": 2,
     "metadata": {},
     "output_type": "execute_result"
    },
    {
     "data": {
      "image/png": "[encoded data removed]",
      "text/plain": [
       "<Figure size 640x480 with 1 Axes>"
      ]
     },
     "metadata": {},
     "output_type": "display_data"
    }
   ],
   "source": [
    "import matplotlib.pyplot as plt\n",
    "plt.imshow(G.getData())"
   ]
  },
  {
   "cell_type": "code",
   "execution_count": 3,
   "id": "f688e437-c440-40c8-b271-c0addb229540",
   "metadata": {},
   "outputs": [],
   "source": [
    "def quick_display(torch_img):\n",
    "    clean = torch_img.detach().cpu()\n",
    "    right_order = torch.permute(clean, (1, 2, 0))\n",
    "    array = right_order.numpy()\n",
    "    plt.imshow(array)"
   ]
  },
  {
   "cell_type": "code",
   "execution_count": 36,
   "id": "271a1e60-a257-4baa-b911-09333c22b81e",
   "metadata": {},
   "outputs": [],
   "source": [
    "def get_settings_batch(batch_size):\n",
    "    return [G.random_bare_settings(gameSize=224, max_agent_offset=(0.15 + 0.4*i/batch_size)) for i in range(1, batch_size + 1)]"
   ]
  },
  {
   "cell_type": "code",
   "execution_count": 37,
   "id": "792b7ff6-6196-43cf-8feb-eac3db145805",
   "metadata": {},
   "outputs": [],
   "source": [
    "def get_images(settings_batch, device=device):\n",
    "    batch_size = len(settings_batch)\n",
    "    img = torch.zeros(batch_size, 224, 224, 3)\n",
    "    for i in range(batch_size):\n",
    "        G2 = discreteGame(settings_batch[i])\n",
    "        img[i] = torch.tensor(G2.getData())\n",
    "    img = torch.permute(img, (0, 3, 1, 2)).contiguous().to(device)\n",
    "    return img"
   ]
  },
  {
   "cell_type": "code",
   "execution_count": 39,
   "id": "3c68718b-d2c0-4a7e-9db1-cbedf92f28b7",
   "metadata": {},
   "outputs": [
    {
     "data": {
      "image/png": "[encoded data removed]",
      "text/plain": [
       "<Figure size 640x480 with 1 Axes>"
      ]
     },
     "metadata": {},
     "output_type": "display_data"
    }
   ],
   "source": [
    "S = get_settings_batch(16)\n",
    "img = get_images(S)\n",
    "quick_display(img[0])"
   ]
  },
  {
   "cell_type": "code",
   "execution_count": 40,
   "id": "3cb9d6f1-bea6-4409-8029-943838e83693",
   "metadata": {},
   "outputs": [
    {
     "data": {
      "text/plain": [
       "device(type='cuda', index=1)"
      ]
     },
     "execution_count": 40,
     "metadata": {},
     "output_type": "execute_result"
    }
   ],
   "source": [
    "img.device"
   ]
  },
  {
   "cell_type": "code",
   "execution_count": 41,
   "id": "cf25d82a-8ab5-4557-8991-e792a1be46d0",
   "metadata": {},
   "outputs": [],
   "source": [
    "def get_best_moves(settings_batch, device=device):\n",
    "    moves = []\n",
    "    for settings in settings_batch:\n",
    "        G = discreteGame(deepcopy(settings))\n",
    "        moves.append(best_move_forward(G))\n",
    "    return torch.tensor(moves, device=device).unsqueeze(1)"
   ]
  },
  {
   "cell_type": "code",
   "execution_count": 46,
   "id": "212f524b-0e54-4ac8-a92c-66665c12acb1",
   "metadata": {},
   "outputs": [
    {
     "data": {
      "text/plain": [
       "tensor([[1],\n",
       "        [3],\n",
       "        [1],\n",
       "        [3],\n",
       "        [4],\n",
       "        [4],\n",
       "        [1],\n",
       "        [3],\n",
       "        [4],\n",
       "        [4],\n",
       "        [3],\n",
       "        [4],\n",
       "        [3],\n",
       "        [3],\n",
       "        [3],\n",
       "        [4]], device='cuda:1')"
      ]
     },
     "execution_count": 46,
     "metadata": {},
     "output_type": "execute_result"
    }
   ],
   "source": [
    "S = get_settings_batch(16)\n",
    "\n",
    "moves = get_best_moves(S)\n",
    "moves"
   ]
  },
  {
   "cell_type": "code",
   "execution_count": 47,
   "id": "11d8f200-d51c-4566-a5fb-14b03f09eef2",
   "metadata": {},
   "outputs": [],
   "source": [
    "# tolerable. Fails to learn again, I'll get more traces"
   ]
  },
  {
   "cell_type": "code",
   "execution_count": 50,
   "id": "ad46f5b9-ad4a-4acf-b6b1-ed5556641bca",
   "metadata": {},
   "outputs": [
    {
     "name": "stdout",
     "output_type": "stream",
     "text": [
      "torch.Size([16, 5, 1])\n"
     ]
    },
    {
     "data": {
      "text/plain": [
       "tensor([[[ 0.1748],\n",
       "         [-0.6620],\n",
       "         [-0.0864],\n",
       "         [ 0.7505],\n",
       "         [-0.1153]],\n",
       "\n",
       "        [[ 0.8133],\n",
       "         [-0.5782],\n",
       "         [-0.4227],\n",
       "         [ 0.7439],\n",
       "         [-0.0914]],\n",
       "\n",
       "        [[ 0.5690],\n",
       "         [-0.8395],\n",
       "         [-0.3650],\n",
       "         [ 0.7850],\n",
       "         [-0.0603]],\n",
       "\n",
       "        [[ 0.3324],\n",
       "         [-0.4690],\n",
       "         [-0.3286],\n",
       "         [ 0.3994],\n",
       "         [-0.5621]],\n",
       "\n",
       "        [[ 0.4631],\n",
       "         [-0.9906],\n",
       "         [-0.1675],\n",
       "         [ 0.5489],\n",
       "         [-0.6472]],\n",
       "\n",
       "        [[ 0.5338],\n",
       "         [-0.6561],\n",
       "         [ 0.0137],\n",
       "         [ 0.5106],\n",
       "         [-0.4100]],\n",
       "\n",
       "        [[ 0.5198],\n",
       "         [-0.6906],\n",
       "         [-0.3324],\n",
       "         [ 0.6408],\n",
       "         [-0.0540]],\n",
       "\n",
       "        [[ 0.3146],\n",
       "         [-0.4514],\n",
       "         [-0.0894],\n",
       "         [ 0.7099],\n",
       "         [-0.2193]],\n",
       "\n",
       "        [[ 0.0925],\n",
       "         [-0.8788],\n",
       "         [-0.0780],\n",
       "         [ 1.1643],\n",
       "         [-0.5377]],\n",
       "\n",
       "        [[ 0.6785],\n",
       "         [-0.5238],\n",
       "         [-0.4219],\n",
       "         [ 0.2503],\n",
       "         [-0.4047]],\n",
       "\n",
       "        [[ 0.6102],\n",
       "         [-1.3670],\n",
       "         [-0.3067],\n",
       "         [ 0.2383],\n",
       "         [-0.5010]],\n",
       "\n",
       "        [[ 0.2449],\n",
       "         [-0.7020],\n",
       "         [ 0.1822],\n",
       "         [ 0.5309],\n",
       "         [-0.1723]],\n",
       "\n",
       "        [[ 0.3984],\n",
       "         [-0.8563],\n",
       "         [-0.1310],\n",
       "         [ 0.9406],\n",
       "         [-0.3392]],\n",
       "\n",
       "        [[ 0.5188],\n",
       "         [-0.7405],\n",
       "         [-0.1053],\n",
       "         [ 0.6407],\n",
       "         [-0.3680]],\n",
       "\n",
       "        [[ 0.5972],\n",
       "         [-0.8273],\n",
       "         [-0.5215],\n",
       "         [ 1.0140],\n",
       "         [-0.3175]],\n",
       "\n",
       "        [[ 0.2865],\n",
       "         [-0.3724],\n",
       "         [ 0.0234],\n",
       "         [ 0.4472],\n",
       "         [-0.1898]]], device='cuda:1', grad_fn=<PermuteBackward0>)"
      ]
     },
     "execution_count": 50,
     "metadata": {},
     "output_type": "execute_result"
    }
   ],
   "source": [
    "S = get_settings_batch(16)\n",
    "moves = get_best_moves(S)\n",
    "imgs = get_images(S)\n",
    "\n",
    "inp = torch.zeros((16, 1), device=device, dtype=torch.long)\n",
    "probs = brain(inp, imgs, ret_imgs=False)\n",
    "print(probs.size())\n",
    "probs"
   ]
  },
  {
   "cell_type": "code",
   "execution_count": 52,
   "id": "502ad243-a997-40a5-a0f1-72028275a28d",
   "metadata": {},
   "outputs": [
    {
     "data": {
      "text/plain": [
       "tensor(1.4170, device='cuda:1', grad_fn=<SumBackward0>)"
      ]
     },
     "execution_count": 52,
     "metadata": {},
     "output_type": "execute_result"
    }
   ],
   "source": [
    "ent_criterion = nn.CrossEntropyLoss()\n",
    "\n",
    "L = torch.sum(ent_criterion(probs, moves))\n",
    "L"
   ]
  },
  {
   "cell_type": "code",
   "execution_count": 53,
   "id": "bed81f6e-6b4c-471c-95f4-dd3e2d69463f",
   "metadata": {},
   "outputs": [],
   "source": [
    "# ok, we have a plan"
   ]
  },
  {
   "cell_type": "code",
   "execution_count": null,
   "id": "9b294e9e-7bbf-4b74-b226-b07c80b4d1c6",
   "metadata": {},
   "outputs": [],
   "source": []
  }
 ],
 "metadata": {
  "kernelspec": {
   "display_name": "Python 3 (ipykernel)",
   "language": "python",
   "name": "python3"
  },
  "language_info": {
   "codemirror_mode": {
    "name": "ipython",
    "version": 3
   },
   "file_extension": ".py",
   "mimetype": "text/x-python",
   "name": "python",
   "nbconvert_exporter": "python",
   "pygments_lexer": "ipython3",
   "version": "3.12.8"
  }
 },
 "nbformat": 4,
 "nbformat_minor": 5
}
