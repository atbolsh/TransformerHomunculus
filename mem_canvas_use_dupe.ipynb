{
 "cells": [
  {
   "cell_type": "code",
   "execution_count": 1,
   "id": "e1cc4264-183f-4f6b-bc6e-5fb48c8817d0",
   "metadata": {},
   "outputs": [
    {
     "name": "stdout",
     "output_type": "stream",
     "text": [
      "pygame 2.6.1 (SDL 2.28.4, Python 3.12.8)\n",
      "Hello from the pygame community. https://www.pygame.org/contribute.html\n",
      "🔥 text_pretraining_data/eng_sentences_pruned-train.txt\n",
      "🔥 text_pretraining_data/eng_sentences_pruned-eval.txt\n"
     ]
    }
   ],
   "source": [
    "from general_framework import *\n",
    "\n",
    "# This framework is for recalling (reconstructing) images from between 1 and N elements ago\n",
    "# The first 3 are probably stored in canvases (and that will be the first version); the others\n",
    "# will require difficult reconstruction from memory.\n",
    "#\n",
    "# This is focused only on images for now. Text recollection may come, later.\n",
    "# RAW. Needs calibration; may or may not work. THe 'context' tensor may need better markers for what comes from which input\n",
    "\n",
    "N_lookback = 3 # just canvases for now\n",
    "min_lookback = 0 \n",
    "\n",
    "current_image_prompts = [\\\n",
    "    \"Hey, recall the current image again?\", \\\n",
    "    \"Focus on the present view, please.\", \\\n",
    "    \"What do you see right now?\", \\\n",
    "    \"Think about the present game, for a moment.\"\\\n",
    "]\n",
    "\n",
    "prev_image_prompts = [\\\n",
    "    \"Hey, recall the last image, again?\", \\\n",
    "    \"Focus on the last view, please.\", \\\n",
    "    \"What did you see 1 image ago?\", \\\n",
    "    \"Think about the last game, for a moment.\", \\\n",
    "    \"Woah! What was that 1 image ago, again???\" \\\n",
    "]\n",
    "\n",
    "def get_image_prompts(ind):\n",
    "    return [\\\n",
    "        f\"Hey, could you recall the image {ind} ago, again?\", \\\n",
    "        f\"Focus on the view {ind} ago, please.\", \\\n",
    "        f\"Hey, recall the game {ind} ago for me, will you?\", \\\n",
    "        f\"Woah! What was that {ind} images ago, again??\", \\\n",
    "        f\"Think about the game from {ind} ago for me, will you?\", \\\n",
    "        f\"What did you see {ind} games ago, again.\", \\\n",
    "        f\"Think about the view {ind} steps ago, for a moment.\" \\\n",
    "    ]   \n",
    "\n",
    "lookback_prompts = [current_image_prompts, prev_image_prompts]\n",
    "\n",
    "for n in range(2, N_lookback):\n",
    "    lookback_prompts.append(get_image_prompts(n))\n",
    "\n",
    "lookback_prompts = lookback_prompts[min_lookback:N_lookback]\n",
    "\n",
    "def mem_task_img_sample(num_sample=40):\n",
    "    img_in = torch.zeros(num_sample, 224, 224, 3)\n",
    "    for i in range(num_sample):\n",
    "        bare_settings = G.random_bare_settings(gameSize=224, max_agent_offset=0.5)\n",
    "        G2 = discreteGame(bare_settings)\n",
    "        img_in[i] = torch.tensor(G2.getData())\n",
    "    img_in = torch.permute(img_in, (0, 3, 1, 2)).contiguous().to(device)\n",
    "    return img_in\n"
   ]
  },
  {
   "cell_type": "code",
   "execution_count": 2,
   "id": "3485a686-1b82-4408-96f3-33227ec97c48",
   "metadata": {},
   "outputs": [],
   "source": [
    "# newest to oldest, possible targets\n",
    "def get_prompts(img_tensor_list):\n",
    "    batch_size = img_tensor_list[0].size()[0]\n",
    "    lookback_vals = np.random.randint(0, N_lookback - min_lookback, (batch_size,))\n",
    "\n",
    "    target = torch.zeros_like(img_tensor_list[0])\n",
    "    prompts = []\n",
    "\n",
    "    for ind in range(batch_size):\n",
    "        lookback = lookback_vals[ind]\n",
    "        target[ind] = img_tensor_list[lookback][ind].detach()\n",
    "        prompts.append(random.choice(lookback_prompts[lookback + min_lookback]))\n",
    "\n",
    "    target = target.contiguous()\n",
    "\n",
    "    prompt_tensor = torch.tensor([x.ids for x in tokenizer.encode_batch(prompts)]).contiguous().to(device)\n",
    "    padded_prompt_tensor = torch.zeros((batch_size, 32), dtype=prompt_tensor.dtype, device=prompt_tensor.device)\n",
    "    padded_prompt_tensor[:, :prompt_tensor.size()[1]] += prompt_tensor\n",
    "    return padded_prompt_tensor, target\n",
    "\n"
   ]
  },
  {
   "cell_type": "code",
   "execution_count": 3,
   "id": "59ade2e5-0c37-4f2b-9b98-5aa5333bb4c8",
   "metadata": {},
   "outputs": [],
   "source": [
    "from visual_transformer import *\n",
    "from visual_transformer.enhanced_model import *"
   ]
  },
  {
   "cell_type": "code",
   "execution_count": 4,
   "id": "87694bba-113c-44fc-a89d-3f928c947b03",
   "metadata": {},
   "outputs": [
    {
     "data": {
      "text/plain": [
       "<matplotlib.image.AxesImage at 0x7f530fbbf020>"
      ]
     },
     "execution_count": 4,
     "metadata": {},
     "output_type": "execute_result"
    },
    {
     "data": {
      "image/png": "[encoded data removed]",
      "text/plain": [
       "<Figure size 640x480 with 1 Axes>"
      ]
     },
     "metadata": {},
     "output_type": "display_data"
    }
   ],
   "source": [
    "import matplotlib.pyplot as plt\n",
    "plt.imshow(G.getData())"
   ]
  },
  {
   "cell_type": "code",
   "execution_count": 5,
   "id": "3703eaaf-6c40-4272-976d-40ba118bd6fe",
   "metadata": {},
   "outputs": [],
   "source": [
    "def quick_display(torch_img):\n",
    "    clean = torch_img.detach().cpu()\n",
    "    right_order = torch.permute(clean, (1, 2, 0))\n",
    "    array = right_order.numpy()\n",
    "    plt.imshow(array)"
   ]
  },
  {
   "cell_type": "code",
   "execution_count": 6,
   "id": "53d445d2-7d24-4806-85dc-ecc229af4420",
   "metadata": {},
   "outputs": [],
   "source": [
    "batch_size = 8\n",
    "batch_num = 12 # why not?"
   ]
  },
  {
   "cell_type": "code",
   "execution_count": 9,
   "id": "6f612a13-7124-44f5-a1b9-1762dc619500",
   "metadata": {},
   "outputs": [
    {
     "data": {
      "text/plain": [
       "['Hey, could you recall the image 2 ago, again?',\n",
       " 'Focus on the view 2 ago, please.',\n",
       " 'Hey, recall the game 2 ago for me, will you?',\n",
       " 'Woah! What was that 2 images ago, again??',\n",
       " 'Think about the game from 2 ago for me, will you?',\n",
       " 'What did you see 2 games ago, again.',\n",
       " 'Think about the view 2 steps ago, for a moment.']"
      ]
     },
     "execution_count": 9,
     "metadata": {},
     "output_type": "execute_result"
    }
   ],
   "source": [
    "lookback_prompts[2]"
   ]
  },
  {
   "cell_type": "code",
   "execution_count": 10,
   "id": "e56c8d6a-c756-4e1f-9b64-f941c63def8d",
   "metadata": {},
   "outputs": [],
   "source": [
    "ind = (batch_num * batch_size) % num_controls\n",
    "if ind + batch_size > num_controls:\n",
    "    ind = num_controls - batch_size\n",
    "control_texts = sdt[ind:ind + batch_size].to(device)"
   ]
  },
  {
   "cell_type": "code",
   "execution_count": 11,
   "id": "c8a59d5e-3a76-4fdb-9e9d-7cb1867ba68a",
   "metadata": {},
   "outputs": [
    {
     "data": {
      "text/plain": [
       "'<s>You are saying you intentionally hide your good looks?</s><s><s><s><s><s><s><s><s><s><s><s><s><s><s><s><s><s><s><s>'"
      ]
     },
     "execution_count": 11,
     "metadata": {},
     "output_type": "execute_result"
    }
   ],
   "source": [
    "tokenizer.decode(control_texts[0].detach().cpu().numpy())"
   ]
  },
  {
   "cell_type": "code",
   "execution_count": 12,
   "id": "30bd789e-db70-49b8-bdd8-e2d0a3bdc2e7",
   "metadata": {},
   "outputs": [],
   "source": [
    "# perfect"
   ]
  },
  {
   "cell_type": "code",
   "execution_count": 16,
   "id": "ded002d4-f0b1-4f55-80a2-176a9cf81b77",
   "metadata": {},
   "outputs": [],
   "source": [
    "def quick_str(text_tensor):\n",
    "    if len(text_tensor.size()) > 1:\n",
    "        text_tensor = text_tensor[0]\n",
    "    return tokenizer.decode(text_tensor.detach().cpu().numpy())"
   ]
  },
  {
   "cell_type": "code",
   "execution_count": 13,
   "id": "0698f56c-c46d-4bc9-a9f8-0d62d75c8da5",
   "metadata": {},
   "outputs": [],
   "source": [
    "img_tensor_list = []\n",
    "prompt_tensor_list = []"
   ]
  },
  {
   "cell_type": "code",
   "execution_count": 14,
   "id": "9b102824-e4a5-4f68-802b-3a1a954fa3f8",
   "metadata": {},
   "outputs": [],
   "source": [
    "for step in range(N_lookback):\n",
    "    imgs = mem_task_img_sample(batch_size)\n",
    "    img_tensor_list.append(imgs)\n",
    "    if step == N_lookback - 1:\n",
    "        L = img_tensor_list[min_lookback:]\n",
    "        L.reverse() # img_tensor_list should be unharmed by this\n",
    "        prompt_tensor, target = get_prompts(L)\n",
    "        prompt_tensor_list.append(prompt_tensor)\n",
    "    else:\n",
    "        prompt_tensor_list.append(control_texts)"
   ]
  },
  {
   "cell_type": "code",
   "execution_count": 40,
   "id": "f8412181-1737-4428-ae27-f9bb1302e905",
   "metadata": {},
   "outputs": [
    {
     "data": {
      "image/png": "[encoded data removed]",
      "text/plain": [
       "<Figure size 640x480 with 1 Axes>"
      ]
     },
     "metadata": {},
     "output_type": "display_data"
    }
   ],
   "source": [
    "quick_display(img_tensor_list[0][5])"
   ]
  },
  {
   "cell_type": "code",
   "execution_count": 41,
   "id": "3eeac915-99d5-4827-a99e-d9c64805eca3",
   "metadata": {},
   "outputs": [
    {
     "data": {
      "text/plain": [
       "'<s>This is not important.</s><s><s><s><s><s><s><s><s><s><s><s><s><s><s><s><s><s><s><s><s><s><s><s><s><s>'"
      ]
     },
     "execution_count": 41,
     "metadata": {},
     "output_type": "execute_result"
    }
   ],
   "source": [
    "quick_str(prompt_tensor_list[0][5])"
   ]
  },
  {
   "cell_type": "code",
   "execution_count": 42,
   "id": "c0df6915-bd1b-4931-80e2-6a0fc4e43b8c",
   "metadata": {},
   "outputs": [
    {
     "data": {
      "image/png": "[encoded data removed]",
      "text/plain": [
       "<Figure size 640x480 with 1 Axes>"
      ]
     },
     "metadata": {},
     "output_type": "display_data"
    }
   ],
   "source": [
    "quick_display(img_tensor_list[1][5])"
   ]
  },
  {
   "cell_type": "code",
   "execution_count": 43,
   "id": "60245291-aeb5-402f-9cf6-261430333feb",
   "metadata": {},
   "outputs": [
    {
     "data": {
      "text/plain": [
       "'<s>This is not important.</s><s><s><s><s><s><s><s><s><s><s><s><s><s><s><s><s><s><s><s><s><s><s><s><s><s>'"
      ]
     },
     "execution_count": 43,
     "metadata": {},
     "output_type": "execute_result"
    }
   ],
   "source": [
    "quick_str(prompt_tensor_list[1][5])"
   ]
  },
  {
   "cell_type": "code",
   "execution_count": 44,
   "id": "b060c062-0d3e-4fc0-8fde-240e97667d64",
   "metadata": {},
   "outputs": [
    {
     "data": {
      "image/png": "[encoded data removed]",
      "text/plain": [
       "<Figure size 640x480 with 1 Axes>"
      ]
     },
     "metadata": {},
     "output_type": "display_data"
    }
   ],
   "source": [
    "quick_display(img_tensor_list[2][5])"
   ]
  },
  {
   "cell_type": "code",
   "execution_count": 45,
   "id": "7254505b-a4ab-47a3-aaf5-99e6617e491c",
   "metadata": {},
   "outputs": [
    {
     "data": {
      "text/plain": [
       "'<s>What do you see right now?</s><s><s><s><s><s><s><s><s><s><s><s><s><s><s><s><s><s><s><s><s><s><s><s>'"
      ]
     },
     "execution_count": 45,
     "metadata": {},
     "output_type": "execute_result"
    }
   ],
   "source": [
    "quick_str(prompt_tensor_list[2][5])"
   ]
  },
  {
   "cell_type": "code",
   "execution_count": 46,
   "id": "75a50610-b8f5-4049-ae46-c4b001c05af0",
   "metadata": {},
   "outputs": [
    {
     "data": {
      "image/png": "[encoded data removed]",
      "text/plain": [
       "<Figure size 640x480 with 1 Axes>"
      ]
     },
     "metadata": {},
     "output_type": "display_data"
    }
   ],
   "source": [
    "quick_display(target[5])"
   ]
  },
  {
   "cell_type": "code",
   "execution_count": 47,
   "id": "c2c0b7de-896c-4af4-a821-f6da2a5d737e",
   "metadata": {},
   "outputs": [],
   "source": [
    "# ok, no glaring errors. Good."
   ]
  },
  {
   "cell_type": "code",
   "execution_count": null,
   "id": "c84558d3-feba-4e05-962e-e7fb7af7a464",
   "metadata": {},
   "outputs": [],
   "source": []
  }
 ],
 "metadata": {
  "kernelspec": {
   "display_name": "Python 3 (ipykernel)",
   "language": "python",
   "name": "python3"
  },
  "language_info": {
   "codemirror_mode": {
    "name": "ipython",
    "version": 3
   },
   "file_extension": ".py",
   "mimetype": "text/x-python",
   "name": "python",
   "nbconvert_exporter": "python",
   "pygments_lexer": "ipython3",
   "version": "3.12.8"
  }
 },
 "nbformat": 4,
 "nbformat_minor": 5
}
