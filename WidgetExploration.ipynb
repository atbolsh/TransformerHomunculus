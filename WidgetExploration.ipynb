{
 "cells": [
  {
   "cell_type": "code",
   "execution_count": 8,
   "id": "f74d67f1-4587-478a-b3f1-207da358243e",
   "metadata": {},
   "outputs": [
    {
     "data": {
      "application/vnd.jupyter.widget-view+json": {
       "model_id": "655b1c9e2afe45d191a4c55ed3f85a3b",
       "version_major": 2,
       "version_minor": 0
      },
      "text/plain": [
       "Button(description='Click Me!', style=ButtonStyle())"
      ]
     },
     "metadata": {},
     "output_type": "display_data"
    },
    {
     "data": {
      "application/vnd.jupyter.widget-view+json": {
       "model_id": "10d48ced8cfc421b9f7afe8e8174e606",
       "version_major": 2,
       "version_minor": 0
      },
      "text/plain": [
       "Button(description='Illustrate', style=ButtonStyle())"
      ]
     },
     "metadata": {},
     "output_type": "display_data"
    },
    {
     "data": {
      "application/vnd.jupyter.widget-view+json": {
       "model_id": "dc6f180d0fb44b03b5d188ebe2f22dc7",
       "version_major": 2,
       "version_minor": 0
      },
      "text/plain": [
       "Button(description='clear output', style=ButtonStyle())"
      ]
     },
     "metadata": {},
     "output_type": "display_data"
    },
    {
     "data": {
      "application/vnd.jupyter.widget-view+json": {
       "model_id": "db0a643e6f9945778a578f64daa61d9f",
       "version_major": 2,
       "version_minor": 0
      },
      "text/plain": [
       "Textarea(value='Hello World', description='String:', placeholder='Type something')"
      ]
     },
     "metadata": {},
     "output_type": "display_data"
    },
    {
     "data": {
      "application/vnd.jupyter.widget-view+json": {
       "model_id": "4e2ab46631d640608633ac5abf9bfb71",
       "version_major": 2,
       "version_minor": 0
      },
      "text/plain": [
       "Output(layout=Layout(border_bottom='1px solid black', border_left='1px solid black', border_right='1px solid b…"
      ]
     },
     "metadata": {},
     "output_type": "display_data"
    }
   ],
   "source": [
    "from IPython.display import display\n",
    "from ipywidgets import widgets\n",
    "\n",
    "import numpy as np\n",
    "import matplotlib.pyplot as plt\n",
    "\n",
    "import time\n",
    "\n",
    "button = widgets.Button(description=\"Click Me!\")\n",
    "b2 = widgets.Button(description=\"clear output\")\n",
    "b3 = widgets.Button(description=\"Illustrate\")\n",
    "display(button)\n",
    "display(b3)\n",
    "display(b2)\n",
    "\n",
    "T = widgets.Textarea(\n",
    "    value='Hello World',\n",
    "    placeholder='Type something',\n",
    "    description='String:',\n",
    "    disabled=False\n",
    ")\n",
    "display(T)\n",
    "\n",
    "output = widgets.Output(layout={'border': '1px solid black'})\n",
    "\n",
    "@output.capture()\n",
    "def on_button_clicked(b):\n",
    "    output.clear_output()\n",
    "    print(\"Button clicked; here is input backward:\\n\\n\" + T.value[::-1])\n",
    "\n",
    "@output.capture()\n",
    "def on_display_button_clicked(b):\n",
    "    plt.imshow(np.random.rand(224, 224, 3))\n",
    "    plt.show()\n",
    "    plt.imshow(np.random.rand(224, 224, 3))\n",
    "    plt.show()\n",
    "\n",
    "def on_clear_button_clicked(b):\n",
    "    output.clear_output()\n",
    "\n",
    "button.on_click(on_button_clicked)\n",
    "b2.on_click(on_clear_button_clicked)\n",
    "b3.on_click(on_display_button_clicked)\n",
    "display(output)"
   ]
  },
  {
   "cell_type": "code",
   "execution_count": 3,
   "id": "5b989c44-ad12-4663-8c63-8b9a19c10137",
   "metadata": {},
   "outputs": [],
   "source": [
    "# Finally, this works"
   ]
  },
  {
   "cell_type": "code",
   "execution_count": null,
   "id": "d2348d58-a32a-4b36-9009-56521291533a",
   "metadata": {},
   "outputs": [],
   "source": []
  }
 ],
 "metadata": {
  "kernelspec": {
   "display_name": "Python 3 (ipykernel)",
   "language": "python",
   "name": "python3"
  },
  "language_info": {
   "codemirror_mode": {
    "name": "ipython",
    "version": 3
   },
   "file_extension": ".py",
   "mimetype": "text/x-python",
   "name": "python",
   "nbconvert_exporter": "python",
   "pygments_lexer": "ipython3",
   "version": "3.12.7"
  }
 },
 "nbformat": 4,
 "nbformat_minor": 5
}
