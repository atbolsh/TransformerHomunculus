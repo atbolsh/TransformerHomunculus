{
 "cells": [
  {
   "cell_type": "code",
   "execution_count": 6,
   "id": "f74d67f1-4587-478a-b3f1-207da358243e",
   "metadata": {},
   "outputs": [
    {
     "data": {
      "application/vnd.jupyter.widget-view+json": {
       "model_id": "b6e88e7b567c4c5698397be4635364e1",
       "version_major": 2,
       "version_minor": 0
      },
      "text/plain": [
       "Button(description='Click Me!', style=ButtonStyle())"
      ]
     },
     "metadata": {},
     "output_type": "display_data"
    },
    {
     "data": {
      "application/vnd.jupyter.widget-view+json": {
       "model_id": "e0e78737466f49da914e1d0a3fff37b3",
       "version_major": 2,
       "version_minor": 0
      },
      "text/plain": [
       "Button(description='clear output', style=ButtonStyle())"
      ]
     },
     "metadata": {},
     "output_type": "display_data"
    },
    {
     "data": {
      "application/vnd.jupyter.widget-view+json": {
       "model_id": "0613f12570d04b3db046d273b5760fcc",
       "version_major": 2,
       "version_minor": 0
      },
      "text/plain": [
       "Output(layout=Layout(border_bottom='1px solid black', border_left='1px solid black', border_right='1px solid b…"
      ]
     },
     "metadata": {},
     "output_type": "display_data"
    }
   ],
   "source": [
    "from IPython.display import display\n",
    "from ipywidgets import widgets\n",
    "\n",
    "import time\n",
    "\n",
    "button = widgets.Button(description=\"Click Me!\")\n",
    "b2 = widgets.Button(description=\"clear output\")\n",
    "display(button)\n",
    "display(b2)\n",
    "\n",
    "output = widgets.Output(layout={'border': '1px solid black'})\n",
    "\n",
    "@output.capture()\n",
    "def on_button_clicked(b):\n",
    "    print(\"Button clicked.\")\n",
    "    time.sleep(1)\n",
    "    output.clear_output()\n",
    "\n",
    "def on_clear_button_clicked(b):\n",
    "    output.clear_output()\n",
    "\n",
    "button.on_click(on_button_clicked)\n",
    "b2.on_click(on_clear_button_clicked)\n",
    "display(output)"
   ]
  },
  {
   "cell_type": "code",
   "execution_count": 3,
   "id": "5b989c44-ad12-4663-8c63-8b9a19c10137",
   "metadata": {},
   "outputs": [],
   "source": [
    "# Finally, this works"
   ]
  },
  {
   "cell_type": "code",
   "execution_count": null,
   "id": "f524da59-abb8-4852-a4c4-872420605966",
   "metadata": {},
   "outputs": [],
   "source": []
  }
 ],
 "metadata": {
  "kernelspec": {
   "display_name": "Python 3 (ipykernel)",
   "language": "python",
   "name": "python3"
  },
  "language_info": {
   "codemirror_mode": {
    "name": "ipython",
    "version": 3
   },
   "file_extension": ".py",
   "mimetype": "text/x-python",
   "name": "python",
   "nbconvert_exporter": "python",
   "pygments_lexer": "ipython3",
   "version": "3.12.7"
  }
 },
 "nbformat": 4,
 "nbformat_minor": 5
}
