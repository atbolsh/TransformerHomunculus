{
 "cells": [
  {
   "cell_type": "code",
   "execution_count": 1,
   "id": "0bb07783-9c45-4953-a382-671233c95fcb",
   "metadata": {},
   "outputs": [],
   "source": [
    "from visual_transformer import *"
   ]
  },
  {
   "cell_type": "code",
   "execution_count": 2,
   "id": "78bf30a8-452d-4c89-ac4b-b6d17d137335",
   "metadata": {},
   "outputs": [],
   "source": [
    "device = torch.device('cuda:1') # the big machine"
   ]
  },
  {
   "cell_type": "code",
   "execution_count": 3,
   "id": "a2434190-a8f9-428c-9f7a-e40ffa98e356",
   "metadata": {},
   "outputs": [],
   "source": [
    "brain = DefaultAgentBrain().to(device)"
   ]
  },
  {
   "cell_type": "code",
   "execution_count": 4,
   "id": "ca8b9b0b-27cc-4178-9f2a-173ea61b0c71",
   "metadata": {},
   "outputs": [
    {
     "name": "stdout",
     "output_type": "stream",
     "text": [
      "pygame 2.6.1 (SDL 2.28.4, Python 3.12.8)\n",
      "Hello from the pygame community. https://www.pygame.org/contribute.html\n"
     ]
    }
   ],
   "source": [
    "from game import *"
   ]
  },
  {
   "cell_type": "code",
   "execution_count": 5,
   "id": "48c8dcbd-a639-4185-8842-4d431a1e5269",
   "metadata": {},
   "outputs": [],
   "source": [
    "game_settings = BIG_tool_use_advanced_2_5\n",
    "game_settings.gameSize = 224 # for compatibility with brain's expected size\n",
    "G = discreteGame(game_settings)"
   ]
  },
  {
   "cell_type": "code",
   "execution_count": 6,
   "id": "f26504dd-a7c0-450c-9748-abcdb6f006c9",
   "metadata": {},
   "outputs": [
    {
     "data": {
      "text/plain": [
       "<matplotlib.image.AxesImage at 0x7fcd0794a810>"
      ]
     },
     "execution_count": 6,
     "metadata": {},
     "output_type": "execute_result"
    },
    {
     "data": {
      "image/png": "[encoded data removed]",
      "text/plain": [
       "<Figure size 640x480 with 1 Axes>"
      ]
     },
     "metadata": {},
     "output_type": "display_data"
    }
   ],
   "source": [
    "import matplotlib.pyplot as plt\n",
    "plt.imshow(G.getData())"
   ]
  },
  {
   "cell_type": "code",
   "execution_count": 7,
   "id": "7b4554ae-a15a-4161-a9a7-f1b55129c85d",
   "metadata": {},
   "outputs": [],
   "source": [
    "def quick_display(torch_img):\n",
    "    clean = torch_img.detach().cpu()\n",
    "    right_order = torch.permute(clean, (1, 2, 0))\n",
    "    array = right_order.numpy()\n",
    "    plt.imshow(array)"
   ]
  },
  {
   "cell_type": "code",
   "execution_count": 8,
   "id": "27e583e4-e003-4808-b847-c839d299f434",
   "metadata": {},
   "outputs": [],
   "source": [
    "criterion = nn.MSELoss()"
   ]
  },
  {
   "cell_type": "code",
   "execution_count": 9,
   "id": "01a8aeb6-dbac-4ae1-8514-993e149f535c",
   "metadata": {},
   "outputs": [],
   "source": [
    "optimizer = optim.Adam(brain.parameters(), lr=0.001, eps=1e-9) #0.0001, betas=(0.9, 0.98), eps=1e-9)"
   ]
  },
  {
   "cell_type": "code",
   "execution_count": null,
   "id": "a5bd6234-30f2-42e7-9de4-977962dc6b91",
   "metadata": {},
   "outputs": [
    {
     "name": "stderr",
     "output_type": "stream",
     "text": [
      "/home/atbolsh/anaconda3/envs/player/lib/python3.12/site-packages/torch/_tensor.py:955: UserWarning: non-inplace resize is deprecated\n",
      "  warnings.warn(\"non-inplace resize is deprecated\")\n"
     ]
    },
    {
     "name": "stdout",
     "output_type": "stream",
     "text": [
      "Time for 1 batch: 4.509489297866821 seconds\n",
      "Avg loss for last 100 batches, at batch 100: 0.26546456083655356\n",
      "Avg loss for last 100 batches, at batch 200: 0.22070401921868324\n",
      "Avg loss for last 100 batches, at batch 300: 0.2025985077023506\n",
      "Avg loss for last 100 batches, at batch 400: 0.19914779871702193\n",
      "Avg loss for last 100 batches, at batch 500: 0.19863803684711456\n",
      "Avg loss for last 100 batches, at batch 600: 0.19796324834227563\n",
      "Avg loss for last 100 batches, at batch 700: 0.19667364433407783\n",
      "Avg loss for last 100 batches, at batch 800: 0.19923265919089317\n",
      "Avg loss for last 100 batches, at batch 900: 0.19896750181913375\n"
     ]
    }
   ],
   "source": [
    "import time\n",
    "\n",
    "total_batches = 6250*32\n",
    "\n",
    "total_loss = 0\n",
    "brain.train()\n",
    "for b in range(total_batches):\n",
    "    if b == 0:\n",
    "        start = time.time()\n",
    "    img_set = G.random_full_image_set(restrict_angles=True)\n",
    "    img_tensor = torch.permute(torch.FloatTensor(img_set).to(device), (0, 3, 1, 2))\n",
    "    batch_size = img_tensor.size()[0]\n",
    "    text_context = torch.randn((batch_size, 32, 768), device=device) # easier for pretraining to use randn\n",
    "    recon = brain.img_autoencoder(img_tensor, text_context)\n",
    "    loss = criterion(recon, img_tensor)\n",
    "    loss.backward()\n",
    "    optimizer.step()\n",
    "    optimizer.zero_grad()\n",
    "    total_loss += loss.item()\n",
    "    if b == 0:\n",
    "        runtime = time.time() - start\n",
    "        print(f\"Time for 1 batch: {runtime} seconds\")\n",
    "    if (b % 100 == 99):\n",
    "        avg_loss = total_loss / 100\n",
    "        total_loss = 0\n",
    "        print(f\"Avg loss for last 100 batches, at batch {b + 1}: {avg_loss}\")\n",
    "        torch.save(brain.img_enc.state_dict(), 'brain_checkpoints/img_encoder_weights_v4.pth')\n",
    "        torch.save(brain.img_dec.state_dict(), 'brain_checkpoints/img_decoder_weights_v4.pth')"
   ]
  },
  {
   "cell_type": "code",
   "execution_count": null,
   "id": "edd35d98-5380-400d-bfa3-d46e759d3712",
   "metadata": {},
   "outputs": [],
   "source": [
    "# 17 gigs for this. Nice and easy. I probably have enough left over to also run text training on the same device! \n",
    "# But there's no reason to push it."
   ]
  },
  {
   "cell_type": "code",
   "execution_count": null,
   "id": "36870cf5-34c6-4440-bff2-ca5c95fa1c69",
   "metadata": {},
   "outputs": [],
   "source": [
    "# I'll kill it after just one day and check on the results. If I like what I see, I'll keep it. Otherwise, I'll either\n",
    "# let it continue or tweak some things and restart this."
   ]
  },
  {
   "cell_type": "code",
   "execution_count": null,
   "id": "a5694231-2c37-4107-a313-5fbc10f2c767",
   "metadata": {},
   "outputs": [],
   "source": [
    "recon[0]"
   ]
  },
  {
   "cell_type": "code",
   "execution_count": null,
   "id": "a787f7c4-049c-4926-9d6b-70681e92caf3",
   "metadata": {},
   "outputs": [],
   "source": [
    "quick_display(recon[27])"
   ]
  },
  {
   "cell_type": "code",
   "execution_count": null,
   "id": "9a192ac1-4c5d-4912-b020-4947cc9b501d",
   "metadata": {},
   "outputs": [],
   "source": [
    "quick_display(img_tensor[27])"
   ]
  },
  {
   "cell_type": "code",
   "execution_count": null,
   "id": "c9938fca-0f95-4b2a-8af8-ee1f24950d64",
   "metadata": {},
   "outputs": [],
   "source": [
    " # It almost looks like it can't tell where anything is."
   ]
  },
  {
   "cell_type": "code",
   "execution_count": null,
   "id": "2fc8f2fb-9dad-4625-9310-b718e00a76d5",
   "metadata": {},
   "outputs": [],
   "source": [
    "a = torch.randn((1, 256, 768), device=device)"
   ]
  },
  {
   "cell_type": "code",
   "execution_count": null,
   "id": "2b522887-f3bc-4807-b387-124ba361bd67",
   "metadata": {},
   "outputs": [],
   "source": [
    "b = brain.img_enc.embed[1](a)"
   ]
  },
  {
   "cell_type": "code",
   "execution_count": null,
   "id": "ec86cb73-458d-415f-b44d-58366a93f7e7",
   "metadata": {},
   "outputs": [],
   "source": [
    "a"
   ]
  },
  {
   "cell_type": "code",
   "execution_count": null,
   "id": "690cc7ce-dfe7-463b-b7b5-938395c62cda",
   "metadata": {},
   "outputs": [],
   "source": [
    "b"
   ]
  },
  {
   "cell_type": "code",
   "execution_count": null,
   "id": "c4adcdad-13cf-443d-a75a-207bf9ae129f",
   "metadata": {},
   "outputs": [],
   "source": [
    "c = b - a * math.sqrt(768)\n",
    "c"
   ]
  },
  {
   "cell_type": "code",
   "execution_count": null,
   "id": "fe01044d-e295-4cfb-8cff-7ad5fe139711",
   "metadata": {},
   "outputs": [],
   "source": [
    "torch.mean(c)"
   ]
  },
  {
   "cell_type": "code",
   "execution_count": null,
   "id": "3ce74bbf-b655-4698-8df1-ac31f4b49533",
   "metadata": {},
   "outputs": [],
   "source": [
    "math.sqrt(768)"
   ]
  },
  {
   "cell_type": "code",
   "execution_count": null,
   "id": "b0b8961b-7af3-4459-8517-91e37e008e87",
   "metadata": {},
   "outputs": [],
   "source": [
    "23200 * 40"
   ]
  },
  {
   "cell_type": "code",
   "execution_count": null,
   "id": "e4b96388-b83f-471a-b7c0-d57429e4f961",
   "metadata": {},
   "outputs": [],
   "source": []
  }
 ],
 "metadata": {
  "kernelspec": {
   "display_name": "Python 3 (ipykernel)",
   "language": "python",
   "name": "python3"
  },
  "language_info": {
   "codemirror_mode": {
    "name": "ipython",
    "version": 3
   },
   "file_extension": ".py",
   "mimetype": "text/x-python",
   "name": "python",
   "nbconvert_exporter": "python",
   "pygments_lexer": "ipython3",
   "version": "3.12.8"
  }
 },
 "nbformat": 4,
 "nbformat_minor": 5
}
