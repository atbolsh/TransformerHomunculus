{
 "cells": [
  {
   "cell_type": "code",
   "execution_count": 1,
   "id": "a11527d4-ca4d-4fae-81b2-a306c2f8b408",
   "metadata": {},
   "outputs": [],
   "source": [
    "from visual_transformer import *"
   ]
  },
  {
   "cell_type": "code",
   "execution_count": 2,
   "id": "d3bf2591-167d-40a0-bd0b-9ee420fdc8cb",
   "metadata": {},
   "outputs": [],
   "source": [
    "device = torch.device('cuda:0')"
   ]
  },
  {
   "cell_type": "code",
   "execution_count": 3,
   "id": "d6262cd2-f72d-4b67-bf0c-80a35bcd32c4",
   "metadata": {},
   "outputs": [
    {
     "name": "stdout",
     "output_type": "stream",
     "text": [
      "NVIDIA GeForce RTX 2080 Ti\n",
      "Tesla P40\n"
     ]
    }
   ],
   "source": [
    "for i in range(torch.cuda.device_count()):\n",
    "   print(torch.cuda.get_device_properties(i).name)"
   ]
  },
  {
   "cell_type": "code",
   "execution_count": 4,
   "id": "8237368e-be75-4f85-8e3d-da2cf530d2be",
   "metadata": {},
   "outputs": [
    {
     "name": "stdout",
     "output_type": "stream",
     "text": [
      "pygame 2.6.1 (SDL 2.28.4, Python 3.12.8)\n",
      "Hello from the pygame community. https://www.pygame.org/contribute.html\n"
     ]
    }
   ],
   "source": [
    "from game import *"
   ]
  },
  {
   "cell_type": "code",
   "execution_count": 5,
   "id": "6eda25b4-9696-4cea-8083-4997313f6032",
   "metadata": {},
   "outputs": [],
   "source": [
    "game_settings = BIG_tool_use_advanced_2_5\n",
    "game_settings.gameSize = 224 # for compatibility with brain's expected size\n",
    "G = discreteGame(game_settings)"
   ]
  },
  {
   "cell_type": "code",
   "execution_count": 6,
   "id": "64fa340f-6a7b-4007-80a7-c6752ac687c7",
   "metadata": {},
   "outputs": [
    {
     "data": {
      "text/plain": [
       "<matplotlib.image.AxesImage at 0x7f43d9976540>"
      ]
     },
     "execution_count": 6,
     "metadata": {},
     "output_type": "execute_result"
    },
    {
     "data": {
      "image/png": "[encoded data removed]",
      "text/plain": [
       "<Figure size 640x480 with 1 Axes>"
      ]
     },
     "metadata": {},
     "output_type": "display_data"
    }
   ],
   "source": [
    "import matplotlib.pyplot as plt\n",
    "plt.imshow(G.getData())"
   ]
  },
  {
   "cell_type": "code",
   "execution_count": 7,
   "id": "74da3edf-1e50-4d35-9191-3ff097a39380",
   "metadata": {},
   "outputs": [],
   "source": [
    "bare1_settings = G.random_bare_settings(gameSize=224, max_agent_offset=0.5)"
   ]
  },
  {
   "cell_type": "code",
   "execution_count": 8,
   "id": "8f1a5bb4-1d9d-47e0-aa07-2e33fcbec8f2",
   "metadata": {},
   "outputs": [
    {
     "data": {
      "text/plain": [
       "<matplotlib.image.AxesImage at 0x7f43d9823bf0>"
      ]
     },
     "execution_count": 8,
     "metadata": {},
     "output_type": "execute_result"
    },
    {
     "data": {
      "image/png": "[encoded data removed]",
      "text/plain": [
       "<Figure size 640x480 with 1 Axes>"
      ]
     },
     "metadata": {},
     "output_type": "display_data"
    }
   ],
   "source": [
    "G2 = discreteGame(bare1_settings)\n",
    "plt.imshow(G2.getData())"
   ]
  },
  {
   "cell_type": "code",
   "execution_count": 9,
   "id": "62269dfc-008b-48d1-8c7a-f0a5ff5e96fe",
   "metadata": {},
   "outputs": [
    {
     "data": {
      "text/plain": [
       "0.1402613207268535"
      ]
     },
     "execution_count": 9,
     "metadata": {},
     "output_type": "execute_result"
    }
   ],
   "source": [
    "bare1_settings.agent_x"
   ]
  },
  {
   "cell_type": "code",
   "execution_count": 10,
   "id": "36c86af2-257b-4c80-bebb-4f206e33c66e",
   "metadata": {},
   "outputs": [
    {
     "data": {
      "text/plain": [
       "0.3275746274746592"
      ]
     },
     "execution_count": 10,
     "metadata": {},
     "output_type": "execute_result"
    }
   ],
   "source": [
    "bare1_settings.agent_y"
   ]
  },
  {
   "cell_type": "code",
   "execution_count": 11,
   "id": "0d6b72b7-fe24-4a84-a0f9-d0ff17897895",
   "metadata": {},
   "outputs": [
    {
     "data": {
      "text/plain": [
       "(0.11995901100206173, 0.20863905230468013)"
      ]
     },
     "execution_count": 11,
     "metadata": {},
     "output_type": "execute_result"
    }
   ],
   "source": [
    "bare1_settings.gold[0]"
   ]
  },
  {
   "cell_type": "code",
   "execution_count": null,
   "id": "c100474c-9b51-4e6d-b4cf-bed1177a5a22",
   "metadata": {},
   "outputs": [],
   "source": []
  },
  {
   "cell_type": "code",
   "execution_count": null,
   "id": "1429f934-4d62-45eb-a4de-cc2ca03718c4",
   "metadata": {},
   "outputs": [],
   "source": []
  },
  {
   "cell_type": "code",
   "execution_count": 12,
   "id": "0c5bd721-7732-48bd-a218-92e3605e63ea",
   "metadata": {},
   "outputs": [],
   "source": [
    "def quick_display(torch_img):\n",
    "    clean = torch_img.detach().cpu()\n",
    "    right_order = torch.permute(clean, (1, 2, 0))\n",
    "    array = right_order.numpy()\n",
    "    plt.imshow(array)"
   ]
  },
  {
   "cell_type": "code",
   "execution_count": 13,
   "id": "8724210f-134f-4328-80f0-d572792e24a2",
   "metadata": {},
   "outputs": [],
   "source": [
    "vocab_size = 10000\n",
    "# tokenizer.save_model(\".\", \"tokenizer/eng_sentences_tokenizer_vc10000\")\n",
    "tokenizer = ByteLevelBPETokenizer(\n",
    "    \"./text_pretraining_tokenizer/eng_sentences_tokenizer_vc10000_v2-vocab.json\",\n",
    "    \"./text_pretraining_tokenizer/eng_sentences_tokenizer_vc10000_v2-merges.txt\",\n",
    ")   \n",
    "tokenizer._tokenizer.post_processor = BertProcessing(\n",
    "    (\"</s>\", tokenizer.token_to_id(\"</s>\")),\n",
    "    (\"<s>\", tokenizer.token_to_id(\"<s>\")),\n",
    ")   \n",
    "tokenizer.enable_truncation(max_length=32)\n",
    "tokenizer.enable_padding()"
   ]
  },
  {
   "cell_type": "code",
   "execution_count": 14,
   "id": "671c7fb9-a108-4a8c-a109-54929fbd1dce",
   "metadata": {},
   "outputs": [],
   "source": [
    "# Setup for the 'control' tasks, to prevent drift"
   ]
  },
  {
   "cell_type": "code",
   "execution_count": 15,
   "id": "3002f881-d5a1-4258-8b23-2568fa4bd133",
   "metadata": {},
   "outputs": [],
   "source": [
    "## Dataset\n",
    "class SampleDataset(Dataset):\n",
    "    def __init__(self, seq_length = 32, evaluate: bool = False, tokenizer=None, device = None):\n",
    "        if device is None:\n",
    "            device = 'cpu'\n",
    "        self.device = device\n",
    "        self.seq_length = seq_length\n",
    "        if tokenizer is None:\n",
    "            tokenizer = ByteLevelBPETokenizer(\n",
    "                \"./text_pretraining_tokenizer/eng_sentences_tokenizer_v2-vocab.json\",\n",
    "                \"./text_pretraining_tokenizer/eng_sentences_tokenizer_v2-merges.txt\",\n",
    "            )   \n",
    "        tokenizer._tokenizer.post_processor = BertProcessing(\n",
    "            (\"</s>\", tokenizer.token_to_id(\"</s>\")),\n",
    "            (\"<s>\", tokenizer.token_to_id(\"<s>\")),\n",
    "        )   \n",
    "        tokenizer.enable_truncation(max_length=self.seq_length)\n",
    "        tokenizer.enable_padding()#length=seq_length)\n",
    "        # or use the RobertaTokenizer from `transformers` directly.\n",
    "\n",
    "        self.examples = []\n",
    "\n",
    "        src_files = Path(\"./text_pretraining_data/\").glob(\"*-eval.txt\") if evaluate else Path(\"./text_pretraining_data/\").glob(\"*-train.txt\")\n",
    "        for src_file in src_files:\n",
    "            print(\"🔥\", src_file)\n",
    "            lines = src_file.read_text(encoding=\"utf-8\").splitlines()\n",
    "            self.examples += [x.ids for x in tokenizer.encode_batch(lines)]\n",
    "\n",
    "    def __len__(self):\n",
    "        return len(self.examples)\n",
    "\n",
    "    def __getitem__(self, i): \n",
    "        # We’ll pad at the batch level.\n",
    "        return torch.tensor(self.examples[i]).to(self.device)"
   ]
  },
  {
   "cell_type": "code",
   "execution_count": 16,
   "id": "f6bf8e83-b535-4b3f-8388-3111f37667c4",
   "metadata": {},
   "outputs": [
    {
     "name": "stdout",
     "output_type": "stream",
     "text": [
      "🔥 text_pretraining_data/eng_sentences_pruned-train.txt\n",
      "🔥 text_pretraining_data/eng_sentences_pruned-eval.txt\n"
     ]
    }
   ],
   "source": [
    "sdt = SampleDataset(tokenizer=tokenizer)\n",
    "sdv = SampleDataset(tokenizer=tokenizer, evaluate=True)"
   ]
  },
  {
   "cell_type": "code",
   "execution_count": 17,
   "id": "e87ba7a2-c7b0-4b7c-886a-bdbf35e3c4f2",
   "metadata": {},
   "outputs": [],
   "source": [
    "ent_criterion = nn.CrossEntropyLoss(ignore_index=0)\n",
    "\n",
    "def get_text_loss(res, inputs):\n",
    "    return torch.sum(ent_criterion(res[:, :, :-1], inputs[:, 1:]))"
   ]
  },
  {
   "cell_type": "code",
   "execution_count": 18,
   "id": "b775d08c-2b3a-47e2-89e4-5fefae47e764",
   "metadata": {},
   "outputs": [],
   "source": [
    "# Ok, setup for the tutorial itself"
   ]
  },
  {
   "cell_type": "code",
   "execution_count": 19,
   "id": "d17adfe6-40e1-47ee-9669-68830a8cefc4",
   "metadata": {},
   "outputs": [],
   "source": [
    "# Left-right (interchangeable)\n",
    "task2_prompts_lrgold = [ \\\n",
    "    \"Is the gold to the left or to the right of you?\", \\\n",
    "    \"Which side is it on?\", \\\n",
    "    \"Is it to the left or right of the agent?\", \\\n",
    "    \"Do you need to go left or right to get the gold?\", \\\n",
    "    \"Please tell me whether the gold is left or right.\", \\\n",
    "    \"Please tell me which side is the gold on.\", \\\n",
    "    \"Which side to you need to go to get it?\", \\\n",
    "    \"Which side has gold?\", \\\n",
    "    \"On which side is the gold?\"\n",
    "]\n",
    "\n",
    "task2_Lreplies_lrgold = [ \\\n",
    "    \"Left\", \\\n",
    "    \"It's to the left.\", \\\n",
    "    \"It's on the left.\", \\\n",
    "    \"Go left.\"\n",
    "]\n",
    "\n",
    "task2_Rreplies_lrgold = [ \\\n",
    "    \"Right\", \\\n",
    "    \"It's to the right.\", \\\n",
    "    \"It's on the right.\", \\\n",
    "    \"Go right.\"\n",
    "]\n",
    "\n",
    "task2_prompts_udgold = [ \\\n",
    "    \"Is the gold above or below you?\", \\\n",
    "    \"Is it up or down from the agent?\", \\\n",
    "    \"Do you need to go up or down to get the gold?\", \\\n",
    "    \"Please tell me whether the gold is above or below you.\", \\\n",
    "    \"Please tell me whether the gold is up or down.\", \\\n",
    "    \"Do you need to go up or down to get it?\", \\\n",
    "    \"Which side has gold?\", \\\n",
    "    \"On which side is the gold?\"\n",
    "]\n",
    "\n",
    "task2_Ureplies_udgold = [ \\\n",
    "    \"Up\", \\\n",
    "    \"Above\", \\\n",
    "    \"It's up.\", \\\n",
    "    \"It's above me.\", \\\n",
    "    \"Go up.\"\n",
    "]\n",
    "\n",
    "task2_Dreplies_udgold = [ \\\n",
    "    \"Down\", \\\n",
    "    \"Below\", \\\n",
    "    \"It's down.\", \\\n",
    "    \"It's below me.\", \\\n",
    "    \"Go down.\"\n",
    "]\n",
    "\n",
    "task2_prompts_lragent = [ \\\n",
    "    \"Are you to the left or right of the gold?\", \\\n",
    "    \"Which side is the gold on?\", \\\n",
    "    \"Is the agent to the left or right of the gold?\", \\\n",
    "    \"Please tell me whether you are right or left of the gold.\", \\\n",
    "    \"Please tell me which side you are relative to the gold.\", \\\n",
    "    \"On which side of the gold are you?\"\n",
    "]\n",
    "\n",
    "task2_Lreplies_lragent = [ \\\n",
    "    \"Left\", \\\n",
    "    \"I'm to the left.\", \\\n",
    "    \"The agent is on the left.\"\n",
    "]\n",
    "\n",
    "task2_Rreplies_lragent = [ \\\n",
    "    \"Right\", \\\n",
    "    \"I'm to the right.\", \\\n",
    "    \"The agent is on the right.\"\n",
    "]\n",
    "\n",
    "task2_prompts_udagent = [ \\\n",
    "    \"Are you to the left or right of the gold?\", \\\n",
    "    \"Which side is the gold on?\", \\\n",
    "    \"Is the agent to the left or right of the gold?\", \\\n",
    "    \"Please tell me whether you are right or left of the gold.\", \\\n",
    "    \"Please tell me which side you are relative to the gold.\", \\\n",
    "    \"On which side of the gold are you?\"\n",
    "]\n",
    "\n",
    "task2_Ureplies_udagent = [ \\\n",
    "    \"Up\", \\\n",
    "    \"I'm above it.\", \\\n",
    "    \"The agent is above the gold.\"\n",
    "]\n",
    "\n",
    "task2_Dreplies_udagent = [ \\\n",
    "    \"Down\", \\\n",
    "    \"I'm below it.\", \\\n",
    "    \"The agent is below the gold.\"\n",
    "]"
   ]
  },
  {
   "cell_type": "code",
   "execution_count": 20,
   "id": "c1778001-b371-493a-86f6-a6337ad4d67e",
   "metadata": {},
   "outputs": [],
   "source": [
    "task2_prompts_lrgold_tensor = torch.tensor([x.ids for x in tokenizer.encode_batch(task2_prompts_lrgold)]).contiguous().to(device)\n",
    "task2_Lreplies_lrgold_tensor = torch.tensor([x.ids for x in tokenizer.encode_batch(task2_Lreplies_lrgold)]).contiguous().to(device)\n",
    "task2_Rreplies_lrgold_tensor = torch.tensor([x.ids for x in tokenizer.encode_batch(task2_Rreplies_lrgold)]).contiguous().to(device)\n",
    "\n",
    "task2_prompts_udgold_tensor = torch.tensor([x.ids for x in tokenizer.encode_batch(task2_prompts_udgold)]).contiguous().to(device)\n",
    "task2_Ureplies_udgold_tensor = torch.tensor([x.ids for x in tokenizer.encode_batch(task2_Ureplies_udgold)]).contiguous().to(device)\n",
    "task2_Dreplies_udgold_tensor = torch.tensor([x.ids for x in tokenizer.encode_batch(task2_Dreplies_udgold)]).contiguous().to(device)\n",
    "\n",
    "task2_prompts_lragent_tensor = torch.tensor([x.ids for x in tokenizer.encode_batch(task2_prompts_lragent)]).contiguous().to(device)\n",
    "task2_Lreplies_lragent_tensor = torch.tensor([x.ids for x in tokenizer.encode_batch(task2_Lreplies_lragent)]).contiguous().to(device)\n",
    "task2_Rreplies_lragent_tensor = torch.tensor([x.ids for x in tokenizer.encode_batch(task2_Rreplies_lragent)]).contiguous().to(device)\n",
    "\n",
    "task2_prompts_udagent_tensor = torch.tensor([x.ids for x in tokenizer.encode_batch(task2_prompts_udagent)]).contiguous().to(device)\n",
    "task2_Ureplies_udagent_tensor = torch.tensor([x.ids for x in tokenizer.encode_batch(task2_Ureplies_udagent)]).contiguous().to(device)\n",
    "task2_Dreplies_udagent_tensor = torch.tensor([x.ids for x in tokenizer.encode_batch(task2_Dreplies_udagent)]).contiguous().to(device)"
   ]
  },
  {
   "cell_type": "code",
   "execution_count": 21,
   "id": "c307844e-9e97-4e44-9134-9787c2b7e3a1",
   "metadata": {},
   "outputs": [],
   "source": [
    "def get_lens(prompt_tensor):\n",
    "    lens = []\n",
    "    max_len = prompt_tensor.size()[1]\n",
    "    for prompt in prompt_tensor:\n",
    "        for ending in range(max_len):\n",
    "            if prompt[ending] == 2:\n",
    "                lens.append(ending) # want to skip the final </s>\n",
    "                break\n",
    "    return lens"
   ]
  },
  {
   "cell_type": "code",
   "execution_count": 22,
   "id": "a7eaf68f-6538-49eb-87bb-d25d558040ee",
   "metadata": {},
   "outputs": [],
   "source": [
    "task2_prompts_lrgold_lens = get_lens(task2_prompts_lrgold_tensor)\n",
    "task2_prompts_udgold_lens = get_lens(task2_prompts_udgold_tensor)\n",
    "task2_prompts_lragent_lens = get_lens(task2_prompts_lragent_tensor)\n",
    "task2_prompts_udagent_lens = get_lens(task2_prompts_udagent_tensor)\n"
   ]
  },
  {
   "cell_type": "code",
   "execution_count": 23,
   "id": "69181045-7f9e-4048-a155-8e08fb952cea",
   "metadata": {},
   "outputs": [
    {
     "data": {
      "text/plain": [
       "torch.Size([4, 8])"
      ]
     },
     "execution_count": 23,
     "metadata": {},
     "output_type": "execute_result"
    }
   ],
   "source": [
    "task2_Rreplies_lrgold_tensor.size()"
   ]
  },
  {
   "cell_type": "code",
   "execution_count": 24,
   "id": "d04c2222-cb45-4596-af37-9fafda83511f",
   "metadata": {},
   "outputs": [
    {
     "data": {
      "text/plain": [
       "tensor([[   0,  783,  275, 3118,  271,  275,  840,  591,  271,  275,  724,  317,\n",
       "          296,   35,    2],\n",
       "        [   0, 2130, 1917,  307,  360,  338,   35,    2,    0,    0,    0,    0,\n",
       "            0,    0,    0],\n",
       "        [   0,  783,  360,  271,  275,  840,  591,  724,  317,  275, 7407,   35,\n",
       "            2,    0,    0],\n",
       "        [   0,  527,  296,  453,  271,  346,  840,  591,  724,  271,  466,  275,\n",
       "         3118,   35,    2],\n",
       "        [   0, 1029,  582,  343, 1240,  275, 3118,  307,  840,  591,  724,   18,\n",
       "            2,    0,    0],\n",
       "        [   0, 1029,  582,  343, 1135, 1917,  307,  275, 3118,  338,   18,    2,\n",
       "            0,    0,    0],\n",
       "        [   0, 2130, 1917,  271,  296,  453,  271,  346,  271,  466,  360,   35,\n",
       "            2,    0,    0],\n",
       "        [   0, 2130, 1917,  408, 3118,   35,    2,    0,    0,    0,    0,    0,\n",
       "            0,    0,    0],\n",
       "        [   0, 1264, 1135, 1917,  307,  275, 3118,   35,    2,    0,    0,    0,\n",
       "            0,    0,    0]], device='cuda:0')"
      ]
     },
     "execution_count": 24,
     "metadata": {},
     "output_type": "execute_result"
    }
   ],
   "source": [
    "task2_prompts_lrgold_tensor"
   ]
  },
  {
   "cell_type": "code",
   "execution_count": 25,
   "id": "21a53582-6529-4376-a7a5-345387d0d84b",
   "metadata": {},
   "outputs": [],
   "source": [
    "# uninituitive, but pygame flips these\n",
    "is_gold_left = (lambda settings: settings.agent_y > settings.gold[0][1])\n",
    "is_gold_up = (lambda settings: settings.agent_x > settings.gold[0][0])\n",
    "\n",
    "is_agent_left = (lambda settings: not is_gold_left(settings))\n",
    "is_agent_up = (lambda settings: not is_gold_up(settings))"
   ]
  },
  {
   "cell_type": "code",
   "execution_count": 26,
   "id": "6b2b3e2a-2c95-4d3c-a2ff-c592b594d1b9",
   "metadata": {},
   "outputs": [],
   "source": [
    "def _stitch(prompt, reply, container, length):\n",
    "    container[:prompt.size()[0]] = prompt\n",
    "    container[length] = 225 # tokenizer.encode(' ')\n",
    "    reply_len = reply.size()[0] - 1\n",
    "    container[length+1:length+reply_len+1] = reply[1:]\n",
    "    return container"
   ]
  },
  {
   "cell_type": "code",
   "execution_count": 27,
   "id": "50f5c4ca-d1a7-4298-b96e-4a86c8c69410",
   "metadata": {},
   "outputs": [],
   "source": [
    "def text_generator(settings_batch, prompts, yes_responses, no_responses, prompt_lengths, func, device=device):\n",
    "    batchsize = len(settings_batch)\n",
    "    prompt_num, prompt_size = prompts.size()\n",
    "    reply_size = max(yes_responses.size()[1], no_responses.size()[1])# - 1 # skip initial <s> in reply\n",
    "    yes_num = yes_responses.size()[0]\n",
    "    no_num = no_responses.size()[0]\n",
    "    input_tensor = torch.zeros((batchsize, reply_size + prompt_size), device=device, dtype=prompts.dtype)\n",
    "    output_tensor = torch.zeros((batchsize, reply_size + prompt_size), device=device, dtype=prompts.dtype)\n",
    "    \n",
    "    for i in range(batchsize):\n",
    "        ind = torch.randint(0, prompt_num, (1,)).item()\n",
    "        prompt = prompts[ind]\n",
    "        length = prompt_lengths[ind]\n",
    "        if func(settings_batch[i]):\n",
    "            reply = yes_responses[torch.randint(0, yes_num, (1,)).item()]\n",
    "        else:\n",
    "            reply = no_responses[torch.randint(0, no_num, (1,)).item()]\n",
    "        input_tensor[i] = prompt\n",
    "        _stitch(prompt, reply, output_tensor[i], length)\n",
    "\n",
    "    return input_tensor.contiguous(), output_tensor.contiguous()\n",
    "\n",
    "def text_generator_simple(settings_batch, prompts, yes_responses, no_responses, prompt_lengths, func, device=device):\n",
    "    batchsize = len(settings_batch)\n",
    "    prompt_num, prompt_size = prompts.size()\n",
    "    reply_size = max(yes_responses.size()[1], no_responses.size()[1])\n",
    "    yes_num = yes_responses.size()[0]\n",
    "    no_num = no_responses.size()[0]\n",
    "    #input_tensor = torch.zeros((batchsize, reply_size + prompt_size), device=device, dtype=prompts.dtype)\n",
    "    output_tensor = torch.zeros((batchsize, reply_size + prompt_size), device=device, dtype=prompts.dtype)\n",
    "    \n",
    "    for i in range(batchsize):\n",
    "        ind = torch.randint(0, prompt_num, (1,)).item()\n",
    "        prompt = prompts[ind]\n",
    "        length = prompt_lengths[ind]\n",
    "        if func(settings_batch[i]):\n",
    "            reply = yes_responses[torch.randint(0, yes_num, (1,)).item()]\n",
    "        else:\n",
    "            reply = no_responses[torch.randint(0, no_num, (1,)).item()]\n",
    "        #input_tensor[i] = prompt\n",
    "        _stitch(prompt, reply, output_tensor[i], length)\n",
    "\n",
    "    return output_tensor.contiguous()"
   ]
  },
  {
   "cell_type": "code",
   "execution_count": 28,
   "id": "eb50b2ba-3397-4b88-be12-326ab6218677",
   "metadata": {},
   "outputs": [],
   "source": [
    "task2_lrgold_generator = (lambda settings_batch: text_generator(settings_batch, \\\n",
    "                                                                task2_prompts_lrgold_tensor, \\\n",
    "                                                                task2_Lreplies_lrgold_tensor, \\\n",
    "                                                                task2_Rreplies_lrgold_tensor, \\\n",
    "                                                                task2_prompts_lrgold_lens, \\\n",
    "                                                                is_gold_left, \\\n",
    "                                                                device \\\n",
    "                                                               ))\n",
    "\n",
    "task2_udgold_generator = (lambda settings_batch: text_generator(settings_batch, \\\n",
    "                                                                task2_prompts_udgold_tensor, \\\n",
    "                                                                task2_Ureplies_udgold_tensor, \\\n",
    "                                                                task2_Dreplies_udgold_tensor, \\\n",
    "                                                                task2_prompts_udgold_lens, \\\n",
    "                                                                is_gold_up, \\\n",
    "                                                                device \\\n",
    "                                                               ))\n",
    "\n",
    "task2_lragent_generator = (lambda settings_batch: text_generator(settings_batch, \\\n",
    "                                                                 task2_prompts_lragent_tensor, \\\n",
    "                                                                 task2_Lreplies_lragent_tensor, \\\n",
    "                                                                 task2_Rreplies_lragent_tensor, \\\n",
    "                                                                 task2_prompts_lragent_lens, \\\n",
    "                                                                 is_agent_left, \\\n",
    "                                                                 device \\\n",
    "                                                                ))\n",
    "\n",
    "task2_udagent_generator = (lambda settings_batch: text_generator(settings_batch, \\\n",
    "                                                                 task2_prompts_udagent_tensor, \\\n",
    "                                                                 task2_Ureplies_udagent_tensor, \\\n",
    "                                                                 task2_Dreplies_udagent_tensor, \\\n",
    "                                                                 task2_prompts_udagent_lens, \\\n",
    "                                                                 is_agent_up, \\\n",
    "                                                                 device \\\n",
    "                                                                ))\n",
    "\n",
    "text_generators = [task2_lrgold_generator, task2_udgold_generator, task2_lragent_generator, task2_udagent_generator]"
   ]
  },
  {
   "cell_type": "code",
   "execution_count": 29,
   "id": "248a8d4f-750a-4f43-9931-572b28549e48",
   "metadata": {},
   "outputs": [],
   "source": [
    "task2_lrgold_generator_simple = (lambda settings_batch: text_generator_simple(settings_batch, \\\n",
    "                                                                              task2_prompts_lrgold_tensor, \\\n",
    "                                                                              task2_Lreplies_lrgold_tensor, \\\n",
    "                                                                              task2_Rreplies_lrgold_tensor, \\\n",
    "                                                                              task2_prompts_lrgold_lens, \\\n",
    "                                                                              is_gold_left, \\\n",
    "                                                                              device \\\n",
    "                                                                             ))\n",
    "\n",
    "task2_udgold_generator_simple = (lambda settings_batch: text_generator_simple(settings_batch, \\\n",
    "                                                                              task2_prompts_udgold_tensor, \\\n",
    "                                                                              task2_Ureplies_udgold_tensor, \\\n",
    "                                                                              task2_Dreplies_udgold_tensor, \\\n",
    "                                                                              task2_prompts_udgold_lens, \\\n",
    "                                                                              is_gold_up, \\\n",
    "                                                                              device \\\n",
    "                                                                             ))\n",
    "\n",
    "task2_lragent_generator_simple = (lambda settings_batch: text_generator_simple(settings_batch, \\\n",
    "                                                                               task2_prompts_lragent_tensor, \\\n",
    "                                                                               task2_Lreplies_lragent_tensor, \\\n",
    "                                                                               task2_Rreplies_lragent_tensor, \\\n",
    "                                                                               task2_prompts_lragent_lens, \\\n",
    "                                                                               is_agent_left, \\\n",
    "                                                                               device \\\n",
    "                                                                              ))\n",
    "\n",
    "task2_udagent_generator_simple = (lambda settings_batch: text_generator_simple(settings_batch, \\\n",
    "                                                                               task2_prompts_udagent_tensor, \\\n",
    "                                                                               task2_Ureplies_udagent_tensor, \\\n",
    "                                                                               task2_Dreplies_udagent_tensor, \\\n",
    "                                                                               task2_prompts_udagent_lens, \\\n",
    "                                                                               is_agent_up, \\\n",
    "                                                                               device \\\n",
    "                                                                              ))\n",
    "\n",
    "text_generators_simple = [task2_lrgold_generator_simple, \\\n",
    "                          task2_udgold_generator_simple, \\\n",
    "                          task2_lragent_generator_simple, \\\n",
    "                          task2_udagent_generator_simple]"
   ]
  },
  {
   "cell_type": "code",
   "execution_count": 30,
   "id": "af841db9-93d6-4abc-bb44-24bb6af74820",
   "metadata": {},
   "outputs": [],
   "source": [
    "def get_images(settings_batch, device=device):\n",
    "    batch_size = len(settings_batch)\n",
    "    img = torch.zeros(batch_size, 224, 224, 3)\n",
    "    for i in range(batch_size):\n",
    "        G2 = discreteGame(settings_batch[i])\n",
    "        img[i] = torch.tensor(G2.getData())\n",
    "    img = torch.permute(img, (0, 3, 1, 2)).contiguous().to(device)\n",
    "    return img"
   ]
  },
  {
   "cell_type": "code",
   "execution_count": 31,
   "id": "3f42f880-8d9d-4217-bb48-6bd0a94aaadd",
   "metadata": {},
   "outputs": [],
   "source": [
    "def get_settings_batch(batch_size):\n",
    "    return [G.random_bare_settings(gameSize=224, max_agent_offset=0.5) for i in range(batch_size)]"
   ]
  },
  {
   "cell_type": "code",
   "execution_count": 32,
   "id": "fb091d4e-a840-4c6a-abf5-6d301ee68b0c",
   "metadata": {},
   "outputs": [],
   "source": [
    "# Ok, that is enough setup\n",
    "# Let's write the actual training loop\n",
    "img_criterion = nn.MSELoss()"
   ]
  },
  {
   "cell_type": "code",
   "execution_count": 33,
   "id": "24d49c71-e5cd-443c-a05b-c1e2f613f2c4",
   "metadata": {},
   "outputs": [],
   "source": [
    "brain = DefaultAgentBrain().to(device)"
   ]
  },
  {
   "cell_type": "code",
   "execution_count": 34,
   "id": "d1cc587d-3b33-44d3-b9e8-f7f66d7c8d40",
   "metadata": {},
   "outputs": [
    {
     "data": {
      "text/plain": [
       "<All keys matched successfully>"
      ]
     },
     "execution_count": 34,
     "metadata": {},
     "output_type": "execute_result"
    }
   ],
   "source": [
    "brain.load_state_dict(torch.load('brain_checkpoints/brain_weights_tutorial1_v3_batch95000.pth', weights_only=True, map_location=device))"
   ]
  },
  {
   "cell_type": "code",
   "execution_count": 35,
   "id": "2080553a-81da-4975-940f-8b43b1431677",
   "metadata": {},
   "outputs": [],
   "source": [
    "#S = get_settings_batch(20)"
   ]
  },
  {
   "cell_type": "code",
   "execution_count": 36,
   "id": "200c3e09-20d7-4fef-b788-56a274d261f3",
   "metadata": {},
   "outputs": [],
   "source": [
    "#text_sample = task2_udgold_generator_simple(S)"
   ]
  },
  {
   "cell_type": "code",
   "execution_count": 37,
   "id": "9d0ed9ab-a9d7-4aa0-8033-1351f769cc69",
   "metadata": {},
   "outputs": [],
   "source": [
    "#img_sample = get_images(S)"
   ]
  },
  {
   "cell_type": "code",
   "execution_count": 38,
   "id": "5483aefe-96a6-4ed1-8c17-f4f3f930ff85",
   "metadata": {},
   "outputs": [],
   "source": [
    "#quick_display(img_sample[10])"
   ]
  },
  {
   "cell_type": "code",
   "execution_count": 39,
   "id": "86e82899-d34e-4251-a2ba-19a99e1edbe0",
   "metadata": {},
   "outputs": [],
   "source": [
    "#tokenizer.decode(text_sample[10].cpu().numpy())"
   ]
  },
  {
   "cell_type": "code",
   "execution_count": 40,
   "id": "acd54dfb-4a61-4202-b016-fc9676d1c86e",
   "metadata": {},
   "outputs": [],
   "source": [
    "#is_gold_up(S[10])"
   ]
  },
  {
   "cell_type": "code",
   "execution_count": 41,
   "id": "477abf16-1965-4b5b-bcb5-66ca1f8b866f",
   "metadata": {},
   "outputs": [],
   "source": [
    "#S[10].__dict__"
   ]
  },
  {
   "cell_type": "code",
   "execution_count": 42,
   "id": "c9cc0aad-e36f-42e8-a8dc-7d62cd6a6895",
   "metadata": {},
   "outputs": [
    {
     "data": {
      "text/plain": [
       "[0, 225, 2]"
      ]
     },
     "execution_count": 42,
     "metadata": {},
     "output_type": "execute_result"
    }
   ],
   "source": [
    "tokenizer.encode(' ').ids"
   ]
  },
  {
   "cell_type": "code",
   "execution_count": 43,
   "id": "d4d92641-3568-4bd6-9d43-d0c95bafda0d",
   "metadata": {},
   "outputs": [],
   "source": [
    "#text_sample[10]"
   ]
  },
  {
   "cell_type": "code",
   "execution_count": 44,
   "id": "32eed3ee-0b4f-4be6-a505-87dff4a07974",
   "metadata": {},
   "outputs": [],
   "source": [
    "# Awesome, it works\n",
    "# Onwards to training"
   ]
  },
  {
   "cell_type": "code",
   "execution_count": 45,
   "id": "8fe5c66c-cf1e-42ae-a2c1-c2e54652f3ac",
   "metadata": {},
   "outputs": [],
   "source": [
    "# Only training the text encoder / decoder means no image recon 'anti-loss' portion, which allows bigger batch sizes\n",
    "# THis is the 'simple' text generation training\n",
    "optimizer = optim.Adam(list(brain.text_enc.parameters()) + list(brain.text_dec.parameters()), lr=0.00001, eps=1e-9)"
   ]
  },
  {
   "cell_type": "code",
   "execution_count": null,
   "id": "1ae292f0-6aea-456c-9873-bacc4b5f0499",
   "metadata": {},
   "outputs": [
    {
     "name": "stdout",
     "output_type": "stream",
     "text": [
      "Time for 1 batch: 2.127089500427246 seconds\n",
      "Avg task loss for last 100 batches, at batch 100: 5.470503115653992:\n",
      "3.098310694694519 control,\n",
      "1.521532380580902 lrg,\n",
      "1.5392762327194214 udg,\n",
      "1.1950531154870987 lra,\n",
      "1.2146413308382034 uda\n",
      "\n",
      "\n",
      "Avg task loss for last 100 batches, at batch 200: 2.396416974067688:\n",
      "2.6235318040847777 control,\n",
      "0.6665059441328048 lrg,\n",
      "0.6855121821165084 udg,\n",
      "0.5211217278242111 lra,\n",
      "0.5232771223783493 uda\n",
      "\n",
      "\n",
      "Avg task loss for last 100 batches, at batch 300: 2.062239294052124:\n",
      "3.0196109914779665 control,\n",
      "0.5699682930111885 lrg,\n",
      "0.5930819162726402 udg,\n",
      "0.4466935881972313 lra,\n",
      "0.4524954891204834 uda\n",
      "\n",
      "\n",
      "Avg task loss for last 100 batches, at batch 400: 1.7588610100746154:\n",
      "3.0792729687690734 control,\n",
      "0.4817351043224335 lrg,\n",
      "0.5049884259700775 udg,\n",
      "0.38308475345373155 lra,\n",
      "0.3890527451038361 uda\n",
      "\n",
      "\n",
      "Avg task loss for last 100 batches, at batch 500: 1.5971762132644653:\n",
      "3.081307899951935 control,\n",
      "0.4356267762184143 lrg,\n",
      "0.46443518340587614 udg,\n",
      "0.34775139272212985 lra,\n",
      "0.3493629315495491 uda\n",
      "\n",
      "\n",
      "Avg task loss for last 100 batches, at batch 600: 1.5637078762054444:\n",
      "3.0698983693122863 control,\n",
      "0.42991231113672257 lrg,\n",
      "0.4542663830518723 udg,\n",
      "0.3373462662100792 lra,\n",
      "0.34218291848897936 uda\n",
      "\n",
      "\n",
      "Avg task loss for last 100 batches, at batch 700: 1.5408212041854858:\n",
      "2.8635304594039916 control,\n",
      "0.41946879982948304 lrg,\n",
      "0.45192887902259826 udg,\n",
      "0.32985894292593004 lra,\n",
      "0.3395646050572395 uda\n",
      "\n",
      "\n",
      "Avg task loss for last 100 batches, at batch 800: 1.5234970879554748:\n",
      "2.9417818665504454 control,\n",
      "0.4155569687485695 lrg,\n",
      "0.4453610572218895 udg,\n",
      "0.3283562958240509 lra,\n",
      "0.3342227521538734 uda\n",
      "\n",
      "\n",
      "Avg task loss for last 100 batches, at batch 900: 1.5109885144233703:\n",
      "3.141749424934387 control,\n",
      "0.414876606464386 lrg,\n",
      "0.43952161103487014 udg,\n",
      "0.3255862525105476 lra,\n",
      "0.33100404769182207 uda\n",
      "\n",
      "\n",
      "Avg task loss for last 100 batches, at batch 1000: 1.5015205979347228:\n",
      "2.7028837847709655 control,\n",
      "0.4116179671883583 lrg,\n",
      "0.43621058017015457 udg,\n",
      "0.32298256665468217 lra,\n",
      "0.3307094642519951 uda\n",
      "\n",
      "\n",
      "Avg task loss for last 100 batches, at batch 1100: 1.5100549149513245:\n",
      "3.14509400844574 control,\n",
      "0.4123896199464798 lrg,\n",
      "0.43891860455274584 udg,\n",
      "0.3248993965983391 lra,\n",
      "0.333847334086895 uda\n",
      "\n",
      "\n",
      "Avg task loss for last 100 batches, at batch 1200: 1.5004089021682738:\n",
      "3.192570698261261 control,\n",
      "0.41059257060289384 lrg,\n",
      "0.43627019435167314 udg,\n",
      "0.32435144782066344 lra,\n",
      "0.32919469743967056 uda\n",
      "\n",
      "\n",
      "Avg task loss for last 100 batches, at batch 1300: 1.4860157322883607:\n",
      "2.9687384557724 control,\n",
      "0.40500987201929095 lrg,\n",
      "0.42867070972919463 udg,\n",
      "0.3242153802514076 lra,\n",
      "0.3281197428703308 uda\n",
      "\n",
      "\n",
      "Avg task loss for last 100 batches, at batch 1400: 1.4954854536056519:\n",
      "2.834876160621643 control,\n",
      "0.4122607955336571 lrg,\n",
      "0.4300353592634201 udg,\n",
      "0.3239896434545517 lra,\n",
      "0.32919966608285905 uda\n",
      "\n",
      "\n",
      "Avg task loss for last 100 batches, at batch 1500: 1.4817346787452699:\n",
      "2.884314467906952 control,\n",
      "0.39990323781967163 lrg,\n",
      "0.43322094053030014 udg,\n",
      "0.32390117555856707 lra,\n",
      "0.3247093290090561 uda\n",
      "\n",
      "\n",
      "Avg task loss for last 100 batches, at batch 1600: 1.4780503034591674:\n",
      "2.8779656887054443 control,\n",
      "0.40304909735918043 lrg,\n",
      "0.42928132772445676 udg,\n",
      "0.3194197991490364 lra,\n",
      "0.32630006432533265 uda\n",
      "\n",
      "\n",
      "Avg task loss for last 100 batches, at batch 1700: 1.4719088411331176:\n",
      "2.92685998916626 control,\n",
      "0.3978382965922356 lrg,\n",
      "0.4272957083582878 udg,\n",
      "0.32221449583768846 lra,\n",
      "0.3245603251457214 uda\n",
      "\n",
      "\n",
      "Avg task loss for last 100 batches, at batch 1800: 1.4707835292816163:\n",
      "2.974074935913086 control,\n",
      "0.40017275005578995 lrg,\n",
      "0.4254049068689346 udg,\n",
      "0.31741050124168396 lra,\n",
      "0.32779537737369535 uda\n",
      "\n",
      "\n",
      "Avg task loss for last 100 batches, at batch 1900: 1.479004430770874:\n",
      "2.942505304813385 control,\n",
      "0.4012938344478607 lrg,\n",
      "0.4271681985259056 udg,\n",
      "0.3227738493680954 lra,\n",
      "0.3277685457468033 uda\n",
      "\n",
      "\n",
      "Avg task loss for last 100 batches, at batch 2000: 1.4611830282211304:\n",
      "2.9070511865615845 control,\n",
      "0.39685228049755095 lrg,\n",
      "0.42100695371627805 udg,\n",
      "0.3193364667892456 lra,\n",
      "0.3239873337745667 uda\n",
      "\n",
      "\n",
      "Avg task loss for last 100 batches, at batch 2100: 1.4538803935050963:\n",
      "2.944154288768768 control,\n",
      "0.39289008378982543 lrg,\n",
      "0.42075961112976074 udg,\n",
      "0.3171575939655304 lra,\n",
      "0.3230730986595154 uda\n",
      "\n",
      "\n",
      "Avg task loss for last 100 batches, at batch 2200: 1.453615927696228:\n",
      "3.0397313928604124 control,\n",
      "0.3933287900686264 lrg,\n",
      "0.42218392312526704 udg,\n",
      "0.31722405314445495 lra,\n",
      "0.32087918668985366 uda\n",
      "\n",
      "\n"
     ]
    }
   ],
   "source": [
    "import time\n",
    "\n",
    "total_batches = 10000#6250*32\n",
    "\n",
    "batch_size = 16 # perfect size for the 2080\n",
    "\n",
    "total_loss = 0\n",
    "total_lrg = 0\n",
    "total_udg = 0\n",
    "total_lra = 0\n",
    "total_uda = 0\n",
    "total_control = 0\n",
    "num_controls = len(sdt)\n",
    "brain.train()\n",
    "curr_min = 100.0\n",
    "\n",
    "for b in range(total_batches):\n",
    "    if b == 0:\n",
    "        start = time.time()\n",
    "    S = get_settings_batch(batch_size)\n",
    "    imgs = get_images(S)\n",
    "    \n",
    "    texts_lrg = task2_lrgold_generator_simple(S)\n",
    "    texts_udg = task2_udgold_generator_simple(S)\n",
    "    texts_lra = task2_lragent_generator_simple(S)\n",
    "    texts_uda = task2_udagent_generator_simple(S)\n",
    "\n",
    "    ind = (b * batch_size) % num_controls\n",
    "    if ind + batch_size > num_controls:\n",
    "        ind = num_controls - batch_size\n",
    "    control_texts = sdt[ind:ind + batch_size].to(device)\n",
    "\n",
    "    control_probs = brain(control_texts, imgs, ret_imgs=False)\n",
    "    lrg_probs = brain(texts_lrg, imgs, ret_imgs=False)\n",
    "    udg_probs = brain(texts_udg, imgs, ret_imgs=False)\n",
    "    lra_probs = brain(texts_lra, imgs, ret_imgs=False)\n",
    "    uda_probs = brain(texts_uda, imgs, ret_imgs=False)\n",
    "\n",
    "    control_loss = get_text_loss(control_probs, control_texts)\n",
    "    lrg_loss = get_text_loss(lrg_probs, texts_lrg)\n",
    "    udg_loss = get_text_loss(udg_probs, texts_udg)\n",
    "    lra_loss = get_text_loss(lra_probs, texts_lra)\n",
    "    uda_loss = get_text_loss(uda_probs, texts_uda)\n",
    "\n",
    "    loss = control_loss + lrg_loss + udg_loss + lra_loss + uda_loss\n",
    "    loss.backward()\n",
    "    optimizer.step()\n",
    "    optimizer.zero_grad()\n",
    "\n",
    "    total_loss += loss.item() - control_loss.item() # control should not be the primary driver of loss / progress accounting\n",
    "    total_control += control_loss.item()\n",
    "    total_lrg += lrg_loss.item()\n",
    "    total_udg += udg_loss.item()\n",
    "    total_lra += lra_loss.item()\n",
    "    total_uda += uda_loss.item()\n",
    "\n",
    "    if b == 0:\n",
    "        runtime = time.time() - start\n",
    "        print(f\"Time for 1 batch: {runtime} seconds\")\n",
    "    if (b % 100 == 99):\n",
    "        avg_loss = total_loss / 100\n",
    "        avg_control = total_control / 100\n",
    "        avg_lrg = total_lrg / 100\n",
    "        avg_udg = total_udg / 100\n",
    "        avg_lra = total_lra / 100\n",
    "        avg_uda = total_uda / 100\n",
    "\n",
    "        total_loss = 0\n",
    "        total_control = 0\n",
    "        total_lrg = 0\n",
    "        total_udg = 0\n",
    "        total_lra = 0\n",
    "        total_uda = 0\n",
    "        \n",
    "        if avg_loss < curr_min:\n",
    "            curr_min = avg_loss\n",
    "            # Save commented out; running this notebook only to trigger (and debug) known issue\n",
    "            #torch.save(brain.state_dict(), f'brain_checkpoints/brain_weights_tutorialQA_v3_batch{b + 1}.pth')\n",
    "\n",
    "        print(f\"Avg task loss for last 100 batches, at batch {b + 1}: {avg_loss}:\\n{avg_control} control,\\n{avg_lrg} lrg,\\n{avg_udg} udg,\\n{avg_lra} lra,\\n{avg_uda} uda\\n\\n\")\n",
    "\n",
    "        "
   ]
  },
  {
   "cell_type": "code",
   "execution_count": null,
   "id": "9220258c-4723-4478-88a2-3e91af0fe4f5",
   "metadata": {},
   "outputs": [],
   "source": [
    "# in v3, I kept generation 6100. Good task score, I know from the past that this means good performance\n",
    "# Also, unlike some later generations, I know that's a good control score, too."
   ]
  },
  {
   "cell_type": "code",
   "execution_count": null,
   "id": "30b21abb-9031-4a3b-bdfa-c70d8ae7cedb",
   "metadata": {},
   "outputs": [],
   "source": []
  }
 ],
 "metadata": {
  "kernelspec": {
   "display_name": "Python 3 (ipykernel)",
   "language": "python",
   "name": "python3"
  },
  "language_info": {
   "codemirror_mode": {
    "name": "ipython",
    "version": 3
   },
   "file_extension": ".py",
   "mimetype": "text/x-python",
   "name": "python",
   "nbconvert_exporter": "python",
   "pygments_lexer": "ipython3",
   "version": "3.12.8"
  }
 },
 "nbformat": 4,
 "nbformat_minor": 5
}
