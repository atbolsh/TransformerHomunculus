{
 "cells": [
  {
   "cell_type": "code",
   "execution_count": 1,
   "id": "2ef4947a-0269-4813-8dee-511f92187d39",
   "metadata": {},
   "outputs": [],
   "source": [
    "from visual_transformer.enhanced_model import *"
   ]
  },
  {
   "cell_type": "code",
   "execution_count": 2,
   "id": "6f8c0988-f2f6-4594-a2b7-a0bb3aaefb8a",
   "metadata": {},
   "outputs": [],
   "source": [
    "#fname = 'brain_checkpoints/enhanced_brain_transferred_weights_tutorial1.pth'\n",
    "fname = 'brain_checkpoints/enhanced_brain_transferred_weights_tutorialQA.pth'"
   ]
  },
  {
   "cell_type": "code",
   "execution_count": 3,
   "id": "b365422e-752c-49f8-8f10-f44ecd55d484",
   "metadata": {},
   "outputs": [
    {
     "data": {
      "text/plain": [
       "device(type='cuda', index=0)"
      ]
     },
     "execution_count": 3,
     "metadata": {},
     "output_type": "execute_result"
    }
   ],
   "source": [
    "device = torch.device('cuda:0')\n",
    "device"
   ]
  },
  {
   "cell_type": "code",
   "execution_count": 4,
   "id": "da0cac01-bd80-4d32-8bac-cfd0924452dd",
   "metadata": {},
   "outputs": [],
   "source": [
    "wd = torch.load(fname, weights_only=True, map_location=device)"
   ]
  },
  {
   "cell_type": "code",
   "execution_count": 5,
   "id": "c9f89f41-b3e2-440c-9fa8-ea6efbd122d3",
   "metadata": {},
   "outputs": [
    {
     "data": {
      "text/plain": [
       "EnhancedAgentBrain(\n",
       "  (img_enc): ImageTransformerEncoder(\n",
       "    (embed): Sequential(\n",
       "      (0): PatchEmbedding(\n",
       "        (linear_project): Conv2d(3, 768, kernel_size=(14, 14), stride=(14, 14))\n",
       "      )\n",
       "      (1): PositionalEncoding_2D()\n",
       "      (2): LayerNorm((768,), eps=1e-05, elementwise_affine=True)\n",
       "      (3): Dropout(p=0.1, inplace=False)\n",
       "    )\n",
       "    (pe): PositionalEncoding_2D()\n",
       "    (encoder): TransformerEncoder(\n",
       "      (layers): ModuleList(\n",
       "        (0-5): 6 x TransformerEncoderLayer(\n",
       "          (self_attn): MultiheadAttention(\n",
       "            (out_proj): NonDynamicallyQuantizableLinear(in_features=768, out_features=768, bias=True)\n",
       "          )\n",
       "          (linear1): Linear(in_features=768, out_features=2048, bias=True)\n",
       "          (dropout): Dropout(p=0.1, inplace=False)\n",
       "          (linear2): Linear(in_features=2048, out_features=768, bias=True)\n",
       "          (norm1): LayerNorm((768,), eps=1e-05, elementwise_affine=True)\n",
       "          (norm2): LayerNorm((768,), eps=1e-05, elementwise_affine=True)\n",
       "          (dropout1): Dropout(p=0.1, inplace=False)\n",
       "          (dropout2): Dropout(p=0.1, inplace=False)\n",
       "        )\n",
       "      )\n",
       "    )\n",
       "    (post_norm): LayerNorm((768,), eps=1e-05, elementwise_affine=True)\n",
       "  )\n",
       "  (img_dec): ImageTransformerDecoder(\n",
       "    (pe): PositionalEncoding_2D()\n",
       "    (decoder): TransformerDecoder(\n",
       "      (layers): ModuleList(\n",
       "        (0-2): 3 x TransformerDecoderLayer(\n",
       "          (self_attn): MultiheadAttention(\n",
       "            (out_proj): NonDynamicallyQuantizableLinear(in_features=768, out_features=768, bias=True)\n",
       "          )\n",
       "          (multihead_attn): MultiheadAttention(\n",
       "            (out_proj): NonDynamicallyQuantizableLinear(in_features=768, out_features=768, bias=True)\n",
       "          )\n",
       "          (linear1): Linear(in_features=768, out_features=2048, bias=True)\n",
       "          (dropout): Dropout(p=0.01, inplace=False)\n",
       "          (linear2): Linear(in_features=2048, out_features=768, bias=True)\n",
       "          (norm1): LayerNorm((768,), eps=1e-05, elementwise_affine=True)\n",
       "          (norm2): LayerNorm((768,), eps=1e-05, elementwise_affine=True)\n",
       "          (norm3): LayerNorm((768,), eps=1e-05, elementwise_affine=True)\n",
       "          (dropout1): Dropout(p=0.01, inplace=False)\n",
       "          (dropout2): Dropout(p=0.01, inplace=False)\n",
       "          (dropout3): Dropout(p=0.01, inplace=False)\n",
       "        )\n",
       "      )\n",
       "    )\n",
       "    (linear_layer): Sequential(\n",
       "      (0): Dropout(p=0.1, inplace=False)\n",
       "      (1): LayerNorm((768,), eps=1e-05, elementwise_affine=True)\n",
       "      (2): PatchEmbeddingTranspose(\n",
       "        (linear_project): ConvTranspose2d(768, 3, kernel_size=(14, 14), stride=(14, 14))\n",
       "      )\n",
       "    )\n",
       "  )\n",
       "  (text_enc): SentenceTransformerEncoder(\n",
       "    (embed): Sequential(\n",
       "      (0): Embedding(10000, 768, padding_idx=0)\n",
       "      (1): PositionalEncoding()\n",
       "      (2): LayerNorm((768,), eps=1e-05, elementwise_affine=True)\n",
       "      (3): Dropout(p=0.1, inplace=False)\n",
       "    )\n",
       "    (encoder): TransformerEncoder(\n",
       "      (layers): ModuleList(\n",
       "        (0-7): 8 x TransformerEncoderLayer(\n",
       "          (self_attn): MultiheadAttention(\n",
       "            (out_proj): NonDynamicallyQuantizableLinear(in_features=768, out_features=768, bias=True)\n",
       "          )\n",
       "          (linear1): Linear(in_features=768, out_features=2048, bias=True)\n",
       "          (dropout): Dropout(p=0.1, inplace=False)\n",
       "          (linear2): Linear(in_features=2048, out_features=768, bias=True)\n",
       "          (norm1): LayerNorm((768,), eps=1e-05, elementwise_affine=True)\n",
       "          (norm2): LayerNorm((768,), eps=1e-05, elementwise_affine=True)\n",
       "          (dropout1): Dropout(p=0.1, inplace=False)\n",
       "          (dropout2): Dropout(p=0.1, inplace=False)\n",
       "        )\n",
       "      )\n",
       "    )\n",
       "  )\n",
       "  (text_dec): SentenceTransformerDecoder(\n",
       "    (decoder): TransformerDecoder(\n",
       "      (layers): ModuleList(\n",
       "        (0-3): 4 x TransformerDecoderLayer(\n",
       "          (self_attn): MultiheadAttention(\n",
       "            (out_proj): NonDynamicallyQuantizableLinear(in_features=768, out_features=768, bias=True)\n",
       "          )\n",
       "          (multihead_attn): MultiheadAttention(\n",
       "            (out_proj): NonDynamicallyQuantizableLinear(in_features=768, out_features=768, bias=True)\n",
       "          )\n",
       "          (linear1): Linear(in_features=768, out_features=2048, bias=True)\n",
       "          (dropout): Dropout(p=0.1, inplace=False)\n",
       "          (linear2): Linear(in_features=2048, out_features=768, bias=True)\n",
       "          (norm1): LayerNorm((768,), eps=1e-05, elementwise_affine=True)\n",
       "          (norm2): LayerNorm((768,), eps=1e-05, elementwise_affine=True)\n",
       "          (norm3): LayerNorm((768,), eps=1e-05, elementwise_affine=True)\n",
       "          (dropout1): Dropout(p=0.1, inplace=False)\n",
       "          (dropout2): Dropout(p=0.1, inplace=False)\n",
       "          (dropout3): Dropout(p=0.1, inplace=False)\n",
       "        )\n",
       "      )\n",
       "    )\n",
       "    (fc): Sequential(\n",
       "      (0): Linear(in_features=768, out_features=3072, bias=True)\n",
       "      (1): LayerNorm((3072,), eps=1e-05, elementwise_affine=True)\n",
       "      (2): LeakyReLU(negative_slope=0.01)\n",
       "      (3): Dropout(p=0.1, inplace=False)\n",
       "      (4): Linear(in_features=3072, out_features=10000, bias=True)\n",
       "    )\n",
       "  )\n",
       "  (dopamine): IntermediateTransformerScorer(\n",
       "    (decoder): TransformerDecoder(\n",
       "      (layers): ModuleList(\n",
       "        (0-3): 4 x TransformerDecoderLayer(\n",
       "          (self_attn): MultiheadAttention(\n",
       "            (out_proj): NonDynamicallyQuantizableLinear(in_features=768, out_features=768, bias=True)\n",
       "          )\n",
       "          (multihead_attn): MultiheadAttention(\n",
       "            (out_proj): NonDynamicallyQuantizableLinear(in_features=768, out_features=768, bias=True)\n",
       "          )\n",
       "          (linear1): Linear(in_features=768, out_features=2048, bias=True)\n",
       "          (dropout): Dropout(p=0.1, inplace=False)\n",
       "          (linear2): Linear(in_features=2048, out_features=768, bias=True)\n",
       "          (norm1): LayerNorm((768,), eps=1e-05, elementwise_affine=True)\n",
       "          (norm2): LayerNorm((768,), eps=1e-05, elementwise_affine=True)\n",
       "          (norm3): LayerNorm((768,), eps=1e-05, elementwise_affine=True)\n",
       "          (dropout1): Dropout(p=0.1, inplace=False)\n",
       "          (dropout2): Dropout(p=0.1, inplace=False)\n",
       "          (dropout3): Dropout(p=0.1, inplace=False)\n",
       "        )\n",
       "      )\n",
       "    )\n",
       "    (fc): Sequential(\n",
       "      (0): Linear(in_features=768, out_features=3072, bias=True)\n",
       "      (1): LayerNorm((3072,), eps=1e-05, elementwise_affine=True)\n",
       "      (2): LeakyReLU(negative_slope=0.01)\n",
       "      (3): Dropout(p=0.1, inplace=False)\n",
       "      (4): Linear(in_features=3072, out_features=1, bias=True)\n",
       "    )\n",
       "  )\n",
       "  (memory): Memory()\n",
       "  (mem_enc): MemoryEncoder(\n",
       "    (decoder): TransformerDecoder(\n",
       "      (layers): ModuleList(\n",
       "        (0-3): 4 x TransformerDecoderLayer(\n",
       "          (self_attn): MultiheadAttention(\n",
       "            (out_proj): NonDynamicallyQuantizableLinear(in_features=768, out_features=768, bias=True)\n",
       "          )\n",
       "          (multihead_attn): MultiheadAttention(\n",
       "            (out_proj): NonDynamicallyQuantizableLinear(in_features=768, out_features=768, bias=True)\n",
       "          )\n",
       "          (linear1): Linear(in_features=768, out_features=2048, bias=True)\n",
       "          (dropout): Dropout(p=0.1, inplace=False)\n",
       "          (linear2): Linear(in_features=2048, out_features=768, bias=True)\n",
       "          (norm1): LayerNorm((768,), eps=1e-05, elementwise_affine=True)\n",
       "          (norm2): LayerNorm((768,), eps=1e-05, elementwise_affine=True)\n",
       "          (norm3): LayerNorm((768,), eps=1e-05, elementwise_affine=True)\n",
       "          (dropout1): Dropout(p=0.1, inplace=False)\n",
       "          (dropout2): Dropout(p=0.1, inplace=False)\n",
       "          (dropout3): Dropout(p=0.1, inplace=False)\n",
       "        )\n",
       "      )\n",
       "    )\n",
       "    (fc_prep): Sequential(\n",
       "      (0): Linear(in_features=768, out_features=3072, bias=True)\n",
       "      (1): LayerNorm((3072,), eps=1e-05, elementwise_affine=True)\n",
       "      (2): LeakyReLU(negative_slope=0.01)\n",
       "      (3): Dropout(p=0.1, inplace=False)\n",
       "    )\n",
       "    (fcs): Sequential(\n",
       "      (0): Linear(in_features=3072, out_features=768, bias=True)\n",
       "    )\n",
       "  )\n",
       "  (canvases): VisionCanvases(\n",
       "    (canvases): Sequential(\n",
       "      (0): VisionCanvas()\n",
       "      (1): VisionCanvas()\n",
       "      (2): VisionCanvas()\n",
       "    )\n",
       "  )\n",
       ")"
      ]
     },
     "execution_count": 5,
     "metadata": {},
     "output_type": "execute_result"
    }
   ],
   "source": [
    "brain = EnhancedAgentBrain()\n",
    "brain.to(device)"
   ]
  },
  {
   "cell_type": "code",
   "execution_count": 6,
   "id": "ef217e96-60f3-4302-bc3d-f46c2e12dcbc",
   "metadata": {},
   "outputs": [],
   "source": [
    "for key in wd.keys():\n",
    "    if not(key.startswith('memenc')):\n",
    "        brain.__dict__[key] = wd[key]\n",
    "    else:\n",
    "        nk = '.'.join(['mem_enc'] + key.split('.')[1:])\n",
    "        brain.__dict__[nk] = wd[key]\n",
    "\n",
    "#brain.mem_enc = torch.nn.Parameter(wd['memenc'].contiguous())"
   ]
  },
  {
   "cell_type": "code",
   "execution_count": 7,
   "id": "76084aa1-7c46-4cd0-a72c-d0f52f4ea8f3",
   "metadata": {},
   "outputs": [],
   "source": [
    "torch.save(brain.state_dict(), fname)"
   ]
  },
  {
   "cell_type": "code",
   "execution_count": 8,
   "id": "3b2abd17-7217-4a7d-bb7d-e77069a4a591",
   "metadata": {},
   "outputs": [
    {
     "data": {
      "text/plain": [
       "odict_keys(['context_tagging', 'img_enc.embed.0.linear_project.weight', 'img_enc.embed.0.linear_project.bias', 'img_enc.embed.1.pe', 'img_enc.embed.2.weight', 'img_enc.embed.2.bias', 'img_enc.pe.pe', 'img_enc.encoder.layers.0.self_attn.in_proj_weight', 'img_enc.encoder.layers.0.self_attn.in_proj_bias', 'img_enc.encoder.layers.0.self_attn.out_proj.weight', 'img_enc.encoder.layers.0.self_attn.out_proj.bias', 'img_enc.encoder.layers.0.linear1.weight', 'img_enc.encoder.layers.0.linear1.bias', 'img_enc.encoder.layers.0.linear2.weight', 'img_enc.encoder.layers.0.linear2.bias', 'img_enc.encoder.layers.0.norm1.weight', 'img_enc.encoder.layers.0.norm1.bias', 'img_enc.encoder.layers.0.norm2.weight', 'img_enc.encoder.layers.0.norm2.bias', 'img_enc.encoder.layers.1.self_attn.in_proj_weight', 'img_enc.encoder.layers.1.self_attn.in_proj_bias', 'img_enc.encoder.layers.1.self_attn.out_proj.weight', 'img_enc.encoder.layers.1.self_attn.out_proj.bias', 'img_enc.encoder.layers.1.linear1.weight', 'img_enc.encoder.layers.1.linear1.bias', 'img_enc.encoder.layers.1.linear2.weight', 'img_enc.encoder.layers.1.linear2.bias', 'img_enc.encoder.layers.1.norm1.weight', 'img_enc.encoder.layers.1.norm1.bias', 'img_enc.encoder.layers.1.norm2.weight', 'img_enc.encoder.layers.1.norm2.bias', 'img_enc.encoder.layers.2.self_attn.in_proj_weight', 'img_enc.encoder.layers.2.self_attn.in_proj_bias', 'img_enc.encoder.layers.2.self_attn.out_proj.weight', 'img_enc.encoder.layers.2.self_attn.out_proj.bias', 'img_enc.encoder.layers.2.linear1.weight', 'img_enc.encoder.layers.2.linear1.bias', 'img_enc.encoder.layers.2.linear2.weight', 'img_enc.encoder.layers.2.linear2.bias', 'img_enc.encoder.layers.2.norm1.weight', 'img_enc.encoder.layers.2.norm1.bias', 'img_enc.encoder.layers.2.norm2.weight', 'img_enc.encoder.layers.2.norm2.bias', 'img_enc.encoder.layers.3.self_attn.in_proj_weight', 'img_enc.encoder.layers.3.self_attn.in_proj_bias', 'img_enc.encoder.layers.3.self_attn.out_proj.weight', 'img_enc.encoder.layers.3.self_attn.out_proj.bias', 'img_enc.encoder.layers.3.linear1.weight', 'img_enc.encoder.layers.3.linear1.bias', 'img_enc.encoder.layers.3.linear2.weight', 'img_enc.encoder.layers.3.linear2.bias', 'img_enc.encoder.layers.3.norm1.weight', 'img_enc.encoder.layers.3.norm1.bias', 'img_enc.encoder.layers.3.norm2.weight', 'img_enc.encoder.layers.3.norm2.bias', 'img_enc.encoder.layers.4.self_attn.in_proj_weight', 'img_enc.encoder.layers.4.self_attn.in_proj_bias', 'img_enc.encoder.layers.4.self_attn.out_proj.weight', 'img_enc.encoder.layers.4.self_attn.out_proj.bias', 'img_enc.encoder.layers.4.linear1.weight', 'img_enc.encoder.layers.4.linear1.bias', 'img_enc.encoder.layers.4.linear2.weight', 'img_enc.encoder.layers.4.linear2.bias', 'img_enc.encoder.layers.4.norm1.weight', 'img_enc.encoder.layers.4.norm1.bias', 'img_enc.encoder.layers.4.norm2.weight', 'img_enc.encoder.layers.4.norm2.bias', 'img_enc.encoder.layers.5.self_attn.in_proj_weight', 'img_enc.encoder.layers.5.self_attn.in_proj_bias', 'img_enc.encoder.layers.5.self_attn.out_proj.weight', 'img_enc.encoder.layers.5.self_attn.out_proj.bias', 'img_enc.encoder.layers.5.linear1.weight', 'img_enc.encoder.layers.5.linear1.bias', 'img_enc.encoder.layers.5.linear2.weight', 'img_enc.encoder.layers.5.linear2.bias', 'img_enc.encoder.layers.5.norm1.weight', 'img_enc.encoder.layers.5.norm1.bias', 'img_enc.encoder.layers.5.norm2.weight', 'img_enc.encoder.layers.5.norm2.bias', 'img_enc.post_norm.weight', 'img_enc.post_norm.bias', 'img_dec.pe.pe', 'img_dec.decoder.layers.0.self_attn.in_proj_weight', 'img_dec.decoder.layers.0.self_attn.in_proj_bias', 'img_dec.decoder.layers.0.self_attn.out_proj.weight', 'img_dec.decoder.layers.0.self_attn.out_proj.bias', 'img_dec.decoder.layers.0.multihead_attn.in_proj_weight', 'img_dec.decoder.layers.0.multihead_attn.in_proj_bias', 'img_dec.decoder.layers.0.multihead_attn.out_proj.weight', 'img_dec.decoder.layers.0.multihead_attn.out_proj.bias', 'img_dec.decoder.layers.0.linear1.weight', 'img_dec.decoder.layers.0.linear1.bias', 'img_dec.decoder.layers.0.linear2.weight', 'img_dec.decoder.layers.0.linear2.bias', 'img_dec.decoder.layers.0.norm1.weight', 'img_dec.decoder.layers.0.norm1.bias', 'img_dec.decoder.layers.0.norm2.weight', 'img_dec.decoder.layers.0.norm2.bias', 'img_dec.decoder.layers.0.norm3.weight', 'img_dec.decoder.layers.0.norm3.bias', 'img_dec.decoder.layers.1.self_attn.in_proj_weight', 'img_dec.decoder.layers.1.self_attn.in_proj_bias', 'img_dec.decoder.layers.1.self_attn.out_proj.weight', 'img_dec.decoder.layers.1.self_attn.out_proj.bias', 'img_dec.decoder.layers.1.multihead_attn.in_proj_weight', 'img_dec.decoder.layers.1.multihead_attn.in_proj_bias', 'img_dec.decoder.layers.1.multihead_attn.out_proj.weight', 'img_dec.decoder.layers.1.multihead_attn.out_proj.bias', 'img_dec.decoder.layers.1.linear1.weight', 'img_dec.decoder.layers.1.linear1.bias', 'img_dec.decoder.layers.1.linear2.weight', 'img_dec.decoder.layers.1.linear2.bias', 'img_dec.decoder.layers.1.norm1.weight', 'img_dec.decoder.layers.1.norm1.bias', 'img_dec.decoder.layers.1.norm2.weight', 'img_dec.decoder.layers.1.norm2.bias', 'img_dec.decoder.layers.1.norm3.weight', 'img_dec.decoder.layers.1.norm3.bias', 'img_dec.decoder.layers.2.self_attn.in_proj_weight', 'img_dec.decoder.layers.2.self_attn.in_proj_bias', 'img_dec.decoder.layers.2.self_attn.out_proj.weight', 'img_dec.decoder.layers.2.self_attn.out_proj.bias', 'img_dec.decoder.layers.2.multihead_attn.in_proj_weight', 'img_dec.decoder.layers.2.multihead_attn.in_proj_bias', 'img_dec.decoder.layers.2.multihead_attn.out_proj.weight', 'img_dec.decoder.layers.2.multihead_attn.out_proj.bias', 'img_dec.decoder.layers.2.linear1.weight', 'img_dec.decoder.layers.2.linear1.bias', 'img_dec.decoder.layers.2.linear2.weight', 'img_dec.decoder.layers.2.linear2.bias', 'img_dec.decoder.layers.2.norm1.weight', 'img_dec.decoder.layers.2.norm1.bias', 'img_dec.decoder.layers.2.norm2.weight', 'img_dec.decoder.layers.2.norm2.bias', 'img_dec.decoder.layers.2.norm3.weight', 'img_dec.decoder.layers.2.norm3.bias', 'img_dec.linear_layer.1.weight', 'img_dec.linear_layer.1.bias', 'img_dec.linear_layer.2.linear_project.weight', 'img_dec.linear_layer.2.linear_project.bias', 'text_enc.embed.0.weight', 'text_enc.embed.1.pe', 'text_enc.embed.2.weight', 'text_enc.embed.2.bias', 'text_enc.encoder.layers.0.self_attn.in_proj_weight', 'text_enc.encoder.layers.0.self_attn.in_proj_bias', 'text_enc.encoder.layers.0.self_attn.out_proj.weight', 'text_enc.encoder.layers.0.self_attn.out_proj.bias', 'text_enc.encoder.layers.0.linear1.weight', 'text_enc.encoder.layers.0.linear1.bias', 'text_enc.encoder.layers.0.linear2.weight', 'text_enc.encoder.layers.0.linear2.bias', 'text_enc.encoder.layers.0.norm1.weight', 'text_enc.encoder.layers.0.norm1.bias', 'text_enc.encoder.layers.0.norm2.weight', 'text_enc.encoder.layers.0.norm2.bias', 'text_enc.encoder.layers.1.self_attn.in_proj_weight', 'text_enc.encoder.layers.1.self_attn.in_proj_bias', 'text_enc.encoder.layers.1.self_attn.out_proj.weight', 'text_enc.encoder.layers.1.self_attn.out_proj.bias', 'text_enc.encoder.layers.1.linear1.weight', 'text_enc.encoder.layers.1.linear1.bias', 'text_enc.encoder.layers.1.linear2.weight', 'text_enc.encoder.layers.1.linear2.bias', 'text_enc.encoder.layers.1.norm1.weight', 'text_enc.encoder.layers.1.norm1.bias', 'text_enc.encoder.layers.1.norm2.weight', 'text_enc.encoder.layers.1.norm2.bias', 'text_enc.encoder.layers.2.self_attn.in_proj_weight', 'text_enc.encoder.layers.2.self_attn.in_proj_bias', 'text_enc.encoder.layers.2.self_attn.out_proj.weight', 'text_enc.encoder.layers.2.self_attn.out_proj.bias', 'text_enc.encoder.layers.2.linear1.weight', 'text_enc.encoder.layers.2.linear1.bias', 'text_enc.encoder.layers.2.linear2.weight', 'text_enc.encoder.layers.2.linear2.bias', 'text_enc.encoder.layers.2.norm1.weight', 'text_enc.encoder.layers.2.norm1.bias', 'text_enc.encoder.layers.2.norm2.weight', 'text_enc.encoder.layers.2.norm2.bias', 'text_enc.encoder.layers.3.self_attn.in_proj_weight', 'text_enc.encoder.layers.3.self_attn.in_proj_bias', 'text_enc.encoder.layers.3.self_attn.out_proj.weight', 'text_enc.encoder.layers.3.self_attn.out_proj.bias', 'text_enc.encoder.layers.3.linear1.weight', 'text_enc.encoder.layers.3.linear1.bias', 'text_enc.encoder.layers.3.linear2.weight', 'text_enc.encoder.layers.3.linear2.bias', 'text_enc.encoder.layers.3.norm1.weight', 'text_enc.encoder.layers.3.norm1.bias', 'text_enc.encoder.layers.3.norm2.weight', 'text_enc.encoder.layers.3.norm2.bias', 'text_enc.encoder.layers.4.self_attn.in_proj_weight', 'text_enc.encoder.layers.4.self_attn.in_proj_bias', 'text_enc.encoder.layers.4.self_attn.out_proj.weight', 'text_enc.encoder.layers.4.self_attn.out_proj.bias', 'text_enc.encoder.layers.4.linear1.weight', 'text_enc.encoder.layers.4.linear1.bias', 'text_enc.encoder.layers.4.linear2.weight', 'text_enc.encoder.layers.4.linear2.bias', 'text_enc.encoder.layers.4.norm1.weight', 'text_enc.encoder.layers.4.norm1.bias', 'text_enc.encoder.layers.4.norm2.weight', 'text_enc.encoder.layers.4.norm2.bias', 'text_enc.encoder.layers.5.self_attn.in_proj_weight', 'text_enc.encoder.layers.5.self_attn.in_proj_bias', 'text_enc.encoder.layers.5.self_attn.out_proj.weight', 'text_enc.encoder.layers.5.self_attn.out_proj.bias', 'text_enc.encoder.layers.5.linear1.weight', 'text_enc.encoder.layers.5.linear1.bias', 'text_enc.encoder.layers.5.linear2.weight', 'text_enc.encoder.layers.5.linear2.bias', 'text_enc.encoder.layers.5.norm1.weight', 'text_enc.encoder.layers.5.norm1.bias', 'text_enc.encoder.layers.5.norm2.weight', 'text_enc.encoder.layers.5.norm2.bias', 'text_enc.encoder.layers.6.self_attn.in_proj_weight', 'text_enc.encoder.layers.6.self_attn.in_proj_bias', 'text_enc.encoder.layers.6.self_attn.out_proj.weight', 'text_enc.encoder.layers.6.self_attn.out_proj.bias', 'text_enc.encoder.layers.6.linear1.weight', 'text_enc.encoder.layers.6.linear1.bias', 'text_enc.encoder.layers.6.linear2.weight', 'text_enc.encoder.layers.6.linear2.bias', 'text_enc.encoder.layers.6.norm1.weight', 'text_enc.encoder.layers.6.norm1.bias', 'text_enc.encoder.layers.6.norm2.weight', 'text_enc.encoder.layers.6.norm2.bias', 'text_enc.encoder.layers.7.self_attn.in_proj_weight', 'text_enc.encoder.layers.7.self_attn.in_proj_bias', 'text_enc.encoder.layers.7.self_attn.out_proj.weight', 'text_enc.encoder.layers.7.self_attn.out_proj.bias', 'text_enc.encoder.layers.7.linear1.weight', 'text_enc.encoder.layers.7.linear1.bias', 'text_enc.encoder.layers.7.linear2.weight', 'text_enc.encoder.layers.7.linear2.bias', 'text_enc.encoder.layers.7.norm1.weight', 'text_enc.encoder.layers.7.norm1.bias', 'text_enc.encoder.layers.7.norm2.weight', 'text_enc.encoder.layers.7.norm2.bias', 'text_dec.decoder.layers.0.self_attn.in_proj_weight', 'text_dec.decoder.layers.0.self_attn.in_proj_bias', 'text_dec.decoder.layers.0.self_attn.out_proj.weight', 'text_dec.decoder.layers.0.self_attn.out_proj.bias', 'text_dec.decoder.layers.0.multihead_attn.in_proj_weight', 'text_dec.decoder.layers.0.multihead_attn.in_proj_bias', 'text_dec.decoder.layers.0.multihead_attn.out_proj.weight', 'text_dec.decoder.layers.0.multihead_attn.out_proj.bias', 'text_dec.decoder.layers.0.linear1.weight', 'text_dec.decoder.layers.0.linear1.bias', 'text_dec.decoder.layers.0.linear2.weight', 'text_dec.decoder.layers.0.linear2.bias', 'text_dec.decoder.layers.0.norm1.weight', 'text_dec.decoder.layers.0.norm1.bias', 'text_dec.decoder.layers.0.norm2.weight', 'text_dec.decoder.layers.0.norm2.bias', 'text_dec.decoder.layers.0.norm3.weight', 'text_dec.decoder.layers.0.norm3.bias', 'text_dec.decoder.layers.1.self_attn.in_proj_weight', 'text_dec.decoder.layers.1.self_attn.in_proj_bias', 'text_dec.decoder.layers.1.self_attn.out_proj.weight', 'text_dec.decoder.layers.1.self_attn.out_proj.bias', 'text_dec.decoder.layers.1.multihead_attn.in_proj_weight', 'text_dec.decoder.layers.1.multihead_attn.in_proj_bias', 'text_dec.decoder.layers.1.multihead_attn.out_proj.weight', 'text_dec.decoder.layers.1.multihead_attn.out_proj.bias', 'text_dec.decoder.layers.1.linear1.weight', 'text_dec.decoder.layers.1.linear1.bias', 'text_dec.decoder.layers.1.linear2.weight', 'text_dec.decoder.layers.1.linear2.bias', 'text_dec.decoder.layers.1.norm1.weight', 'text_dec.decoder.layers.1.norm1.bias', 'text_dec.decoder.layers.1.norm2.weight', 'text_dec.decoder.layers.1.norm2.bias', 'text_dec.decoder.layers.1.norm3.weight', 'text_dec.decoder.layers.1.norm3.bias', 'text_dec.decoder.layers.2.self_attn.in_proj_weight', 'text_dec.decoder.layers.2.self_attn.in_proj_bias', 'text_dec.decoder.layers.2.self_attn.out_proj.weight', 'text_dec.decoder.layers.2.self_attn.out_proj.bias', 'text_dec.decoder.layers.2.multihead_attn.in_proj_weight', 'text_dec.decoder.layers.2.multihead_attn.in_proj_bias', 'text_dec.decoder.layers.2.multihead_attn.out_proj.weight', 'text_dec.decoder.layers.2.multihead_attn.out_proj.bias', 'text_dec.decoder.layers.2.linear1.weight', 'text_dec.decoder.layers.2.linear1.bias', 'text_dec.decoder.layers.2.linear2.weight', 'text_dec.decoder.layers.2.linear2.bias', 'text_dec.decoder.layers.2.norm1.weight', 'text_dec.decoder.layers.2.norm1.bias', 'text_dec.decoder.layers.2.norm2.weight', 'text_dec.decoder.layers.2.norm2.bias', 'text_dec.decoder.layers.2.norm3.weight', 'text_dec.decoder.layers.2.norm3.bias', 'text_dec.decoder.layers.3.self_attn.in_proj_weight', 'text_dec.decoder.layers.3.self_attn.in_proj_bias', 'text_dec.decoder.layers.3.self_attn.out_proj.weight', 'text_dec.decoder.layers.3.self_attn.out_proj.bias', 'text_dec.decoder.layers.3.multihead_attn.in_proj_weight', 'text_dec.decoder.layers.3.multihead_attn.in_proj_bias', 'text_dec.decoder.layers.3.multihead_attn.out_proj.weight', 'text_dec.decoder.layers.3.multihead_attn.out_proj.bias', 'text_dec.decoder.layers.3.linear1.weight', 'text_dec.decoder.layers.3.linear1.bias', 'text_dec.decoder.layers.3.linear2.weight', 'text_dec.decoder.layers.3.linear2.bias', 'text_dec.decoder.layers.3.norm1.weight', 'text_dec.decoder.layers.3.norm1.bias', 'text_dec.decoder.layers.3.norm2.weight', 'text_dec.decoder.layers.3.norm2.bias', 'text_dec.decoder.layers.3.norm3.weight', 'text_dec.decoder.layers.3.norm3.bias', 'text_dec.fc.0.weight', 'text_dec.fc.0.bias', 'text_dec.fc.1.weight', 'text_dec.fc.1.bias', 'text_dec.fc.4.weight', 'text_dec.fc.4.bias', 'dopamine.decoder.layers.0.self_attn.in_proj_weight', 'dopamine.decoder.layers.0.self_attn.in_proj_bias', 'dopamine.decoder.layers.0.self_attn.out_proj.weight', 'dopamine.decoder.layers.0.self_attn.out_proj.bias', 'dopamine.decoder.layers.0.multihead_attn.in_proj_weight', 'dopamine.decoder.layers.0.multihead_attn.in_proj_bias', 'dopamine.decoder.layers.0.multihead_attn.out_proj.weight', 'dopamine.decoder.layers.0.multihead_attn.out_proj.bias', 'dopamine.decoder.layers.0.linear1.weight', 'dopamine.decoder.layers.0.linear1.bias', 'dopamine.decoder.layers.0.linear2.weight', 'dopamine.decoder.layers.0.linear2.bias', 'dopamine.decoder.layers.0.norm1.weight', 'dopamine.decoder.layers.0.norm1.bias', 'dopamine.decoder.layers.0.norm2.weight', 'dopamine.decoder.layers.0.norm2.bias', 'dopamine.decoder.layers.0.norm3.weight', 'dopamine.decoder.layers.0.norm3.bias', 'dopamine.decoder.layers.1.self_attn.in_proj_weight', 'dopamine.decoder.layers.1.self_attn.in_proj_bias', 'dopamine.decoder.layers.1.self_attn.out_proj.weight', 'dopamine.decoder.layers.1.self_attn.out_proj.bias', 'dopamine.decoder.layers.1.multihead_attn.in_proj_weight', 'dopamine.decoder.layers.1.multihead_attn.in_proj_bias', 'dopamine.decoder.layers.1.multihead_attn.out_proj.weight', 'dopamine.decoder.layers.1.multihead_attn.out_proj.bias', 'dopamine.decoder.layers.1.linear1.weight', 'dopamine.decoder.layers.1.linear1.bias', 'dopamine.decoder.layers.1.linear2.weight', 'dopamine.decoder.layers.1.linear2.bias', 'dopamine.decoder.layers.1.norm1.weight', 'dopamine.decoder.layers.1.norm1.bias', 'dopamine.decoder.layers.1.norm2.weight', 'dopamine.decoder.layers.1.norm2.bias', 'dopamine.decoder.layers.1.norm3.weight', 'dopamine.decoder.layers.1.norm3.bias', 'dopamine.decoder.layers.2.self_attn.in_proj_weight', 'dopamine.decoder.layers.2.self_attn.in_proj_bias', 'dopamine.decoder.layers.2.self_attn.out_proj.weight', 'dopamine.decoder.layers.2.self_attn.out_proj.bias', 'dopamine.decoder.layers.2.multihead_attn.in_proj_weight', 'dopamine.decoder.layers.2.multihead_attn.in_proj_bias', 'dopamine.decoder.layers.2.multihead_attn.out_proj.weight', 'dopamine.decoder.layers.2.multihead_attn.out_proj.bias', 'dopamine.decoder.layers.2.linear1.weight', 'dopamine.decoder.layers.2.linear1.bias', 'dopamine.decoder.layers.2.linear2.weight', 'dopamine.decoder.layers.2.linear2.bias', 'dopamine.decoder.layers.2.norm1.weight', 'dopamine.decoder.layers.2.norm1.bias', 'dopamine.decoder.layers.2.norm2.weight', 'dopamine.decoder.layers.2.norm2.bias', 'dopamine.decoder.layers.2.norm3.weight', 'dopamine.decoder.layers.2.norm3.bias', 'dopamine.decoder.layers.3.self_attn.in_proj_weight', 'dopamine.decoder.layers.3.self_attn.in_proj_bias', 'dopamine.decoder.layers.3.self_attn.out_proj.weight', 'dopamine.decoder.layers.3.self_attn.out_proj.bias', 'dopamine.decoder.layers.3.multihead_attn.in_proj_weight', 'dopamine.decoder.layers.3.multihead_attn.in_proj_bias', 'dopamine.decoder.layers.3.multihead_attn.out_proj.weight', 'dopamine.decoder.layers.3.multihead_attn.out_proj.bias', 'dopamine.decoder.layers.3.linear1.weight', 'dopamine.decoder.layers.3.linear1.bias', 'dopamine.decoder.layers.3.linear2.weight', 'dopamine.decoder.layers.3.linear2.bias', 'dopamine.decoder.layers.3.norm1.weight', 'dopamine.decoder.layers.3.norm1.bias', 'dopamine.decoder.layers.3.norm2.weight', 'dopamine.decoder.layers.3.norm2.bias', 'dopamine.decoder.layers.3.norm3.weight', 'dopamine.decoder.layers.3.norm3.bias', 'dopamine.fc.0.weight', 'dopamine.fc.0.bias', 'dopamine.fc.1.weight', 'dopamine.fc.1.bias', 'dopamine.fc.4.weight', 'dopamine.fc.4.bias', 'memory.memory', 'memory.scales', 'memenc.decoder.layers.0.self_attn.in_proj_weight', 'memenc.decoder.layers.0.self_attn.in_proj_bias', 'memenc.decoder.layers.0.self_attn.out_proj.weight', 'memenc.decoder.layers.0.self_attn.out_proj.bias', 'memenc.decoder.layers.0.multihead_attn.in_proj_weight', 'memenc.decoder.layers.0.multihead_attn.in_proj_bias', 'memenc.decoder.layers.0.multihead_attn.out_proj.weight', 'memenc.decoder.layers.0.multihead_attn.out_proj.bias', 'memenc.decoder.layers.0.linear1.weight', 'memenc.decoder.layers.0.linear1.bias', 'memenc.decoder.layers.0.linear2.weight', 'memenc.decoder.layers.0.linear2.bias', 'memenc.decoder.layers.0.norm1.weight', 'memenc.decoder.layers.0.norm1.bias', 'memenc.decoder.layers.0.norm2.weight', 'memenc.decoder.layers.0.norm2.bias', 'memenc.decoder.layers.0.norm3.weight', 'memenc.decoder.layers.0.norm3.bias', 'memenc.decoder.layers.1.self_attn.in_proj_weight', 'memenc.decoder.layers.1.self_attn.in_proj_bias', 'memenc.decoder.layers.1.self_attn.out_proj.weight', 'memenc.decoder.layers.1.self_attn.out_proj.bias', 'memenc.decoder.layers.1.multihead_attn.in_proj_weight', 'memenc.decoder.layers.1.multihead_attn.in_proj_bias', 'memenc.decoder.layers.1.multihead_attn.out_proj.weight', 'memenc.decoder.layers.1.multihead_attn.out_proj.bias', 'memenc.decoder.layers.1.linear1.weight', 'memenc.decoder.layers.1.linear1.bias', 'memenc.decoder.layers.1.linear2.weight', 'memenc.decoder.layers.1.linear2.bias', 'memenc.decoder.layers.1.norm1.weight', 'memenc.decoder.layers.1.norm1.bias', 'memenc.decoder.layers.1.norm2.weight', 'memenc.decoder.layers.1.norm2.bias', 'memenc.decoder.layers.1.norm3.weight', 'memenc.decoder.layers.1.norm3.bias', 'memenc.decoder.layers.2.self_attn.in_proj_weight', 'memenc.decoder.layers.2.self_attn.in_proj_bias', 'memenc.decoder.layers.2.self_attn.out_proj.weight', 'memenc.decoder.layers.2.self_attn.out_proj.bias', 'memenc.decoder.layers.2.multihead_attn.in_proj_weight', 'memenc.decoder.layers.2.multihead_attn.in_proj_bias', 'memenc.decoder.layers.2.multihead_attn.out_proj.weight', 'memenc.decoder.layers.2.multihead_attn.out_proj.bias', 'memenc.decoder.layers.2.linear1.weight', 'memenc.decoder.layers.2.linear1.bias', 'memenc.decoder.layers.2.linear2.weight', 'memenc.decoder.layers.2.linear2.bias', 'memenc.decoder.layers.2.norm1.weight', 'memenc.decoder.layers.2.norm1.bias', 'memenc.decoder.layers.2.norm2.weight', 'memenc.decoder.layers.2.norm2.bias', 'memenc.decoder.layers.2.norm3.weight', 'memenc.decoder.layers.2.norm3.bias', 'memenc.decoder.layers.3.self_attn.in_proj_weight', 'memenc.decoder.layers.3.self_attn.in_proj_bias', 'memenc.decoder.layers.3.self_attn.out_proj.weight', 'memenc.decoder.layers.3.self_attn.out_proj.bias', 'memenc.decoder.layers.3.multihead_attn.in_proj_weight', 'memenc.decoder.layers.3.multihead_attn.in_proj_bias', 'memenc.decoder.layers.3.multihead_attn.out_proj.weight', 'memenc.decoder.layers.3.multihead_attn.out_proj.bias', 'memenc.decoder.layers.3.linear1.weight', 'memenc.decoder.layers.3.linear1.bias', 'memenc.decoder.layers.3.linear2.weight', 'memenc.decoder.layers.3.linear2.bias', 'memenc.decoder.layers.3.norm1.weight', 'memenc.decoder.layers.3.norm1.bias', 'memenc.decoder.layers.3.norm2.weight', 'memenc.decoder.layers.3.norm2.bias', 'memenc.decoder.layers.3.norm3.weight', 'memenc.decoder.layers.3.norm3.bias', 'memenc.fc_prep.0.weight', 'memenc.fc_prep.0.bias', 'memenc.fc_prep.1.weight', 'memenc.fc_prep.1.bias', 'memenc.fcs.0.weight', 'memenc.fcs.0.bias', 'canvases.canvases.0.canvas', 'canvases.canvases.1.canvas', 'canvases.canvases.2.canvas'])"
      ]
     },
     "execution_count": 8,
     "metadata": {},
     "output_type": "execute_result"
    }
   ],
   "source": [
    "wd.keys()"
   ]
  },
  {
   "cell_type": "code",
   "execution_count": null,
   "id": "bc6f26ff-8ed0-48c7-af53-eb4ceccd7cf0",
   "metadata": {},
   "outputs": [],
   "source": []
  }
 ],
 "metadata": {
  "kernelspec": {
   "display_name": "Python 3 (ipykernel)",
   "language": "python",
   "name": "python3"
  },
  "language_info": {
   "codemirror_mode": {
    "name": "ipython",
    "version": 3
   },
   "file_extension": ".py",
   "mimetype": "text/x-python",
   "name": "python",
   "nbconvert_exporter": "python",
   "pygments_lexer": "ipython3",
   "version": "3.12.7"
  }
 },
 "nbformat": 4,
 "nbformat_minor": 5
}
