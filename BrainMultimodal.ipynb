{
 "cells": [
  {
   "cell_type": "code",
   "execution_count": 1,
   "id": "a4076294-9b08-4f4d-aa74-db8e0790e4da",
   "metadata": {},
   "outputs": [],
   "source": [
    "# Last test kernel before pretraining officially starts\n",
    "# This one will consume both game snapshots and text"
   ]
  },
  {
   "cell_type": "code",
   "execution_count": 2,
   "id": "a8cbe106-900f-48de-8f6e-f8f8a0e3de69",
   "metadata": {},
   "outputs": [],
   "source": [
    "from visual_transformer import *\n",
    "brain = DefaultAgentBrain().cuda()"
   ]
  },
  {
   "cell_type": "code",
   "execution_count": 3,
   "id": "aa0023c7-0d73-4fca-a347-71649bb83e86",
   "metadata": {},
   "outputs": [
    {
     "name": "stdout",
     "output_type": "stream",
     "text": [
      "pygame 2.6.1 (SDL 2.28.4, Python 3.12.7)\n",
      "Hello from the pygame community. https://www.pygame.org/contribute.html\n"
     ]
    }
   ],
   "source": [
    "# First, let's load the game deets\n",
    "\n",
    "from game import *"
   ]
  },
  {
   "cell_type": "code",
   "execution_count": 4,
   "id": "e5dc39d2-9c90-4658-a708-811674eb24a9",
   "metadata": {},
   "outputs": [],
   "source": [
    "game_settings = BIG_tool_use_advanced_2_5"
   ]
  },
  {
   "cell_type": "code",
   "execution_count": 5,
   "id": "7b537548-6398-43e1-aa15-a308af6a09a8",
   "metadata": {},
   "outputs": [],
   "source": [
    "game_settings.gameSize = 224 # for compatibility with brain's expected size"
   ]
  },
  {
   "cell_type": "code",
   "execution_count": 6,
   "id": "f1ecf737-70dc-45ed-825f-3fde69fdfdb6",
   "metadata": {},
   "outputs": [],
   "source": [
    "G = discreteGame(game_settings)"
   ]
  },
  {
   "cell_type": "code",
   "execution_count": 7,
   "id": "68221f03-e2a3-4540-a367-b5f805b15c3b",
   "metadata": {},
   "outputs": [],
   "source": [
    "import matplotlib.pyplot as plt"
   ]
  },
  {
   "cell_type": "code",
   "execution_count": 8,
   "id": "faa45ccb-d85e-4666-ab89-285c43689d0b",
   "metadata": {},
   "outputs": [
    {
     "data": {
      "text/plain": [
       "<matplotlib.image.AxesImage at 0x7f42280c34a0>"
      ]
     },
     "execution_count": 8,
     "metadata": {},
     "output_type": "execute_result"
    },
    {
     "data": {
      "image/png": "[encoded data removed]",
      "text/plain": [
       "<Figure size 640x480 with 1 Axes>"
      ]
     },
     "metadata": {},
     "output_type": "display_data"
    }
   ],
   "source": [
    "plt.imshow(G.getData())"
   ]
  },
  {
   "cell_type": "code",
   "execution_count": 9,
   "id": "d9585ed9-cbb5-4533-bed1-daad17269d58",
   "metadata": {},
   "outputs": [],
   "source": [
    "def quick_display(torch_img):\n",
    "    clean = torch_img.detach().cpu()\n",
    "    right_order = torch.permute(clean, (1, 2, 0))\n",
    "    array = right_order.numpy()\n",
    "    plt.imshow(array)"
   ]
  },
  {
   "cell_type": "code",
   "execution_count": 10,
   "id": "398e1c06-3cb1-419e-99f6-62a0784e5925",
   "metadata": {},
   "outputs": [],
   "source": [
    "# Ok, now let's laod the text data"
   ]
  },
  {
   "cell_type": "code",
   "execution_count": 11,
   "id": "6fea2d4f-ceef-4cee-8fef-51316751dd5a",
   "metadata": {},
   "outputs": [],
   "source": [
    "from pathlib import Path\n",
    "from tokenizers import ByteLevelBPETokenizer\n",
    "from tokenizers.processors import BertProcessing\n",
    "from torch.utils.data import Dataset"
   ]
  },
  {
   "cell_type": "code",
   "execution_count": 12,
   "id": "dfa5bc23-a581-4ec1-b080-0639e2dc21aa",
   "metadata": {},
   "outputs": [],
   "source": [
    "device = torch.device(\"cuda\" if torch.cuda.is_available() else \"cpu\")\n",
    "paths = [\"text_pretraining_data/eng_sentences_pruned-train.txt\"]\n",
    "vocab_size = 10000\n",
    "# tokenizer.save_model(\".\", \"tokenizer/eng_sentences_tokenizer_vc10000\")\n",
    "tokenizer = ByteLevelBPETokenizer(\n",
    "    \"./text_pretraining_tokenizer/eng_sentences_tokenizer_vc10000_v2-vocab.json\",\n",
    "    \"./text_pretraining_tokenizer/eng_sentences_tokenizer_vc10000_v2-merges.txt\",\n",
    ")   \n",
    "tokenizer._tokenizer.post_processor = BertProcessing(\n",
    "    (\"</s>\", tokenizer.token_to_id(\"</s>\")),\n",
    "    (\"<s>\", tokenizer.token_to_id(\"<s>\")),\n",
    ")   \n",
    "tokenizer.enable_truncation(max_length=32)\n",
    "tokenizer.enable_padding()\n",
    "\n",
    "## Dataset\n",
    "class SampleDataset(Dataset):\n",
    "    def __init__(self, seq_length = 32, evaluate: bool = False, tokenizer=None, device = None):\n",
    "        if device is None:\n",
    "            device = 'cpu'\n",
    "        self.device = device\n",
    "        self.seq_length = seq_length\n",
    "        if tokenizer is None:\n",
    "            tokenizer = ByteLevelBPETokenizer(\n",
    "                \"./text_pretraining_tokenizer/eng_sentences_tokenizer_v2-vocab.json\",\n",
    "                \"./text_pretraining_tokenizer/eng_sentences_tokenizer_v2-merges.txt\",\n",
    "            )   \n",
    "        tokenizer._tokenizer.post_processor = BertProcessing(\n",
    "            (\"</s>\", tokenizer.token_to_id(\"</s>\")),\n",
    "            (\"<s>\", tokenizer.token_to_id(\"<s>\")),\n",
    "        )   \n",
    "        tokenizer.enable_truncation(max_length=self.seq_length)\n",
    "        tokenizer.enable_padding()#length=seq_length)\n",
    "        # or use the RobertaTokenizer from `transformers` directly.\n",
    "\n",
    "        self.examples = []\n",
    "\n",
    "        src_files = Path(\"./text_pretraining_data/\").glob(\"*-eval.txt\") if evaluate else Path(\"./text_pretraining_data/\").glob(\"*-train.txt\")\n",
    "        for src_file in src_files:\n",
    "            print(\"🔥\", src_file)\n",
    "            lines = src_file.read_text(encoding=\"utf-8\").splitlines()\n",
    "            self.examples += [x.ids for x in tokenizer.encode_batch(lines)]\n",
    "\n",
    "    def __len__(self):\n",
    "        return len(self.examples)\n",
    "\n",
    "    def __getitem__(self, i): \n",
    "        # We’ll pad at the batch level.\n",
    "        return torch.tensor(self.examples[i]).to(self.device)"
   ]
  },
  {
   "cell_type": "code",
   "execution_count": 13,
   "id": "6266b6d5-23b3-42e7-b3e4-b0d1abdba54f",
   "metadata": {},
   "outputs": [
    {
     "name": "stdout",
     "output_type": "stream",
     "text": [
      "🔥 text_pretraining_data/eng_sentences_pruned-train.txt\n",
      "🔥 text_pretraining_data/eng_sentences_pruned-eval.txt\n"
     ]
    }
   ],
   "source": [
    "sdt = SampleDataset(tokenizer=tokenizer)\n",
    "sdv = SampleDataset(tokenizer=tokenizer, evaluate=True)"
   ]
  },
  {
   "cell_type": "code",
   "execution_count": 14,
   "id": "73b88544-4263-4a13-9c1c-d5bbc79e5cbe",
   "metadata": {},
   "outputs": [],
   "source": [
    "# Ok, now let's get both in a shape that can be consumed by brain"
   ]
  },
  {
   "cell_type": "code",
   "execution_count": 15,
   "id": "d75513b1-9ef7-480f-8dc7-8d6163207743",
   "metadata": {},
   "outputs": [],
   "source": [
    "img_set = G.random_full_image_set(restrict_angles=True)"
   ]
  },
  {
   "cell_type": "code",
   "execution_count": 16,
   "id": "591b86aa-2e42-4c6f-9532-a9e8430ebe7f",
   "metadata": {},
   "outputs": [],
   "source": [
    "cutoff = 10 #16 # play with this"
   ]
  },
  {
   "cell_type": "code",
   "execution_count": 17,
   "id": "a4309945-4041-4aeb-863d-fc89d684da28",
   "metadata": {},
   "outputs": [],
   "source": [
    "#img_tensor = torch.permute(torch.FloatTensor(img_set[:cutoff]).cuda(), (0, 3, 1, 2))"
   ]
  },
  {
   "cell_type": "code",
   "execution_count": 18,
   "id": "e7bd6184-c28b-4315-af28-6b802e61b054",
   "metadata": {},
   "outputs": [],
   "source": [
    "#text_tensor = sdt[:cutoff].cuda()"
   ]
  },
  {
   "cell_type": "code",
   "execution_count": 19,
   "id": "d23b6031-7650-4e84-8cb2-2a6686f1242f",
   "metadata": {},
   "outputs": [],
   "source": [
    "#text_probs, img_reconstruction = brain(text_tensor, img_tensor, ret_imgs = True)"
   ]
  },
  {
   "cell_type": "code",
   "execution_count": 20,
   "id": "f72f9b38-e16b-4b23-be2e-7311324dc5d0",
   "metadata": {},
   "outputs": [],
   "source": [
    "# and only 5 gigs for 10 samples! Amazing\n",
    "# I can push it up to 16 samples in inference, but I'm not going to push it."
   ]
  },
  {
   "cell_type": "code",
   "execution_count": 21,
   "id": "6c94edb8-9731-4dd0-b87d-dfe73a55084b",
   "metadata": {},
   "outputs": [],
   "source": [
    "#img_tensor = torch.permute(torch.FloatTensor(img_set[:cutoff]).cuda(), (0, 3, 1, 2))"
   ]
  },
  {
   "cell_type": "code",
   "execution_count": 22,
   "id": "5c02103e-1c10-4417-8bb0-23f90c3a2f3d",
   "metadata": {},
   "outputs": [],
   "source": [
    "#img_encoding = brain.img_enc(img_tensor)"
   ]
  },
  {
   "cell_type": "code",
   "execution_count": 23,
   "id": "525ebd26-d4f1-4c95-873f-88d268839ecb",
   "metadata": {
    "scrolled": true
   },
   "outputs": [],
   "source": [
    "#img_encoding.size()"
   ]
  },
  {
   "cell_type": "code",
   "execution_count": 24,
   "id": "333b2778-0a8f-466d-b284-921be19539a4",
   "metadata": {},
   "outputs": [],
   "source": [
    "multiplier = 12 #8 #4 #8 #16\n",
    "text_batch_size = cutoff * multiplier"
   ]
  },
  {
   "cell_type": "code",
   "execution_count": 25,
   "id": "2c1fca41-c733-4bc8-9044-fd35d847383b",
   "metadata": {},
   "outputs": [],
   "source": [
    "text_tensor = sdt[:text_batch_size].cuda()"
   ]
  },
  {
   "cell_type": "code",
   "execution_count": 26,
   "id": "708bcef8-c021-44fc-9863-64bcb082b98d",
   "metadata": {},
   "outputs": [],
   "source": [
    "src_attention_mask, src_key_padding_mask = brain.get_masks(text_tensor, use_masks=True)\n",
    "text_encoding = brain.get_text_encoding(text_tensor, src_attention_mask, src_key_padding_mask)"
   ]
  },
  {
   "cell_type": "code",
   "execution_count": 27,
   "id": "862c0656-49cc-4084-a223-ed3d501b4abd",
   "metadata": {},
   "outputs": [],
   "source": [
    "#img_context = torch.cat([img_encoding for i in range(multiplier)], dim=0)\n",
    "img_context = torch.randn((text_batch_size, 256, 768), device=text_tensor.device)"
   ]
  },
  {
   "cell_type": "code",
   "execution_count": 28,
   "id": "a2bc3ab7-5a1a-40dd-9ddb-831e456107d5",
   "metadata": {},
   "outputs": [],
   "source": [
    "#img_recon = brain.img_dec(img_encoding, text_encoding[:cutoff])"
   ]
  },
  {
   "cell_type": "code",
   "execution_count": 29,
   "id": "6e3e6f3a-b199-4a62-9f5e-ac2e53a627cd",
   "metadata": {},
   "outputs": [],
   "source": [
    "text_probs = brain.get_text_decoding(text_encoding, src_attention_mask, src_key_padding_mask, img_context, return_full=True)"
   ]
  },
  {
   "cell_type": "code",
   "execution_count": 30,
   "id": "576033c7-b60c-48ac-bd09-de0e03c940e5",
   "metadata": {},
   "outputs": [
    {
     "data": {
      "text/plain": [
       "6.4"
      ]
     },
     "execution_count": 30,
     "metadata": {},
     "output_type": "execute_result"
    }
   ],
   "source": [
    "# a multiplier of 4 works (on 8 gigs). That's 40 sentences per batch.\n",
    "32*4*2 / 40"
   ]
  },
  {
   "cell_type": "code",
   "execution_count": 31,
   "id": "6f307e49-ad89-4909-bc6a-c676e99b4aca",
   "metadata": {},
   "outputs": [
    {
     "data": {
      "text/plain": [
       "75.2"
      ]
     },
     "execution_count": 31,
     "metadata": {},
     "output_type": "execute_result"
    }
   ],
   "source": [
    "0.4 * 60 + 6.4*8"
   ]
  },
  {
   "cell_type": "code",
   "execution_count": 32,
   "id": "fd5ed9d9-22d2-4fd9-b10e-019b02563bbe",
   "metadata": {},
   "outputs": [
    {
     "data": {
      "text/plain": [
       "4.666666666666667"
      ]
     },
     "execution_count": 32,
     "metadata": {},
     "output_type": "execute_result"
    }
   ],
   "source": [
    "# Plus 6 hours, that 7 hours per epoch.\n",
    "7 * 16 / 24"
   ]
  },
  {
   "cell_type": "code",
   "execution_count": 33,
   "id": "e3c6d09b-3c89-41f0-a270-0e674c4f2c99",
   "metadata": {},
   "outputs": [],
   "source": [
    "# THis goes till Friday.\n",
    "# I suppose this could be one way to force behavior. This runs while I fix the big server.\n",
    "# But there simply must be a better way.\n",
    "\n",
    "# Retrying with random activations and no image recon at all."
   ]
  },
  {
   "cell_type": "code",
   "execution_count": 34,
   "id": "ee741eb4-281c-4fbd-95d2-506bc64fff1c",
   "metadata": {},
   "outputs": [
    {
     "data": {
      "text/plain": [
       "256"
      ]
     },
     "execution_count": 34,
     "metadata": {},
     "output_type": "execute_result"
    }
   ],
   "source": [
    "32*8"
   ]
  },
  {
   "cell_type": "code",
   "execution_count": 36,
   "id": "d0580893-e93f-4360-bdee-903f58787f5a",
   "metadata": {},
   "outputs": [],
   "source": [
    "# Using random image contexts, I think I can get it down to 30-odd hours, using batch size of 120\n",
    "# THis still locks in behavior, but not half as bad as before.\n",
    "# So, pretraining the text context first, followed by image context later.\n",
    "# Random inputs.\n",
    "# Actually making the two talk to each other (and ignore each other) counts as finetuning (if it's needed)"
   ]
  },
  {
   "cell_type": "code",
   "execution_count": 1,
   "id": "f0eb4a0f-cc18-4aaa-acd1-1adf46b4a793",
   "metadata": {},
   "outputs": [
    {
     "data": {
      "text/plain": [
       "3.6666666666666665"
      ]
     },
     "execution_count": 1,
     "metadata": {},
     "output_type": "execute_result"
    }
   ],
   "source": [
    "5.5 * 16 / 24"
   ]
  },
  {
   "cell_type": "code",
   "execution_count": 2,
   "id": "c4b31289-f7bd-4a07-930c-17820cf9a6cc",
   "metadata": {},
   "outputs": [],
   "source": [
    "# It'll have to do."
   ]
  },
  {
   "cell_type": "code",
   "execution_count": null,
   "id": "a44eac55-7c11-41c6-9501-ebb019233bb1",
   "metadata": {},
   "outputs": [],
   "source": []
  }
 ],
 "metadata": {
  "kernelspec": {
   "display_name": "Python 3 (ipykernel)",
   "language": "python",
   "name": "python3"
  },
  "language_info": {
   "codemirror_mode": {
    "name": "ipython",
    "version": 3
   },
   "file_extension": ".py",
   "mimetype": "text/x-python",
   "name": "python",
   "nbconvert_exporter": "python",
   "pygments_lexer": "ipython3",
   "version": "3.12.8"
  }
 },
 "nbformat": 4,
 "nbformat_minor": 5
}
