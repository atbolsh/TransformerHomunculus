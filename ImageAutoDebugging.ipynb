{
 "cells": [
  {
   "cell_type": "code",
   "execution_count": 1,
   "id": "5df1e617-c5cc-447e-8107-ed5c17e25cf8",
   "metadata": {},
   "outputs": [],
   "source": [
    "# The Visual Transformer Autoencoder did not work\n",
    "# THis notebook runs a test to see if it can identify any patch, that is, any location, \n",
    "# or if it cannot distinguish the patches.\n",
    "\n",
    "# I expect that this test will fail initially, and succeed once I have fixed the underlying issue"
   ]
  },
  {
   "cell_type": "code",
   "execution_count": 2,
   "id": "478ebad0-d702-4006-99d7-d9b16f90b9d8",
   "metadata": {},
   "outputs": [],
   "source": [
    "from visual_transformer import *"
   ]
  },
  {
   "cell_type": "code",
   "execution_count": 3,
   "id": "1faed71b-89df-4ccb-9933-06f36b0d85d4",
   "metadata": {},
   "outputs": [],
   "source": [
    "# There is no cuda:1 on the smaller penguins.farm\n",
    "device = torch.device('cuda') #torch.device('cuda:1') # the big machine"
   ]
  },
  {
   "cell_type": "code",
   "execution_count": 4,
   "id": "8ee16688-6d3a-430e-8ae9-77e725b1b470",
   "metadata": {},
   "outputs": [],
   "source": [
    "brain = DefaultAgentBrain().to(device)"
   ]
  },
  {
   "cell_type": "code",
   "execution_count": 5,
   "id": "d1b1d49d-c3e9-4eee-b9d6-e43ea1234769",
   "metadata": {},
   "outputs": [
    {
     "data": {
      "text/plain": [
       "14.0"
      ]
     },
     "execution_count": 5,
     "metadata": {},
     "output_type": "execute_result"
    }
   ],
   "source": [
    "224 / 16"
   ]
  },
  {
   "cell_type": "code",
   "execution_count": 6,
   "id": "f72a93da-8912-47df-a0d2-b5fb55a7a27e",
   "metadata": {},
   "outputs": [],
   "source": [
    "def get_batch(batchsize=4):\n",
    "    res = torch.ones((batchsize, 3, 224, 224), device=device)\n",
    "    res[:, :, :3*14, :3*14] = 0\n",
    "    return res"
   ]
  },
  {
   "cell_type": "code",
   "execution_count": 7,
   "id": "83cbd8c5-488f-4ef9-8de8-b969a2e6a41c",
   "metadata": {},
   "outputs": [],
   "source": [
    "# now for the real challenge: input has 1 black patch, output moves it to the right\n",
    "import random\n",
    "\n",
    "def get_moving_data(batchsize=4):\n",
    "    res = torch.ones((batchsize, 3, 224, 224), device=device)\n",
    "    out = torch.ones((batchsize, 3, 224, 224), device=device)\n",
    "    for val in range(batchsize):\n",
    "        x_patch = random.randint(0, 9)\n",
    "        y_patch = random.randint(0, 12)\n",
    "        res[val, :, y_patch*14:(y_patch+3)*14, x_patch*14:(x_patch + 3)*14] = 0\n",
    "        out[val, :, y_patch*14:(y_patch+3)*14, (x_patch + 3)*14:(x_patch + 6)*14] = 0\n",
    "    return res, out"
   ]
  },
  {
   "cell_type": "code",
   "execution_count": 8,
   "id": "19047e36-a41c-4c30-a662-2ceb606c65df",
   "metadata": {},
   "outputs": [],
   "source": [
    "import matplotlib.pyplot as plt"
   ]
  },
  {
   "cell_type": "code",
   "execution_count": 9,
   "id": "cd090c10-1e43-406a-a4bf-d65445341bad",
   "metadata": {},
   "outputs": [],
   "source": [
    "def quick_display(torch_img):\n",
    "    clean = torch_img.detach().cpu()\n",
    "    right_order = torch.permute(clean, (1, 2, 0))\n",
    "    array = right_order.numpy()\n",
    "    plt.imshow(array)"
   ]
  },
  {
   "cell_type": "code",
   "execution_count": 10,
   "id": "400523c8-3ac6-40f7-87e0-9f5c50e67b39",
   "metadata": {},
   "outputs": [
    {
     "data": {
      "image/png": "[encoded data removed]",
      "text/plain": [
       "<Figure size 640x480 with 1 Axes>"
      ]
     },
     "metadata": {},
     "output_type": "display_data"
    }
   ],
   "source": [
    "sample, out = get_moving_data()\n",
    "quick_display(sample[3])"
   ]
  },
  {
   "cell_type": "code",
   "execution_count": 11,
   "id": "390c2796-bdeb-49b3-948c-608d5c7d781f",
   "metadata": {},
   "outputs": [
    {
     "data": {
      "image/png": "[encoded data removed]",
      "text/plain": [
       "<Figure size 640x480 with 1 Axes>"
      ]
     },
     "metadata": {},
     "output_type": "display_data"
    }
   ],
   "source": [
    "quick_display(out[3])"
   ]
  },
  {
   "cell_type": "code",
   "execution_count": 12,
   "id": "416f2dcd-7b8b-45b7-ac18-b158fc933e3c",
   "metadata": {},
   "outputs": [],
   "source": [
    "# now, will the brain learn to produce this image? Or merely splatter gray all over the canvas?"
   ]
  },
  {
   "cell_type": "code",
   "execution_count": 13,
   "id": "581af307-2fc2-416c-9e2e-21983fff0930",
   "metadata": {},
   "outputs": [],
   "source": [
    "criterion = nn.MSELoss()"
   ]
  },
  {
   "cell_type": "code",
   "execution_count": 14,
   "id": "b11f4b9e-6315-4b0c-9fec-5e7e8715aac3",
   "metadata": {},
   "outputs": [],
   "source": [
    "optimizer = optim.Adam(brain.parameters(), lr=0.0001, eps=1e-9) #0.0001, betas=(0.9, 0.98), eps=1e-9)"
   ]
  },
  {
   "cell_type": "code",
   "execution_count": null,
   "id": "81a78061-032e-409f-8e37-2b54d531033f",
   "metadata": {},
   "outputs": [
    {
     "name": "stderr",
     "output_type": "stream",
     "text": [
      "/home/atbolsh/anaconda3/envs/llava-florence/lib/python3.12/site-packages/torch/_tensor.py:955: UserWarning: non-inplace resize is deprecated\n",
      "  warnings.warn(\"non-inplace resize is deprecated\")\n"
     ]
    },
    {
     "name": "stdout",
     "output_type": "stream",
     "text": [
      "Time for 1 batch: 0.3418388366699219 seconds\n",
      "Avg loss for last 100 batches, at batch 100: 0.11526150457561016\n",
      "Avg loss for last 100 batches, at batch 200: 0.07692653179168701\n",
      "Avg loss for last 100 batches, at batch 300: 0.06745049845427274\n",
      "Avg loss for last 100 batches, at batch 400: 0.04654811196029186\n",
      "Avg loss for last 100 batches, at batch 500: 0.037784572839736935\n",
      "Avg loss for last 100 batches, at batch 600: 0.03587835066020489\n",
      "Avg loss for last 100 batches, at batch 700: 0.03538745656609535\n",
      "Avg loss for last 100 batches, at batch 800: 0.03404362784698606\n",
      "Avg loss for last 100 batches, at batch 900: 0.024831097517162563\n",
      "Avg loss for last 100 batches, at batch 1000: 0.014848838187754154\n",
      "Avg loss for last 100 batches, at batch 1100: 0.011567788063548506\n",
      "Avg loss for last 100 batches, at batch 1200: 0.009679372715763747\n",
      "Avg loss for last 100 batches, at batch 1300: 0.009011143785901368\n",
      "Avg loss for last 100 batches, at batch 1400: 0.009106672294437885\n",
      "Avg loss for last 100 batches, at batch 1500: 0.007115159179084003\n",
      "Avg loss for last 100 batches, at batch 1600: 0.005928963674232363\n",
      "Avg loss for last 100 batches, at batch 1700: 0.006056025857105851\n"
     ]
    }
   ],
   "source": [
    "import time\n",
    "\n",
    "total_batches = 6250*32\n",
    "\n",
    "total_loss = 0\n",
    "brain.train()\n",
    "\n",
    "moving = False\n",
    "for b in range(total_batches):\n",
    "    if b == 0:\n",
    "        start = time.time()\n",
    "    #img_set = G.random_full_image_set(restrict_angles=True)\n",
    "    #img_tensor = torch.permute(torch.FloatTensor(img_set).to(device), (0, 3, 1, 2))\n",
    "    img_tensor, tgt_tensor = get_moving_data(4)\n",
    "    batch_size = img_tensor.size()[0]\n",
    "    #text_context = torch.randn((batch_size, 32, 768), device=device) # easier for pretraining to use randn\n",
    "    recon = brain.img_autoencoder(img_tensor)#, text_context)\n",
    "    if moving:\n",
    "        loss = criterion(recon, tgt_tensor)\n",
    "    else:\n",
    "        loss = criterion(recon, tgt_tensor)#img_tensor)\n",
    "    loss.backward()\n",
    "    optimizer.step()\n",
    "    optimizer.zero_grad()\n",
    "    total_loss += loss.item()\n",
    "    if b == 0:\n",
    "        runtime = time.time() - start\n",
    "        print(f\"Time for 1 batch: {runtime} seconds\")\n",
    "    if (b % 100 == 99):\n",
    "        avg_loss = total_loss / 100\n",
    "        if avg_loss < 5e-3:\n",
    "            moving = True\n",
    "        total_loss = 0\n",
    "        print(f\"Avg loss for last 100 batches, at batch {b + 1}: {avg_loss}\")\n",
    "        torch.save(brain.img_enc.state_dict(), 'brain_checkpoints/img_encoder_weights_DEBUG_MOVING.pth')\n",
    "        torch.save(brain.img_dec.state_dict(), 'brain_checkpoints/img_decoder_weights_DEBUG_MOVING.pth')"
   ]
  },
  {
   "cell_type": "code",
   "execution_count": null,
   "id": "847f28fe-1a30-4cc0-8abc-1bcd6808472c",
   "metadata": {},
   "outputs": [],
   "source": [
    "# Good start.\n",
    "# Further work: check to make sure that what's being added is added correctly, in the right places, etc.\n",
    "\n",
    "# Made sure it's correct? Switch to copying someone else's approach."
   ]
  },
  {
   "cell_type": "code",
   "execution_count": null,
   "id": "74dcfc05-8171-4d2c-92fc-a9bc5911bf34",
   "metadata": {},
   "outputs": [],
   "source": [
    "quick_display(recon[0])"
   ]
  },
  {
   "cell_type": "code",
   "execution_count": null,
   "id": "aaa860ca-1c10-486c-b438-16db396dfd01",
   "metadata": {},
   "outputs": [],
   "source": [
    "mid = brain.img_enc.embed[0](img_tensor)"
   ]
  },
  {
   "cell_type": "code",
   "execution_count": null,
   "id": "7724e2de-2829-4450-b4a2-b5dea7d6240e",
   "metadata": {},
   "outputs": [],
   "source": [
    "torch.max(mid[0] - mid[0, 0])"
   ]
  },
  {
   "cell_type": "code",
   "execution_count": null,
   "id": "3b624281-e605-486f-9cc1-56aabbea7dbc",
   "metadata": {},
   "outputs": [],
   "source": [
    "mid"
   ]
  },
  {
   "cell_type": "code",
   "execution_count": null,
   "id": "337ce260-1d97-47a2-b212-1eec98b5d982",
   "metadata": {},
   "outputs": [],
   "source": [
    "mid = brain.img_enc.embed[1](mid)"
   ]
  },
  {
   "cell_type": "code",
   "execution_count": null,
   "id": "b92eb2ca-8f69-42cc-a45a-0bb5094d08d1",
   "metadata": {},
   "outputs": [],
   "source": [
    "mid"
   ]
  },
  {
   "cell_type": "code",
   "execution_count": null,
   "id": "88d58e0b-954d-49a1-9234-1272b844cc7e",
   "metadata": {},
   "outputs": [],
   "source": [
    "mid.size()"
   ]
  },
  {
   "cell_type": "code",
   "execution_count": null,
   "id": "0074f4b8-0403-4d2f-8f62-f9ca6e6fd40f",
   "metadata": {},
   "outputs": [],
   "source": [
    "mid[0, 0]"
   ]
  },
  {
   "cell_type": "code",
   "execution_count": null,
   "id": "103cc143-c652-4d5b-b843-bdf9a6277888",
   "metadata": {},
   "outputs": [],
   "source": [
    "torch.max(mid[0, 128] - mid[0, 0])"
   ]
  },
  {
   "cell_type": "code",
   "execution_count": null,
   "id": "ce1609ae-8f4a-44fd-9990-6a3b8e4ec406",
   "metadata": {},
   "outputs": [],
   "source": [
    "brain.img_enc.embed[1].pe"
   ]
  },
  {
   "cell_type": "code",
   "execution_count": null,
   "id": "09af9762-5a43-438c-880a-8b1f01e6cb85",
   "metadata": {},
   "outputs": [],
   "source": []
  }
 ],
 "metadata": {
  "kernelspec": {
   "display_name": "Python 3 (ipykernel)",
   "language": "python",
   "name": "python3"
  },
  "language_info": {
   "codemirror_mode": {
    "name": "ipython",
    "version": 3
   },
   "file_extension": ".py",
   "mimetype": "text/x-python",
   "name": "python",
   "nbconvert_exporter": "python",
   "pygments_lexer": "ipython3",
   "version": "3.12.7"
  }
 },
 "nbformat": 4,
 "nbformat_minor": 5
}
